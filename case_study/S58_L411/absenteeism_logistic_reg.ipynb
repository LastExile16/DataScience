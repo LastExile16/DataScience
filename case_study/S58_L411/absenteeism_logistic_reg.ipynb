{
 "cells": [
  {
   "attachments": {},
   "cell_type": "markdown",
   "metadata": {},
   "source": [
    "#### Classification using logistic regression\n",
    "* We want to use classify the people into excessively absent and moderately absent\n",
    "* one naiive and simple way to prepare the target data for such classification is to divide the target column by mean threshold\n"
   ]
  },
  {
   "cell_type": "code",
   "execution_count": 250,
   "metadata": {},
   "outputs": [],
   "source": [
    "import numpy as np\n",
    "import pandas as pd\n",
    "import statsmodels.api as sm\n",
    "import matplotlib.pyplot as plt\n",
    "import seaborn as sns\n",
    "\n",
    "sns.set()"
   ]
  },
  {
   "cell_type": "code",
   "execution_count": 251,
   "metadata": {},
   "outputs": [
    {
     "data": {
      "text/html": [
       "<div>\n",
       "<style scoped>\n",
       "    .dataframe tbody tr th:only-of-type {\n",
       "        vertical-align: middle;\n",
       "    }\n",
       "\n",
       "    .dataframe tbody tr th {\n",
       "        vertical-align: top;\n",
       "    }\n",
       "\n",
       "    .dataframe thead th {\n",
       "        text-align: right;\n",
       "    }\n",
       "</style>\n",
       "<table border=\"1\" class=\"dataframe\">\n",
       "  <thead>\n",
       "    <tr style=\"text-align: right;\">\n",
       "      <th></th>\n",
       "      <th>Reason_1</th>\n",
       "      <th>Reason_2</th>\n",
       "      <th>Reason_3</th>\n",
       "      <th>Reason_4</th>\n",
       "      <th>Month Value</th>\n",
       "      <th>Day of the Week</th>\n",
       "      <th>Transportation Expense</th>\n",
       "      <th>Distance to Work</th>\n",
       "      <th>Age</th>\n",
       "      <th>Daily Work Load Average</th>\n",
       "      <th>Body Mass Index</th>\n",
       "      <th>Education</th>\n",
       "      <th>Children</th>\n",
       "      <th>Pets</th>\n",
       "      <th>Absenteeism Time in Hours</th>\n",
       "    </tr>\n",
       "  </thead>\n",
       "  <tbody>\n",
       "    <tr>\n",
       "      <th>count</th>\n",
       "      <td>700.000000</td>\n",
       "      <td>700.000000</td>\n",
       "      <td>700.000000</td>\n",
       "      <td>700.000000</td>\n",
       "      <td>700.00000</td>\n",
       "      <td>700.000000</td>\n",
       "      <td>700.000000</td>\n",
       "      <td>700.000000</td>\n",
       "      <td>700.000000</td>\n",
       "      <td>700.000000</td>\n",
       "      <td>700.000000</td>\n",
       "      <td>700.000000</td>\n",
       "      <td>700.000000</td>\n",
       "      <td>700.000000</td>\n",
       "      <td>700.000000</td>\n",
       "    </tr>\n",
       "    <tr>\n",
       "      <th>mean</th>\n",
       "      <td>0.250000</td>\n",
       "      <td>0.008571</td>\n",
       "      <td>0.090000</td>\n",
       "      <td>0.945714</td>\n",
       "      <td>6.36000</td>\n",
       "      <td>2.011429</td>\n",
       "      <td>222.347143</td>\n",
       "      <td>29.892857</td>\n",
       "      <td>36.417143</td>\n",
       "      <td>271.801774</td>\n",
       "      <td>26.737143</td>\n",
       "      <td>0.167143</td>\n",
       "      <td>1.021429</td>\n",
       "      <td>0.687143</td>\n",
       "      <td>6.761429</td>\n",
       "    </tr>\n",
       "    <tr>\n",
       "      <th>std</th>\n",
       "      <td>0.433322</td>\n",
       "      <td>0.092250</td>\n",
       "      <td>0.286386</td>\n",
       "      <td>0.226743</td>\n",
       "      <td>3.50501</td>\n",
       "      <td>1.480396</td>\n",
       "      <td>66.312960</td>\n",
       "      <td>14.804446</td>\n",
       "      <td>6.379083</td>\n",
       "      <td>40.021804</td>\n",
       "      <td>4.254701</td>\n",
       "      <td>0.373370</td>\n",
       "      <td>1.112215</td>\n",
       "      <td>1.166095</td>\n",
       "      <td>12.670082</td>\n",
       "    </tr>\n",
       "    <tr>\n",
       "      <th>min</th>\n",
       "      <td>0.000000</td>\n",
       "      <td>0.000000</td>\n",
       "      <td>0.000000</td>\n",
       "      <td>0.000000</td>\n",
       "      <td>1.00000</td>\n",
       "      <td>0.000000</td>\n",
       "      <td>118.000000</td>\n",
       "      <td>5.000000</td>\n",
       "      <td>27.000000</td>\n",
       "      <td>205.917000</td>\n",
       "      <td>19.000000</td>\n",
       "      <td>0.000000</td>\n",
       "      <td>0.000000</td>\n",
       "      <td>0.000000</td>\n",
       "      <td>0.000000</td>\n",
       "    </tr>\n",
       "    <tr>\n",
       "      <th>25%</th>\n",
       "      <td>0.000000</td>\n",
       "      <td>0.000000</td>\n",
       "      <td>0.000000</td>\n",
       "      <td>1.000000</td>\n",
       "      <td>3.00000</td>\n",
       "      <td>1.000000</td>\n",
       "      <td>179.000000</td>\n",
       "      <td>16.000000</td>\n",
       "      <td>31.000000</td>\n",
       "      <td>241.476000</td>\n",
       "      <td>24.000000</td>\n",
       "      <td>0.000000</td>\n",
       "      <td>0.000000</td>\n",
       "      <td>0.000000</td>\n",
       "      <td>2.000000</td>\n",
       "    </tr>\n",
       "    <tr>\n",
       "      <th>50%</th>\n",
       "      <td>0.000000</td>\n",
       "      <td>0.000000</td>\n",
       "      <td>0.000000</td>\n",
       "      <td>1.000000</td>\n",
       "      <td>6.00000</td>\n",
       "      <td>2.000000</td>\n",
       "      <td>225.000000</td>\n",
       "      <td>26.000000</td>\n",
       "      <td>37.000000</td>\n",
       "      <td>264.249000</td>\n",
       "      <td>25.000000</td>\n",
       "      <td>0.000000</td>\n",
       "      <td>1.000000</td>\n",
       "      <td>0.000000</td>\n",
       "      <td>3.000000</td>\n",
       "    </tr>\n",
       "    <tr>\n",
       "      <th>75%</th>\n",
       "      <td>0.250000</td>\n",
       "      <td>0.000000</td>\n",
       "      <td>0.000000</td>\n",
       "      <td>1.000000</td>\n",
       "      <td>10.00000</td>\n",
       "      <td>3.000000</td>\n",
       "      <td>260.000000</td>\n",
       "      <td>50.000000</td>\n",
       "      <td>40.000000</td>\n",
       "      <td>294.217000</td>\n",
       "      <td>31.000000</td>\n",
       "      <td>0.000000</td>\n",
       "      <td>2.000000</td>\n",
       "      <td>1.000000</td>\n",
       "      <td>8.000000</td>\n",
       "    </tr>\n",
       "    <tr>\n",
       "      <th>max</th>\n",
       "      <td>1.000000</td>\n",
       "      <td>1.000000</td>\n",
       "      <td>1.000000</td>\n",
       "      <td>1.000000</td>\n",
       "      <td>12.00000</td>\n",
       "      <td>6.000000</td>\n",
       "      <td>388.000000</td>\n",
       "      <td>52.000000</td>\n",
       "      <td>58.000000</td>\n",
       "      <td>378.884000</td>\n",
       "      <td>38.000000</td>\n",
       "      <td>1.000000</td>\n",
       "      <td>4.000000</td>\n",
       "      <td>8.000000</td>\n",
       "      <td>120.000000</td>\n",
       "    </tr>\n",
       "  </tbody>\n",
       "</table>\n",
       "</div>"
      ],
      "text/plain": [
       "         Reason_1    Reason_2    Reason_3    Reason_4  Month Value  \\\n",
       "count  700.000000  700.000000  700.000000  700.000000    700.00000   \n",
       "mean     0.250000    0.008571    0.090000    0.945714      6.36000   \n",
       "std      0.433322    0.092250    0.286386    0.226743      3.50501   \n",
       "min      0.000000    0.000000    0.000000    0.000000      1.00000   \n",
       "25%      0.000000    0.000000    0.000000    1.000000      3.00000   \n",
       "50%      0.000000    0.000000    0.000000    1.000000      6.00000   \n",
       "75%      0.250000    0.000000    0.000000    1.000000     10.00000   \n",
       "max      1.000000    1.000000    1.000000    1.000000     12.00000   \n",
       "\n",
       "       Day of the Week  Transportation Expense  Distance to Work         Age  \\\n",
       "count       700.000000              700.000000        700.000000  700.000000   \n",
       "mean          2.011429              222.347143         29.892857   36.417143   \n",
       "std           1.480396               66.312960         14.804446    6.379083   \n",
       "min           0.000000              118.000000          5.000000   27.000000   \n",
       "25%           1.000000              179.000000         16.000000   31.000000   \n",
       "50%           2.000000              225.000000         26.000000   37.000000   \n",
       "75%           3.000000              260.000000         50.000000   40.000000   \n",
       "max           6.000000              388.000000         52.000000   58.000000   \n",
       "\n",
       "       Daily Work Load Average  Body Mass Index   Education    Children  \\\n",
       "count               700.000000       700.000000  700.000000  700.000000   \n",
       "mean                271.801774        26.737143    0.167143    1.021429   \n",
       "std                  40.021804         4.254701    0.373370    1.112215   \n",
       "min                 205.917000        19.000000    0.000000    0.000000   \n",
       "25%                 241.476000        24.000000    0.000000    0.000000   \n",
       "50%                 264.249000        25.000000    0.000000    1.000000   \n",
       "75%                 294.217000        31.000000    0.000000    2.000000   \n",
       "max                 378.884000        38.000000    1.000000    4.000000   \n",
       "\n",
       "             Pets  Absenteeism Time in Hours  \n",
       "count  700.000000                 700.000000  \n",
       "mean     0.687143                   6.761429  \n",
       "std      1.166095                  12.670082  \n",
       "min      0.000000                   0.000000  \n",
       "25%      0.000000                   2.000000  \n",
       "50%      0.000000                   3.000000  \n",
       "75%      1.000000                   8.000000  \n",
       "max      8.000000                 120.000000  "
      ]
     },
     "execution_count": 251,
     "metadata": {},
     "output_type": "execute_result"
    }
   ],
   "source": [
    "df_preprocessed = pd.read_csv('Absenteeism_preprocessed.csv')\n",
    "df_preprocessed.describe()"
   ]
  },
  {
   "attachments": {},
   "cell_type": "markdown",
   "metadata": {},
   "source": [
    "#### Target data for classification\n",
    "* set median value as the threshold to cut samples into excessive absence and regular absence\n",
    "* using median, the resulting dataset will be balanced between the two classes\n",
    "* But, keep in mind that such decision should be made according to the requests and questions you are trying to answer."
   ]
  },
  {
   "cell_type": "code",
   "execution_count": 252,
   "metadata": {},
   "outputs": [
    {
     "data": {
      "text/plain": [
       "3.0"
      ]
     },
     "execution_count": 252,
     "metadata": {},
     "output_type": "execute_result"
    }
   ],
   "source": [
    "med = df_preprocessed['Absenteeism Time in Hours'].median(axis=0)\n",
    "med"
   ]
  },
  {
   "cell_type": "code",
   "execution_count": 253,
   "metadata": {},
   "outputs": [],
   "source": [
    "targets = df_preprocessed['Absenteeism Time in Hours'].map(lambda x: 1 if (x>med) else 0)\n",
    "df_preprocessed['Excessively Absenteeism'] = targets\n",
    "df_with_targets = df_preprocessed.drop(['Absenteeism Time in Hours'], axis=1)"
   ]
  },
  {
   "cell_type": "code",
   "execution_count": 254,
   "metadata": {},
   "outputs": [
    {
     "data": {
      "text/html": [
       "<div>\n",
       "<style scoped>\n",
       "    .dataframe tbody tr th:only-of-type {\n",
       "        vertical-align: middle;\n",
       "    }\n",
       "\n",
       "    .dataframe tbody tr th {\n",
       "        vertical-align: top;\n",
       "    }\n",
       "\n",
       "    .dataframe thead th {\n",
       "        text-align: right;\n",
       "    }\n",
       "</style>\n",
       "<table border=\"1\" class=\"dataframe\">\n",
       "  <thead>\n",
       "    <tr style=\"text-align: right;\">\n",
       "      <th></th>\n",
       "      <th>Reason_1</th>\n",
       "      <th>Reason_2</th>\n",
       "      <th>Reason_3</th>\n",
       "      <th>Reason_4</th>\n",
       "      <th>Month Value</th>\n",
       "      <th>Day of the Week</th>\n",
       "      <th>Transportation Expense</th>\n",
       "      <th>Distance to Work</th>\n",
       "      <th>Age</th>\n",
       "      <th>Daily Work Load Average</th>\n",
       "      <th>Body Mass Index</th>\n",
       "      <th>Education</th>\n",
       "      <th>Children</th>\n",
       "      <th>Pets</th>\n",
       "      <th>Excessively Absenteeism</th>\n",
       "    </tr>\n",
       "  </thead>\n",
       "  <tbody>\n",
       "    <tr>\n",
       "      <th>count</th>\n",
       "      <td>700.000000</td>\n",
       "      <td>700.000000</td>\n",
       "      <td>700.000000</td>\n",
       "      <td>700.000000</td>\n",
       "      <td>700.00000</td>\n",
       "      <td>700.000000</td>\n",
       "      <td>700.000000</td>\n",
       "      <td>700.000000</td>\n",
       "      <td>700.000000</td>\n",
       "      <td>700.000000</td>\n",
       "      <td>700.000000</td>\n",
       "      <td>700.000000</td>\n",
       "      <td>700.000000</td>\n",
       "      <td>700.000000</td>\n",
       "      <td>700.000000</td>\n",
       "    </tr>\n",
       "    <tr>\n",
       "      <th>mean</th>\n",
       "      <td>0.250000</td>\n",
       "      <td>0.008571</td>\n",
       "      <td>0.090000</td>\n",
       "      <td>0.945714</td>\n",
       "      <td>6.36000</td>\n",
       "      <td>2.011429</td>\n",
       "      <td>222.347143</td>\n",
       "      <td>29.892857</td>\n",
       "      <td>36.417143</td>\n",
       "      <td>271.801774</td>\n",
       "      <td>26.737143</td>\n",
       "      <td>0.167143</td>\n",
       "      <td>1.021429</td>\n",
       "      <td>0.687143</td>\n",
       "      <td>0.455714</td>\n",
       "    </tr>\n",
       "    <tr>\n",
       "      <th>std</th>\n",
       "      <td>0.433322</td>\n",
       "      <td>0.092250</td>\n",
       "      <td>0.286386</td>\n",
       "      <td>0.226743</td>\n",
       "      <td>3.50501</td>\n",
       "      <td>1.480396</td>\n",
       "      <td>66.312960</td>\n",
       "      <td>14.804446</td>\n",
       "      <td>6.379083</td>\n",
       "      <td>40.021804</td>\n",
       "      <td>4.254701</td>\n",
       "      <td>0.373370</td>\n",
       "      <td>1.112215</td>\n",
       "      <td>1.166095</td>\n",
       "      <td>0.498391</td>\n",
       "    </tr>\n",
       "    <tr>\n",
       "      <th>min</th>\n",
       "      <td>0.000000</td>\n",
       "      <td>0.000000</td>\n",
       "      <td>0.000000</td>\n",
       "      <td>0.000000</td>\n",
       "      <td>1.00000</td>\n",
       "      <td>0.000000</td>\n",
       "      <td>118.000000</td>\n",
       "      <td>5.000000</td>\n",
       "      <td>27.000000</td>\n",
       "      <td>205.917000</td>\n",
       "      <td>19.000000</td>\n",
       "      <td>0.000000</td>\n",
       "      <td>0.000000</td>\n",
       "      <td>0.000000</td>\n",
       "      <td>0.000000</td>\n",
       "    </tr>\n",
       "    <tr>\n",
       "      <th>25%</th>\n",
       "      <td>0.000000</td>\n",
       "      <td>0.000000</td>\n",
       "      <td>0.000000</td>\n",
       "      <td>1.000000</td>\n",
       "      <td>3.00000</td>\n",
       "      <td>1.000000</td>\n",
       "      <td>179.000000</td>\n",
       "      <td>16.000000</td>\n",
       "      <td>31.000000</td>\n",
       "      <td>241.476000</td>\n",
       "      <td>24.000000</td>\n",
       "      <td>0.000000</td>\n",
       "      <td>0.000000</td>\n",
       "      <td>0.000000</td>\n",
       "      <td>0.000000</td>\n",
       "    </tr>\n",
       "    <tr>\n",
       "      <th>50%</th>\n",
       "      <td>0.000000</td>\n",
       "      <td>0.000000</td>\n",
       "      <td>0.000000</td>\n",
       "      <td>1.000000</td>\n",
       "      <td>6.00000</td>\n",
       "      <td>2.000000</td>\n",
       "      <td>225.000000</td>\n",
       "      <td>26.000000</td>\n",
       "      <td>37.000000</td>\n",
       "      <td>264.249000</td>\n",
       "      <td>25.000000</td>\n",
       "      <td>0.000000</td>\n",
       "      <td>1.000000</td>\n",
       "      <td>0.000000</td>\n",
       "      <td>0.000000</td>\n",
       "    </tr>\n",
       "    <tr>\n",
       "      <th>75%</th>\n",
       "      <td>0.250000</td>\n",
       "      <td>0.000000</td>\n",
       "      <td>0.000000</td>\n",
       "      <td>1.000000</td>\n",
       "      <td>10.00000</td>\n",
       "      <td>3.000000</td>\n",
       "      <td>260.000000</td>\n",
       "      <td>50.000000</td>\n",
       "      <td>40.000000</td>\n",
       "      <td>294.217000</td>\n",
       "      <td>31.000000</td>\n",
       "      <td>0.000000</td>\n",
       "      <td>2.000000</td>\n",
       "      <td>1.000000</td>\n",
       "      <td>1.000000</td>\n",
       "    </tr>\n",
       "    <tr>\n",
       "      <th>max</th>\n",
       "      <td>1.000000</td>\n",
       "      <td>1.000000</td>\n",
       "      <td>1.000000</td>\n",
       "      <td>1.000000</td>\n",
       "      <td>12.00000</td>\n",
       "      <td>6.000000</td>\n",
       "      <td>388.000000</td>\n",
       "      <td>52.000000</td>\n",
       "      <td>58.000000</td>\n",
       "      <td>378.884000</td>\n",
       "      <td>38.000000</td>\n",
       "      <td>1.000000</td>\n",
       "      <td>4.000000</td>\n",
       "      <td>8.000000</td>\n",
       "      <td>1.000000</td>\n",
       "    </tr>\n",
       "  </tbody>\n",
       "</table>\n",
       "</div>"
      ],
      "text/plain": [
       "         Reason_1    Reason_2    Reason_3    Reason_4  Month Value  \\\n",
       "count  700.000000  700.000000  700.000000  700.000000    700.00000   \n",
       "mean     0.250000    0.008571    0.090000    0.945714      6.36000   \n",
       "std      0.433322    0.092250    0.286386    0.226743      3.50501   \n",
       "min      0.000000    0.000000    0.000000    0.000000      1.00000   \n",
       "25%      0.000000    0.000000    0.000000    1.000000      3.00000   \n",
       "50%      0.000000    0.000000    0.000000    1.000000      6.00000   \n",
       "75%      0.250000    0.000000    0.000000    1.000000     10.00000   \n",
       "max      1.000000    1.000000    1.000000    1.000000     12.00000   \n",
       "\n",
       "       Day of the Week  Transportation Expense  Distance to Work         Age  \\\n",
       "count       700.000000              700.000000        700.000000  700.000000   \n",
       "mean          2.011429              222.347143         29.892857   36.417143   \n",
       "std           1.480396               66.312960         14.804446    6.379083   \n",
       "min           0.000000              118.000000          5.000000   27.000000   \n",
       "25%           1.000000              179.000000         16.000000   31.000000   \n",
       "50%           2.000000              225.000000         26.000000   37.000000   \n",
       "75%           3.000000              260.000000         50.000000   40.000000   \n",
       "max           6.000000              388.000000         52.000000   58.000000   \n",
       "\n",
       "       Daily Work Load Average  Body Mass Index   Education    Children  \\\n",
       "count               700.000000       700.000000  700.000000  700.000000   \n",
       "mean                271.801774        26.737143    0.167143    1.021429   \n",
       "std                  40.021804         4.254701    0.373370    1.112215   \n",
       "min                 205.917000        19.000000    0.000000    0.000000   \n",
       "25%                 241.476000        24.000000    0.000000    0.000000   \n",
       "50%                 264.249000        25.000000    0.000000    1.000000   \n",
       "75%                 294.217000        31.000000    0.000000    2.000000   \n",
       "max                 378.884000        38.000000    1.000000    4.000000   \n",
       "\n",
       "             Pets  Excessively Absenteeism  \n",
       "count  700.000000               700.000000  \n",
       "mean     0.687143                 0.455714  \n",
       "std      1.166095                 0.498391  \n",
       "min      0.000000                 0.000000  \n",
       "25%      0.000000                 0.000000  \n",
       "50%      0.000000                 0.000000  \n",
       "75%      1.000000                 1.000000  \n",
       "max      8.000000                 1.000000  "
      ]
     },
     "execution_count": 254,
     "metadata": {},
     "output_type": "execute_result"
    }
   ],
   "source": [
    "df_with_targets.describe()"
   ]
  },
  {
   "attachments": {},
   "cell_type": "markdown",
   "metadata": {},
   "source": [
    "#### select the inputs"
   ]
  },
  {
   "cell_type": "code",
   "execution_count": 255,
   "metadata": {},
   "outputs": [
    {
     "data": {
      "text/plain": [
       "array(['Reason_1', 'Reason_2', 'Reason_3', 'Reason_4', 'Month Value',\n",
       "       'Day of the Week', 'Transportation Expense', 'Distance to Work',\n",
       "       'Age', 'Daily Work Load Average', 'Body Mass Index', 'Education',\n",
       "       'Children', 'Pets'], dtype=object)"
      ]
     },
     "execution_count": 255,
     "metadata": {},
     "output_type": "execute_result"
    }
   ],
   "source": [
    "unscaled_inputs = df_with_targets.iloc[:, :-1]\n",
    "unscaled_inputs.columns.values"
   ]
  },
  {
   "cell_type": "code",
   "execution_count": 286,
   "metadata": {},
   "outputs": [
    {
     "ename": "TypeError",
     "evalue": "bad operand type for unary -: 'list'",
     "output_type": "error",
     "traceback": [
      "\u001b[0;31m---------------------------------------------------------------------------\u001b[0m",
      "\u001b[0;31mTypeError\u001b[0m                                 Traceback (most recent call last)",
      "Cell \u001b[0;32mIn[286], line 7\u001b[0m\n\u001b[1;32m      1\u001b[0m dummy_cols \u001b[39m=\u001b[39m [\u001b[39m'\u001b[39m\u001b[39mReason_1\u001b[39m\u001b[39m'\u001b[39m, \u001b[39m'\u001b[39m\u001b[39mReason_2\u001b[39m\u001b[39m'\u001b[39m, \u001b[39m'\u001b[39m\u001b[39mReason_3\u001b[39m\u001b[39m'\u001b[39m, \u001b[39m'\u001b[39m\u001b[39mReason_4\u001b[39m\u001b[39m'\u001b[39m]\n\u001b[1;32m      3\u001b[0m tobe_scaled_cols \u001b[39m=\u001b[39m [\u001b[39m'\u001b[39m\u001b[39mMonth Value\u001b[39m\u001b[39m'\u001b[39m,\n\u001b[1;32m      4\u001b[0m        \u001b[39m'\u001b[39m\u001b[39mDay of the Week\u001b[39m\u001b[39m'\u001b[39m, \u001b[39m'\u001b[39m\u001b[39mTransportation Expense\u001b[39m\u001b[39m'\u001b[39m, \u001b[39m'\u001b[39m\u001b[39mDistance to Work\u001b[39m\u001b[39m'\u001b[39m,\n\u001b[1;32m      5\u001b[0m        \u001b[39m'\u001b[39m\u001b[39mAge\u001b[39m\u001b[39m'\u001b[39m, \u001b[39m'\u001b[39m\u001b[39mDaily Work Load Average\u001b[39m\u001b[39m'\u001b[39m, \u001b[39m'\u001b[39m\u001b[39mBody Mass Index\u001b[39m\u001b[39m'\u001b[39m, \u001b[39m'\u001b[39m\u001b[39mEducation\u001b[39m\u001b[39m'\u001b[39m,\n\u001b[1;32m      6\u001b[0m        \u001b[39m'\u001b[39m\u001b[39mChildren\u001b[39m\u001b[39m'\u001b[39m, \u001b[39m'\u001b[39m\u001b[39mPets\u001b[39m\u001b[39m'\u001b[39m]\n\u001b[0;32m----> 7\u001b[0m unscaled_inputs[[\u001b[39m-\u001b[39;49mdummy_cols]]\n",
      "\u001b[0;31mTypeError\u001b[0m: bad operand type for unary -: 'list'"
     ]
    }
   ],
   "source": [
    "dummy_cols = ['Reason_1', 'Reason_2', 'Reason_3', 'Reason_4']\n",
    "\n",
    "tobe_scaled_cols = ['Month Value',\n",
    "       'Day of the Week', 'Transportation Expense', 'Distance to Work',\n",
    "       'Age', 'Daily Work Load Average', 'Body Mass Index', 'Education',\n",
    "       'Children', 'Pets']"
   ]
  },
  {
   "cell_type": "code",
   "execution_count": 257,
   "metadata": {},
   "outputs": [
    {
     "data": {
      "text/html": [
       "<div>\n",
       "<style scoped>\n",
       "    .dataframe tbody tr th:only-of-type {\n",
       "        vertical-align: middle;\n",
       "    }\n",
       "\n",
       "    .dataframe tbody tr th {\n",
       "        vertical-align: top;\n",
       "    }\n",
       "\n",
       "    .dataframe thead th {\n",
       "        text-align: right;\n",
       "    }\n",
       "</style>\n",
       "<table border=\"1\" class=\"dataframe\">\n",
       "  <thead>\n",
       "    <tr style=\"text-align: right;\">\n",
       "      <th></th>\n",
       "      <th>Reason_1</th>\n",
       "      <th>Reason_2</th>\n",
       "      <th>Reason_3</th>\n",
       "      <th>Reason_4</th>\n",
       "      <th>Month Value</th>\n",
       "      <th>Day of the Week</th>\n",
       "      <th>Transportation Expense</th>\n",
       "      <th>Distance to Work</th>\n",
       "      <th>Age</th>\n",
       "      <th>Daily Work Load Average</th>\n",
       "      <th>Body Mass Index</th>\n",
       "      <th>Education</th>\n",
       "      <th>Children</th>\n",
       "      <th>Pets</th>\n",
       "    </tr>\n",
       "  </thead>\n",
       "  <tbody>\n",
       "    <tr>\n",
       "      <th>count</th>\n",
       "      <td>700.000000</td>\n",
       "      <td>700.000000</td>\n",
       "      <td>700.000000</td>\n",
       "      <td>700.000000</td>\n",
       "      <td>7.000000e+02</td>\n",
       "      <td>7.000000e+02</td>\n",
       "      <td>7.000000e+02</td>\n",
       "      <td>7.000000e+02</td>\n",
       "      <td>7.000000e+02</td>\n",
       "      <td>7.000000e+02</td>\n",
       "      <td>7.000000e+02</td>\n",
       "      <td>700.000000</td>\n",
       "      <td>7.000000e+02</td>\n",
       "      <td>7.000000e+02</td>\n",
       "    </tr>\n",
       "    <tr>\n",
       "      <th>mean</th>\n",
       "      <td>0.250000</td>\n",
       "      <td>0.008571</td>\n",
       "      <td>0.090000</td>\n",
       "      <td>0.945714</td>\n",
       "      <td>-8.120488e-17</td>\n",
       "      <td>-1.040438e-16</td>\n",
       "      <td>-2.131628e-16</td>\n",
       "      <td>5.582836e-17</td>\n",
       "      <td>1.319579e-16</td>\n",
       "      <td>-8.526513e-16</td>\n",
       "      <td>1.446462e-16</td>\n",
       "      <td>0.000000</td>\n",
       "      <td>9.135549e-17</td>\n",
       "      <td>-1.268826e-17</td>\n",
       "    </tr>\n",
       "    <tr>\n",
       "      <th>std</th>\n",
       "      <td>0.433322</td>\n",
       "      <td>0.092250</td>\n",
       "      <td>0.286386</td>\n",
       "      <td>0.226743</td>\n",
       "      <td>1.000715e+00</td>\n",
       "      <td>1.000715e+00</td>\n",
       "      <td>1.000715e+00</td>\n",
       "      <td>1.000715e+00</td>\n",
       "      <td>1.000715e+00</td>\n",
       "      <td>1.000715e+00</td>\n",
       "      <td>1.000715e+00</td>\n",
       "      <td>1.000715</td>\n",
       "      <td>1.000715e+00</td>\n",
       "      <td>1.000715e+00</td>\n",
       "    </tr>\n",
       "    <tr>\n",
       "      <th>min</th>\n",
       "      <td>0.000000</td>\n",
       "      <td>0.000000</td>\n",
       "      <td>0.000000</td>\n",
       "      <td>0.000000</td>\n",
       "      <td>-1.530333e+00</td>\n",
       "      <td>-1.359682e+00</td>\n",
       "      <td>-1.574681e+00</td>\n",
       "      <td>-1.682647e+00</td>\n",
       "      <td>-1.477309e+00</td>\n",
       "      <td>-1.647399e+00</td>\n",
       "      <td>-1.819793e+00</td>\n",
       "      <td>-0.447980</td>\n",
       "      <td>-9.190300e-01</td>\n",
       "      <td>-5.896898e-01</td>\n",
       "    </tr>\n",
       "    <tr>\n",
       "      <th>25%</th>\n",
       "      <td>0.000000</td>\n",
       "      <td>0.000000</td>\n",
       "      <td>0.000000</td>\n",
       "      <td>1.000000</td>\n",
       "      <td>-9.593133e-01</td>\n",
       "      <td>-6.837035e-01</td>\n",
       "      <td>-6.541427e-01</td>\n",
       "      <td>-9.390957e-01</td>\n",
       "      <td>-8.498113e-01</td>\n",
       "      <td>-7.582731e-01</td>\n",
       "      <td>-6.437820e-01</td>\n",
       "      <td>-0.447980</td>\n",
       "      <td>-9.190300e-01</td>\n",
       "      <td>-5.896898e-01</td>\n",
       "    </tr>\n",
       "    <tr>\n",
       "      <th>50%</th>\n",
       "      <td>0.000000</td>\n",
       "      <td>0.000000</td>\n",
       "      <td>0.000000</td>\n",
       "      <td>1.000000</td>\n",
       "      <td>-1.027836e-01</td>\n",
       "      <td>-7.725463e-03</td>\n",
       "      <td>4.003371e-02</td>\n",
       "      <td>-2.631399e-01</td>\n",
       "      <td>9.143539e-02</td>\n",
       "      <td>-1.888514e-01</td>\n",
       "      <td>-4.085798e-01</td>\n",
       "      <td>-0.447980</td>\n",
       "      <td>-1.928035e-02</td>\n",
       "      <td>-5.896898e-01</td>\n",
       "    </tr>\n",
       "    <tr>\n",
       "      <th>75%</th>\n",
       "      <td>0.250000</td>\n",
       "      <td>0.000000</td>\n",
       "      <td>0.000000</td>\n",
       "      <td>1.000000</td>\n",
       "      <td>1.039256e+00</td>\n",
       "      <td>6.682526e-01</td>\n",
       "      <td>5.682114e-01</td>\n",
       "      <td>1.359154e+00</td>\n",
       "      <td>5.620587e-01</td>\n",
       "      <td>5.604758e-01</td>\n",
       "      <td>1.002633e+00</td>\n",
       "      <td>-0.447980</td>\n",
       "      <td>8.804693e-01</td>\n",
       "      <td>2.684866e-01</td>\n",
       "    </tr>\n",
       "    <tr>\n",
       "      <th>max</th>\n",
       "      <td>1.000000</td>\n",
       "      <td>1.000000</td>\n",
       "      <td>1.000000</td>\n",
       "      <td>1.000000</td>\n",
       "      <td>1.610276e+00</td>\n",
       "      <td>2.696187e+00</td>\n",
       "      <td>2.499833e+00</td>\n",
       "      <td>1.494345e+00</td>\n",
       "      <td>3.385799e+00</td>\n",
       "      <td>2.677510e+00</td>\n",
       "      <td>2.649049e+00</td>\n",
       "      <td>2.232242</td>\n",
       "      <td>2.679969e+00</td>\n",
       "      <td>6.275721e+00</td>\n",
       "    </tr>\n",
       "  </tbody>\n",
       "</table>\n",
       "</div>"
      ],
      "text/plain": [
       "         Reason_1    Reason_2    Reason_3    Reason_4   Month Value  \\\n",
       "count  700.000000  700.000000  700.000000  700.000000  7.000000e+02   \n",
       "mean     0.250000    0.008571    0.090000    0.945714 -8.120488e-17   \n",
       "std      0.433322    0.092250    0.286386    0.226743  1.000715e+00   \n",
       "min      0.000000    0.000000    0.000000    0.000000 -1.530333e+00   \n",
       "25%      0.000000    0.000000    0.000000    1.000000 -9.593133e-01   \n",
       "50%      0.000000    0.000000    0.000000    1.000000 -1.027836e-01   \n",
       "75%      0.250000    0.000000    0.000000    1.000000  1.039256e+00   \n",
       "max      1.000000    1.000000    1.000000    1.000000  1.610276e+00   \n",
       "\n",
       "       Day of the Week  Transportation Expense  Distance to Work  \\\n",
       "count     7.000000e+02            7.000000e+02      7.000000e+02   \n",
       "mean     -1.040438e-16           -2.131628e-16      5.582836e-17   \n",
       "std       1.000715e+00            1.000715e+00      1.000715e+00   \n",
       "min      -1.359682e+00           -1.574681e+00     -1.682647e+00   \n",
       "25%      -6.837035e-01           -6.541427e-01     -9.390957e-01   \n",
       "50%      -7.725463e-03            4.003371e-02     -2.631399e-01   \n",
       "75%       6.682526e-01            5.682114e-01      1.359154e+00   \n",
       "max       2.696187e+00            2.499833e+00      1.494345e+00   \n",
       "\n",
       "                Age  Daily Work Load Average  Body Mass Index   Education  \\\n",
       "count  7.000000e+02             7.000000e+02     7.000000e+02  700.000000   \n",
       "mean   1.319579e-16            -8.526513e-16     1.446462e-16    0.000000   \n",
       "std    1.000715e+00             1.000715e+00     1.000715e+00    1.000715   \n",
       "min   -1.477309e+00            -1.647399e+00    -1.819793e+00   -0.447980   \n",
       "25%   -8.498113e-01            -7.582731e-01    -6.437820e-01   -0.447980   \n",
       "50%    9.143539e-02            -1.888514e-01    -4.085798e-01   -0.447980   \n",
       "75%    5.620587e-01             5.604758e-01     1.002633e+00   -0.447980   \n",
       "max    3.385799e+00             2.677510e+00     2.649049e+00    2.232242   \n",
       "\n",
       "           Children          Pets  \n",
       "count  7.000000e+02  7.000000e+02  \n",
       "mean   9.135549e-17 -1.268826e-17  \n",
       "std    1.000715e+00  1.000715e+00  \n",
       "min   -9.190300e-01 -5.896898e-01  \n",
       "25%   -9.190300e-01 -5.896898e-01  \n",
       "50%   -1.928035e-02 -5.896898e-01  \n",
       "75%    8.804693e-01  2.684866e-01  \n",
       "max    2.679969e+00  6.275721e+00  "
      ]
     },
     "execution_count": 257,
     "metadata": {},
     "output_type": "execute_result"
    }
   ],
   "source": [
    "from sklearn.preprocessing import StandardScaler\n",
    "absenteeism_scaler = StandardScaler()\n",
    "absenteeism_scaler.fit(unscaled_inputs[tobe_scaled_cols])\n",
    "scaled_inputs = absenteeism_scaler.transform(unscaled_inputs[tobe_scaled_cols])\n",
    "scaled_inputs_df = pd.DataFrame(data=scaled_inputs, columns=tobe_scaled_cols)\n",
    "scaled_inputs_df = pd.concat([unscaled_inputs[dummy_cols], scaled_inputs_df], axis=1)\n",
    "scaled_inputs_df.describe()"
   ]
  },
  {
   "cell_type": "code",
   "execution_count": 258,
   "metadata": {},
   "outputs": [
    {
     "data": {
      "text/plain": [
       "(700, 14)"
      ]
     },
     "execution_count": 258,
     "metadata": {},
     "output_type": "execute_result"
    }
   ],
   "source": [
    "scaled_inputs_df.shape"
   ]
  },
  {
   "attachments": {},
   "cell_type": "markdown",
   "metadata": {},
   "source": [
    "#### Divide the data into train, validation and test\n",
    "* Instead of manual shuffle and manual division, this time we use sklearn ready function"
   ]
  },
  {
   "cell_type": "code",
   "execution_count": 278,
   "metadata": {},
   "outputs": [],
   "source": [
    "from sklearn.model_selection import train_test_split\n",
    "x_train, test_input, y_train, test_target = train_test_split(scaled_inputs_df, targets, train_size=0.8, random_state=20)\n",
    "unscaled_x_train, unscaled_test_input, unscaled_y_train, unscaled_test_target = train_test_split(unscaled_inputs, targets, train_size=0.8, random_state=20)"
   ]
  },
  {
   "cell_type": "code",
   "execution_count": 260,
   "metadata": {},
   "outputs": [
    {
     "name": "stdout",
     "output_type": "stream",
     "text": [
      "(560, 14)\n",
      "(560,)\n",
      "(140, 14)\n",
      "(140,)\n"
     ]
    }
   ],
   "source": [
    "print(x_train.shape)\n",
    "print(y_train.shape)\n",
    "print(test_input.shape)\n",
    "print(test_target.shape)"
   ]
  },
  {
   "attachments": {},
   "cell_type": "markdown",
   "metadata": {},
   "source": [
    "### Creating the Model with sklearn"
   ]
  },
  {
   "cell_type": "code",
   "execution_count": 261,
   "metadata": {},
   "outputs": [],
   "source": [
    "from sklearn.linear_model import LogisticRegression\n",
    "from sklearn import metrics"
   ]
  },
  {
   "attachments": {},
   "cell_type": "markdown",
   "metadata": {},
   "source": [
    "#### Create the model"
   ]
  },
  {
   "cell_type": "code",
   "execution_count": 262,
   "metadata": {},
   "outputs": [],
   "source": [
    "reg = LogisticRegression()"
   ]
  },
  {
   "attachments": {},
   "cell_type": "markdown",
   "metadata": {},
   "source": [
    "#### Fit the model"
   ]
  },
  {
   "cell_type": "code",
   "execution_count": 263,
   "metadata": {},
   "outputs": [
    {
     "data": {
      "text/html": [
       "<style>#sk-container-id-10 {color: black;background-color: white;}#sk-container-id-10 pre{padding: 0;}#sk-container-id-10 div.sk-toggleable {background-color: white;}#sk-container-id-10 label.sk-toggleable__label {cursor: pointer;display: block;width: 100%;margin-bottom: 0;padding: 0.3em;box-sizing: border-box;text-align: center;}#sk-container-id-10 label.sk-toggleable__label-arrow:before {content: \"▸\";float: left;margin-right: 0.25em;color: #696969;}#sk-container-id-10 label.sk-toggleable__label-arrow:hover:before {color: black;}#sk-container-id-10 div.sk-estimator:hover label.sk-toggleable__label-arrow:before {color: black;}#sk-container-id-10 div.sk-toggleable__content {max-height: 0;max-width: 0;overflow: hidden;text-align: left;background-color: #f0f8ff;}#sk-container-id-10 div.sk-toggleable__content pre {margin: 0.2em;color: black;border-radius: 0.25em;background-color: #f0f8ff;}#sk-container-id-10 input.sk-toggleable__control:checked~div.sk-toggleable__content {max-height: 200px;max-width: 100%;overflow: auto;}#sk-container-id-10 input.sk-toggleable__control:checked~label.sk-toggleable__label-arrow:before {content: \"▾\";}#sk-container-id-10 div.sk-estimator input.sk-toggleable__control:checked~label.sk-toggleable__label {background-color: #d4ebff;}#sk-container-id-10 div.sk-label input.sk-toggleable__control:checked~label.sk-toggleable__label {background-color: #d4ebff;}#sk-container-id-10 input.sk-hidden--visually {border: 0;clip: rect(1px 1px 1px 1px);clip: rect(1px, 1px, 1px, 1px);height: 1px;margin: -1px;overflow: hidden;padding: 0;position: absolute;width: 1px;}#sk-container-id-10 div.sk-estimator {font-family: monospace;background-color: #f0f8ff;border: 1px dotted black;border-radius: 0.25em;box-sizing: border-box;margin-bottom: 0.5em;}#sk-container-id-10 div.sk-estimator:hover {background-color: #d4ebff;}#sk-container-id-10 div.sk-parallel-item::after {content: \"\";width: 100%;border-bottom: 1px solid gray;flex-grow: 1;}#sk-container-id-10 div.sk-label:hover label.sk-toggleable__label {background-color: #d4ebff;}#sk-container-id-10 div.sk-serial::before {content: \"\";position: absolute;border-left: 1px solid gray;box-sizing: border-box;top: 0;bottom: 0;left: 50%;z-index: 0;}#sk-container-id-10 div.sk-serial {display: flex;flex-direction: column;align-items: center;background-color: white;padding-right: 0.2em;padding-left: 0.2em;position: relative;}#sk-container-id-10 div.sk-item {position: relative;z-index: 1;}#sk-container-id-10 div.sk-parallel {display: flex;align-items: stretch;justify-content: center;background-color: white;position: relative;}#sk-container-id-10 div.sk-item::before, #sk-container-id-10 div.sk-parallel-item::before {content: \"\";position: absolute;border-left: 1px solid gray;box-sizing: border-box;top: 0;bottom: 0;left: 50%;z-index: -1;}#sk-container-id-10 div.sk-parallel-item {display: flex;flex-direction: column;z-index: 1;position: relative;background-color: white;}#sk-container-id-10 div.sk-parallel-item:first-child::after {align-self: flex-end;width: 50%;}#sk-container-id-10 div.sk-parallel-item:last-child::after {align-self: flex-start;width: 50%;}#sk-container-id-10 div.sk-parallel-item:only-child::after {width: 0;}#sk-container-id-10 div.sk-dashed-wrapped {border: 1px dashed gray;margin: 0 0.4em 0.5em 0.4em;box-sizing: border-box;padding-bottom: 0.4em;background-color: white;}#sk-container-id-10 div.sk-label label {font-family: monospace;font-weight: bold;display: inline-block;line-height: 1.2em;}#sk-container-id-10 div.sk-label-container {text-align: center;}#sk-container-id-10 div.sk-container {/* jupyter's `normalize.less` sets `[hidden] { display: none; }` but bootstrap.min.css set `[hidden] { display: none !important; }` so we also need the `!important` here to be able to override the default hidden behavior on the sphinx rendered scikit-learn.org. See: https://github.com/scikit-learn/scikit-learn/issues/21755 */display: inline-block !important;position: relative;}#sk-container-id-10 div.sk-text-repr-fallback {display: none;}</style><div id=\"sk-container-id-10\" class=\"sk-top-container\"><div class=\"sk-text-repr-fallback\"><pre>LogisticRegression()</pre><b>In a Jupyter environment, please rerun this cell to show the HTML representation or trust the notebook. <br />On GitHub, the HTML representation is unable to render, please try loading this page with nbviewer.org.</b></div><div class=\"sk-container\" hidden><div class=\"sk-item\"><div class=\"sk-estimator sk-toggleable\"><input class=\"sk-toggleable__control sk-hidden--visually\" id=\"sk-estimator-id-10\" type=\"checkbox\" checked><label for=\"sk-estimator-id-10\" class=\"sk-toggleable__label sk-toggleable__label-arrow\">LogisticRegression</label><div class=\"sk-toggleable__content\"><pre>LogisticRegression()</pre></div></div></div></div></div>"
      ],
      "text/plain": [
       "LogisticRegression()"
      ]
     },
     "execution_count": 263,
     "metadata": {},
     "output_type": "execute_result"
    }
   ],
   "source": [
    "reg.fit(x_train, y_train)"
   ]
  },
  {
   "attachments": {},
   "cell_type": "markdown",
   "metadata": {},
   "source": [
    "#### Show the accuracy of the model"
   ]
  },
  {
   "cell_type": "code",
   "execution_count": 264,
   "metadata": {},
   "outputs": [
    {
     "data": {
      "text/plain": [
       "0.7875"
      ]
     },
     "execution_count": 264,
     "metadata": {},
     "output_type": "execute_result"
    }
   ],
   "source": [
    "reg.score(x_train, y_train)"
   ]
  },
  {
   "cell_type": "code",
   "execution_count": 265,
   "metadata": {},
   "outputs": [],
   "source": [
    "# reg.score(test_input, test_target)"
   ]
  },
  {
   "attachments": {},
   "cell_type": "markdown",
   "metadata": {},
   "source": [
    "#### Manually check the accuracy"
   ]
  },
  {
   "cell_type": "code",
   "execution_count": 266,
   "metadata": {},
   "outputs": [
    {
     "data": {
      "text/plain": [
       "array([0, 1, 1, 1, 1, 0, 0, 1, 0, 1, 1, 1, 0, 1, 0, 0, 0, 0, 0, 1, 1, 0,\n",
       "       0, 0, 0, 0, 0, 1, 1, 0, 0, 1, 0, 1, 0, 0, 0, 0, 0, 0, 1, 0, 1, 1,\n",
       "       1, 0, 0, 0, 1, 1, 0, 1, 0, 0, 0, 1, 1, 0, 0, 0, 0, 0, 1, 0, 0, 0,\n",
       "       0, 1, 0, 0, 0, 1, 1, 0, 0, 0, 1, 0, 0, 1, 1, 1, 0, 0, 0, 1, 1, 0,\n",
       "       0, 1, 0, 0, 1, 0, 0, 0, 0, 1, 0, 1, 1, 1, 1, 0, 1, 1, 0, 0, 1, 0,\n",
       "       0, 1, 0, 1, 1, 0, 0, 1, 1, 1, 1, 1, 1, 0, 0, 1, 0, 1, 0, 0, 1, 0,\n",
       "       0, 0, 0, 0, 1, 0, 0, 0, 0, 0, 1, 1, 1, 0, 0, 1, 0, 1, 0, 0, 1, 1,\n",
       "       1, 1, 0, 1, 0, 1, 1, 0, 1, 0, 0, 1, 1, 0, 1, 1, 0, 0, 0, 0, 1, 0,\n",
       "       0, 0, 0, 0, 1, 0, 0, 1, 1, 0, 0, 1, 0, 0, 1, 1, 1, 0, 0, 0, 0, 1,\n",
       "       1, 0, 0, 1, 1, 1, 1, 0, 1, 0, 0, 0, 1, 1, 1, 0, 0, 0, 0, 0, 0, 1,\n",
       "       1, 0, 0, 0, 1, 0, 0, 1, 1, 0, 0, 1, 1, 0, 0, 1, 1, 0, 0, 1, 0, 1,\n",
       "       0, 0, 1, 0, 1, 1, 1, 0, 1, 0, 1, 0, 1, 0, 1, 1, 1, 1, 1, 1, 1, 1,\n",
       "       0, 0, 1, 0, 0, 0, 1, 1, 0, 0, 1, 0, 1, 0, 0, 1, 0, 0, 1, 0, 1, 0,\n",
       "       0, 0, 1, 0, 0, 0, 0, 1, 1, 1, 1, 1, 1, 1, 0, 0, 0, 0, 0, 1, 0, 0,\n",
       "       1, 0, 0, 0, 1, 0, 1, 0, 1, 1, 0, 0, 0, 0, 1, 1, 0, 1, 0, 0, 1, 1,\n",
       "       1, 0, 1, 0, 0, 1, 1, 0, 0, 0, 0, 0, 0, 0, 0, 1, 1, 1, 0, 0, 0, 1,\n",
       "       0, 0, 1, 0, 1, 1, 0, 0, 1, 0, 1, 1, 1, 0, 0, 0, 0, 1, 1, 1, 0, 0,\n",
       "       1, 1, 1, 1, 0, 0, 1, 1, 0, 1, 0, 1, 1, 1, 0, 1, 0, 1, 1, 0, 0, 0,\n",
       "       0, 0, 0, 0, 0, 1, 1, 0, 1, 1, 1, 1, 0, 0, 0, 1, 1, 0, 1, 1, 1, 0,\n",
       "       0, 0, 0, 1, 0, 0, 1, 0, 0, 1, 0, 0, 1, 0, 1, 1, 1, 0, 0, 1, 1, 0,\n",
       "       0, 0, 0, 1, 0, 0, 0, 0, 0, 1, 1, 1, 1, 0, 1, 1, 0, 0, 0, 0, 0, 0,\n",
       "       1, 1, 0, 0, 0, 0, 1, 0, 0, 0, 1, 0, 1, 1, 0, 0, 1, 0, 0, 1, 0, 0,\n",
       "       0, 1, 0, 0, 0, 1, 0, 0, 1, 0, 0, 0, 0, 1, 0, 0, 1, 0, 1, 0, 0, 0,\n",
       "       0, 1, 1, 1, 1, 0, 0, 0, 1, 1, 1, 1, 0, 0, 1, 1, 0, 0, 1, 0, 1, 1,\n",
       "       0, 1, 1, 0, 1, 1, 1, 0, 0, 0, 1, 1, 1, 0, 1, 1, 0, 1, 1, 0, 0, 0,\n",
       "       0, 1, 0, 1, 1, 1, 0, 0, 0, 0])"
      ]
     },
     "execution_count": 266,
     "metadata": {},
     "output_type": "execute_result"
    }
   ],
   "source": [
    "model_outputs = reg.predict(x_train)\n",
    "model_outputs"
   ]
  },
  {
   "cell_type": "code",
   "execution_count": 267,
   "metadata": {},
   "outputs": [
    {
     "data": {
      "text/plain": [
       "346     True\n",
       "91      True\n",
       "299     True\n",
       "129     True\n",
       "695     True\n",
       "       ...  \n",
       "218     True\n",
       "223    False\n",
       "271     True\n",
       "474    False\n",
       "355     True\n",
       "Name: Absenteeism Time in Hours, Length: 560, dtype: bool"
      ]
     },
     "execution_count": 267,
     "metadata": {},
     "output_type": "execute_result"
    }
   ],
   "source": [
    "model_outputs == y_train"
   ]
  },
  {
   "cell_type": "code",
   "execution_count": 268,
   "metadata": {},
   "outputs": [
    {
     "data": {
      "text/plain": [
       "441"
      ]
     },
     "execution_count": 268,
     "metadata": {},
     "output_type": "execute_result"
    }
   ],
   "source": [
    "np.sum(model_outputs == y_train)"
   ]
  },
  {
   "cell_type": "code",
   "execution_count": 269,
   "metadata": {},
   "outputs": [
    {
     "data": {
      "text/plain": [
       "560"
      ]
     },
     "execution_count": 269,
     "metadata": {},
     "output_type": "execute_result"
    }
   ],
   "source": [
    "model_outputs.shape[0]"
   ]
  },
  {
   "cell_type": "code",
   "execution_count": 270,
   "metadata": {},
   "outputs": [
    {
     "data": {
      "text/plain": [
       "0.7875"
      ]
     },
     "execution_count": 270,
     "metadata": {},
     "output_type": "execute_result"
    }
   ],
   "source": [
    "np.sum(model_outputs == y_train)/model_outputs.shape[0]"
   ]
  },
  {
   "attachments": {},
   "cell_type": "markdown",
   "metadata": {},
   "source": [
    "### We can now extract the logistic regression equation from the model and use it to prediction outside here"
   ]
  },
  {
   "attachments": {},
   "cell_type": "markdown",
   "metadata": {},
   "source": [
    "#### Finding the intercept and coefficients"
   ]
  },
  {
   "cell_type": "code",
   "execution_count": 271,
   "metadata": {},
   "outputs": [
    {
     "data": {
      "text/plain": [
       "array([-3.28133526])"
      ]
     },
     "execution_count": 271,
     "metadata": {},
     "output_type": "execute_result"
    }
   ],
   "source": [
    "reg.intercept_"
   ]
  },
  {
   "cell_type": "code",
   "execution_count": 272,
   "metadata": {},
   "outputs": [
    {
     "data": {
      "text/plain": [
       "array([[ 1.96069738,  0.45912059,  2.34294784,  2.48910819,  0.18626043,\n",
       "        -0.0846088 ,  0.67899083, -0.03743055, -0.17952223,  0.00847809,\n",
       "         0.29874766, -0.10464221,  0.38323021, -0.31170546]])"
      ]
     },
     "execution_count": 272,
     "metadata": {},
     "output_type": "execute_result"
    }
   ],
   "source": [
    "reg.coef_"
   ]
  },
  {
   "cell_type": "code",
   "execution_count": 273,
   "metadata": {},
   "outputs": [
    {
     "data": {
      "text/plain": [
       "array(['Reason_1', 'Reason_2', 'Reason_3', 'Reason_4', 'Month Value',\n",
       "       'Day of the Week', 'Transportation Expense', 'Distance to Work',\n",
       "       'Age', 'Daily Work Load Average', 'Body Mass Index', 'Education',\n",
       "       'Children', 'Pets'], dtype=object)"
      ]
     },
     "execution_count": 273,
     "metadata": {},
     "output_type": "execute_result"
    }
   ],
   "source": [
    "scaled_inputs_df.columns.values"
   ]
  },
  {
   "cell_type": "code",
   "execution_count": 274,
   "metadata": {},
   "outputs": [],
   "source": [
    "feature_name = scaled_inputs_df.columns.values"
   ]
  },
  {
   "cell_type": "code",
   "execution_count": 275,
   "metadata": {},
   "outputs": [
    {
     "data": {
      "text/html": [
       "<div>\n",
       "<style scoped>\n",
       "    .dataframe tbody tr th:only-of-type {\n",
       "        vertical-align: middle;\n",
       "    }\n",
       "\n",
       "    .dataframe tbody tr th {\n",
       "        vertical-align: top;\n",
       "    }\n",
       "\n",
       "    .dataframe thead th {\n",
       "        text-align: right;\n",
       "    }\n",
       "</style>\n",
       "<table border=\"1\" class=\"dataframe\">\n",
       "  <thead>\n",
       "    <tr style=\"text-align: right;\">\n",
       "      <th></th>\n",
       "      <th>Feature name</th>\n",
       "      <th>Coefficient</th>\n",
       "    </tr>\n",
       "  </thead>\n",
       "  <tbody>\n",
       "    <tr>\n",
       "      <th>0</th>\n",
       "      <td>Reason_1</td>\n",
       "      <td>1.960697</td>\n",
       "    </tr>\n",
       "    <tr>\n",
       "      <th>1</th>\n",
       "      <td>Reason_2</td>\n",
       "      <td>0.459121</td>\n",
       "    </tr>\n",
       "    <tr>\n",
       "      <th>2</th>\n",
       "      <td>Reason_3</td>\n",
       "      <td>2.342948</td>\n",
       "    </tr>\n",
       "    <tr>\n",
       "      <th>3</th>\n",
       "      <td>Reason_4</td>\n",
       "      <td>2.489108</td>\n",
       "    </tr>\n",
       "    <tr>\n",
       "      <th>4</th>\n",
       "      <td>Month Value</td>\n",
       "      <td>0.186260</td>\n",
       "    </tr>\n",
       "    <tr>\n",
       "      <th>5</th>\n",
       "      <td>Day of the Week</td>\n",
       "      <td>-0.084609</td>\n",
       "    </tr>\n",
       "    <tr>\n",
       "      <th>6</th>\n",
       "      <td>Transportation Expense</td>\n",
       "      <td>0.678991</td>\n",
       "    </tr>\n",
       "    <tr>\n",
       "      <th>7</th>\n",
       "      <td>Distance to Work</td>\n",
       "      <td>-0.037431</td>\n",
       "    </tr>\n",
       "    <tr>\n",
       "      <th>8</th>\n",
       "      <td>Age</td>\n",
       "      <td>-0.179522</td>\n",
       "    </tr>\n",
       "    <tr>\n",
       "      <th>9</th>\n",
       "      <td>Daily Work Load Average</td>\n",
       "      <td>0.008478</td>\n",
       "    </tr>\n",
       "    <tr>\n",
       "      <th>10</th>\n",
       "      <td>Body Mass Index</td>\n",
       "      <td>0.298748</td>\n",
       "    </tr>\n",
       "    <tr>\n",
       "      <th>11</th>\n",
       "      <td>Education</td>\n",
       "      <td>-0.104642</td>\n",
       "    </tr>\n",
       "    <tr>\n",
       "      <th>12</th>\n",
       "      <td>Children</td>\n",
       "      <td>0.383230</td>\n",
       "    </tr>\n",
       "    <tr>\n",
       "      <th>13</th>\n",
       "      <td>Pets</td>\n",
       "      <td>-0.311705</td>\n",
       "    </tr>\n",
       "  </tbody>\n",
       "</table>\n",
       "</div>"
      ],
      "text/plain": [
       "               Feature name  Coefficient\n",
       "0                  Reason_1     1.960697\n",
       "1                  Reason_2     0.459121\n",
       "2                  Reason_3     2.342948\n",
       "3                  Reason_4     2.489108\n",
       "4               Month Value     0.186260\n",
       "5           Day of the Week    -0.084609\n",
       "6    Transportation Expense     0.678991\n",
       "7          Distance to Work    -0.037431\n",
       "8                       Age    -0.179522\n",
       "9   Daily Work Load Average     0.008478\n",
       "10          Body Mass Index     0.298748\n",
       "11                Education    -0.104642\n",
       "12                 Children     0.383230\n",
       "13                     Pets    -0.311705"
      ]
     },
     "execution_count": 275,
     "metadata": {},
     "output_type": "execute_result"
    }
   ],
   "source": [
    "summary_table = pd.DataFrame(columns=['Feature name'], data=feature_name)\n",
    "summary_table['Coefficient'] = np.transpose(reg.coef_)\n",
    "summary_table"
   ]
  },
  {
   "attachments": {},
   "cell_type": "markdown",
   "metadata": {},
   "source": [
    "#### intercept\n",
    "* we would like to put the intercept at the beginning of the dataframe\n",
    "* we can shift the index by one, and then add the new row at location 0\n",
    "* after than sort the dataframe by index again"
   ]
  },
  {
   "cell_type": "code",
   "execution_count": 276,
   "metadata": {},
   "outputs": [
    {
     "data": {
      "text/html": [
       "<div>\n",
       "<style scoped>\n",
       "    .dataframe tbody tr th:only-of-type {\n",
       "        vertical-align: middle;\n",
       "    }\n",
       "\n",
       "    .dataframe tbody tr th {\n",
       "        vertical-align: top;\n",
       "    }\n",
       "\n",
       "    .dataframe thead th {\n",
       "        text-align: right;\n",
       "    }\n",
       "</style>\n",
       "<table border=\"1\" class=\"dataframe\">\n",
       "  <thead>\n",
       "    <tr style=\"text-align: right;\">\n",
       "      <th></th>\n",
       "      <th>Feature name</th>\n",
       "      <th>Coefficient</th>\n",
       "    </tr>\n",
       "  </thead>\n",
       "  <tbody>\n",
       "    <tr>\n",
       "      <th>0</th>\n",
       "      <td>Intercept</td>\n",
       "      <td>-3.281335</td>\n",
       "    </tr>\n",
       "    <tr>\n",
       "      <th>1</th>\n",
       "      <td>Reason_1</td>\n",
       "      <td>1.960697</td>\n",
       "    </tr>\n",
       "    <tr>\n",
       "      <th>2</th>\n",
       "      <td>Reason_2</td>\n",
       "      <td>0.459121</td>\n",
       "    </tr>\n",
       "    <tr>\n",
       "      <th>3</th>\n",
       "      <td>Reason_3</td>\n",
       "      <td>2.342948</td>\n",
       "    </tr>\n",
       "    <tr>\n",
       "      <th>4</th>\n",
       "      <td>Reason_4</td>\n",
       "      <td>2.489108</td>\n",
       "    </tr>\n",
       "    <tr>\n",
       "      <th>5</th>\n",
       "      <td>Month Value</td>\n",
       "      <td>0.186260</td>\n",
       "    </tr>\n",
       "    <tr>\n",
       "      <th>6</th>\n",
       "      <td>Day of the Week</td>\n",
       "      <td>-0.084609</td>\n",
       "    </tr>\n",
       "    <tr>\n",
       "      <th>7</th>\n",
       "      <td>Transportation Expense</td>\n",
       "      <td>0.678991</td>\n",
       "    </tr>\n",
       "    <tr>\n",
       "      <th>8</th>\n",
       "      <td>Distance to Work</td>\n",
       "      <td>-0.037431</td>\n",
       "    </tr>\n",
       "    <tr>\n",
       "      <th>9</th>\n",
       "      <td>Age</td>\n",
       "      <td>-0.179522</td>\n",
       "    </tr>\n",
       "    <tr>\n",
       "      <th>10</th>\n",
       "      <td>Daily Work Load Average</td>\n",
       "      <td>0.008478</td>\n",
       "    </tr>\n",
       "    <tr>\n",
       "      <th>11</th>\n",
       "      <td>Body Mass Index</td>\n",
       "      <td>0.298748</td>\n",
       "    </tr>\n",
       "    <tr>\n",
       "      <th>12</th>\n",
       "      <td>Education</td>\n",
       "      <td>-0.104642</td>\n",
       "    </tr>\n",
       "    <tr>\n",
       "      <th>13</th>\n",
       "      <td>Children</td>\n",
       "      <td>0.383230</td>\n",
       "    </tr>\n",
       "    <tr>\n",
       "      <th>14</th>\n",
       "      <td>Pets</td>\n",
       "      <td>-0.311705</td>\n",
       "    </tr>\n",
       "  </tbody>\n",
       "</table>\n",
       "</div>"
      ],
      "text/plain": [
       "               Feature name  Coefficient\n",
       "0                 Intercept    -3.281335\n",
       "1                  Reason_1     1.960697\n",
       "2                  Reason_2     0.459121\n",
       "3                  Reason_3     2.342948\n",
       "4                  Reason_4     2.489108\n",
       "5               Month Value     0.186260\n",
       "6           Day of the Week    -0.084609\n",
       "7    Transportation Expense     0.678991\n",
       "8          Distance to Work    -0.037431\n",
       "9                       Age    -0.179522\n",
       "10  Daily Work Load Average     0.008478\n",
       "11          Body Mass Index     0.298748\n",
       "12                Education    -0.104642\n",
       "13                 Children     0.383230\n",
       "14                     Pets    -0.311705"
      ]
     },
     "execution_count": 276,
     "metadata": {},
     "output_type": "execute_result"
    }
   ],
   "source": [
    "summary_table.index = summary_table.index + 1\n",
    "summary_table.loc[0] = ['Intercept', reg.intercept_[0]]\n",
    "summary_table.sort_index(inplace=True)\n",
    "summary_table"
   ]
  },
  {
   "attachments": {},
   "cell_type": "markdown",
   "metadata": {},
   "source": [
    "#### Calculate the odds_ratio for each feature\n",
    "* since the equation is logistic regression, we use log function. log(odds) = intercept + b1x1 + b2x2 ..\n",
    "* the odds_ratio for each variable means to add exponential to both sides of the equation\n",
    "* odds_ration = e^intercept + e^b1x1 + ..."
   ]
  },
  {
   "cell_type": "code",
   "execution_count": 277,
   "metadata": {},
   "outputs": [
    {
     "data": {
      "text/html": [
       "<div>\n",
       "<style scoped>\n",
       "    .dataframe tbody tr th:only-of-type {\n",
       "        vertical-align: middle;\n",
       "    }\n",
       "\n",
       "    .dataframe tbody tr th {\n",
       "        vertical-align: top;\n",
       "    }\n",
       "\n",
       "    .dataframe thead th {\n",
       "        text-align: right;\n",
       "    }\n",
       "</style>\n",
       "<table border=\"1\" class=\"dataframe\">\n",
       "  <thead>\n",
       "    <tr style=\"text-align: right;\">\n",
       "      <th></th>\n",
       "      <th>Feature name</th>\n",
       "      <th>Coefficient</th>\n",
       "      <th>odds_ratio</th>\n",
       "    </tr>\n",
       "  </thead>\n",
       "  <tbody>\n",
       "    <tr>\n",
       "      <th>4</th>\n",
       "      <td>Reason_4</td>\n",
       "      <td>2.489108</td>\n",
       "      <td>12.050525</td>\n",
       "    </tr>\n",
       "    <tr>\n",
       "      <th>3</th>\n",
       "      <td>Reason_3</td>\n",
       "      <td>2.342948</td>\n",
       "      <td>10.411884</td>\n",
       "    </tr>\n",
       "    <tr>\n",
       "      <th>1</th>\n",
       "      <td>Reason_1</td>\n",
       "      <td>1.960697</td>\n",
       "      <td>7.104280</td>\n",
       "    </tr>\n",
       "    <tr>\n",
       "      <th>7</th>\n",
       "      <td>Transportation Expense</td>\n",
       "      <td>0.678991</td>\n",
       "      <td>1.971887</td>\n",
       "    </tr>\n",
       "    <tr>\n",
       "      <th>2</th>\n",
       "      <td>Reason_2</td>\n",
       "      <td>0.459121</td>\n",
       "      <td>1.582682</td>\n",
       "    </tr>\n",
       "    <tr>\n",
       "      <th>13</th>\n",
       "      <td>Children</td>\n",
       "      <td>0.383230</td>\n",
       "      <td>1.467016</td>\n",
       "    </tr>\n",
       "    <tr>\n",
       "      <th>11</th>\n",
       "      <td>Body Mass Index</td>\n",
       "      <td>0.298748</td>\n",
       "      <td>1.348169</td>\n",
       "    </tr>\n",
       "    <tr>\n",
       "      <th>5</th>\n",
       "      <td>Month Value</td>\n",
       "      <td>0.186260</td>\n",
       "      <td>1.204736</td>\n",
       "    </tr>\n",
       "    <tr>\n",
       "      <th>10</th>\n",
       "      <td>Daily Work Load Average</td>\n",
       "      <td>0.008478</td>\n",
       "      <td>1.008514</td>\n",
       "    </tr>\n",
       "    <tr>\n",
       "      <th>8</th>\n",
       "      <td>Distance to Work</td>\n",
       "      <td>-0.037431</td>\n",
       "      <td>0.963261</td>\n",
       "    </tr>\n",
       "    <tr>\n",
       "      <th>6</th>\n",
       "      <td>Day of the Week</td>\n",
       "      <td>-0.084609</td>\n",
       "      <td>0.918872</td>\n",
       "    </tr>\n",
       "    <tr>\n",
       "      <th>12</th>\n",
       "      <td>Education</td>\n",
       "      <td>-0.104642</td>\n",
       "      <td>0.900647</td>\n",
       "    </tr>\n",
       "    <tr>\n",
       "      <th>9</th>\n",
       "      <td>Age</td>\n",
       "      <td>-0.179522</td>\n",
       "      <td>0.835669</td>\n",
       "    </tr>\n",
       "    <tr>\n",
       "      <th>14</th>\n",
       "      <td>Pets</td>\n",
       "      <td>-0.311705</td>\n",
       "      <td>0.732197</td>\n",
       "    </tr>\n",
       "    <tr>\n",
       "      <th>0</th>\n",
       "      <td>Intercept</td>\n",
       "      <td>-3.281335</td>\n",
       "      <td>0.037578</td>\n",
       "    </tr>\n",
       "  </tbody>\n",
       "</table>\n",
       "</div>"
      ],
      "text/plain": [
       "               Feature name  Coefficient  odds_ratio\n",
       "4                  Reason_4     2.489108   12.050525\n",
       "3                  Reason_3     2.342948   10.411884\n",
       "1                  Reason_1     1.960697    7.104280\n",
       "7    Transportation Expense     0.678991    1.971887\n",
       "2                  Reason_2     0.459121    1.582682\n",
       "13                 Children     0.383230    1.467016\n",
       "11          Body Mass Index     0.298748    1.348169\n",
       "5               Month Value     0.186260    1.204736\n",
       "10  Daily Work Load Average     0.008478    1.008514\n",
       "8          Distance to Work    -0.037431    0.963261\n",
       "6           Day of the Week    -0.084609    0.918872\n",
       "12                Education    -0.104642    0.900647\n",
       "9                       Age    -0.179522    0.835669\n",
       "14                     Pets    -0.311705    0.732197\n",
       "0                 Intercept    -3.281335    0.037578"
      ]
     },
     "execution_count": 277,
     "metadata": {},
     "output_type": "execute_result"
    }
   ],
   "source": [
    "summary_table['odds_ratio'] = np.exp(summary_table['Coefficient'])\n",
    "summary_table.sort_values(by= 'odds_ratio', ascending=False)\n",
    "# Whenever a person states absence, we have a higher chance of getting excessive absence"
   ]
  },
  {
   "attachments": {},
   "cell_type": "markdown",
   "metadata": {},
   "source": [
    "#### a second model with unscaled inputs\n",
    "* this model is easier to interpret but it loses accuracy"
   ]
  },
  {
   "cell_type": "code",
   "execution_count": 282,
   "metadata": {},
   "outputs": [
    {
     "data": {
      "text/plain": [
       "0.7892857142857143"
      ]
     },
     "execution_count": 282,
     "metadata": {},
     "output_type": "execute_result"
    }
   ],
   "source": [
    "reg_unscaled = LogisticRegression(max_iter=10000)\n",
    "reg_unscaled.fit(unscaled_x_train, unscaled_y_train)\n",
    "reg_unscaled.score(unscaled_x_train, unscaled_y_train)\n"
   ]
  },
  {
   "cell_type": "code",
   "execution_count": 283,
   "metadata": {},
   "outputs": [
    {
     "data": {
      "text/html": [
       "<div>\n",
       "<style scoped>\n",
       "    .dataframe tbody tr th:only-of-type {\n",
       "        vertical-align: middle;\n",
       "    }\n",
       "\n",
       "    .dataframe tbody tr th {\n",
       "        vertical-align: top;\n",
       "    }\n",
       "\n",
       "    .dataframe thead th {\n",
       "        text-align: right;\n",
       "    }\n",
       "</style>\n",
       "<table border=\"1\" class=\"dataframe\">\n",
       "  <thead>\n",
       "    <tr style=\"text-align: right;\">\n",
       "      <th></th>\n",
       "      <th>Feature name</th>\n",
       "      <th>Coefficient</th>\n",
       "      <th>odds_ratio</th>\n",
       "    </tr>\n",
       "  </thead>\n",
       "  <tbody>\n",
       "    <tr>\n",
       "      <th>4</th>\n",
       "      <td>Reason_4</td>\n",
       "      <td>2.452127</td>\n",
       "      <td>11.613019</td>\n",
       "    </tr>\n",
       "    <tr>\n",
       "      <th>3</th>\n",
       "      <td>Reason_3</td>\n",
       "      <td>2.360519</td>\n",
       "      <td>10.596451</td>\n",
       "    </tr>\n",
       "    <tr>\n",
       "      <th>1</th>\n",
       "      <td>Reason_1</td>\n",
       "      <td>1.967871</td>\n",
       "      <td>7.155425</td>\n",
       "    </tr>\n",
       "    <tr>\n",
       "      <th>2</th>\n",
       "      <td>Reason_2</td>\n",
       "      <td>0.506557</td>\n",
       "      <td>1.659568</td>\n",
       "    </tr>\n",
       "    <tr>\n",
       "      <th>13</th>\n",
       "      <td>Children</td>\n",
       "      <td>0.345648</td>\n",
       "      <td>1.412905</td>\n",
       "    </tr>\n",
       "    <tr>\n",
       "      <th>11</th>\n",
       "      <td>Body Mass Index</td>\n",
       "      <td>0.071798</td>\n",
       "      <td>1.074438</td>\n",
       "    </tr>\n",
       "    <tr>\n",
       "      <th>5</th>\n",
       "      <td>Month Value</td>\n",
       "      <td>0.053380</td>\n",
       "      <td>1.054831</td>\n",
       "    </tr>\n",
       "    <tr>\n",
       "      <th>7</th>\n",
       "      <td>Transportation Expense</td>\n",
       "      <td>0.010362</td>\n",
       "      <td>1.010416</td>\n",
       "    </tr>\n",
       "    <tr>\n",
       "      <th>10</th>\n",
       "      <td>Daily Work Load Average</td>\n",
       "      <td>0.000145</td>\n",
       "      <td>1.000145</td>\n",
       "    </tr>\n",
       "    <tr>\n",
       "      <th>8</th>\n",
       "      <td>Distance to Work</td>\n",
       "      <td>-0.002728</td>\n",
       "      <td>0.997275</td>\n",
       "    </tr>\n",
       "    <tr>\n",
       "      <th>9</th>\n",
       "      <td>Age</td>\n",
       "      <td>-0.029521</td>\n",
       "      <td>0.970911</td>\n",
       "    </tr>\n",
       "    <tr>\n",
       "      <th>6</th>\n",
       "      <td>Day of the Week</td>\n",
       "      <td>-0.056453</td>\n",
       "      <td>0.945111</td>\n",
       "    </tr>\n",
       "    <tr>\n",
       "      <th>14</th>\n",
       "      <td>Pets</td>\n",
       "      <td>-0.272257</td>\n",
       "      <td>0.761658</td>\n",
       "    </tr>\n",
       "    <tr>\n",
       "      <th>12</th>\n",
       "      <td>Education</td>\n",
       "      <td>-0.276730</td>\n",
       "      <td>0.758259</td>\n",
       "    </tr>\n",
       "    <tr>\n",
       "      <th>0</th>\n",
       "      <td>Intercept</td>\n",
       "      <td>-6.700008</td>\n",
       "      <td>0.001231</td>\n",
       "    </tr>\n",
       "  </tbody>\n",
       "</table>\n",
       "</div>"
      ],
      "text/plain": [
       "               Feature name  Coefficient  odds_ratio\n",
       "4                  Reason_4     2.452127   11.613019\n",
       "3                  Reason_3     2.360519   10.596451\n",
       "1                  Reason_1     1.967871    7.155425\n",
       "2                  Reason_2     0.506557    1.659568\n",
       "13                 Children     0.345648    1.412905\n",
       "11          Body Mass Index     0.071798    1.074438\n",
       "5               Month Value     0.053380    1.054831\n",
       "7    Transportation Expense     0.010362    1.010416\n",
       "10  Daily Work Load Average     0.000145    1.000145\n",
       "8          Distance to Work    -0.002728    0.997275\n",
       "9                       Age    -0.029521    0.970911\n",
       "6           Day of the Week    -0.056453    0.945111\n",
       "14                     Pets    -0.272257    0.761658\n",
       "12                Education    -0.276730    0.758259\n",
       "0                 Intercept    -6.700008    0.001231"
      ]
     },
     "execution_count": 283,
     "metadata": {},
     "output_type": "execute_result"
    }
   ],
   "source": [
    "feature_name2 = unscaled_inputs.columns.values\n",
    "summary_table2 = pd.DataFrame(columns=['Feature name'], data=feature_name2)\n",
    "summary_table2['Coefficient'] = np.transpose(reg_unscaled.coef_)\n",
    "summary_table2.index = summary_table2.index + 1\n",
    "summary_table2.loc[0] = ['Intercept', reg_unscaled.intercept_[0]]\n",
    "summary_table2.sort_index(inplace=True)\n",
    "summary_table2['odds_ratio'] = np.exp(summary_table2['Coefficient'])\n",
    "summary_table2.sort_values(by= 'odds_ratio', ascending=False)"
   ]
  },
  {
   "attachments": {},
   "cell_type": "markdown",
   "metadata": {},
   "source": [
    "### Backward Elimination"
   ]
  },
  {
   "cell_type": "code",
   "execution_count": null,
   "metadata": {},
   "outputs": [],
   "source": []
  }
 ],
 "metadata": {
  "kernelspec": {
   "display_name": "tensor_venv",
   "language": "python",
   "name": "python3"
  },
  "language_info": {
   "codemirror_mode": {
    "name": "ipython",
    "version": 3
   },
   "file_extension": ".py",
   "mimetype": "text/x-python",
   "name": "python",
   "nbconvert_exporter": "python",
   "pygments_lexer": "ipython3",
   "version": "3.8.15"
  },
  "orig_nbformat": 4
 },
 "nbformat": 4,
 "nbformat_minor": 2
}
