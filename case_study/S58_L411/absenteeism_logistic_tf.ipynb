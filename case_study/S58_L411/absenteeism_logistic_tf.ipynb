{
  "cells": [
    {
      "cell_type": "markdown",
      "metadata": {
        "id": "KB2k0QXnm5eQ"
      },
      "source": [
        "### Creating the Model with Tensorflow"
      ]
    },
    {
      "cell_type": "code",
      "execution_count": 29,
      "metadata": {
        "id": "fd01kNscm5eU"
      },
      "outputs": [],
      "source": [
        "import numpy as np\n",
        "import pandas as pd\n",
        "import matplotlib.pyplot as plt\n",
        "import seaborn as sns\n",
        "sns.set()\n",
        "import tensorflow as tf\n",
        "from sklearn.model_selection import KFold, cross_val_score"
      ]
    },
    {
      "cell_type": "code",
      "execution_count": 30,
      "metadata": {
        "colab": {
          "base_uri": "https://localhost:8080/",
          "height": 399
        },
        "id": "Ob7DfYoqm5eV",
        "outputId": "293ee56d-4ab9-4937-985f-b0fc0961fe09"
      },
      "outputs": [
        {
          "output_type": "execute_result",
          "data": {
            "text/plain": [
              "         Reason_1    Reason_2    Reason_3    Reason_4  Month Value  \\\n",
              "count  700.000000  700.000000  700.000000  700.000000    700.00000   \n",
              "mean     0.250000    0.008571    0.090000    0.945714      6.36000   \n",
              "std      0.433322    0.092250    0.286386    0.226743      3.50501   \n",
              "min      0.000000    0.000000    0.000000    0.000000      1.00000   \n",
              "25%      0.000000    0.000000    0.000000    1.000000      3.00000   \n",
              "50%      0.000000    0.000000    0.000000    1.000000      6.00000   \n",
              "75%      0.250000    0.000000    0.000000    1.000000     10.00000   \n",
              "max      1.000000    1.000000    1.000000    1.000000     12.00000   \n",
              "\n",
              "       Day of the Week  Transportation Expense  Distance to Work         Age  \\\n",
              "count       700.000000              700.000000        700.000000  700.000000   \n",
              "mean          2.011429              222.347143         29.892857   36.417143   \n",
              "std           1.480396               66.312960         14.804446    6.379083   \n",
              "min           0.000000              118.000000          5.000000   27.000000   \n",
              "25%           1.000000              179.000000         16.000000   31.000000   \n",
              "50%           2.000000              225.000000         26.000000   37.000000   \n",
              "75%           3.000000              260.000000         50.000000   40.000000   \n",
              "max           6.000000              388.000000         52.000000   58.000000   \n",
              "\n",
              "       Daily Work Load Average  Body Mass Index   Education    Children  \\\n",
              "count               700.000000       700.000000  700.000000  700.000000   \n",
              "mean                271.801774        26.737143    0.167143    1.021429   \n",
              "std                  40.021804         4.254701    0.373370    1.112215   \n",
              "min                 205.917000        19.000000    0.000000    0.000000   \n",
              "25%                 241.476000        24.000000    0.000000    0.000000   \n",
              "50%                 264.249000        25.000000    0.000000    1.000000   \n",
              "75%                 294.217000        31.000000    0.000000    2.000000   \n",
              "max                 378.884000        38.000000    1.000000    4.000000   \n",
              "\n",
              "             Pets  Absenteeism Time in Hours  \n",
              "count  700.000000                 700.000000  \n",
              "mean     0.687143                   6.761429  \n",
              "std      1.166095                  12.670082  \n",
              "min      0.000000                   0.000000  \n",
              "25%      0.000000                   2.000000  \n",
              "50%      0.000000                   3.000000  \n",
              "75%      1.000000                   8.000000  \n",
              "max      8.000000                 120.000000  "
            ],
            "text/html": [
              "\n",
              "  <div id=\"df-9f369b30-64ff-4e35-8de2-e7c24feb92b0\">\n",
              "    <div class=\"colab-df-container\">\n",
              "      <div>\n",
              "<style scoped>\n",
              "    .dataframe tbody tr th:only-of-type {\n",
              "        vertical-align: middle;\n",
              "    }\n",
              "\n",
              "    .dataframe tbody tr th {\n",
              "        vertical-align: top;\n",
              "    }\n",
              "\n",
              "    .dataframe thead th {\n",
              "        text-align: right;\n",
              "    }\n",
              "</style>\n",
              "<table border=\"1\" class=\"dataframe\">\n",
              "  <thead>\n",
              "    <tr style=\"text-align: right;\">\n",
              "      <th></th>\n",
              "      <th>Reason_1</th>\n",
              "      <th>Reason_2</th>\n",
              "      <th>Reason_3</th>\n",
              "      <th>Reason_4</th>\n",
              "      <th>Month Value</th>\n",
              "      <th>Day of the Week</th>\n",
              "      <th>Transportation Expense</th>\n",
              "      <th>Distance to Work</th>\n",
              "      <th>Age</th>\n",
              "      <th>Daily Work Load Average</th>\n",
              "      <th>Body Mass Index</th>\n",
              "      <th>Education</th>\n",
              "      <th>Children</th>\n",
              "      <th>Pets</th>\n",
              "      <th>Absenteeism Time in Hours</th>\n",
              "    </tr>\n",
              "  </thead>\n",
              "  <tbody>\n",
              "    <tr>\n",
              "      <th>count</th>\n",
              "      <td>700.000000</td>\n",
              "      <td>700.000000</td>\n",
              "      <td>700.000000</td>\n",
              "      <td>700.000000</td>\n",
              "      <td>700.00000</td>\n",
              "      <td>700.000000</td>\n",
              "      <td>700.000000</td>\n",
              "      <td>700.000000</td>\n",
              "      <td>700.000000</td>\n",
              "      <td>700.000000</td>\n",
              "      <td>700.000000</td>\n",
              "      <td>700.000000</td>\n",
              "      <td>700.000000</td>\n",
              "      <td>700.000000</td>\n",
              "      <td>700.000000</td>\n",
              "    </tr>\n",
              "    <tr>\n",
              "      <th>mean</th>\n",
              "      <td>0.250000</td>\n",
              "      <td>0.008571</td>\n",
              "      <td>0.090000</td>\n",
              "      <td>0.945714</td>\n",
              "      <td>6.36000</td>\n",
              "      <td>2.011429</td>\n",
              "      <td>222.347143</td>\n",
              "      <td>29.892857</td>\n",
              "      <td>36.417143</td>\n",
              "      <td>271.801774</td>\n",
              "      <td>26.737143</td>\n",
              "      <td>0.167143</td>\n",
              "      <td>1.021429</td>\n",
              "      <td>0.687143</td>\n",
              "      <td>6.761429</td>\n",
              "    </tr>\n",
              "    <tr>\n",
              "      <th>std</th>\n",
              "      <td>0.433322</td>\n",
              "      <td>0.092250</td>\n",
              "      <td>0.286386</td>\n",
              "      <td>0.226743</td>\n",
              "      <td>3.50501</td>\n",
              "      <td>1.480396</td>\n",
              "      <td>66.312960</td>\n",
              "      <td>14.804446</td>\n",
              "      <td>6.379083</td>\n",
              "      <td>40.021804</td>\n",
              "      <td>4.254701</td>\n",
              "      <td>0.373370</td>\n",
              "      <td>1.112215</td>\n",
              "      <td>1.166095</td>\n",
              "      <td>12.670082</td>\n",
              "    </tr>\n",
              "    <tr>\n",
              "      <th>min</th>\n",
              "      <td>0.000000</td>\n",
              "      <td>0.000000</td>\n",
              "      <td>0.000000</td>\n",
              "      <td>0.000000</td>\n",
              "      <td>1.00000</td>\n",
              "      <td>0.000000</td>\n",
              "      <td>118.000000</td>\n",
              "      <td>5.000000</td>\n",
              "      <td>27.000000</td>\n",
              "      <td>205.917000</td>\n",
              "      <td>19.000000</td>\n",
              "      <td>0.000000</td>\n",
              "      <td>0.000000</td>\n",
              "      <td>0.000000</td>\n",
              "      <td>0.000000</td>\n",
              "    </tr>\n",
              "    <tr>\n",
              "      <th>25%</th>\n",
              "      <td>0.000000</td>\n",
              "      <td>0.000000</td>\n",
              "      <td>0.000000</td>\n",
              "      <td>1.000000</td>\n",
              "      <td>3.00000</td>\n",
              "      <td>1.000000</td>\n",
              "      <td>179.000000</td>\n",
              "      <td>16.000000</td>\n",
              "      <td>31.000000</td>\n",
              "      <td>241.476000</td>\n",
              "      <td>24.000000</td>\n",
              "      <td>0.000000</td>\n",
              "      <td>0.000000</td>\n",
              "      <td>0.000000</td>\n",
              "      <td>2.000000</td>\n",
              "    </tr>\n",
              "    <tr>\n",
              "      <th>50%</th>\n",
              "      <td>0.000000</td>\n",
              "      <td>0.000000</td>\n",
              "      <td>0.000000</td>\n",
              "      <td>1.000000</td>\n",
              "      <td>6.00000</td>\n",
              "      <td>2.000000</td>\n",
              "      <td>225.000000</td>\n",
              "      <td>26.000000</td>\n",
              "      <td>37.000000</td>\n",
              "      <td>264.249000</td>\n",
              "      <td>25.000000</td>\n",
              "      <td>0.000000</td>\n",
              "      <td>1.000000</td>\n",
              "      <td>0.000000</td>\n",
              "      <td>3.000000</td>\n",
              "    </tr>\n",
              "    <tr>\n",
              "      <th>75%</th>\n",
              "      <td>0.250000</td>\n",
              "      <td>0.000000</td>\n",
              "      <td>0.000000</td>\n",
              "      <td>1.000000</td>\n",
              "      <td>10.00000</td>\n",
              "      <td>3.000000</td>\n",
              "      <td>260.000000</td>\n",
              "      <td>50.000000</td>\n",
              "      <td>40.000000</td>\n",
              "      <td>294.217000</td>\n",
              "      <td>31.000000</td>\n",
              "      <td>0.000000</td>\n",
              "      <td>2.000000</td>\n",
              "      <td>1.000000</td>\n",
              "      <td>8.000000</td>\n",
              "    </tr>\n",
              "    <tr>\n",
              "      <th>max</th>\n",
              "      <td>1.000000</td>\n",
              "      <td>1.000000</td>\n",
              "      <td>1.000000</td>\n",
              "      <td>1.000000</td>\n",
              "      <td>12.00000</td>\n",
              "      <td>6.000000</td>\n",
              "      <td>388.000000</td>\n",
              "      <td>52.000000</td>\n",
              "      <td>58.000000</td>\n",
              "      <td>378.884000</td>\n",
              "      <td>38.000000</td>\n",
              "      <td>1.000000</td>\n",
              "      <td>4.000000</td>\n",
              "      <td>8.000000</td>\n",
              "      <td>120.000000</td>\n",
              "    </tr>\n",
              "  </tbody>\n",
              "</table>\n",
              "</div>\n",
              "      <button class=\"colab-df-convert\" onclick=\"convertToInteractive('df-9f369b30-64ff-4e35-8de2-e7c24feb92b0')\"\n",
              "              title=\"Convert this dataframe to an interactive table.\"\n",
              "              style=\"display:none;\">\n",
              "        \n",
              "  <svg xmlns=\"http://www.w3.org/2000/svg\" height=\"24px\"viewBox=\"0 0 24 24\"\n",
              "       width=\"24px\">\n",
              "    <path d=\"M0 0h24v24H0V0z\" fill=\"none\"/>\n",
              "    <path d=\"M18.56 5.44l.94 2.06.94-2.06 2.06-.94-2.06-.94-.94-2.06-.94 2.06-2.06.94zm-11 1L8.5 8.5l.94-2.06 2.06-.94-2.06-.94L8.5 2.5l-.94 2.06-2.06.94zm10 10l.94 2.06.94-2.06 2.06-.94-2.06-.94-.94-2.06-.94 2.06-2.06.94z\"/><path d=\"M17.41 7.96l-1.37-1.37c-.4-.4-.92-.59-1.43-.59-.52 0-1.04.2-1.43.59L10.3 9.45l-7.72 7.72c-.78.78-.78 2.05 0 2.83L4 21.41c.39.39.9.59 1.41.59.51 0 1.02-.2 1.41-.59l7.78-7.78 2.81-2.81c.8-.78.8-2.07 0-2.86zM5.41 20L4 18.59l7.72-7.72 1.47 1.35L5.41 20z\"/>\n",
              "  </svg>\n",
              "      </button>\n",
              "      \n",
              "  <style>\n",
              "    .colab-df-container {\n",
              "      display:flex;\n",
              "      flex-wrap:wrap;\n",
              "      gap: 12px;\n",
              "    }\n",
              "\n",
              "    .colab-df-convert {\n",
              "      background-color: #E8F0FE;\n",
              "      border: none;\n",
              "      border-radius: 50%;\n",
              "      cursor: pointer;\n",
              "      display: none;\n",
              "      fill: #1967D2;\n",
              "      height: 32px;\n",
              "      padding: 0 0 0 0;\n",
              "      width: 32px;\n",
              "    }\n",
              "\n",
              "    .colab-df-convert:hover {\n",
              "      background-color: #E2EBFA;\n",
              "      box-shadow: 0px 1px 2px rgba(60, 64, 67, 0.3), 0px 1px 3px 1px rgba(60, 64, 67, 0.15);\n",
              "      fill: #174EA6;\n",
              "    }\n",
              "\n",
              "    [theme=dark] .colab-df-convert {\n",
              "      background-color: #3B4455;\n",
              "      fill: #D2E3FC;\n",
              "    }\n",
              "\n",
              "    [theme=dark] .colab-df-convert:hover {\n",
              "      background-color: #434B5C;\n",
              "      box-shadow: 0px 1px 3px 1px rgba(0, 0, 0, 0.15);\n",
              "      filter: drop-shadow(0px 1px 2px rgba(0, 0, 0, 0.3));\n",
              "      fill: #FFFFFF;\n",
              "    }\n",
              "  </style>\n",
              "\n",
              "      <script>\n",
              "        const buttonEl =\n",
              "          document.querySelector('#df-9f369b30-64ff-4e35-8de2-e7c24feb92b0 button.colab-df-convert');\n",
              "        buttonEl.style.display =\n",
              "          google.colab.kernel.accessAllowed ? 'block' : 'none';\n",
              "\n",
              "        async function convertToInteractive(key) {\n",
              "          const element = document.querySelector('#df-9f369b30-64ff-4e35-8de2-e7c24feb92b0');\n",
              "          const dataTable =\n",
              "            await google.colab.kernel.invokeFunction('convertToInteractive',\n",
              "                                                     [key], {});\n",
              "          if (!dataTable) return;\n",
              "\n",
              "          const docLinkHtml = 'Like what you see? Visit the ' +\n",
              "            '<a target=\"_blank\" href=https://colab.research.google.com/notebooks/data_table.ipynb>data table notebook</a>'\n",
              "            + ' to learn more about interactive tables.';\n",
              "          element.innerHTML = '';\n",
              "          dataTable['output_type'] = 'display_data';\n",
              "          await google.colab.output.renderOutput(dataTable, element);\n",
              "          const docLink = document.createElement('div');\n",
              "          docLink.innerHTML = docLinkHtml;\n",
              "          element.appendChild(docLink);\n",
              "        }\n",
              "      </script>\n",
              "    </div>\n",
              "  </div>\n",
              "  "
            ]
          },
          "metadata": {},
          "execution_count": 30
        }
      ],
      "source": [
        "df_preprocessed = pd.read_csv('https://raw.githubusercontent.com/LastExile16/DataScience/main/case_study/S58_L411/Absenteeism_preprocessed.csv')\n",
        "df_preprocessed.describe()"
      ]
    },
    {
      "cell_type": "markdown",
      "metadata": {
        "id": "5JnT10Abm5eW"
      },
      "source": [
        "#### Target data for classification\n",
        "* set median value as the threshold to cut samples into excessive absence and regular absence\n",
        "* using median, the resulting dataset will be balanced between the two classes\n",
        "* But, keep in mind that such decision should be made according to the requests and questions you are trying to answer."
      ]
    },
    {
      "cell_type": "code",
      "execution_count": 31,
      "metadata": {
        "colab": {
          "base_uri": "https://localhost:8080/"
        },
        "id": "mjUl7S2ym5eW",
        "outputId": "8573bc89-0ada-4156-da27-87d9d1bfe925"
      },
      "outputs": [
        {
          "output_type": "execute_result",
          "data": {
            "text/plain": [
              "3.0"
            ]
          },
          "metadata": {},
          "execution_count": 31
        }
      ],
      "source": [
        "med = df_preprocessed['Absenteeism Time in Hours'].median(axis=0)\n",
        "med"
      ]
    },
    {
      "cell_type": "code",
      "execution_count": 32,
      "metadata": {
        "id": "mAFOkaqum5eW"
      },
      "outputs": [],
      "source": [
        "targets = df_preprocessed['Absenteeism Time in Hours'].map(lambda x: 1 if (x>med) else 0)\n",
        "df_preprocessed['Excessively Absenteeism'] = targets\n",
        "df_with_targets = df_preprocessed.drop(['Absenteeism Time in Hours'], axis=1)"
      ]
    },
    {
      "cell_type": "code",
      "execution_count": 33,
      "metadata": {
        "colab": {
          "base_uri": "https://localhost:8080/",
          "height": 399
        },
        "id": "r0lixmz0m5eX",
        "outputId": "e16eb5d3-6aa6-4a97-b0f1-ebd5502bd28d"
      },
      "outputs": [
        {
          "output_type": "execute_result",
          "data": {
            "text/plain": [
              "         Reason_1    Reason_2    Reason_3    Reason_4  Month Value  \\\n",
              "count  700.000000  700.000000  700.000000  700.000000    700.00000   \n",
              "mean     0.250000    0.008571    0.090000    0.945714      6.36000   \n",
              "std      0.433322    0.092250    0.286386    0.226743      3.50501   \n",
              "min      0.000000    0.000000    0.000000    0.000000      1.00000   \n",
              "25%      0.000000    0.000000    0.000000    1.000000      3.00000   \n",
              "50%      0.000000    0.000000    0.000000    1.000000      6.00000   \n",
              "75%      0.250000    0.000000    0.000000    1.000000     10.00000   \n",
              "max      1.000000    1.000000    1.000000    1.000000     12.00000   \n",
              "\n",
              "       Day of the Week  Transportation Expense  Distance to Work         Age  \\\n",
              "count       700.000000              700.000000        700.000000  700.000000   \n",
              "mean          2.011429              222.347143         29.892857   36.417143   \n",
              "std           1.480396               66.312960         14.804446    6.379083   \n",
              "min           0.000000              118.000000          5.000000   27.000000   \n",
              "25%           1.000000              179.000000         16.000000   31.000000   \n",
              "50%           2.000000              225.000000         26.000000   37.000000   \n",
              "75%           3.000000              260.000000         50.000000   40.000000   \n",
              "max           6.000000              388.000000         52.000000   58.000000   \n",
              "\n",
              "       Daily Work Load Average  Body Mass Index   Education    Children  \\\n",
              "count               700.000000       700.000000  700.000000  700.000000   \n",
              "mean                271.801774        26.737143    0.167143    1.021429   \n",
              "std                  40.021804         4.254701    0.373370    1.112215   \n",
              "min                 205.917000        19.000000    0.000000    0.000000   \n",
              "25%                 241.476000        24.000000    0.000000    0.000000   \n",
              "50%                 264.249000        25.000000    0.000000    1.000000   \n",
              "75%                 294.217000        31.000000    0.000000    2.000000   \n",
              "max                 378.884000        38.000000    1.000000    4.000000   \n",
              "\n",
              "             Pets  Excessively Absenteeism  \n",
              "count  700.000000               700.000000  \n",
              "mean     0.687143                 0.455714  \n",
              "std      1.166095                 0.498391  \n",
              "min      0.000000                 0.000000  \n",
              "25%      0.000000                 0.000000  \n",
              "50%      0.000000                 0.000000  \n",
              "75%      1.000000                 1.000000  \n",
              "max      8.000000                 1.000000  "
            ],
            "text/html": [
              "\n",
              "  <div id=\"df-8f31ad51-173f-413c-b06c-173c96cdeca1\">\n",
              "    <div class=\"colab-df-container\">\n",
              "      <div>\n",
              "<style scoped>\n",
              "    .dataframe tbody tr th:only-of-type {\n",
              "        vertical-align: middle;\n",
              "    }\n",
              "\n",
              "    .dataframe tbody tr th {\n",
              "        vertical-align: top;\n",
              "    }\n",
              "\n",
              "    .dataframe thead th {\n",
              "        text-align: right;\n",
              "    }\n",
              "</style>\n",
              "<table border=\"1\" class=\"dataframe\">\n",
              "  <thead>\n",
              "    <tr style=\"text-align: right;\">\n",
              "      <th></th>\n",
              "      <th>Reason_1</th>\n",
              "      <th>Reason_2</th>\n",
              "      <th>Reason_3</th>\n",
              "      <th>Reason_4</th>\n",
              "      <th>Month Value</th>\n",
              "      <th>Day of the Week</th>\n",
              "      <th>Transportation Expense</th>\n",
              "      <th>Distance to Work</th>\n",
              "      <th>Age</th>\n",
              "      <th>Daily Work Load Average</th>\n",
              "      <th>Body Mass Index</th>\n",
              "      <th>Education</th>\n",
              "      <th>Children</th>\n",
              "      <th>Pets</th>\n",
              "      <th>Excessively Absenteeism</th>\n",
              "    </tr>\n",
              "  </thead>\n",
              "  <tbody>\n",
              "    <tr>\n",
              "      <th>count</th>\n",
              "      <td>700.000000</td>\n",
              "      <td>700.000000</td>\n",
              "      <td>700.000000</td>\n",
              "      <td>700.000000</td>\n",
              "      <td>700.00000</td>\n",
              "      <td>700.000000</td>\n",
              "      <td>700.000000</td>\n",
              "      <td>700.000000</td>\n",
              "      <td>700.000000</td>\n",
              "      <td>700.000000</td>\n",
              "      <td>700.000000</td>\n",
              "      <td>700.000000</td>\n",
              "      <td>700.000000</td>\n",
              "      <td>700.000000</td>\n",
              "      <td>700.000000</td>\n",
              "    </tr>\n",
              "    <tr>\n",
              "      <th>mean</th>\n",
              "      <td>0.250000</td>\n",
              "      <td>0.008571</td>\n",
              "      <td>0.090000</td>\n",
              "      <td>0.945714</td>\n",
              "      <td>6.36000</td>\n",
              "      <td>2.011429</td>\n",
              "      <td>222.347143</td>\n",
              "      <td>29.892857</td>\n",
              "      <td>36.417143</td>\n",
              "      <td>271.801774</td>\n",
              "      <td>26.737143</td>\n",
              "      <td>0.167143</td>\n",
              "      <td>1.021429</td>\n",
              "      <td>0.687143</td>\n",
              "      <td>0.455714</td>\n",
              "    </tr>\n",
              "    <tr>\n",
              "      <th>std</th>\n",
              "      <td>0.433322</td>\n",
              "      <td>0.092250</td>\n",
              "      <td>0.286386</td>\n",
              "      <td>0.226743</td>\n",
              "      <td>3.50501</td>\n",
              "      <td>1.480396</td>\n",
              "      <td>66.312960</td>\n",
              "      <td>14.804446</td>\n",
              "      <td>6.379083</td>\n",
              "      <td>40.021804</td>\n",
              "      <td>4.254701</td>\n",
              "      <td>0.373370</td>\n",
              "      <td>1.112215</td>\n",
              "      <td>1.166095</td>\n",
              "      <td>0.498391</td>\n",
              "    </tr>\n",
              "    <tr>\n",
              "      <th>min</th>\n",
              "      <td>0.000000</td>\n",
              "      <td>0.000000</td>\n",
              "      <td>0.000000</td>\n",
              "      <td>0.000000</td>\n",
              "      <td>1.00000</td>\n",
              "      <td>0.000000</td>\n",
              "      <td>118.000000</td>\n",
              "      <td>5.000000</td>\n",
              "      <td>27.000000</td>\n",
              "      <td>205.917000</td>\n",
              "      <td>19.000000</td>\n",
              "      <td>0.000000</td>\n",
              "      <td>0.000000</td>\n",
              "      <td>0.000000</td>\n",
              "      <td>0.000000</td>\n",
              "    </tr>\n",
              "    <tr>\n",
              "      <th>25%</th>\n",
              "      <td>0.000000</td>\n",
              "      <td>0.000000</td>\n",
              "      <td>0.000000</td>\n",
              "      <td>1.000000</td>\n",
              "      <td>3.00000</td>\n",
              "      <td>1.000000</td>\n",
              "      <td>179.000000</td>\n",
              "      <td>16.000000</td>\n",
              "      <td>31.000000</td>\n",
              "      <td>241.476000</td>\n",
              "      <td>24.000000</td>\n",
              "      <td>0.000000</td>\n",
              "      <td>0.000000</td>\n",
              "      <td>0.000000</td>\n",
              "      <td>0.000000</td>\n",
              "    </tr>\n",
              "    <tr>\n",
              "      <th>50%</th>\n",
              "      <td>0.000000</td>\n",
              "      <td>0.000000</td>\n",
              "      <td>0.000000</td>\n",
              "      <td>1.000000</td>\n",
              "      <td>6.00000</td>\n",
              "      <td>2.000000</td>\n",
              "      <td>225.000000</td>\n",
              "      <td>26.000000</td>\n",
              "      <td>37.000000</td>\n",
              "      <td>264.249000</td>\n",
              "      <td>25.000000</td>\n",
              "      <td>0.000000</td>\n",
              "      <td>1.000000</td>\n",
              "      <td>0.000000</td>\n",
              "      <td>0.000000</td>\n",
              "    </tr>\n",
              "    <tr>\n",
              "      <th>75%</th>\n",
              "      <td>0.250000</td>\n",
              "      <td>0.000000</td>\n",
              "      <td>0.000000</td>\n",
              "      <td>1.000000</td>\n",
              "      <td>10.00000</td>\n",
              "      <td>3.000000</td>\n",
              "      <td>260.000000</td>\n",
              "      <td>50.000000</td>\n",
              "      <td>40.000000</td>\n",
              "      <td>294.217000</td>\n",
              "      <td>31.000000</td>\n",
              "      <td>0.000000</td>\n",
              "      <td>2.000000</td>\n",
              "      <td>1.000000</td>\n",
              "      <td>1.000000</td>\n",
              "    </tr>\n",
              "    <tr>\n",
              "      <th>max</th>\n",
              "      <td>1.000000</td>\n",
              "      <td>1.000000</td>\n",
              "      <td>1.000000</td>\n",
              "      <td>1.000000</td>\n",
              "      <td>12.00000</td>\n",
              "      <td>6.000000</td>\n",
              "      <td>388.000000</td>\n",
              "      <td>52.000000</td>\n",
              "      <td>58.000000</td>\n",
              "      <td>378.884000</td>\n",
              "      <td>38.000000</td>\n",
              "      <td>1.000000</td>\n",
              "      <td>4.000000</td>\n",
              "      <td>8.000000</td>\n",
              "      <td>1.000000</td>\n",
              "    </tr>\n",
              "  </tbody>\n",
              "</table>\n",
              "</div>\n",
              "      <button class=\"colab-df-convert\" onclick=\"convertToInteractive('df-8f31ad51-173f-413c-b06c-173c96cdeca1')\"\n",
              "              title=\"Convert this dataframe to an interactive table.\"\n",
              "              style=\"display:none;\">\n",
              "        \n",
              "  <svg xmlns=\"http://www.w3.org/2000/svg\" height=\"24px\"viewBox=\"0 0 24 24\"\n",
              "       width=\"24px\">\n",
              "    <path d=\"M0 0h24v24H0V0z\" fill=\"none\"/>\n",
              "    <path d=\"M18.56 5.44l.94 2.06.94-2.06 2.06-.94-2.06-.94-.94-2.06-.94 2.06-2.06.94zm-11 1L8.5 8.5l.94-2.06 2.06-.94-2.06-.94L8.5 2.5l-.94 2.06-2.06.94zm10 10l.94 2.06.94-2.06 2.06-.94-2.06-.94-.94-2.06-.94 2.06-2.06.94z\"/><path d=\"M17.41 7.96l-1.37-1.37c-.4-.4-.92-.59-1.43-.59-.52 0-1.04.2-1.43.59L10.3 9.45l-7.72 7.72c-.78.78-.78 2.05 0 2.83L4 21.41c.39.39.9.59 1.41.59.51 0 1.02-.2 1.41-.59l7.78-7.78 2.81-2.81c.8-.78.8-2.07 0-2.86zM5.41 20L4 18.59l7.72-7.72 1.47 1.35L5.41 20z\"/>\n",
              "  </svg>\n",
              "      </button>\n",
              "      \n",
              "  <style>\n",
              "    .colab-df-container {\n",
              "      display:flex;\n",
              "      flex-wrap:wrap;\n",
              "      gap: 12px;\n",
              "    }\n",
              "\n",
              "    .colab-df-convert {\n",
              "      background-color: #E8F0FE;\n",
              "      border: none;\n",
              "      border-radius: 50%;\n",
              "      cursor: pointer;\n",
              "      display: none;\n",
              "      fill: #1967D2;\n",
              "      height: 32px;\n",
              "      padding: 0 0 0 0;\n",
              "      width: 32px;\n",
              "    }\n",
              "\n",
              "    .colab-df-convert:hover {\n",
              "      background-color: #E2EBFA;\n",
              "      box-shadow: 0px 1px 2px rgba(60, 64, 67, 0.3), 0px 1px 3px 1px rgba(60, 64, 67, 0.15);\n",
              "      fill: #174EA6;\n",
              "    }\n",
              "\n",
              "    [theme=dark] .colab-df-convert {\n",
              "      background-color: #3B4455;\n",
              "      fill: #D2E3FC;\n",
              "    }\n",
              "\n",
              "    [theme=dark] .colab-df-convert:hover {\n",
              "      background-color: #434B5C;\n",
              "      box-shadow: 0px 1px 3px 1px rgba(0, 0, 0, 0.15);\n",
              "      filter: drop-shadow(0px 1px 2px rgba(0, 0, 0, 0.3));\n",
              "      fill: #FFFFFF;\n",
              "    }\n",
              "  </style>\n",
              "\n",
              "      <script>\n",
              "        const buttonEl =\n",
              "          document.querySelector('#df-8f31ad51-173f-413c-b06c-173c96cdeca1 button.colab-df-convert');\n",
              "        buttonEl.style.display =\n",
              "          google.colab.kernel.accessAllowed ? 'block' : 'none';\n",
              "\n",
              "        async function convertToInteractive(key) {\n",
              "          const element = document.querySelector('#df-8f31ad51-173f-413c-b06c-173c96cdeca1');\n",
              "          const dataTable =\n",
              "            await google.colab.kernel.invokeFunction('convertToInteractive',\n",
              "                                                     [key], {});\n",
              "          if (!dataTable) return;\n",
              "\n",
              "          const docLinkHtml = 'Like what you see? Visit the ' +\n",
              "            '<a target=\"_blank\" href=https://colab.research.google.com/notebooks/data_table.ipynb>data table notebook</a>'\n",
              "            + ' to learn more about interactive tables.';\n",
              "          element.innerHTML = '';\n",
              "          dataTable['output_type'] = 'display_data';\n",
              "          await google.colab.output.renderOutput(dataTable, element);\n",
              "          const docLink = document.createElement('div');\n",
              "          docLink.innerHTML = docLinkHtml;\n",
              "          element.appendChild(docLink);\n",
              "        }\n",
              "      </script>\n",
              "    </div>\n",
              "  </div>\n",
              "  "
            ]
          },
          "metadata": {},
          "execution_count": 33
        }
      ],
      "source": [
        "df_with_targets.describe()"
      ]
    },
    {
      "cell_type": "markdown",
      "metadata": {
        "id": "gnlEsjsDm5eX"
      },
      "source": [
        "#### select the inputs"
      ]
    },
    {
      "cell_type": "code",
      "execution_count": 34,
      "metadata": {
        "id": "e9djV3dDm5eX"
      },
      "outputs": [],
      "source": [
        "unscaled_inputs = df_with_targets.iloc[:, :-1]"
      ]
    },
    {
      "cell_type": "code",
      "execution_count": 35,
      "metadata": {
        "id": "204kDUZvm5eY"
      },
      "outputs": [],
      "source": [
        "dummy_cols = ['Reason_1', 'Reason_2', 'Reason_3', 'Reason_4']\n",
        "\n",
        "# tobe_scaled_cols = ['Month Value',\n",
        "#        'Day of the Week', 'Transportation Expense', 'Distance to Work',\n",
        "#        'Age', 'Daily Work Load Average', 'Body Mass Index', 'Education',\n",
        "#        'Children', 'Pets']\n",
        "tobe_scaled_cols = unscaled_inputs.loc[:, ~unscaled_inputs.columns.isin(dummy_cols)].columns.values"
      ]
    },
    {
      "cell_type": "code",
      "execution_count": 36,
      "metadata": {
        "colab": {
          "base_uri": "https://localhost:8080/",
          "height": 451
        },
        "id": "0IkK6ftZm5eY",
        "outputId": "990e8b81-2619-4b9b-db60-f0fc2fc09d3f"
      },
      "outputs": [
        {
          "output_type": "execute_result",
          "data": {
            "text/plain": [
              "         Reason_1    Reason_2    Reason_3    Reason_4   Month Value  \\\n",
              "count  700.000000  700.000000  700.000000  700.000000  7.000000e+02   \n",
              "mean     0.250000    0.008571    0.090000    0.945714 -8.120488e-17   \n",
              "std      0.433322    0.092250    0.286386    0.226743  1.000715e+00   \n",
              "min      0.000000    0.000000    0.000000    0.000000 -1.530333e+00   \n",
              "25%      0.000000    0.000000    0.000000    1.000000 -9.593133e-01   \n",
              "50%      0.000000    0.000000    0.000000    1.000000 -1.027836e-01   \n",
              "75%      0.250000    0.000000    0.000000    1.000000  1.039256e+00   \n",
              "max      1.000000    1.000000    1.000000    1.000000  1.610276e+00   \n",
              "\n",
              "       Day of the Week  Transportation Expense  Distance to Work  \\\n",
              "count     7.000000e+02            7.000000e+02      7.000000e+02   \n",
              "mean     -1.040438e-16           -2.131628e-16      5.582836e-17   \n",
              "std       1.000715e+00            1.000715e+00      1.000715e+00   \n",
              "min      -1.359682e+00           -1.574681e+00     -1.682647e+00   \n",
              "25%      -6.837035e-01           -6.541427e-01     -9.390957e-01   \n",
              "50%      -7.725463e-03            4.003371e-02     -2.631399e-01   \n",
              "75%       6.682526e-01            5.682114e-01      1.359154e+00   \n",
              "max       2.696187e+00            2.499833e+00      1.494345e+00   \n",
              "\n",
              "                Age  Daily Work Load Average  Body Mass Index   Education  \\\n",
              "count  7.000000e+02             7.000000e+02     7.000000e+02  700.000000   \n",
              "mean   1.319579e-16            -8.526513e-16     1.446462e-16    0.000000   \n",
              "std    1.000715e+00             1.000715e+00     1.000715e+00    1.000715   \n",
              "min   -1.477309e+00            -1.647399e+00    -1.819793e+00   -0.447980   \n",
              "25%   -8.498113e-01            -7.582731e-01    -6.437820e-01   -0.447980   \n",
              "50%    9.143539e-02            -1.888514e-01    -4.085798e-01   -0.447980   \n",
              "75%    5.620587e-01             5.604758e-01     1.002633e+00   -0.447980   \n",
              "max    3.385799e+00             2.677510e+00     2.649049e+00    2.232242   \n",
              "\n",
              "           Children          Pets  \n",
              "count  7.000000e+02  7.000000e+02  \n",
              "mean   9.135549e-17 -1.268826e-17  \n",
              "std    1.000715e+00  1.000715e+00  \n",
              "min   -9.190300e-01 -5.896898e-01  \n",
              "25%   -9.190300e-01 -5.896898e-01  \n",
              "50%   -1.928035e-02 -5.896898e-01  \n",
              "75%    8.804693e-01  2.684866e-01  \n",
              "max    2.679969e+00  6.275721e+00  "
            ],
            "text/html": [
              "\n",
              "  <div id=\"df-b8a74f9c-f472-4d8b-840f-901e676989e5\">\n",
              "    <div class=\"colab-df-container\">\n",
              "      <div>\n",
              "<style scoped>\n",
              "    .dataframe tbody tr th:only-of-type {\n",
              "        vertical-align: middle;\n",
              "    }\n",
              "\n",
              "    .dataframe tbody tr th {\n",
              "        vertical-align: top;\n",
              "    }\n",
              "\n",
              "    .dataframe thead th {\n",
              "        text-align: right;\n",
              "    }\n",
              "</style>\n",
              "<table border=\"1\" class=\"dataframe\">\n",
              "  <thead>\n",
              "    <tr style=\"text-align: right;\">\n",
              "      <th></th>\n",
              "      <th>Reason_1</th>\n",
              "      <th>Reason_2</th>\n",
              "      <th>Reason_3</th>\n",
              "      <th>Reason_4</th>\n",
              "      <th>Month Value</th>\n",
              "      <th>Day of the Week</th>\n",
              "      <th>Transportation Expense</th>\n",
              "      <th>Distance to Work</th>\n",
              "      <th>Age</th>\n",
              "      <th>Daily Work Load Average</th>\n",
              "      <th>Body Mass Index</th>\n",
              "      <th>Education</th>\n",
              "      <th>Children</th>\n",
              "      <th>Pets</th>\n",
              "    </tr>\n",
              "  </thead>\n",
              "  <tbody>\n",
              "    <tr>\n",
              "      <th>count</th>\n",
              "      <td>700.000000</td>\n",
              "      <td>700.000000</td>\n",
              "      <td>700.000000</td>\n",
              "      <td>700.000000</td>\n",
              "      <td>7.000000e+02</td>\n",
              "      <td>7.000000e+02</td>\n",
              "      <td>7.000000e+02</td>\n",
              "      <td>7.000000e+02</td>\n",
              "      <td>7.000000e+02</td>\n",
              "      <td>7.000000e+02</td>\n",
              "      <td>7.000000e+02</td>\n",
              "      <td>700.000000</td>\n",
              "      <td>7.000000e+02</td>\n",
              "      <td>7.000000e+02</td>\n",
              "    </tr>\n",
              "    <tr>\n",
              "      <th>mean</th>\n",
              "      <td>0.250000</td>\n",
              "      <td>0.008571</td>\n",
              "      <td>0.090000</td>\n",
              "      <td>0.945714</td>\n",
              "      <td>-8.120488e-17</td>\n",
              "      <td>-1.040438e-16</td>\n",
              "      <td>-2.131628e-16</td>\n",
              "      <td>5.582836e-17</td>\n",
              "      <td>1.319579e-16</td>\n",
              "      <td>-8.526513e-16</td>\n",
              "      <td>1.446462e-16</td>\n",
              "      <td>0.000000</td>\n",
              "      <td>9.135549e-17</td>\n",
              "      <td>-1.268826e-17</td>\n",
              "    </tr>\n",
              "    <tr>\n",
              "      <th>std</th>\n",
              "      <td>0.433322</td>\n",
              "      <td>0.092250</td>\n",
              "      <td>0.286386</td>\n",
              "      <td>0.226743</td>\n",
              "      <td>1.000715e+00</td>\n",
              "      <td>1.000715e+00</td>\n",
              "      <td>1.000715e+00</td>\n",
              "      <td>1.000715e+00</td>\n",
              "      <td>1.000715e+00</td>\n",
              "      <td>1.000715e+00</td>\n",
              "      <td>1.000715e+00</td>\n",
              "      <td>1.000715</td>\n",
              "      <td>1.000715e+00</td>\n",
              "      <td>1.000715e+00</td>\n",
              "    </tr>\n",
              "    <tr>\n",
              "      <th>min</th>\n",
              "      <td>0.000000</td>\n",
              "      <td>0.000000</td>\n",
              "      <td>0.000000</td>\n",
              "      <td>0.000000</td>\n",
              "      <td>-1.530333e+00</td>\n",
              "      <td>-1.359682e+00</td>\n",
              "      <td>-1.574681e+00</td>\n",
              "      <td>-1.682647e+00</td>\n",
              "      <td>-1.477309e+00</td>\n",
              "      <td>-1.647399e+00</td>\n",
              "      <td>-1.819793e+00</td>\n",
              "      <td>-0.447980</td>\n",
              "      <td>-9.190300e-01</td>\n",
              "      <td>-5.896898e-01</td>\n",
              "    </tr>\n",
              "    <tr>\n",
              "      <th>25%</th>\n",
              "      <td>0.000000</td>\n",
              "      <td>0.000000</td>\n",
              "      <td>0.000000</td>\n",
              "      <td>1.000000</td>\n",
              "      <td>-9.593133e-01</td>\n",
              "      <td>-6.837035e-01</td>\n",
              "      <td>-6.541427e-01</td>\n",
              "      <td>-9.390957e-01</td>\n",
              "      <td>-8.498113e-01</td>\n",
              "      <td>-7.582731e-01</td>\n",
              "      <td>-6.437820e-01</td>\n",
              "      <td>-0.447980</td>\n",
              "      <td>-9.190300e-01</td>\n",
              "      <td>-5.896898e-01</td>\n",
              "    </tr>\n",
              "    <tr>\n",
              "      <th>50%</th>\n",
              "      <td>0.000000</td>\n",
              "      <td>0.000000</td>\n",
              "      <td>0.000000</td>\n",
              "      <td>1.000000</td>\n",
              "      <td>-1.027836e-01</td>\n",
              "      <td>-7.725463e-03</td>\n",
              "      <td>4.003371e-02</td>\n",
              "      <td>-2.631399e-01</td>\n",
              "      <td>9.143539e-02</td>\n",
              "      <td>-1.888514e-01</td>\n",
              "      <td>-4.085798e-01</td>\n",
              "      <td>-0.447980</td>\n",
              "      <td>-1.928035e-02</td>\n",
              "      <td>-5.896898e-01</td>\n",
              "    </tr>\n",
              "    <tr>\n",
              "      <th>75%</th>\n",
              "      <td>0.250000</td>\n",
              "      <td>0.000000</td>\n",
              "      <td>0.000000</td>\n",
              "      <td>1.000000</td>\n",
              "      <td>1.039256e+00</td>\n",
              "      <td>6.682526e-01</td>\n",
              "      <td>5.682114e-01</td>\n",
              "      <td>1.359154e+00</td>\n",
              "      <td>5.620587e-01</td>\n",
              "      <td>5.604758e-01</td>\n",
              "      <td>1.002633e+00</td>\n",
              "      <td>-0.447980</td>\n",
              "      <td>8.804693e-01</td>\n",
              "      <td>2.684866e-01</td>\n",
              "    </tr>\n",
              "    <tr>\n",
              "      <th>max</th>\n",
              "      <td>1.000000</td>\n",
              "      <td>1.000000</td>\n",
              "      <td>1.000000</td>\n",
              "      <td>1.000000</td>\n",
              "      <td>1.610276e+00</td>\n",
              "      <td>2.696187e+00</td>\n",
              "      <td>2.499833e+00</td>\n",
              "      <td>1.494345e+00</td>\n",
              "      <td>3.385799e+00</td>\n",
              "      <td>2.677510e+00</td>\n",
              "      <td>2.649049e+00</td>\n",
              "      <td>2.232242</td>\n",
              "      <td>2.679969e+00</td>\n",
              "      <td>6.275721e+00</td>\n",
              "    </tr>\n",
              "  </tbody>\n",
              "</table>\n",
              "</div>\n",
              "      <button class=\"colab-df-convert\" onclick=\"convertToInteractive('df-b8a74f9c-f472-4d8b-840f-901e676989e5')\"\n",
              "              title=\"Convert this dataframe to an interactive table.\"\n",
              "              style=\"display:none;\">\n",
              "        \n",
              "  <svg xmlns=\"http://www.w3.org/2000/svg\" height=\"24px\"viewBox=\"0 0 24 24\"\n",
              "       width=\"24px\">\n",
              "    <path d=\"M0 0h24v24H0V0z\" fill=\"none\"/>\n",
              "    <path d=\"M18.56 5.44l.94 2.06.94-2.06 2.06-.94-2.06-.94-.94-2.06-.94 2.06-2.06.94zm-11 1L8.5 8.5l.94-2.06 2.06-.94-2.06-.94L8.5 2.5l-.94 2.06-2.06.94zm10 10l.94 2.06.94-2.06 2.06-.94-2.06-.94-.94-2.06-.94 2.06-2.06.94z\"/><path d=\"M17.41 7.96l-1.37-1.37c-.4-.4-.92-.59-1.43-.59-.52 0-1.04.2-1.43.59L10.3 9.45l-7.72 7.72c-.78.78-.78 2.05 0 2.83L4 21.41c.39.39.9.59 1.41.59.51 0 1.02-.2 1.41-.59l7.78-7.78 2.81-2.81c.8-.78.8-2.07 0-2.86zM5.41 20L4 18.59l7.72-7.72 1.47 1.35L5.41 20z\"/>\n",
              "  </svg>\n",
              "      </button>\n",
              "      \n",
              "  <style>\n",
              "    .colab-df-container {\n",
              "      display:flex;\n",
              "      flex-wrap:wrap;\n",
              "      gap: 12px;\n",
              "    }\n",
              "\n",
              "    .colab-df-convert {\n",
              "      background-color: #E8F0FE;\n",
              "      border: none;\n",
              "      border-radius: 50%;\n",
              "      cursor: pointer;\n",
              "      display: none;\n",
              "      fill: #1967D2;\n",
              "      height: 32px;\n",
              "      padding: 0 0 0 0;\n",
              "      width: 32px;\n",
              "    }\n",
              "\n",
              "    .colab-df-convert:hover {\n",
              "      background-color: #E2EBFA;\n",
              "      box-shadow: 0px 1px 2px rgba(60, 64, 67, 0.3), 0px 1px 3px 1px rgba(60, 64, 67, 0.15);\n",
              "      fill: #174EA6;\n",
              "    }\n",
              "\n",
              "    [theme=dark] .colab-df-convert {\n",
              "      background-color: #3B4455;\n",
              "      fill: #D2E3FC;\n",
              "    }\n",
              "\n",
              "    [theme=dark] .colab-df-convert:hover {\n",
              "      background-color: #434B5C;\n",
              "      box-shadow: 0px 1px 3px 1px rgba(0, 0, 0, 0.15);\n",
              "      filter: drop-shadow(0px 1px 2px rgba(0, 0, 0, 0.3));\n",
              "      fill: #FFFFFF;\n",
              "    }\n",
              "  </style>\n",
              "\n",
              "      <script>\n",
              "        const buttonEl =\n",
              "          document.querySelector('#df-b8a74f9c-f472-4d8b-840f-901e676989e5 button.colab-df-convert');\n",
              "        buttonEl.style.display =\n",
              "          google.colab.kernel.accessAllowed ? 'block' : 'none';\n",
              "\n",
              "        async function convertToInteractive(key) {\n",
              "          const element = document.querySelector('#df-b8a74f9c-f472-4d8b-840f-901e676989e5');\n",
              "          const dataTable =\n",
              "            await google.colab.kernel.invokeFunction('convertToInteractive',\n",
              "                                                     [key], {});\n",
              "          if (!dataTable) return;\n",
              "\n",
              "          const docLinkHtml = 'Like what you see? Visit the ' +\n",
              "            '<a target=\"_blank\" href=https://colab.research.google.com/notebooks/data_table.ipynb>data table notebook</a>'\n",
              "            + ' to learn more about interactive tables.';\n",
              "          element.innerHTML = '';\n",
              "          dataTable['output_type'] = 'display_data';\n",
              "          await google.colab.output.renderOutput(dataTable, element);\n",
              "          const docLink = document.createElement('div');\n",
              "          docLink.innerHTML = docLinkHtml;\n",
              "          element.appendChild(docLink);\n",
              "        }\n",
              "      </script>\n",
              "    </div>\n",
              "  </div>\n",
              "  "
            ]
          },
          "metadata": {},
          "execution_count": 36
        }
      ],
      "source": [
        "from sklearn.preprocessing import StandardScaler\n",
        "absenteeism_scaler = StandardScaler()\n",
        "absenteeism_scaler.fit(unscaled_inputs[tobe_scaled_cols])\n",
        "scaled_inputs = absenteeism_scaler.transform(unscaled_inputs[tobe_scaled_cols])\n",
        "scaled_inputs_df = pd.DataFrame(data=scaled_inputs, columns=tobe_scaled_cols)\n",
        "scaled_inputs_df = pd.concat([unscaled_inputs[dummy_cols], scaled_inputs_df], axis=1)\n",
        "scaled_inputs_df.describe()"
      ]
    },
    {
      "cell_type": "code",
      "execution_count": 37,
      "metadata": {
        "colab": {
          "base_uri": "https://localhost:8080/"
        },
        "id": "SImi6nXvm5eZ",
        "outputId": "9ec0f5c9-52a6-4fd2-dfeb-f20075e5befb"
      },
      "outputs": [
        {
          "output_type": "execute_result",
          "data": {
            "text/plain": [
              "(700, 14)"
            ]
          },
          "metadata": {},
          "execution_count": 37
        }
      ],
      "source": [
        "scaled_inputs_df.shape"
      ]
    },
    {
      "cell_type": "markdown",
      "metadata": {
        "id": "FpLvyaUtm5eZ"
      },
      "source": [
        "#### Divide the data into train, validation and test\n",
        "* Instead of manual shuffle and manual division, this time we use sklearn ready function"
      ]
    },
    {
      "cell_type": "code",
      "execution_count": 38,
      "metadata": {
        "id": "Bc8WRGa3m5eZ"
      },
      "outputs": [],
      "source": [
        "from sklearn.model_selection import train_test_split\n",
        "x_train, x_test, y_train, y_test = train_test_split(scaled_inputs_df, targets, train_size=0.9, random_state=42, shuffle=True)"
      ]
    },
    {
      "cell_type": "markdown",
      "metadata": {
        "id": "VVf6DCjWm5eZ"
      },
      "source": [
        "#### divide the training data again, this time to extract the validation dataset"
      ]
    },
    {
      "cell_type": "code",
      "execution_count": 39,
      "metadata": {
        "id": "ZPVzbLv6m5eZ"
      },
      "outputs": [],
      "source": [
        "# test_input, validation_input, test_target, validation_target = train_test_split(test_input, test_target, train_size=0.5, random_state=42)"
      ]
    },
    {
      "cell_type": "code",
      "execution_count": 40,
      "metadata": {
        "colab": {
          "base_uri": "https://localhost:8080/"
        },
        "id": "c6u7a5bnm5ea",
        "outputId": "4b7cd014-f8e8-4c77-9929-6481b0a15439"
      },
      "outputs": [
        {
          "output_type": "stream",
          "name": "stdout",
          "text": [
            "(14,)\n",
            "(630,)\n",
            "(70, 14)\n",
            "(70,)\n"
          ]
        }
      ],
      "source": [
        "# tf.reshape(x_train, [-1])\n",
        "print(x_train.shape[1:])\n",
        "print(y_train.shape)\n",
        "# print(validation_input.shape)\n",
        "# print(validation_target.shape)\n",
        "print(x_test.shape)\n",
        "print(y_test.shape)"
      ]
    },
    {
      "cell_type": "markdown",
      "metadata": {
        "id": "NHey5ce7m5ea"
      },
      "source": [
        "## set the Hyperparameters"
      ]
    },
    {
      "cell_type": "code",
      "execution_count": 41,
      "metadata": {
        "id": "hD472Tasm5ea"
      },
      "outputs": [],
      "source": [
        "# tf.random.set_seed(42)\n",
        "tf.keras.utils.set_random_seed(42)  # sets seeds for base-python, numpy and tf\n",
        "tf.config.experimental.enable_op_determinism() # ensure reproducibility  even on GPU\n",
        "\n",
        "HIDDEN_LAYER_SIZE = 5\n",
        "INPUT_SIZE = x_train.shape[1:]\n",
        "OUTPUT_SIZE = 1\n",
        "\n",
        "BATCH_SIZE = 10\n",
        "MAX_EPOCHS = 100"
      ]
    },
    {
      "cell_type": "code",
      "execution_count": 42,
      "metadata": {
        "colab": {
          "base_uri": "https://localhost:8080/"
        },
        "id": "GxFRYdBNm5ea",
        "outputId": "982d6470-fda9-4d3b-9892-586177a9e02f"
      },
      "outputs": [
        {
          "output_type": "execute_result",
          "data": {
            "text/plain": [
              "(14,)"
            ]
          },
          "metadata": {},
          "execution_count": 42
        }
      ],
      "source": [
        "x_train.shape[1:]"
      ]
    },
    {
      "cell_type": "code",
      "execution_count": 43,
      "metadata": {
        "id": "ygD63STcm5ea"
      },
      "outputs": [],
      "source": [
        "# model_old = tf.keras.Sequential([\n",
        "#                             tf.keras.Input(shape=x_train.shape[1:]),\n",
        "#                             # tf.keras.layers.Dense(HIDDEN_LAYER_SIZE*2, activation='relu'),\n",
        "#                             tf.keras.layers.Dense(HIDDEN_LAYER_SIZE, activation='relu'),\n",
        "#                             tf.keras.layers.Dense(OUTPUT_SIZE, activation='sigmoid')\n",
        "#                             ])\n",
        "# model = tf.keras.Sequential([\n",
        "#                             tf.keras.layers.Dense(HIDDEN_LAYER_SIZE, activation='relu',\n",
        "#                                                   kernel_initializer=initi, \n",
        "#                                                   kernel_constraint=tf.keras.constraints.MaxNorm(3)),\n",
        "#                             tf.keras.layers.Dense(OUTPUT_SIZE, activation='sigmoid', kernel_initializer=initi, \n",
        "#                                                   kernel_constraint=tf.keras.constraints.MaxNorm(3))\n",
        "#                             ])\n",
        "from tensorflow.keras.wrappers.scikit_learn import KerasClassifier\n",
        "\n"
      ]
    },
    {
      "cell_type": "markdown",
      "metadata": {
        "id": "6IIEqYiym5eb"
      },
      "source": [
        "#### Optimization and loss function"
      ]
    },
    {
      "cell_type": "code",
      "execution_count": 44,
      "metadata": {
        "id": "zy59I5lxm5eb"
      },
      "outputs": [],
      "source": [
        "def tf_classifier():\n",
        "  initi=tf.keras.initializers.variance_scaling(seed=42)\n",
        "  model = tf.keras.Sequential([\n",
        "                            tf.keras.layers.Dense(OUTPUT_SIZE, input_shape=x_train.shape[1:], activation='sigmoid', kernel_initializer=initi, \n",
        "                                                  kernel_constraint=tf.keras.constraints.MaxNorm(3))\n",
        "                            ])\n",
        "  custom_optimizer = tf.keras.optimizers.Adam(learning_rate=0.001)\n",
        "  custom_loss_fn = tf.keras.losses.BinaryCrossentropy()\n",
        "  # custom_loss_fn = tf.keras.losses.SparseCategoricalCrossentropy()\n",
        "  METRICS = [\n",
        "      # tf.keras.metrics.Accuracy(),\n",
        "      tf.keras.metrics.CategoricalAccuracy(),\n",
        "      tf.keras.metrics.BinaryAccuracy,\n",
        "  ]\n",
        "  model.compile(optimizer=custom_optimizer, loss=custom_loss_fn, metrics=['accuracy'])\n",
        "  return model"
      ]
    },
    {
      "cell_type": "markdown",
      "source": [
        "* cross_val_score is almost meaningless for a neural network model because\n",
        "* it will split the data into k-folds and train the model on k-1 fold, then in the end\n",
        "* it will test using the remaining fold.\n",
        "* in this case, where _model = wrapped TF model or direct sklearn model_:\n",
        "  * _cross_val_score(model, input, target, split, scoring)_ function splits the data into two halves say A(input, target), B(input, target).\n",
        "  * then the crossval function will call the model to fit the given data according to the split.\n",
        "  * that means, fit and evaluate will be called twice, \n",
        "    1. Training Data A: model will run specificed epochs on A then evaluated on B\n",
        "    2. Training Data B: model will run specified epcohs on B then evaluated on A\n",
        "  * as the result, our model will be trained on both A and B and of course the evaluation and training result will be better with B.\n",
        "* that is why it is useless.\n",
        "* we have to manually use k-1 fold for training and remaining fold for validation during each epoch.\n",
        "* but doesn't the model use validation data as training by the end!!?\n",
        "\n",
        "---\n",
        "\n",
        "\n",
        "* Above quote is wrong, because the model.fit will run independently in each fold. and in each fold the validation fold is only used for validation purposes.\n",
        "\n",
        "\n",
        "\n",
        "---\n",
        "\n",
        "\n",
        "\n",
        "---\n",
        "\n",
        "\n",
        "* If you're satisfied with the performance of your model, you can finalize it. There are two options for doing so:\n",
        "\n",
        "  1. Save the best performing model instance (check \"How to save and load a model with Keras?\" - do note that this requires retraining because you haven't saved models with the code above), and use it for generating predictions.\n",
        "    * however, with _cross_val_score_ function, we cannot store anything because this function is only used to get an idea of the model performance.\n",
        "  2. Retrain the model, but this time with all the data - i.e., without making the train/test split. Save that model, and use it for generating predictions. I do suggest to continue using a validation set, as you want to know when the model is overfitting.\n",
        "\n",
        "Both sides have advantages and disadvantages. The advantages of the first are that you don't have to retrain, as you can simply use the best-performing fold which was saved during the training procedure. As retraining may be expensive, this could be an option, especially when your model is large. However, the disadvantage is that you simply miss out a percentage of your data - which may bring your training sample closer to the actual patterns in the population rather than your sample. If that's the case, then the second option is better.\n",
        "https://github.com/christianversloot/machine-learning-articles/blob/main/how-to-use-k-fold-cross-validation-with-keras.md"
      ],
      "metadata": {
        "id": "dQa-YvIQ560n"
      }
    },
    {
      "cell_type": "code",
      "execution_count": 45,
      "metadata": {
        "id": "LIEkwzJXm5eb"
      },
      "outputs": [],
      "source": [
        "# from sklearn.utils import shuffle\n",
        "# callback = tf.keras.callbacks.EarlyStopping(monitor='accuracy', patience=3, restore_best_weights=True)\n",
        "# # callback = tf.keras.callbacks.EarlyStopping(monitor='val_loss', mode='min', verbose=1, patience=5) \n",
        "\n",
        "# mymodel = tf_classifier\n",
        "# tf_clf = KerasClassifier(build_fn=mymodel, epochs=200, batch_size=BATCH_SIZE, verbose=0, callbacks=[callback])\n",
        "# score_lr = cross_val_score(tf_clf, x_train, y_train, cv=5, scoring='accuracy')\n",
        "\n",
        "# print(score_lr)\n",
        "# np.average(score_lr)\n"
      ]
    },
    {
      "cell_type": "markdown",
      "source": [
        "### K-Fold manually without cross_val_score function"
      ],
      "metadata": {
        "id": "xodD2aPcJaQi"
      }
    },
    {
      "cell_type": "markdown",
      "source": [
        "#### convert the dataframe to numpy for easy index access instead of using iloc"
      ],
      "metadata": {
        "id": "o2G6xtu3NZWm"
      }
    },
    {
      "cell_type": "code",
      "source": [
        "x_train_np = x_train.to_numpy()\n",
        "y_train_np = y_train.to_numpy()\n",
        "print(x_train_np.shape)\n",
        "print(y_train_np.shape)\n",
        "print(x_test.shape)\n",
        "print(y_test.shape)\n"
      ],
      "metadata": {
        "colab": {
          "base_uri": "https://localhost:8080/"
        },
        "id": "cXaEIfYKNZA8",
        "outputId": "3afae1d6-3ff7-488c-fc81-ea0a03a6f859"
      },
      "execution_count": 46,
      "outputs": [
        {
          "output_type": "stream",
          "name": "stdout",
          "text": [
            "(630, 14)\n",
            "(630,)\n",
            "(70, 14)\n",
            "(70,)\n"
          ]
        }
      ]
    },
    {
      "cell_type": "markdown",
      "source": [
        "#### Create K-Fold cross validator"
      ],
      "metadata": {
        "id": "ZsxGaGOrCQms"
      }
    },
    {
      "cell_type": "code",
      "source": [
        "# Define the K-fold Cross Validator\n",
        "from sklearn.model_selection import KFold, StratifiedKFold, ShuffleSplit\n",
        "NUM_FOLDS = 10\n",
        "# Define per-fold score containers \n",
        "acc_per_fold = []\n",
        "loss_per_fold = []\n",
        "history_models = {}\n",
        "test_index_per_fold = {}# {'fold1':[],'fold2':[],'fold3':[],'fold4':[],'fold5':[],\n",
        "                       #'fold6':[], 'fold7':[], 'fold8':[], 'fold9':[], 'fold10':[],}\n",
        "\n",
        "# kfold = KFold(n_splits=NUM_FOLDS, shuffle=True)\n",
        "# kfold = StratifiedKFold(n_splits=NUM_FOLDS, shuffle=True)\n",
        "kfold = ShuffleSplit(n_splits=NUM_FOLDS)\n"
      ],
      "metadata": {
        "id": "0cCLIa_rCQRh"
      },
      "execution_count": 47,
      "outputs": []
    },
    {
      "cell_type": "code",
      "source": [
        "# i=1\n",
        "# test_index_per_fold[f'fold{i}']=[1,2,3,4]\n",
        "# test_index_per_fold['fold2']=[1,2,3,4]\n",
        "# test_index_per_fold"
      ],
      "metadata": {
        "id": "RR08RO-wQfaq"
      },
      "execution_count": 48,
      "outputs": []
    },
    {
      "cell_type": "markdown",
      "source": [
        "* Actually _kfold.split(X,y)_ doesn't need y because it just returns the index, however there are different types of splits and some of them splits with respect to the classes in y to make the test set representative of all classes\n",
        "* https://stackoverflow.com/questions/70438717/why-do-we-need-to-give-y-in-sklearns-kfold-split"
      ],
      "metadata": {
        "id": "VpXj3X-EfRVA"
      }
    },
    {
      "cell_type": "code",
      "source": [
        "# callback = tf.keras.callbacks.EarlyStopping(monitor='accuracy', patience=3, restore_best_weights=True)\n",
        "callback = tf.keras.callbacks.EarlyStopping(monitor='val_loss', mode='min', verbose=1, patience=5, restore_best_weights=True) \n",
        "fold_no = 1\n",
        "for train_index, test_index in kfold.split(X=x_train_np, y=y_train_np):\n",
        "#  print('Fold %d: train index: %s,\\ntest index: %s \\n========================================================\\n' \n",
        "      #  % (n_folds, train_index, test_index))\n",
        "  test_index_per_fold[f'fold{fold_no}'] = test_index\n",
        "  model = tf_classifier()\n",
        "  model.fit(x_train_np[train_index], y_train_np[train_index], \n",
        "                        validation_data=(x_train_np[test_index], y_train_np[test_index]),\n",
        "                        batch_size=BATCH_SIZE, epochs=200, \n",
        "                        verbose=0, callbacks=[callback])\n",
        "  history_models[f'fold{fold_no}'] = model\n",
        "  # Generate generalization metrics\n",
        "  scores = model.evaluate(x_train_np[test_index], y_train_np[test_index], verbose=0)\n",
        "  print(f'Score for fold {fold_no}: {model.metrics_names[0]} of {scores[0]}; {model.metrics_names[1]} of {scores[1]*100}%\\n================================================\\n')\n",
        "  acc_per_fold.append(scores[1] * 100)\n",
        "  loss_per_fold.append(scores[0])\n",
        "  fold_no += 1"
      ],
      "metadata": {
        "colab": {
          "base_uri": "https://localhost:8080/"
        },
        "id": "uWSx23sDNJCQ",
        "outputId": "faec13c9-ad1f-491b-97c1-81280518f009"
      },
      "execution_count": 49,
      "outputs": [
        {
          "output_type": "stream",
          "name": "stdout",
          "text": [
            "Restoring model weights from the end of the best epoch: 84.\n",
            "Epoch 89: early stopping\n",
            "Score for fold 1: loss of 0.5625924468040466; accuracy of 74.60317611694336%\n",
            "================================================\n",
            "\n",
            "Restoring model weights from the end of the best epoch: 110.\n",
            "Epoch 115: early stopping\n",
            "Score for fold 2: loss of 0.5404611229896545; accuracy of 71.42857313156128%\n",
            "================================================\n",
            "\n",
            "Restoring model weights from the end of the best epoch: 138.\n",
            "Epoch 143: early stopping\n",
            "Score for fold 3: loss of 0.5791823267936707; accuracy of 71.42857313156128%\n",
            "================================================\n",
            "\n",
            "Restoring model weights from the end of the best epoch: 104.\n",
            "Epoch 109: early stopping\n",
            "Score for fold 4: loss of 0.47852379083633423; accuracy of 77.77777910232544%\n",
            "================================================\n",
            "\n",
            "Restoring model weights from the end of the best epoch: 144.\n",
            "Epoch 149: early stopping\n",
            "Score for fold 5: loss of 0.5043134689331055; accuracy of 77.77777910232544%\n",
            "================================================\n",
            "\n",
            "Restoring model weights from the end of the best epoch: 135.\n",
            "Epoch 140: early stopping\n",
            "Score for fold 6: loss of 0.5065613389015198; accuracy of 77.77777910232544%\n",
            "================================================\n",
            "\n",
            "Restoring model weights from the end of the best epoch: 59.\n",
            "Epoch 64: early stopping\n",
            "Score for fold 7: loss of 0.5524576902389526; accuracy of 74.60317611694336%\n",
            "================================================\n",
            "\n",
            "Restoring model weights from the end of the best epoch: 150.\n",
            "Epoch 155: early stopping\n",
            "Score for fold 8: loss of 0.4631781280040741; accuracy of 84.1269850730896%\n",
            "================================================\n",
            "\n",
            "Restoring model weights from the end of the best epoch: 156.\n",
            "Epoch 161: early stopping\n",
            "Score for fold 9: loss of 0.48213836550712585; accuracy of 79.36508059501648%\n",
            "================================================\n",
            "\n",
            "Restoring model weights from the end of the best epoch: 122.\n",
            "Epoch 127: early stopping\n",
            "Score for fold 10: loss of 0.47175779938697815; accuracy of 84.1269850730896%\n",
            "================================================\n",
            "\n"
          ]
        }
      ]
    },
    {
      "cell_type": "code",
      "execution_count": 50,
      "metadata": {
        "id": "KPsT2lkum5eb",
        "colab": {
          "base_uri": "https://localhost:8080/"
        },
        "outputId": "bf537574-f174-45e5-8011-a460824ac126"
      },
      "outputs": [
        {
          "output_type": "stream",
          "name": "stdout",
          "text": [
            "overall model accuracy 77.30, std: 4.26, min: 71.43, max:84.13\n"
          ]
        }
      ],
      "source": [
        "# no folding: train accuracy: 0.7381, one layer model .7460, perceptron .7476\n",
        "# no folding: test accuracy: 0.6857, one layer model .6867, perceptron .7286\n",
        "# with folds binary classification: overall model accuracy 74.60, std: 6.11, min: 66.67, max:82.54\n",
        "# with folds binary classification evaluation on actual test data: loss: 0.5709 - accuracy: 0.7714\n",
        "\n",
        "acc_per_fold = np.array(acc_per_fold)\n",
        "overall_acc = acc_per_fold.mean()\n",
        "std_acc = acc_per_fold.std()\n",
        "min_acc = acc_per_fold.min()\n",
        "max_acc = acc_per_fold.max()\n",
        "print(f'overall model accuracy {overall_acc:.2f}, std: {std_acc:.2f}, min: {min_acc:.2f}, max:{max_acc:.2f}')"
      ]
    },
    {
      "cell_type": "code",
      "source": [
        "folds = range(1, acc_per_fold.shape[0]+1)\n",
        "\n",
        "fig, ax1 = plt.subplots()\n",
        "\n",
        "ax2 = ax1.twinx()\n",
        "ax1.plot(folds, acc_per_fold, 'g-', marker='o')\n",
        "ax2.plot(folds, loss_per_fold, 'b-', marker='o')\n",
        "\n",
        "ax1.set_xlabel('Folds')\n",
        "ax1.set_ylabel('Accuracy', color='g')\n",
        "ax2.set_ylabel('Loss', color='b')\n",
        "\n",
        "plt.show()"
      ],
      "metadata": {
        "colab": {
          "base_uri": "https://localhost:8080/",
          "height": 458
        },
        "id": "dHr3F_AwYk4n",
        "outputId": "94a576c5-789e-4d54-cde7-e19feb966e4d"
      },
      "execution_count": 52,
      "outputs": [
        {
          "output_type": "display_data",
          "data": {
            "text/plain": [
              "<Figure size 640x480 with 2 Axes>"
            ],
            "image/png": "[encoded data removed]"
          },
          "metadata": {}
        }
      ]
    },
    {
      "cell_type": "markdown",
      "source": [
        "* How to Finalize the model\n",
        "  * [How to Train a Final Machine Learning Model - MachineLearningMastery.com](https://machinelearningmastery.com/train-final-machine-learning-model/)\n",
        "* KFold and test-split are two different types of cross-validation\n",
        "  * [Understanding 8 types of Cross-Validation | by Satyam Kumar | Towards Data Science](https://towardsdatascience.com/understanding-8-types-of-cross-validation-80c935a4976d)\n",
        "* Visualize the kfold split behavior\n",
        "  * [Visualizing cross-validation behavior in scikit-learn — scikit-learn 1.2.2 documentation](https://scikit-learn.org/stable/auto_examples/model_selection/plot_cv_indices.html#visualize-cross-validation-indices-for-many-cv-objects)\n",
        "\n"
      ],
      "metadata": {
        "id": "RP8-9u3YD6xi"
      }
    },
    {
      "cell_type": "code",
      "execution_count": 53,
      "metadata": {
        "id": "tT3u-svmm5eb"
      },
      "outputs": [],
      "source": [
        "# print(model.layers[0].weights)\n",
        "# print(model.layers[0].bias.numpy())\n",
        "# print(model.layers[0].bias_initializer)\n",
        "# 0.5706 - accuracy: 0.7714\n",
        "# best fold (8) after trained on remaining data, evaluated as loss: 0.5656 - accuracy: 0.7286\n",
        "# worst fold (3) after trained on remaining data, evaluated as loss: 0.6400 - accuracy: 0.6714\n"
      ]
    },
    {
      "cell_type": "code",
      "execution_count": 56,
      "metadata": {
        "id": "gck-_ftpm5ec",
        "colab": {
          "base_uri": "https://localhost:8080/"
        },
        "outputId": "26c93c13-5146-486b-ab23-a64f5b02efcd"
      },
      "outputs": [
        {
          "output_type": "stream",
          "name": "stdout",
          "text": [
            "3/3 [==============================] - 0s 4ms/step - loss: 0.5611 - accuracy: 0.7429\n"
          ]
        }
      ],
      "source": [
        "callback = tf.keras.callbacks.EarlyStopping(monitor='loss', mode='min', verbose=1, patience=5, restore_best_weights=True) \n",
        "fold_to_train = 8\n",
        "# train the model on the remaining data\n",
        "history_models[f'fold{fold_to_train}'].fit(x_train_np[test_index_per_fold[f'fold{fold_to_train}']], y_train_np[test_index_per_fold[f'fold{fold_to_train}']],\n",
        "                      batch_size=BATCH_SIZE, epochs=200, \n",
        "                      verbose=0, callbacks=[callback])\n",
        "# Generate generalization metrics\n",
        "scores = history_models[f'fold{fold_to_train}'].evaluate(x_test, y_test)"
      ]
    },
    {
      "cell_type": "code",
      "source": [
        "print(history_models[f'fold{fold_to_train}'].layers[0].weights)\n",
        "print(history_models[f'fold{fold_to_train}'].summary())"
      ],
      "metadata": {
        "colab": {
          "base_uri": "https://localhost:8080/"
        },
        "id": "Ly86K7y14REG",
        "outputId": "def4ae20-3526-422a-88c9-1b729fe49f38"
      },
      "execution_count": 57,
      "outputs": [
        {
          "output_type": "stream",
          "name": "stdout",
          "text": [
            "[<tf.Variable 'dense_17/kernel:0' shape=(14, 1) dtype=float32, numpy=\n",
            "array([[ 1.9789478 ],\n",
            "       [ 0.2883588 ],\n",
            "       [ 2.0296826 ],\n",
            "       [ 0.36041003],\n",
            "       [-0.04415148],\n",
            "       [-0.08924218],\n",
            "       [ 0.4514648 ],\n",
            "       [ 0.03606002],\n",
            "       [-0.23278528],\n",
            "       [ 0.08855718],\n",
            "       [ 0.39254788],\n",
            "       [ 0.05618342],\n",
            "       [ 0.37741956],\n",
            "       [-0.41754955]], dtype=float32)>, <tf.Variable 'dense_17/bias:0' shape=(1,) dtype=float32, numpy=array([-1.2603127], dtype=float32)>]\n",
            "Model: \"sequential_17\"\n",
            "_________________________________________________________________\n",
            " Layer (type)                Output Shape              Param #   \n",
            "=================================================================\n",
            " dense_17 (Dense)            (None, 1)                 15        \n",
            "                                                                 \n",
            "=================================================================\n",
            "Total params: 15\n",
            "Trainable params: 15\n",
            "Non-trainable params: 0\n",
            "_________________________________________________________________\n",
            "None\n"
          ]
        }
      ]
    }
  ],
  "metadata": {
    "kernelspec": {
      "display_name": "tensor_venv",
      "language": "python",
      "name": "python3"
    },
    "language_info": {
      "codemirror_mode": {
        "name": "ipython",
        "version": 3
      },
      "file_extension": ".py",
      "mimetype": "text/x-python",
      "name": "python",
      "nbconvert_exporter": "python",
      "pygments_lexer": "ipython3",
      "version": "3.8.15"
    },
    "orig_nbformat": 4,
    "colab": {
      "provenance": []
    }
  },
  "nbformat": 4,
  "nbformat_minor": 0
}
