{
 "cells": [
  {
   "attachments": {},
   "cell_type": "markdown",
   "metadata": {},
   "source": [
    "### Backward Elimination\n",
    "* after we chcecked our model, we noticed that some of the input columns have no impact on the model.\n",
    "* since we are using the model to predict values, we don't need these variables that doesn't make any significant change in the equation. \n",
    "    * Thus, we will omitt those inputs from the model\n"
   ]
  },
  {
   "cell_type": "code",
   "execution_count": 1,
   "metadata": {},
   "outputs": [],
   "source": [
    "import numpy as np\n",
    "import pandas as pd"
   ]
  },
  {
   "cell_type": "code",
   "execution_count": 2,
   "metadata": {},
   "outputs": [
    {
     "data": {
      "text/html": [
       "<div>\n",
       "<style scoped>\n",
       "    .dataframe tbody tr th:only-of-type {\n",
       "        vertical-align: middle;\n",
       "    }\n",
       "\n",
       "    .dataframe tbody tr th {\n",
       "        vertical-align: top;\n",
       "    }\n",
       "\n",
       "    .dataframe thead th {\n",
       "        text-align: right;\n",
       "    }\n",
       "</style>\n",
       "<table border=\"1\" class=\"dataframe\">\n",
       "  <thead>\n",
       "    <tr style=\"text-align: right;\">\n",
       "      <th></th>\n",
       "      <th>Reason_1</th>\n",
       "      <th>Reason_2</th>\n",
       "      <th>Reason_3</th>\n",
       "      <th>Reason_4</th>\n",
       "      <th>Month Value</th>\n",
       "      <th>Day of the Week</th>\n",
       "      <th>Transportation Expense</th>\n",
       "      <th>Distance to Work</th>\n",
       "      <th>Age</th>\n",
       "      <th>Daily Work Load Average</th>\n",
       "      <th>Body Mass Index</th>\n",
       "      <th>Education</th>\n",
       "      <th>Children</th>\n",
       "      <th>Pets</th>\n",
       "      <th>Absenteeism Time in Hours</th>\n",
       "    </tr>\n",
       "  </thead>\n",
       "  <tbody>\n",
       "    <tr>\n",
       "      <th>count</th>\n",
       "      <td>700.000000</td>\n",
       "      <td>700.000000</td>\n",
       "      <td>700.000000</td>\n",
       "      <td>700.000000</td>\n",
       "      <td>700.00000</td>\n",
       "      <td>700.000000</td>\n",
       "      <td>700.000000</td>\n",
       "      <td>700.000000</td>\n",
       "      <td>700.000000</td>\n",
       "      <td>700.000000</td>\n",
       "      <td>700.000000</td>\n",
       "      <td>700.000000</td>\n",
       "      <td>700.000000</td>\n",
       "      <td>700.000000</td>\n",
       "      <td>700.000000</td>\n",
       "    </tr>\n",
       "    <tr>\n",
       "      <th>mean</th>\n",
       "      <td>0.250000</td>\n",
       "      <td>0.008571</td>\n",
       "      <td>0.090000</td>\n",
       "      <td>0.945714</td>\n",
       "      <td>6.36000</td>\n",
       "      <td>2.011429</td>\n",
       "      <td>222.347143</td>\n",
       "      <td>29.892857</td>\n",
       "      <td>36.417143</td>\n",
       "      <td>271.801774</td>\n",
       "      <td>26.737143</td>\n",
       "      <td>0.167143</td>\n",
       "      <td>1.021429</td>\n",
       "      <td>0.687143</td>\n",
       "      <td>6.761429</td>\n",
       "    </tr>\n",
       "    <tr>\n",
       "      <th>std</th>\n",
       "      <td>0.433322</td>\n",
       "      <td>0.092250</td>\n",
       "      <td>0.286386</td>\n",
       "      <td>0.226743</td>\n",
       "      <td>3.50501</td>\n",
       "      <td>1.480396</td>\n",
       "      <td>66.312960</td>\n",
       "      <td>14.804446</td>\n",
       "      <td>6.379083</td>\n",
       "      <td>40.021804</td>\n",
       "      <td>4.254701</td>\n",
       "      <td>0.373370</td>\n",
       "      <td>1.112215</td>\n",
       "      <td>1.166095</td>\n",
       "      <td>12.670082</td>\n",
       "    </tr>\n",
       "    <tr>\n",
       "      <th>min</th>\n",
       "      <td>0.000000</td>\n",
       "      <td>0.000000</td>\n",
       "      <td>0.000000</td>\n",
       "      <td>0.000000</td>\n",
       "      <td>1.00000</td>\n",
       "      <td>0.000000</td>\n",
       "      <td>118.000000</td>\n",
       "      <td>5.000000</td>\n",
       "      <td>27.000000</td>\n",
       "      <td>205.917000</td>\n",
       "      <td>19.000000</td>\n",
       "      <td>0.000000</td>\n",
       "      <td>0.000000</td>\n",
       "      <td>0.000000</td>\n",
       "      <td>0.000000</td>\n",
       "    </tr>\n",
       "    <tr>\n",
       "      <th>25%</th>\n",
       "      <td>0.000000</td>\n",
       "      <td>0.000000</td>\n",
       "      <td>0.000000</td>\n",
       "      <td>1.000000</td>\n",
       "      <td>3.00000</td>\n",
       "      <td>1.000000</td>\n",
       "      <td>179.000000</td>\n",
       "      <td>16.000000</td>\n",
       "      <td>31.000000</td>\n",
       "      <td>241.476000</td>\n",
       "      <td>24.000000</td>\n",
       "      <td>0.000000</td>\n",
       "      <td>0.000000</td>\n",
       "      <td>0.000000</td>\n",
       "      <td>2.000000</td>\n",
       "    </tr>\n",
       "    <tr>\n",
       "      <th>50%</th>\n",
       "      <td>0.000000</td>\n",
       "      <td>0.000000</td>\n",
       "      <td>0.000000</td>\n",
       "      <td>1.000000</td>\n",
       "      <td>6.00000</td>\n",
       "      <td>2.000000</td>\n",
       "      <td>225.000000</td>\n",
       "      <td>26.000000</td>\n",
       "      <td>37.000000</td>\n",
       "      <td>264.249000</td>\n",
       "      <td>25.000000</td>\n",
       "      <td>0.000000</td>\n",
       "      <td>1.000000</td>\n",
       "      <td>0.000000</td>\n",
       "      <td>3.000000</td>\n",
       "    </tr>\n",
       "    <tr>\n",
       "      <th>75%</th>\n",
       "      <td>0.250000</td>\n",
       "      <td>0.000000</td>\n",
       "      <td>0.000000</td>\n",
       "      <td>1.000000</td>\n",
       "      <td>10.00000</td>\n",
       "      <td>3.000000</td>\n",
       "      <td>260.000000</td>\n",
       "      <td>50.000000</td>\n",
       "      <td>40.000000</td>\n",
       "      <td>294.217000</td>\n",
       "      <td>31.000000</td>\n",
       "      <td>0.000000</td>\n",
       "      <td>2.000000</td>\n",
       "      <td>1.000000</td>\n",
       "      <td>8.000000</td>\n",
       "    </tr>\n",
       "    <tr>\n",
       "      <th>max</th>\n",
       "      <td>1.000000</td>\n",
       "      <td>1.000000</td>\n",
       "      <td>1.000000</td>\n",
       "      <td>1.000000</td>\n",
       "      <td>12.00000</td>\n",
       "      <td>6.000000</td>\n",
       "      <td>388.000000</td>\n",
       "      <td>52.000000</td>\n",
       "      <td>58.000000</td>\n",
       "      <td>378.884000</td>\n",
       "      <td>38.000000</td>\n",
       "      <td>1.000000</td>\n",
       "      <td>4.000000</td>\n",
       "      <td>8.000000</td>\n",
       "      <td>120.000000</td>\n",
       "    </tr>\n",
       "  </tbody>\n",
       "</table>\n",
       "</div>"
      ],
      "text/plain": [
       "         Reason_1    Reason_2    Reason_3    Reason_4  Month Value  \\\n",
       "count  700.000000  700.000000  700.000000  700.000000    700.00000   \n",
       "mean     0.250000    0.008571    0.090000    0.945714      6.36000   \n",
       "std      0.433322    0.092250    0.286386    0.226743      3.50501   \n",
       "min      0.000000    0.000000    0.000000    0.000000      1.00000   \n",
       "25%      0.000000    0.000000    0.000000    1.000000      3.00000   \n",
       "50%      0.000000    0.000000    0.000000    1.000000      6.00000   \n",
       "75%      0.250000    0.000000    0.000000    1.000000     10.00000   \n",
       "max      1.000000    1.000000    1.000000    1.000000     12.00000   \n",
       "\n",
       "       Day of the Week  Transportation Expense  Distance to Work         Age  \\\n",
       "count       700.000000              700.000000        700.000000  700.000000   \n",
       "mean          2.011429              222.347143         29.892857   36.417143   \n",
       "std           1.480396               66.312960         14.804446    6.379083   \n",
       "min           0.000000              118.000000          5.000000   27.000000   \n",
       "25%           1.000000              179.000000         16.000000   31.000000   \n",
       "50%           2.000000              225.000000         26.000000   37.000000   \n",
       "75%           3.000000              260.000000         50.000000   40.000000   \n",
       "max           6.000000              388.000000         52.000000   58.000000   \n",
       "\n",
       "       Daily Work Load Average  Body Mass Index   Education    Children  \\\n",
       "count               700.000000       700.000000  700.000000  700.000000   \n",
       "mean                271.801774        26.737143    0.167143    1.021429   \n",
       "std                  40.021804         4.254701    0.373370    1.112215   \n",
       "min                 205.917000        19.000000    0.000000    0.000000   \n",
       "25%                 241.476000        24.000000    0.000000    0.000000   \n",
       "50%                 264.249000        25.000000    0.000000    1.000000   \n",
       "75%                 294.217000        31.000000    0.000000    2.000000   \n",
       "max                 378.884000        38.000000    1.000000    4.000000   \n",
       "\n",
       "             Pets  Absenteeism Time in Hours  \n",
       "count  700.000000                 700.000000  \n",
       "mean     0.687143                   6.761429  \n",
       "std      1.166095                  12.670082  \n",
       "min      0.000000                   0.000000  \n",
       "25%      0.000000                   2.000000  \n",
       "50%      0.000000                   3.000000  \n",
       "75%      1.000000                   8.000000  \n",
       "max      8.000000                 120.000000  "
      ]
     },
     "execution_count": 2,
     "metadata": {},
     "output_type": "execute_result"
    }
   ],
   "source": [
    "df_preprocessed = pd.read_csv('../S58_L411/Absenteeism_preprocessed.csv')\n",
    "df_preprocessed.describe()"
   ]
  },
  {
   "attachments": {},
   "cell_type": "markdown",
   "metadata": {},
   "source": [
    "#### Target data for classification\n",
    "* set median value as the threshold to cut samples into excessive absence and regular absence\n",
    "* using median, the resulting dataset will be balanced between the two classes\n",
    "* But, keep in mind that such decision should be made according to the requests and questions you are trying to answer."
   ]
  },
  {
   "cell_type": "code",
   "execution_count": 3,
   "metadata": {},
   "outputs": [
    {
     "data": {
      "text/plain": [
       "3.0"
      ]
     },
     "execution_count": 3,
     "metadata": {},
     "output_type": "execute_result"
    }
   ],
   "source": [
    "med = df_preprocessed['Absenteeism Time in Hours'].median(axis=0)\n",
    "med"
   ]
  },
  {
   "attachments": {},
   "cell_type": "markdown",
   "metadata": {},
   "source": [
    "#### Drop unnecessary inputs based on the previous results"
   ]
  },
  {
   "cell_type": "code",
   "execution_count": 4,
   "metadata": {},
   "outputs": [],
   "source": [
    "targets = df_preprocessed['Absenteeism Time in Hours'].map(lambda x: 1 if (x>med) else 0)\n",
    "df_preprocessed['Excessively Absenteeism'] = targets\n",
    "cols_to_drop = ['Absenteeism Time in Hours', \n",
    "                'Daily Work Load Average', \n",
    "                'Distance to Work', \n",
    "                'Day of the Week', \n",
    "                'Education']\n",
    "df_with_targets = df_preprocessed.drop(cols_to_drop, axis=1)"
   ]
  },
  {
   "cell_type": "code",
   "execution_count": 5,
   "metadata": {},
   "outputs": [
    {
     "data": {
      "text/html": [
       "<div>\n",
       "<style scoped>\n",
       "    .dataframe tbody tr th:only-of-type {\n",
       "        vertical-align: middle;\n",
       "    }\n",
       "\n",
       "    .dataframe tbody tr th {\n",
       "        vertical-align: top;\n",
       "    }\n",
       "\n",
       "    .dataframe thead th {\n",
       "        text-align: right;\n",
       "    }\n",
       "</style>\n",
       "<table border=\"1\" class=\"dataframe\">\n",
       "  <thead>\n",
       "    <tr style=\"text-align: right;\">\n",
       "      <th></th>\n",
       "      <th>Reason_1</th>\n",
       "      <th>Reason_2</th>\n",
       "      <th>Reason_3</th>\n",
       "      <th>Reason_4</th>\n",
       "      <th>Month Value</th>\n",
       "      <th>Transportation Expense</th>\n",
       "      <th>Age</th>\n",
       "      <th>Body Mass Index</th>\n",
       "      <th>Children</th>\n",
       "      <th>Pets</th>\n",
       "      <th>Excessively Absenteeism</th>\n",
       "    </tr>\n",
       "  </thead>\n",
       "  <tbody>\n",
       "    <tr>\n",
       "      <th>count</th>\n",
       "      <td>700.000000</td>\n",
       "      <td>700.000000</td>\n",
       "      <td>700.000000</td>\n",
       "      <td>700.000000</td>\n",
       "      <td>700.00000</td>\n",
       "      <td>700.000000</td>\n",
       "      <td>700.000000</td>\n",
       "      <td>700.000000</td>\n",
       "      <td>700.000000</td>\n",
       "      <td>700.000000</td>\n",
       "      <td>700.000000</td>\n",
       "    </tr>\n",
       "    <tr>\n",
       "      <th>mean</th>\n",
       "      <td>0.250000</td>\n",
       "      <td>0.008571</td>\n",
       "      <td>0.090000</td>\n",
       "      <td>0.945714</td>\n",
       "      <td>6.36000</td>\n",
       "      <td>222.347143</td>\n",
       "      <td>36.417143</td>\n",
       "      <td>26.737143</td>\n",
       "      <td>1.021429</td>\n",
       "      <td>0.687143</td>\n",
       "      <td>0.455714</td>\n",
       "    </tr>\n",
       "    <tr>\n",
       "      <th>std</th>\n",
       "      <td>0.433322</td>\n",
       "      <td>0.092250</td>\n",
       "      <td>0.286386</td>\n",
       "      <td>0.226743</td>\n",
       "      <td>3.50501</td>\n",
       "      <td>66.312960</td>\n",
       "      <td>6.379083</td>\n",
       "      <td>4.254701</td>\n",
       "      <td>1.112215</td>\n",
       "      <td>1.166095</td>\n",
       "      <td>0.498391</td>\n",
       "    </tr>\n",
       "    <tr>\n",
       "      <th>min</th>\n",
       "      <td>0.000000</td>\n",
       "      <td>0.000000</td>\n",
       "      <td>0.000000</td>\n",
       "      <td>0.000000</td>\n",
       "      <td>1.00000</td>\n",
       "      <td>118.000000</td>\n",
       "      <td>27.000000</td>\n",
       "      <td>19.000000</td>\n",
       "      <td>0.000000</td>\n",
       "      <td>0.000000</td>\n",
       "      <td>0.000000</td>\n",
       "    </tr>\n",
       "    <tr>\n",
       "      <th>25%</th>\n",
       "      <td>0.000000</td>\n",
       "      <td>0.000000</td>\n",
       "      <td>0.000000</td>\n",
       "      <td>1.000000</td>\n",
       "      <td>3.00000</td>\n",
       "      <td>179.000000</td>\n",
       "      <td>31.000000</td>\n",
       "      <td>24.000000</td>\n",
       "      <td>0.000000</td>\n",
       "      <td>0.000000</td>\n",
       "      <td>0.000000</td>\n",
       "    </tr>\n",
       "    <tr>\n",
       "      <th>50%</th>\n",
       "      <td>0.000000</td>\n",
       "      <td>0.000000</td>\n",
       "      <td>0.000000</td>\n",
       "      <td>1.000000</td>\n",
       "      <td>6.00000</td>\n",
       "      <td>225.000000</td>\n",
       "      <td>37.000000</td>\n",
       "      <td>25.000000</td>\n",
       "      <td>1.000000</td>\n",
       "      <td>0.000000</td>\n",
       "      <td>0.000000</td>\n",
       "    </tr>\n",
       "    <tr>\n",
       "      <th>75%</th>\n",
       "      <td>0.250000</td>\n",
       "      <td>0.000000</td>\n",
       "      <td>0.000000</td>\n",
       "      <td>1.000000</td>\n",
       "      <td>10.00000</td>\n",
       "      <td>260.000000</td>\n",
       "      <td>40.000000</td>\n",
       "      <td>31.000000</td>\n",
       "      <td>2.000000</td>\n",
       "      <td>1.000000</td>\n",
       "      <td>1.000000</td>\n",
       "    </tr>\n",
       "    <tr>\n",
       "      <th>max</th>\n",
       "      <td>1.000000</td>\n",
       "      <td>1.000000</td>\n",
       "      <td>1.000000</td>\n",
       "      <td>1.000000</td>\n",
       "      <td>12.00000</td>\n",
       "      <td>388.000000</td>\n",
       "      <td>58.000000</td>\n",
       "      <td>38.000000</td>\n",
       "      <td>4.000000</td>\n",
       "      <td>8.000000</td>\n",
       "      <td>1.000000</td>\n",
       "    </tr>\n",
       "  </tbody>\n",
       "</table>\n",
       "</div>"
      ],
      "text/plain": [
       "         Reason_1    Reason_2    Reason_3    Reason_4  Month Value  \\\n",
       "count  700.000000  700.000000  700.000000  700.000000    700.00000   \n",
       "mean     0.250000    0.008571    0.090000    0.945714      6.36000   \n",
       "std      0.433322    0.092250    0.286386    0.226743      3.50501   \n",
       "min      0.000000    0.000000    0.000000    0.000000      1.00000   \n",
       "25%      0.000000    0.000000    0.000000    1.000000      3.00000   \n",
       "50%      0.000000    0.000000    0.000000    1.000000      6.00000   \n",
       "75%      0.250000    0.000000    0.000000    1.000000     10.00000   \n",
       "max      1.000000    1.000000    1.000000    1.000000     12.00000   \n",
       "\n",
       "       Transportation Expense         Age  Body Mass Index    Children  \\\n",
       "count              700.000000  700.000000       700.000000  700.000000   \n",
       "mean               222.347143   36.417143        26.737143    1.021429   \n",
       "std                 66.312960    6.379083         4.254701    1.112215   \n",
       "min                118.000000   27.000000        19.000000    0.000000   \n",
       "25%                179.000000   31.000000        24.000000    0.000000   \n",
       "50%                225.000000   37.000000        25.000000    1.000000   \n",
       "75%                260.000000   40.000000        31.000000    2.000000   \n",
       "max                388.000000   58.000000        38.000000    4.000000   \n",
       "\n",
       "             Pets  Excessively Absenteeism  \n",
       "count  700.000000               700.000000  \n",
       "mean     0.687143                 0.455714  \n",
       "std      1.166095                 0.498391  \n",
       "min      0.000000                 0.000000  \n",
       "25%      0.000000                 0.000000  \n",
       "50%      0.000000                 0.000000  \n",
       "75%      1.000000                 1.000000  \n",
       "max      8.000000                 1.000000  "
      ]
     },
     "execution_count": 5,
     "metadata": {},
     "output_type": "execute_result"
    }
   ],
   "source": [
    "df_with_targets.describe()"
   ]
  },
  {
   "attachments": {},
   "cell_type": "markdown",
   "metadata": {},
   "source": [
    "#### select the inputs"
   ]
  },
  {
   "cell_type": "code",
   "execution_count": 6,
   "metadata": {},
   "outputs": [
    {
     "data": {
      "text/plain": [
       "array(['Reason_1', 'Reason_2', 'Reason_3', 'Reason_4', 'Month Value',\n",
       "       'Transportation Expense', 'Age', 'Body Mass Index', 'Children',\n",
       "       'Pets'], dtype=object)"
      ]
     },
     "execution_count": 6,
     "metadata": {},
     "output_type": "execute_result"
    }
   ],
   "source": [
    "unscaled_inputs = df_with_targets.iloc[:, :-1]\n",
    "unscaled_inputs.columns.values"
   ]
  },
  {
   "cell_type": "code",
   "execution_count": 7,
   "metadata": {},
   "outputs": [],
   "source": [
    "dummy_cols = ['Reason_1', 'Reason_2', 'Reason_3', 'Reason_4']\n",
    "\n",
    "# tobe_scaled_cols = ['Month Value',\n",
    "#        'Day of the Week', 'Transportation Expense', 'Distance to Work',\n",
    "#        'Age', 'Daily Work Load Average', 'Body Mass Index', 'Education',\n",
    "#        'Children', 'Pets']\n",
    "tobe_scaled_cols = unscaled_inputs.loc[:, ~unscaled_inputs.columns.isin(dummy_cols)].columns.values"
   ]
  },
  {
   "cell_type": "code",
   "execution_count": 8,
   "metadata": {},
   "outputs": [
    {
     "data": {
      "text/html": [
       "<div>\n",
       "<style scoped>\n",
       "    .dataframe tbody tr th:only-of-type {\n",
       "        vertical-align: middle;\n",
       "    }\n",
       "\n",
       "    .dataframe tbody tr th {\n",
       "        vertical-align: top;\n",
       "    }\n",
       "\n",
       "    .dataframe thead th {\n",
       "        text-align: right;\n",
       "    }\n",
       "</style>\n",
       "<table border=\"1\" class=\"dataframe\">\n",
       "  <thead>\n",
       "    <tr style=\"text-align: right;\">\n",
       "      <th></th>\n",
       "      <th>Reason_1</th>\n",
       "      <th>Reason_2</th>\n",
       "      <th>Reason_3</th>\n",
       "      <th>Reason_4</th>\n",
       "      <th>Month Value</th>\n",
       "      <th>Transportation Expense</th>\n",
       "      <th>Age</th>\n",
       "      <th>Body Mass Index</th>\n",
       "      <th>Children</th>\n",
       "      <th>Pets</th>\n",
       "    </tr>\n",
       "  </thead>\n",
       "  <tbody>\n",
       "    <tr>\n",
       "      <th>count</th>\n",
       "      <td>700.000000</td>\n",
       "      <td>700.000000</td>\n",
       "      <td>700.000000</td>\n",
       "      <td>700.000000</td>\n",
       "      <td>7.000000e+02</td>\n",
       "      <td>7.000000e+02</td>\n",
       "      <td>7.000000e+02</td>\n",
       "      <td>7.000000e+02</td>\n",
       "      <td>7.000000e+02</td>\n",
       "      <td>7.000000e+02</td>\n",
       "    </tr>\n",
       "    <tr>\n",
       "      <th>mean</th>\n",
       "      <td>0.250000</td>\n",
       "      <td>0.008571</td>\n",
       "      <td>0.090000</td>\n",
       "      <td>0.945714</td>\n",
       "      <td>-8.120488e-17</td>\n",
       "      <td>-2.131628e-16</td>\n",
       "      <td>1.319579e-16</td>\n",
       "      <td>1.446462e-16</td>\n",
       "      <td>9.135549e-17</td>\n",
       "      <td>-1.268826e-17</td>\n",
       "    </tr>\n",
       "    <tr>\n",
       "      <th>std</th>\n",
       "      <td>0.433322</td>\n",
       "      <td>0.092250</td>\n",
       "      <td>0.286386</td>\n",
       "      <td>0.226743</td>\n",
       "      <td>1.000715e+00</td>\n",
       "      <td>1.000715e+00</td>\n",
       "      <td>1.000715e+00</td>\n",
       "      <td>1.000715e+00</td>\n",
       "      <td>1.000715e+00</td>\n",
       "      <td>1.000715e+00</td>\n",
       "    </tr>\n",
       "    <tr>\n",
       "      <th>min</th>\n",
       "      <td>0.000000</td>\n",
       "      <td>0.000000</td>\n",
       "      <td>0.000000</td>\n",
       "      <td>0.000000</td>\n",
       "      <td>-1.530333e+00</td>\n",
       "      <td>-1.574681e+00</td>\n",
       "      <td>-1.477309e+00</td>\n",
       "      <td>-1.819793e+00</td>\n",
       "      <td>-9.190300e-01</td>\n",
       "      <td>-5.896898e-01</td>\n",
       "    </tr>\n",
       "    <tr>\n",
       "      <th>25%</th>\n",
       "      <td>0.000000</td>\n",
       "      <td>0.000000</td>\n",
       "      <td>0.000000</td>\n",
       "      <td>1.000000</td>\n",
       "      <td>-9.593133e-01</td>\n",
       "      <td>-6.541427e-01</td>\n",
       "      <td>-8.498113e-01</td>\n",
       "      <td>-6.437820e-01</td>\n",
       "      <td>-9.190300e-01</td>\n",
       "      <td>-5.896898e-01</td>\n",
       "    </tr>\n",
       "    <tr>\n",
       "      <th>50%</th>\n",
       "      <td>0.000000</td>\n",
       "      <td>0.000000</td>\n",
       "      <td>0.000000</td>\n",
       "      <td>1.000000</td>\n",
       "      <td>-1.027836e-01</td>\n",
       "      <td>4.003371e-02</td>\n",
       "      <td>9.143539e-02</td>\n",
       "      <td>-4.085798e-01</td>\n",
       "      <td>-1.928035e-02</td>\n",
       "      <td>-5.896898e-01</td>\n",
       "    </tr>\n",
       "    <tr>\n",
       "      <th>75%</th>\n",
       "      <td>0.250000</td>\n",
       "      <td>0.000000</td>\n",
       "      <td>0.000000</td>\n",
       "      <td>1.000000</td>\n",
       "      <td>1.039256e+00</td>\n",
       "      <td>5.682114e-01</td>\n",
       "      <td>5.620587e-01</td>\n",
       "      <td>1.002633e+00</td>\n",
       "      <td>8.804693e-01</td>\n",
       "      <td>2.684866e-01</td>\n",
       "    </tr>\n",
       "    <tr>\n",
       "      <th>max</th>\n",
       "      <td>1.000000</td>\n",
       "      <td>1.000000</td>\n",
       "      <td>1.000000</td>\n",
       "      <td>1.000000</td>\n",
       "      <td>1.610276e+00</td>\n",
       "      <td>2.499833e+00</td>\n",
       "      <td>3.385799e+00</td>\n",
       "      <td>2.649049e+00</td>\n",
       "      <td>2.679969e+00</td>\n",
       "      <td>6.275721e+00</td>\n",
       "    </tr>\n",
       "  </tbody>\n",
       "</table>\n",
       "</div>"
      ],
      "text/plain": [
       "         Reason_1    Reason_2    Reason_3    Reason_4   Month Value  \\\n",
       "count  700.000000  700.000000  700.000000  700.000000  7.000000e+02   \n",
       "mean     0.250000    0.008571    0.090000    0.945714 -8.120488e-17   \n",
       "std      0.433322    0.092250    0.286386    0.226743  1.000715e+00   \n",
       "min      0.000000    0.000000    0.000000    0.000000 -1.530333e+00   \n",
       "25%      0.000000    0.000000    0.000000    1.000000 -9.593133e-01   \n",
       "50%      0.000000    0.000000    0.000000    1.000000 -1.027836e-01   \n",
       "75%      0.250000    0.000000    0.000000    1.000000  1.039256e+00   \n",
       "max      1.000000    1.000000    1.000000    1.000000  1.610276e+00   \n",
       "\n",
       "       Transportation Expense           Age  Body Mass Index      Children  \\\n",
       "count            7.000000e+02  7.000000e+02     7.000000e+02  7.000000e+02   \n",
       "mean            -2.131628e-16  1.319579e-16     1.446462e-16  9.135549e-17   \n",
       "std              1.000715e+00  1.000715e+00     1.000715e+00  1.000715e+00   \n",
       "min             -1.574681e+00 -1.477309e+00    -1.819793e+00 -9.190300e-01   \n",
       "25%             -6.541427e-01 -8.498113e-01    -6.437820e-01 -9.190300e-01   \n",
       "50%              4.003371e-02  9.143539e-02    -4.085798e-01 -1.928035e-02   \n",
       "75%              5.682114e-01  5.620587e-01     1.002633e+00  8.804693e-01   \n",
       "max              2.499833e+00  3.385799e+00     2.649049e+00  2.679969e+00   \n",
       "\n",
       "               Pets  \n",
       "count  7.000000e+02  \n",
       "mean  -1.268826e-17  \n",
       "std    1.000715e+00  \n",
       "min   -5.896898e-01  \n",
       "25%   -5.896898e-01  \n",
       "50%   -5.896898e-01  \n",
       "75%    2.684866e-01  \n",
       "max    6.275721e+00  "
      ]
     },
     "execution_count": 8,
     "metadata": {},
     "output_type": "execute_result"
    }
   ],
   "source": [
    "from sklearn.preprocessing import StandardScaler\n",
    "absenteeism_scaler = StandardScaler()\n",
    "absenteeism_scaler.fit(unscaled_inputs[tobe_scaled_cols])\n",
    "scaled_inputs = absenteeism_scaler.transform(unscaled_inputs[tobe_scaled_cols])\n",
    "scaled_inputs_df = pd.DataFrame(data=scaled_inputs, columns=tobe_scaled_cols)\n",
    "scaled_inputs_df = pd.concat([unscaled_inputs[dummy_cols], scaled_inputs_df], axis=1)\n",
    "scaled_inputs_df.describe()"
   ]
  },
  {
   "cell_type": "code",
   "execution_count": 9,
   "metadata": {},
   "outputs": [
    {
     "data": {
      "text/plain": [
       "(700, 10)"
      ]
     },
     "execution_count": 9,
     "metadata": {},
     "output_type": "execute_result"
    }
   ],
   "source": [
    "scaled_inputs_df.shape"
   ]
  },
  {
   "attachments": {},
   "cell_type": "markdown",
   "metadata": {},
   "source": [
    "#### Divide the data into train, validation and test\n",
    "* Instead of manual shuffle and manual division, this time we use sklearn ready function"
   ]
  },
  {
   "cell_type": "code",
   "execution_count": 10,
   "metadata": {},
   "outputs": [],
   "source": [
    "from sklearn.model_selection import train_test_split\n",
    "x_train, test_input, y_train, test_target = train_test_split(scaled_inputs_df, targets, train_size=0.8, random_state=20)\n",
    "unscaled_x_train, unscaled_test_input, unscaled_y_train, unscaled_test_target = train_test_split(unscaled_inputs, targets, train_size=0.8, random_state=20)"
   ]
  },
  {
   "cell_type": "code",
   "execution_count": 11,
   "metadata": {},
   "outputs": [
    {
     "name": "stdout",
     "output_type": "stream",
     "text": [
      "(560, 10)\n",
      "(560,)\n",
      "(140, 10)\n",
      "(140,)\n"
     ]
    }
   ],
   "source": [
    "print(x_train.shape)\n",
    "print(y_train.shape)\n",
    "print(test_input.shape)\n",
    "print(test_target.shape)"
   ]
  },
  {
   "attachments": {},
   "cell_type": "markdown",
   "metadata": {},
   "source": [
    "### Creating the Model with sklearn"
   ]
  },
  {
   "cell_type": "code",
   "execution_count": 12,
   "metadata": {},
   "outputs": [],
   "source": [
    "from sklearn.linear_model import LogisticRegression\n",
    "from sklearn import metrics"
   ]
  },
  {
   "attachments": {},
   "cell_type": "markdown",
   "metadata": {},
   "source": [
    "#### Create the model"
   ]
  },
  {
   "cell_type": "code",
   "execution_count": 13,
   "metadata": {},
   "outputs": [],
   "source": [
    "reg = LogisticRegression()"
   ]
  },
  {
   "attachments": {},
   "cell_type": "markdown",
   "metadata": {},
   "source": [
    "#### Fit the model"
   ]
  },
  {
   "cell_type": "code",
   "execution_count": 14,
   "metadata": {},
   "outputs": [
    {
     "data": {
      "text/html": [
       "<style>#sk-container-id-1 {color: black;background-color: white;}#sk-container-id-1 pre{padding: 0;}#sk-container-id-1 div.sk-toggleable {background-color: white;}#sk-container-id-1 label.sk-toggleable__label {cursor: pointer;display: block;width: 100%;margin-bottom: 0;padding: 0.3em;box-sizing: border-box;text-align: center;}#sk-container-id-1 label.sk-toggleable__label-arrow:before {content: \"▸\";float: left;margin-right: 0.25em;color: #696969;}#sk-container-id-1 label.sk-toggleable__label-arrow:hover:before {color: black;}#sk-container-id-1 div.sk-estimator:hover label.sk-toggleable__label-arrow:before {color: black;}#sk-container-id-1 div.sk-toggleable__content {max-height: 0;max-width: 0;overflow: hidden;text-align: left;background-color: #f0f8ff;}#sk-container-id-1 div.sk-toggleable__content pre {margin: 0.2em;color: black;border-radius: 0.25em;background-color: #f0f8ff;}#sk-container-id-1 input.sk-toggleable__control:checked~div.sk-toggleable__content {max-height: 200px;max-width: 100%;overflow: auto;}#sk-container-id-1 input.sk-toggleable__control:checked~label.sk-toggleable__label-arrow:before {content: \"▾\";}#sk-container-id-1 div.sk-estimator input.sk-toggleable__control:checked~label.sk-toggleable__label {background-color: #d4ebff;}#sk-container-id-1 div.sk-label input.sk-toggleable__control:checked~label.sk-toggleable__label {background-color: #d4ebff;}#sk-container-id-1 input.sk-hidden--visually {border: 0;clip: rect(1px 1px 1px 1px);clip: rect(1px, 1px, 1px, 1px);height: 1px;margin: -1px;overflow: hidden;padding: 0;position: absolute;width: 1px;}#sk-container-id-1 div.sk-estimator {font-family: monospace;background-color: #f0f8ff;border: 1px dotted black;border-radius: 0.25em;box-sizing: border-box;margin-bottom: 0.5em;}#sk-container-id-1 div.sk-estimator:hover {background-color: #d4ebff;}#sk-container-id-1 div.sk-parallel-item::after {content: \"\";width: 100%;border-bottom: 1px solid gray;flex-grow: 1;}#sk-container-id-1 div.sk-label:hover label.sk-toggleable__label {background-color: #d4ebff;}#sk-container-id-1 div.sk-serial::before {content: \"\";position: absolute;border-left: 1px solid gray;box-sizing: border-box;top: 0;bottom: 0;left: 50%;z-index: 0;}#sk-container-id-1 div.sk-serial {display: flex;flex-direction: column;align-items: center;background-color: white;padding-right: 0.2em;padding-left: 0.2em;position: relative;}#sk-container-id-1 div.sk-item {position: relative;z-index: 1;}#sk-container-id-1 div.sk-parallel {display: flex;align-items: stretch;justify-content: center;background-color: white;position: relative;}#sk-container-id-1 div.sk-item::before, #sk-container-id-1 div.sk-parallel-item::before {content: \"\";position: absolute;border-left: 1px solid gray;box-sizing: border-box;top: 0;bottom: 0;left: 50%;z-index: -1;}#sk-container-id-1 div.sk-parallel-item {display: flex;flex-direction: column;z-index: 1;position: relative;background-color: white;}#sk-container-id-1 div.sk-parallel-item:first-child::after {align-self: flex-end;width: 50%;}#sk-container-id-1 div.sk-parallel-item:last-child::after {align-self: flex-start;width: 50%;}#sk-container-id-1 div.sk-parallel-item:only-child::after {width: 0;}#sk-container-id-1 div.sk-dashed-wrapped {border: 1px dashed gray;margin: 0 0.4em 0.5em 0.4em;box-sizing: border-box;padding-bottom: 0.4em;background-color: white;}#sk-container-id-1 div.sk-label label {font-family: monospace;font-weight: bold;display: inline-block;line-height: 1.2em;}#sk-container-id-1 div.sk-label-container {text-align: center;}#sk-container-id-1 div.sk-container {/* jupyter's `normalize.less` sets `[hidden] { display: none; }` but bootstrap.min.css set `[hidden] { display: none !important; }` so we also need the `!important` here to be able to override the default hidden behavior on the sphinx rendered scikit-learn.org. See: https://github.com/scikit-learn/scikit-learn/issues/21755 */display: inline-block !important;position: relative;}#sk-container-id-1 div.sk-text-repr-fallback {display: none;}</style><div id=\"sk-container-id-1\" class=\"sk-top-container\"><div class=\"sk-text-repr-fallback\"><pre>LogisticRegression()</pre><b>In a Jupyter environment, please rerun this cell to show the HTML representation or trust the notebook. <br />On GitHub, the HTML representation is unable to render, please try loading this page with nbviewer.org.</b></div><div class=\"sk-container\" hidden><div class=\"sk-item\"><div class=\"sk-estimator sk-toggleable\"><input class=\"sk-toggleable__control sk-hidden--visually\" id=\"sk-estimator-id-1\" type=\"checkbox\" checked><label for=\"sk-estimator-id-1\" class=\"sk-toggleable__label sk-toggleable__label-arrow\">LogisticRegression</label><div class=\"sk-toggleable__content\"><pre>LogisticRegression()</pre></div></div></div></div></div>"
      ],
      "text/plain": [
       "LogisticRegression()"
      ]
     },
     "execution_count": 14,
     "metadata": {},
     "output_type": "execute_result"
    }
   ],
   "source": [
    "reg.fit(x_train, y_train)"
   ]
  },
  {
   "attachments": {},
   "cell_type": "markdown",
   "metadata": {},
   "source": [
    "#### Show the accuracy of the model"
   ]
  },
  {
   "cell_type": "code",
   "execution_count": 15,
   "metadata": {},
   "outputs": [
    {
     "data": {
      "text/plain": [
       "0.7875"
      ]
     },
     "execution_count": 15,
     "metadata": {},
     "output_type": "execute_result"
    }
   ],
   "source": [
    "reg.score(x_train, y_train)"
   ]
  },
  {
   "cell_type": "code",
   "execution_count": 16,
   "metadata": {},
   "outputs": [],
   "source": [
    "# reg.score(test_input, test_target)"
   ]
  },
  {
   "attachments": {},
   "cell_type": "markdown",
   "metadata": {},
   "source": [
    "#### Manually check the accuracy"
   ]
  },
  {
   "cell_type": "code",
   "execution_count": 17,
   "metadata": {},
   "outputs": [
    {
     "data": {
      "text/plain": [
       "array([0, 1, 1, 1, 1, 0, 0, 1, 0, 1, 1, 1, 0, 1, 0, 0, 0, 0, 0, 1, 1, 0,\n",
       "       0, 0, 0, 0, 0, 1, 1, 0, 0, 1, 0, 1, 0, 0, 0, 0, 0, 0, 1, 0, 1, 1,\n",
       "       1, 0, 0, 0, 1, 1, 1, 1, 0, 0, 0, 1, 1, 0, 0, 0, 0, 0, 1, 0, 0, 0,\n",
       "       0, 1, 0, 0, 0, 1, 1, 0, 0, 0, 1, 0, 0, 1, 1, 1, 0, 0, 0, 1, 1, 0,\n",
       "       0, 1, 0, 0, 1, 0, 0, 0, 0, 1, 0, 1, 1, 1, 1, 0, 1, 1, 0, 0, 1, 0,\n",
       "       0, 1, 0, 1, 1, 0, 0, 0, 1, 1, 1, 1, 1, 0, 0, 1, 0, 1, 0, 0, 1, 0,\n",
       "       0, 0, 0, 0, 1, 0, 0, 0, 0, 0, 1, 1, 1, 0, 0, 1, 0, 1, 0, 0, 1, 1,\n",
       "       1, 1, 0, 1, 0, 0, 1, 0, 1, 0, 0, 1, 1, 0, 1, 1, 0, 0, 0, 0, 1, 0,\n",
       "       0, 0, 0, 0, 1, 0, 0, 1, 1, 0, 0, 1, 0, 0, 1, 1, 1, 0, 0, 0, 0, 1,\n",
       "       1, 0, 0, 1, 1, 1, 0, 0, 1, 0, 0, 0, 1, 1, 1, 0, 0, 0, 0, 0, 0, 1,\n",
       "       1, 0, 0, 0, 1, 0, 0, 1, 1, 0, 0, 1, 1, 0, 0, 1, 1, 0, 0, 1, 0, 1,\n",
       "       0, 0, 1, 0, 1, 1, 1, 0, 1, 0, 1, 0, 1, 0, 1, 1, 1, 1, 1, 1, 1, 1,\n",
       "       0, 0, 1, 0, 0, 0, 1, 1, 0, 0, 1, 0, 1, 0, 0, 1, 0, 0, 1, 0, 1, 0,\n",
       "       0, 0, 1, 0, 0, 0, 0, 1, 1, 1, 1, 1, 1, 1, 0, 0, 0, 0, 0, 1, 0, 0,\n",
       "       1, 0, 0, 0, 1, 0, 1, 0, 1, 1, 0, 0, 0, 0, 1, 1, 0, 1, 0, 0, 1, 1,\n",
       "       1, 0, 1, 0, 0, 1, 1, 0, 0, 0, 0, 0, 0, 0, 0, 1, 1, 1, 0, 0, 0, 1,\n",
       "       0, 0, 1, 0, 1, 1, 0, 0, 1, 0, 1, 1, 1, 0, 0, 0, 0, 1, 1, 1, 0, 0,\n",
       "       1, 1, 1, 1, 0, 0, 1, 1, 0, 1, 0, 1, 1, 1, 0, 1, 0, 1, 0, 0, 0, 0,\n",
       "       0, 0, 0, 0, 0, 1, 1, 0, 1, 1, 1, 1, 0, 0, 0, 1, 1, 0, 1, 1, 1, 0,\n",
       "       0, 0, 0, 1, 1, 0, 1, 0, 0, 1, 0, 0, 1, 0, 1, 1, 1, 0, 0, 1, 1, 0,\n",
       "       0, 0, 0, 1, 0, 0, 0, 0, 0, 1, 1, 1, 1, 0, 1, 1, 0, 0, 0, 0, 0, 0,\n",
       "       0, 1, 0, 0, 0, 0, 1, 0, 0, 0, 1, 0, 1, 1, 0, 0, 1, 0, 0, 1, 0, 0,\n",
       "       0, 1, 0, 0, 0, 1, 0, 0, 1, 0, 0, 0, 0, 1, 0, 0, 1, 0, 1, 0, 0, 1,\n",
       "       0, 1, 1, 1, 1, 0, 0, 0, 1, 1, 1, 1, 0, 0, 1, 1, 0, 0, 1, 0, 1, 1,\n",
       "       0, 1, 1, 0, 1, 1, 1, 0, 0, 0, 1, 1, 1, 1, 1, 1, 0, 1, 1, 0, 0, 0,\n",
       "       0, 1, 0, 1, 1, 1, 0, 0, 1, 0])"
      ]
     },
     "execution_count": 17,
     "metadata": {},
     "output_type": "execute_result"
    }
   ],
   "source": [
    "model_outputs = reg.predict(x_train)\n",
    "model_outputs"
   ]
  },
  {
   "cell_type": "code",
   "execution_count": 18,
   "metadata": {},
   "outputs": [
    {
     "data": {
      "text/plain": [
       "346     True\n",
       "91      True\n",
       "299     True\n",
       "129     True\n",
       "695     True\n",
       "       ...  \n",
       "218     True\n",
       "223    False\n",
       "271     True\n",
       "474     True\n",
       "355     True\n",
       "Name: Absenteeism Time in Hours, Length: 560, dtype: bool"
      ]
     },
     "execution_count": 18,
     "metadata": {},
     "output_type": "execute_result"
    }
   ],
   "source": [
    "model_outputs == y_train"
   ]
  },
  {
   "cell_type": "code",
   "execution_count": 19,
   "metadata": {},
   "outputs": [
    {
     "data": {
      "text/plain": [
       "441"
      ]
     },
     "execution_count": 19,
     "metadata": {},
     "output_type": "execute_result"
    }
   ],
   "source": [
    "np.sum(model_outputs == y_train)"
   ]
  },
  {
   "cell_type": "code",
   "execution_count": 20,
   "metadata": {},
   "outputs": [
    {
     "data": {
      "text/plain": [
       "560"
      ]
     },
     "execution_count": 20,
     "metadata": {},
     "output_type": "execute_result"
    }
   ],
   "source": [
    "model_outputs.shape[0]"
   ]
  },
  {
   "cell_type": "code",
   "execution_count": 21,
   "metadata": {},
   "outputs": [
    {
     "data": {
      "text/plain": [
       "0.7875"
      ]
     },
     "execution_count": 21,
     "metadata": {},
     "output_type": "execute_result"
    }
   ],
   "source": [
    "np.sum(model_outputs == y_train)/model_outputs.shape[0]"
   ]
  },
  {
   "attachments": {},
   "cell_type": "markdown",
   "metadata": {},
   "source": [
    "### We can now extract the logistic regression equation from the model and use it to prediction outside here"
   ]
  },
  {
   "attachments": {},
   "cell_type": "markdown",
   "metadata": {},
   "source": [
    "#### Finding the intercept and coefficients"
   ]
  },
  {
   "cell_type": "code",
   "execution_count": 22,
   "metadata": {},
   "outputs": [
    {
     "data": {
      "text/plain": [
       "array([-3.25788969])"
      ]
     },
     "execution_count": 22,
     "metadata": {},
     "output_type": "execute_result"
    }
   ],
   "source": [
    "reg.intercept_"
   ]
  },
  {
   "cell_type": "code",
   "execution_count": 23,
   "metadata": {},
   "outputs": [
    {
     "data": {
      "text/plain": [
       "array([[ 1.96597815,  0.41796175,  2.33752272,  2.46025606,  0.18566673,\n",
       "         0.65722913, -0.17543728,  0.34024856,  0.38920252, -0.29346415]])"
      ]
     },
     "execution_count": 23,
     "metadata": {},
     "output_type": "execute_result"
    }
   ],
   "source": [
    "reg.coef_"
   ]
  },
  {
   "cell_type": "code",
   "execution_count": 24,
   "metadata": {},
   "outputs": [
    {
     "data": {
      "text/plain": [
       "array(['Reason_1', 'Reason_2', 'Reason_3', 'Reason_4', 'Month Value',\n",
       "       'Transportation Expense', 'Age', 'Body Mass Index', 'Children',\n",
       "       'Pets'], dtype=object)"
      ]
     },
     "execution_count": 24,
     "metadata": {},
     "output_type": "execute_result"
    }
   ],
   "source": [
    "scaled_inputs_df.columns.values"
   ]
  },
  {
   "cell_type": "code",
   "execution_count": 25,
   "metadata": {},
   "outputs": [],
   "source": [
    "feature_name = scaled_inputs_df.columns.values"
   ]
  },
  {
   "cell_type": "code",
   "execution_count": 26,
   "metadata": {},
   "outputs": [
    {
     "data": {
      "text/html": [
       "<div>\n",
       "<style scoped>\n",
       "    .dataframe tbody tr th:only-of-type {\n",
       "        vertical-align: middle;\n",
       "    }\n",
       "\n",
       "    .dataframe tbody tr th {\n",
       "        vertical-align: top;\n",
       "    }\n",
       "\n",
       "    .dataframe thead th {\n",
       "        text-align: right;\n",
       "    }\n",
       "</style>\n",
       "<table border=\"1\" class=\"dataframe\">\n",
       "  <thead>\n",
       "    <tr style=\"text-align: right;\">\n",
       "      <th></th>\n",
       "      <th>Feature name</th>\n",
       "      <th>Coefficient</th>\n",
       "    </tr>\n",
       "  </thead>\n",
       "  <tbody>\n",
       "    <tr>\n",
       "      <th>0</th>\n",
       "      <td>Reason_1</td>\n",
       "      <td>1.965978</td>\n",
       "    </tr>\n",
       "    <tr>\n",
       "      <th>1</th>\n",
       "      <td>Reason_2</td>\n",
       "      <td>0.417962</td>\n",
       "    </tr>\n",
       "    <tr>\n",
       "      <th>2</th>\n",
       "      <td>Reason_3</td>\n",
       "      <td>2.337523</td>\n",
       "    </tr>\n",
       "    <tr>\n",
       "      <th>3</th>\n",
       "      <td>Reason_4</td>\n",
       "      <td>2.460256</td>\n",
       "    </tr>\n",
       "    <tr>\n",
       "      <th>4</th>\n",
       "      <td>Month Value</td>\n",
       "      <td>0.185667</td>\n",
       "    </tr>\n",
       "    <tr>\n",
       "      <th>5</th>\n",
       "      <td>Transportation Expense</td>\n",
       "      <td>0.657229</td>\n",
       "    </tr>\n",
       "    <tr>\n",
       "      <th>6</th>\n",
       "      <td>Age</td>\n",
       "      <td>-0.175437</td>\n",
       "    </tr>\n",
       "    <tr>\n",
       "      <th>7</th>\n",
       "      <td>Body Mass Index</td>\n",
       "      <td>0.340249</td>\n",
       "    </tr>\n",
       "    <tr>\n",
       "      <th>8</th>\n",
       "      <td>Children</td>\n",
       "      <td>0.389203</td>\n",
       "    </tr>\n",
       "    <tr>\n",
       "      <th>9</th>\n",
       "      <td>Pets</td>\n",
       "      <td>-0.293464</td>\n",
       "    </tr>\n",
       "  </tbody>\n",
       "</table>\n",
       "</div>"
      ],
      "text/plain": [
       "             Feature name  Coefficient\n",
       "0                Reason_1     1.965978\n",
       "1                Reason_2     0.417962\n",
       "2                Reason_3     2.337523\n",
       "3                Reason_4     2.460256\n",
       "4             Month Value     0.185667\n",
       "5  Transportation Expense     0.657229\n",
       "6                     Age    -0.175437\n",
       "7         Body Mass Index     0.340249\n",
       "8                Children     0.389203\n",
       "9                    Pets    -0.293464"
      ]
     },
     "execution_count": 26,
     "metadata": {},
     "output_type": "execute_result"
    }
   ],
   "source": [
    "summary_table = pd.DataFrame(columns=['Feature name'], data=feature_name)\n",
    "summary_table['Coefficient'] = np.transpose(reg.coef_)\n",
    "summary_table"
   ]
  },
  {
   "attachments": {},
   "cell_type": "markdown",
   "metadata": {},
   "source": [
    "#### intercept\n",
    "* we would like to put the intercept at the beginning of the dataframe\n",
    "* we can shift the index by one, and then add the new row at location 0\n",
    "* after than sort the dataframe by index again"
   ]
  },
  {
   "cell_type": "code",
   "execution_count": 27,
   "metadata": {},
   "outputs": [
    {
     "data": {
      "text/html": [
       "<div>\n",
       "<style scoped>\n",
       "    .dataframe tbody tr th:only-of-type {\n",
       "        vertical-align: middle;\n",
       "    }\n",
       "\n",
       "    .dataframe tbody tr th {\n",
       "        vertical-align: top;\n",
       "    }\n",
       "\n",
       "    .dataframe thead th {\n",
       "        text-align: right;\n",
       "    }\n",
       "</style>\n",
       "<table border=\"1\" class=\"dataframe\">\n",
       "  <thead>\n",
       "    <tr style=\"text-align: right;\">\n",
       "      <th></th>\n",
       "      <th>Feature name</th>\n",
       "      <th>Coefficient</th>\n",
       "    </tr>\n",
       "  </thead>\n",
       "  <tbody>\n",
       "    <tr>\n",
       "      <th>0</th>\n",
       "      <td>Intercept</td>\n",
       "      <td>-3.257890</td>\n",
       "    </tr>\n",
       "    <tr>\n",
       "      <th>1</th>\n",
       "      <td>Reason_1</td>\n",
       "      <td>1.965978</td>\n",
       "    </tr>\n",
       "    <tr>\n",
       "      <th>2</th>\n",
       "      <td>Reason_2</td>\n",
       "      <td>0.417962</td>\n",
       "    </tr>\n",
       "    <tr>\n",
       "      <th>3</th>\n",
       "      <td>Reason_3</td>\n",
       "      <td>2.337523</td>\n",
       "    </tr>\n",
       "    <tr>\n",
       "      <th>4</th>\n",
       "      <td>Reason_4</td>\n",
       "      <td>2.460256</td>\n",
       "    </tr>\n",
       "    <tr>\n",
       "      <th>5</th>\n",
       "      <td>Month Value</td>\n",
       "      <td>0.185667</td>\n",
       "    </tr>\n",
       "    <tr>\n",
       "      <th>6</th>\n",
       "      <td>Transportation Expense</td>\n",
       "      <td>0.657229</td>\n",
       "    </tr>\n",
       "    <tr>\n",
       "      <th>7</th>\n",
       "      <td>Age</td>\n",
       "      <td>-0.175437</td>\n",
       "    </tr>\n",
       "    <tr>\n",
       "      <th>8</th>\n",
       "      <td>Body Mass Index</td>\n",
       "      <td>0.340249</td>\n",
       "    </tr>\n",
       "    <tr>\n",
       "      <th>9</th>\n",
       "      <td>Children</td>\n",
       "      <td>0.389203</td>\n",
       "    </tr>\n",
       "    <tr>\n",
       "      <th>10</th>\n",
       "      <td>Pets</td>\n",
       "      <td>-0.293464</td>\n",
       "    </tr>\n",
       "  </tbody>\n",
       "</table>\n",
       "</div>"
      ],
      "text/plain": [
       "              Feature name  Coefficient\n",
       "0                Intercept    -3.257890\n",
       "1                 Reason_1     1.965978\n",
       "2                 Reason_2     0.417962\n",
       "3                 Reason_3     2.337523\n",
       "4                 Reason_4     2.460256\n",
       "5              Month Value     0.185667\n",
       "6   Transportation Expense     0.657229\n",
       "7                      Age    -0.175437\n",
       "8          Body Mass Index     0.340249\n",
       "9                 Children     0.389203\n",
       "10                    Pets    -0.293464"
      ]
     },
     "execution_count": 27,
     "metadata": {},
     "output_type": "execute_result"
    }
   ],
   "source": [
    "summary_table.index = summary_table.index + 1\n",
    "summary_table.loc[0] = ['Intercept', reg.intercept_[0]]\n",
    "summary_table.sort_index(inplace=True)\n",
    "summary_table"
   ]
  },
  {
   "attachments": {},
   "cell_type": "markdown",
   "metadata": {},
   "source": [
    "#### Calculate the odds_ratio for each feature\n",
    "* since the equation is logistic regression, we use log function. log(odds) = intercept + b1x1 + b2x2 ..\n",
    "* the odds_ratio for each variable means to add exponential to both sides of the equation\n",
    "* odds_ration = e^intercept + e^b1x1 + ..."
   ]
  },
  {
   "cell_type": "code",
   "execution_count": 28,
   "metadata": {},
   "outputs": [
    {
     "data": {
      "text/html": [
       "<div>\n",
       "<style scoped>\n",
       "    .dataframe tbody tr th:only-of-type {\n",
       "        vertical-align: middle;\n",
       "    }\n",
       "\n",
       "    .dataframe tbody tr th {\n",
       "        vertical-align: top;\n",
       "    }\n",
       "\n",
       "    .dataframe thead th {\n",
       "        text-align: right;\n",
       "    }\n",
       "</style>\n",
       "<table border=\"1\" class=\"dataframe\">\n",
       "  <thead>\n",
       "    <tr style=\"text-align: right;\">\n",
       "      <th></th>\n",
       "      <th>Feature name</th>\n",
       "      <th>Coefficient</th>\n",
       "      <th>odds_ratio</th>\n",
       "    </tr>\n",
       "  </thead>\n",
       "  <tbody>\n",
       "    <tr>\n",
       "      <th>4</th>\n",
       "      <td>Reason_4</td>\n",
       "      <td>2.460256</td>\n",
       "      <td>11.707809</td>\n",
       "    </tr>\n",
       "    <tr>\n",
       "      <th>3</th>\n",
       "      <td>Reason_3</td>\n",
       "      <td>2.337523</td>\n",
       "      <td>10.355551</td>\n",
       "    </tr>\n",
       "    <tr>\n",
       "      <th>1</th>\n",
       "      <td>Reason_1</td>\n",
       "      <td>1.965978</td>\n",
       "      <td>7.141895</td>\n",
       "    </tr>\n",
       "    <tr>\n",
       "      <th>6</th>\n",
       "      <td>Transportation Expense</td>\n",
       "      <td>0.657229</td>\n",
       "      <td>1.929439</td>\n",
       "    </tr>\n",
       "    <tr>\n",
       "      <th>2</th>\n",
       "      <td>Reason_2</td>\n",
       "      <td>0.417962</td>\n",
       "      <td>1.518863</td>\n",
       "    </tr>\n",
       "    <tr>\n",
       "      <th>9</th>\n",
       "      <td>Children</td>\n",
       "      <td>0.389203</td>\n",
       "      <td>1.475803</td>\n",
       "    </tr>\n",
       "    <tr>\n",
       "      <th>8</th>\n",
       "      <td>Body Mass Index</td>\n",
       "      <td>0.340249</td>\n",
       "      <td>1.405297</td>\n",
       "    </tr>\n",
       "    <tr>\n",
       "      <th>5</th>\n",
       "      <td>Month Value</td>\n",
       "      <td>0.185667</td>\n",
       "      <td>1.204021</td>\n",
       "    </tr>\n",
       "    <tr>\n",
       "      <th>7</th>\n",
       "      <td>Age</td>\n",
       "      <td>-0.175437</td>\n",
       "      <td>0.839090</td>\n",
       "    </tr>\n",
       "    <tr>\n",
       "      <th>10</th>\n",
       "      <td>Pets</td>\n",
       "      <td>-0.293464</td>\n",
       "      <td>0.745676</td>\n",
       "    </tr>\n",
       "    <tr>\n",
       "      <th>0</th>\n",
       "      <td>Intercept</td>\n",
       "      <td>-3.257890</td>\n",
       "      <td>0.038469</td>\n",
       "    </tr>\n",
       "  </tbody>\n",
       "</table>\n",
       "</div>"
      ],
      "text/plain": [
       "              Feature name  Coefficient  odds_ratio\n",
       "4                 Reason_4     2.460256   11.707809\n",
       "3                 Reason_3     2.337523   10.355551\n",
       "1                 Reason_1     1.965978    7.141895\n",
       "6   Transportation Expense     0.657229    1.929439\n",
       "2                 Reason_2     0.417962    1.518863\n",
       "9                 Children     0.389203    1.475803\n",
       "8          Body Mass Index     0.340249    1.405297\n",
       "5              Month Value     0.185667    1.204021\n",
       "7                      Age    -0.175437    0.839090\n",
       "10                    Pets    -0.293464    0.745676\n",
       "0                Intercept    -3.257890    0.038469"
      ]
     },
     "execution_count": 28,
     "metadata": {},
     "output_type": "execute_result"
    }
   ],
   "source": [
    "summary_table['odds_ratio'] = np.exp(summary_table['Coefficient'])\n",
    "summary_table.sort_values(by= 'odds_ratio', ascending=False)\n",
    "# Whenever a person states absence, we have a higher chance of getting excessive absence"
   ]
  },
  {
   "attachments": {},
   "cell_type": "markdown",
   "metadata": {},
   "source": [
    "#### a second model with unscaled inputs\n",
    "* this model is easier to interpret but it loses accuracy"
   ]
  },
  {
   "cell_type": "code",
   "execution_count": 29,
   "metadata": {},
   "outputs": [
    {
     "data": {
      "text/plain": [
       "0.7875"
      ]
     },
     "execution_count": 29,
     "metadata": {},
     "output_type": "execute_result"
    }
   ],
   "source": [
    "reg_unscaled = LogisticRegression(max_iter=10000)\n",
    "reg_unscaled.fit(unscaled_x_train, unscaled_y_train)\n",
    "reg_unscaled.score(unscaled_x_train, unscaled_y_train)\n"
   ]
  },
  {
   "cell_type": "code",
   "execution_count": 30,
   "metadata": {},
   "outputs": [
    {
     "data": {
      "text/html": [
       "<div>\n",
       "<style scoped>\n",
       "    .dataframe tbody tr th:only-of-type {\n",
       "        vertical-align: middle;\n",
       "    }\n",
       "\n",
       "    .dataframe tbody tr th {\n",
       "        vertical-align: top;\n",
       "    }\n",
       "\n",
       "    .dataframe thead th {\n",
       "        text-align: right;\n",
       "    }\n",
       "</style>\n",
       "<table border=\"1\" class=\"dataframe\">\n",
       "  <thead>\n",
       "    <tr style=\"text-align: right;\">\n",
       "      <th></th>\n",
       "      <th>Feature name</th>\n",
       "      <th>Coefficient</th>\n",
       "      <th>odds_ratio</th>\n",
       "    </tr>\n",
       "  </thead>\n",
       "  <tbody>\n",
       "    <tr>\n",
       "      <th>4</th>\n",
       "      <td>Reason_4</td>\n",
       "      <td>2.470408</td>\n",
       "      <td>11.827272</td>\n",
       "    </tr>\n",
       "    <tr>\n",
       "      <th>3</th>\n",
       "      <td>Reason_3</td>\n",
       "      <td>2.373264</td>\n",
       "      <td>10.732367</td>\n",
       "    </tr>\n",
       "    <tr>\n",
       "      <th>1</th>\n",
       "      <td>Reason_1</td>\n",
       "      <td>1.968642</td>\n",
       "      <td>7.160946</td>\n",
       "    </tr>\n",
       "    <tr>\n",
       "      <th>2</th>\n",
       "      <td>Reason_2</td>\n",
       "      <td>0.511330</td>\n",
       "      <td>1.667508</td>\n",
       "    </tr>\n",
       "    <tr>\n",
       "      <th>9</th>\n",
       "      <td>Children</td>\n",
       "      <td>0.349377</td>\n",
       "      <td>1.418183</td>\n",
       "    </tr>\n",
       "    <tr>\n",
       "      <th>8</th>\n",
       "      <td>Body Mass Index</td>\n",
       "      <td>0.082077</td>\n",
       "      <td>1.085539</td>\n",
       "    </tr>\n",
       "    <tr>\n",
       "      <th>5</th>\n",
       "      <td>Month Value</td>\n",
       "      <td>0.053165</td>\n",
       "      <td>1.054604</td>\n",
       "    </tr>\n",
       "    <tr>\n",
       "      <th>6</th>\n",
       "      <td>Transportation Expense</td>\n",
       "      <td>0.010057</td>\n",
       "      <td>1.010108</td>\n",
       "    </tr>\n",
       "    <tr>\n",
       "      <th>7</th>\n",
       "      <td>Age</td>\n",
       "      <td>-0.028850</td>\n",
       "      <td>0.971562</td>\n",
       "    </tr>\n",
       "    <tr>\n",
       "      <th>10</th>\n",
       "      <td>Pets</td>\n",
       "      <td>-0.256107</td>\n",
       "      <td>0.774059</td>\n",
       "    </tr>\n",
       "    <tr>\n",
       "      <th>0</th>\n",
       "      <td>Intercept</td>\n",
       "      <td>-7.170722</td>\n",
       "      <td>0.000769</td>\n",
       "    </tr>\n",
       "  </tbody>\n",
       "</table>\n",
       "</div>"
      ],
      "text/plain": [
       "              Feature name  Coefficient  odds_ratio\n",
       "4                 Reason_4     2.470408   11.827272\n",
       "3                 Reason_3     2.373264   10.732367\n",
       "1                 Reason_1     1.968642    7.160946\n",
       "2                 Reason_2     0.511330    1.667508\n",
       "9                 Children     0.349377    1.418183\n",
       "8          Body Mass Index     0.082077    1.085539\n",
       "5              Month Value     0.053165    1.054604\n",
       "6   Transportation Expense     0.010057    1.010108\n",
       "7                      Age    -0.028850    0.971562\n",
       "10                    Pets    -0.256107    0.774059\n",
       "0                Intercept    -7.170722    0.000769"
      ]
     },
     "execution_count": 30,
     "metadata": {},
     "output_type": "execute_result"
    }
   ],
   "source": [
    "feature_name2 = unscaled_inputs.columns.values\n",
    "summary_table2 = pd.DataFrame(columns=['Feature name'], data=feature_name2)\n",
    "summary_table2['Coefficient'] = np.transpose(reg_unscaled.coef_)\n",
    "summary_table2.index = summary_table2.index + 1\n",
    "summary_table2.loc[0] = ['Intercept', reg_unscaled.intercept_[0]]\n",
    "summary_table2.sort_index(inplace=True)\n",
    "summary_table2['odds_ratio'] = np.exp(summary_table2['Coefficient'])\n",
    "summary_table2.sort_values(by= 'odds_ratio', ascending=False)"
   ]
  },
  {
   "attachments": {},
   "cell_type": "markdown",
   "metadata": {},
   "source": [
    "### Backward Elimination"
   ]
  },
  {
   "cell_type": "code",
   "execution_count": 31,
   "metadata": {},
   "outputs": [],
   "source": [
    "# DONE in this file :)"
   ]
  },
  {
   "attachments": {},
   "cell_type": "markdown",
   "metadata": {},
   "source": [
    "### Final step - TESTing the Model"
   ]
  },
  {
   "cell_type": "code",
   "execution_count": 32,
   "metadata": {},
   "outputs": [
    {
     "data": {
      "text/plain": [
       "0.7428571428571429"
      ]
     },
     "execution_count": 32,
     "metadata": {},
     "output_type": "execute_result"
    }
   ],
   "source": [
    "reg.score(test_input, test_target)"
   ]
  },
  {
   "attachments": {},
   "cell_type": "markdown",
   "metadata": {},
   "source": [
    "#### get the probability of assigning an x to a class"
   ]
  },
  {
   "cell_type": "code",
   "execution_count": 33,
   "metadata": {},
   "outputs": [
    {
     "data": {
      "text/plain": [
       "array([[0.70446357, 0.29553643],\n",
       "       [0.574614  , 0.425386  ],\n",
       "       [0.38709574, 0.61290426],\n",
       "       [0.78460757, 0.21539243],\n",
       "       [0.07556242, 0.92443758],\n",
       "       [0.33776813, 0.66223187],\n",
       "       [0.3018292 , 0.6981708 ],\n",
       "       [0.11274358, 0.88725642],\n",
       "       [0.79914929, 0.20085071],\n",
       "       [0.74662327, 0.25337673],\n",
       "       [0.46795698, 0.53204302],\n",
       "       [0.19658591, 0.80341409],\n",
       "       [0.06199265, 0.93800735],\n",
       "       [0.68384528, 0.31615472],\n",
       "       [0.30689931, 0.69310069],\n",
       "       [0.48675937, 0.51324063],\n",
       "       [0.534122  , 0.465878  ],\n",
       "       [0.5209105 , 0.4790895 ],\n",
       "       [0.41651613, 0.58348387],\n",
       "       [0.04233085, 0.95766915],\n",
       "       [0.70075358, 0.29924642],\n",
       "       [0.78460757, 0.21539243],\n",
       "       [0.4305104 , 0.5694896 ],\n",
       "       [0.4305104 , 0.5694896 ],\n",
       "       [0.24683468, 0.75316532],\n",
       "       [0.75323437, 0.24676563],\n",
       "       [0.49405402, 0.50594598],\n",
       "       [0.84746008, 0.15253992],\n",
       "       [0.18711318, 0.81288682],\n",
       "       [0.78460757, 0.21539243],\n",
       "       [0.62544864, 0.37455136],\n",
       "       [0.33380806, 0.66619194],\n",
       "       [0.31447606, 0.68552394],\n",
       "       [0.44167489, 0.55832511],\n",
       "       [0.78460757, 0.21539243],\n",
       "       [0.43748714, 0.56251286],\n",
       "       [0.79050567, 0.20949433],\n",
       "       [0.26288261, 0.73711739],\n",
       "       [0.56819846, 0.43180154],\n",
       "       [0.36859516, 0.63140484],\n",
       "       [0.79343094, 0.20656906],\n",
       "       [0.54312181, 0.45687819],\n",
       "       [0.77240772, 0.22759228],\n",
       "       [0.87236216, 0.12763784],\n",
       "       [0.15071221, 0.84928779],\n",
       "       [0.44343417, 0.55656583],\n",
       "       [0.31745023, 0.68254977],\n",
       "       [0.70446357, 0.29553643],\n",
       "       [0.79429166, 0.20570834],\n",
       "       [0.8019841 , 0.1980159 ],\n",
       "       [0.39886661, 0.60113339],\n",
       "       [0.88454712, 0.11545288],\n",
       "       [0.33776813, 0.66223187],\n",
       "       [0.73748417, 0.26251583],\n",
       "       [0.15905494, 0.84094506],\n",
       "       [0.54851739, 0.45148261],\n",
       "       [0.10453581, 0.89546419],\n",
       "       [0.77790055, 0.22209945],\n",
       "       [0.89155643, 0.10844357],\n",
       "       [0.88632388, 0.11367612],\n",
       "       [0.26509441, 0.73490559],\n",
       "       [0.34972541, 0.65027459],\n",
       "       [0.70732047, 0.29267953],\n",
       "       [0.20091034, 0.79908966],\n",
       "       [0.80097896, 0.19902104],\n",
       "       [0.72604813, 0.27395187],\n",
       "       [0.98325319, 0.01674681],\n",
       "       [0.79050567, 0.20949433],\n",
       "       [0.27159775, 0.72840225],\n",
       "       [0.63632787, 0.36367213],\n",
       "       [0.79050567, 0.20949433],\n",
       "       [0.92161711, 0.07838289],\n",
       "       [0.07737747, 0.92262253],\n",
       "       [0.50236404, 0.49763596],\n",
       "       [0.36136955, 0.63863045],\n",
       "       [0.78460757, 0.21539243],\n",
       "       [0.21251209, 0.78748791],\n",
       "       [0.22313531, 0.77686469],\n",
       "       [0.26133058, 0.73866942],\n",
       "       [0.33000566, 0.66999434],\n",
       "       [0.76295465, 0.23704535],\n",
       "       [0.98410954, 0.01589046],\n",
       "       [0.77790055, 0.22209945],\n",
       "       [0.24692332, 0.75307668],\n",
       "       [0.55202776, 0.44797224],\n",
       "       [0.87290104, 0.12709896],\n",
       "       [0.29208175, 0.70791825],\n",
       "       [0.4305104 , 0.5694896 ],\n",
       "       [0.937494  , 0.062506  ],\n",
       "       [0.33380806, 0.66619194],\n",
       "       [0.80544033, 0.19455967],\n",
       "       [0.85720028, 0.14279972],\n",
       "       [0.77551394, 0.22448606],\n",
       "       [0.72604813, 0.27395187],\n",
       "       [0.74662327, 0.25337673],\n",
       "       [0.14458435, 0.85541565],\n",
       "       [0.69330895, 0.30669105],\n",
       "       [0.23333193, 0.76666807],\n",
       "       [0.76709184, 0.23290816],\n",
       "       [0.75074547, 0.24925453],\n",
       "       [0.33727886, 0.66272114],\n",
       "       [0.33380806, 0.66619194],\n",
       "       [0.31561104, 0.68438896],\n",
       "       [0.21675048, 0.78324952],\n",
       "       [0.5156114 , 0.4843886 ],\n",
       "       [0.47587795, 0.52412205],\n",
       "       [0.71537904, 0.28462096],\n",
       "       [0.14458435, 0.85541565],\n",
       "       [0.18565999, 0.81434001],\n",
       "       [0.86356704, 0.13643296],\n",
       "       [0.98568513, 0.01431487],\n",
       "       [0.08499214, 0.91500786],\n",
       "       [0.34998606, 0.65001394],\n",
       "       [0.66189923, 0.33810077],\n",
       "       [0.45057271, 0.54942729],\n",
       "       [0.41916319, 0.58083681],\n",
       "       [0.20601792, 0.79398208],\n",
       "       [0.16267421, 0.83732579],\n",
       "       [0.46476188, 0.53523812],\n",
       "       [0.68952065, 0.31047935],\n",
       "       [0.73646462, 0.26353538],\n",
       "       [0.82574818, 0.17425182],\n",
       "       [0.15804867, 0.84195133],\n",
       "       [0.54312181, 0.45687819],\n",
       "       [0.78460757, 0.21539243],\n",
       "       [0.5730761 , 0.4269239 ],\n",
       "       [0.79343094, 0.20656906],\n",
       "       [0.90170427, 0.09829573],\n",
       "       [0.25023982, 0.74976018],\n",
       "       [0.70075358, 0.29924642],\n",
       "       [0.35634626, 0.64365374],\n",
       "       [0.79343094, 0.20656906],\n",
       "       [0.69330895, 0.30669105],\n",
       "       [0.5730761 , 0.4269239 ],\n",
       "       [0.73912673, 0.26087327],\n",
       "       [0.45057271, 0.54942729],\n",
       "       [0.5209105 , 0.4790895 ],\n",
       "       [0.62397426, 0.37602574],\n",
       "       [0.76709184, 0.23290816],\n",
       "       [0.50236404, 0.49763596]])"
      ]
     },
     "execution_count": 33,
     "metadata": {},
     "output_type": "execute_result"
    }
   ],
   "source": [
    "predict_proba = reg.predict_proba(test_input) \n",
    "# [probability of class 0, probability of class 1]\n",
    "predict_proba"
   ]
  },
  {
   "cell_type": "code",
   "execution_count": 34,
   "metadata": {},
   "outputs": [
    {
     "data": {
      "text/plain": [
       "array([0.29553643, 0.425386  , 0.61290426, 0.21539243, 0.92443758,\n",
       "       0.66223187, 0.6981708 , 0.88725642, 0.20085071, 0.25337673,\n",
       "       0.53204302, 0.80341409, 0.93800735, 0.31615472, 0.69310069,\n",
       "       0.51324063, 0.465878  , 0.4790895 , 0.58348387, 0.95766915,\n",
       "       0.29924642, 0.21539243, 0.5694896 , 0.5694896 , 0.75316532,\n",
       "       0.24676563, 0.50594598, 0.15253992, 0.81288682, 0.21539243,\n",
       "       0.37455136, 0.66619194, 0.68552394, 0.55832511, 0.21539243,\n",
       "       0.56251286, 0.20949433, 0.73711739, 0.43180154, 0.63140484,\n",
       "       0.20656906, 0.45687819, 0.22759228, 0.12763784, 0.84928779,\n",
       "       0.55656583, 0.68254977, 0.29553643, 0.20570834, 0.1980159 ,\n",
       "       0.60113339, 0.11545288, 0.66223187, 0.26251583, 0.84094506,\n",
       "       0.45148261, 0.89546419, 0.22209945, 0.10844357, 0.11367612,\n",
       "       0.73490559, 0.65027459, 0.29267953, 0.79908966, 0.19902104,\n",
       "       0.27395187, 0.01674681, 0.20949433, 0.72840225, 0.36367213,\n",
       "       0.20949433, 0.07838289, 0.92262253, 0.49763596, 0.63863045,\n",
       "       0.21539243, 0.78748791, 0.77686469, 0.73866942, 0.66999434,\n",
       "       0.23704535, 0.01589046, 0.22209945, 0.75307668, 0.44797224,\n",
       "       0.12709896, 0.70791825, 0.5694896 , 0.062506  , 0.66619194,\n",
       "       0.19455967, 0.14279972, 0.22448606, 0.27395187, 0.25337673,\n",
       "       0.85541565, 0.30669105, 0.76666807, 0.23290816, 0.24925453,\n",
       "       0.66272114, 0.66619194, 0.68438896, 0.78324952, 0.4843886 ,\n",
       "       0.52412205, 0.28462096, 0.85541565, 0.81434001, 0.13643296,\n",
       "       0.01431487, 0.91500786, 0.65001394, 0.33810077, 0.54942729,\n",
       "       0.58083681, 0.79398208, 0.83732579, 0.53523812, 0.31047935,\n",
       "       0.26353538, 0.17425182, 0.84195133, 0.45687819, 0.21539243,\n",
       "       0.4269239 , 0.20656906, 0.09829573, 0.74976018, 0.29924642,\n",
       "       0.64365374, 0.20656906, 0.30669105, 0.4269239 , 0.26087327,\n",
       "       0.54942729, 0.4790895 , 0.37602574, 0.23290816, 0.49763596])"
      ]
     },
     "execution_count": 34,
     "metadata": {},
     "output_type": "execute_result"
    }
   ],
   "source": [
    "predict_proba[:,1]"
   ]
  },
  {
   "attachments": {},
   "cell_type": "markdown",
   "metadata": {},
   "source": [
    "### Doing KFold Cross Validation on the scaled data"
   ]
  },
  {
   "cell_type": "code",
   "execution_count": 44,
   "metadata": {},
   "outputs": [
    {
     "name": "stdout",
     "output_type": "stream",
     "text": [
      "[0.80357143 0.76785714 0.73214286 0.78571429 0.75      ]\n",
      "Avg : 0.7678571428571429\n"
     ]
    }
   ],
   "source": [
    "from sklearn.model_selection import cross_val_score\n",
    "# score without kfold is 0.7875\n",
    "score_lr=cross_val_score(LogisticRegression(), x_train, y_train, cv=5)\n",
    "print(score_lr)\n",
    "print(\"Avg :\",np.average(score_lr))"
   ]
  },
  {
   "attachments": {},
   "cell_type": "markdown",
   "metadata": {},
   "source": [
    "## Deploy the trained model\n",
    "### 1. Saving the Model (pickle)\n",
    "### 2. Create a module that works with this model\n",
    "        * that means a model that will do the preprocessing same as in the trained data."
   ]
  },
  {
   "attachments": {},
   "cell_type": "markdown",
   "metadata": {},
   "source": [
    "#### 1. Saving the model\n",
    "* We need to make our model portable such that it can directly be used to predict new data without retraining it.\n",
    "* that means we must somehow store the regression object that has reached pricise values in its' equation\n",
    "    * that means the perfect weight and bias for the equation\n",
    "* python Pickle is a module that can be used to convert a Python object into a character stream"
   ]
  },
  {
   "cell_type": "code",
   "execution_count": 130,
   "metadata": {},
   "outputs": [],
   "source": [
    "import pickle"
   ]
  },
  {
   "cell_type": "code",
   "execution_count": 131,
   "metadata": {},
   "outputs": [],
   "source": [
    "with open('absenteeism_model', 'wb') as file:\n",
    "    pickle.dump(reg, file)"
   ]
  },
  {
   "cell_type": "code",
   "execution_count": 132,
   "metadata": {},
   "outputs": [],
   "source": [
    "with open('absenteeism_scaler', 'wb') as file:\n",
    "    pickle.dump(absenteeism_scaler, file)"
   ]
  }
 ],
 "metadata": {
  "kernelspec": {
   "display_name": "tensor_venv",
   "language": "python",
   "name": "python3"
  },
  "language_info": {
   "codemirror_mode": {
    "name": "ipython",
    "version": 3
   },
   "file_extension": ".py",
   "mimetype": "text/x-python",
   "name": "python",
   "nbconvert_exporter": "python",
   "pygments_lexer": "ipython3",
   "version": "3.8.15"
  },
  "orig_nbformat": 4
 },
 "nbformat": 4,
 "nbformat_minor": 2
}
