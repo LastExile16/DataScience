{
 "cells": [
  {
   "attachments": {},
   "cell_type": "markdown",
   "metadata": {},
   "source": [
    "# Practical example"
   ]
  },
  {
   "attachments": {},
   "cell_type": "markdown",
   "metadata": {},
   "source": [
    "## Importing the relevant libraries"
   ]
  },
  {
   "cell_type": "code",
   "execution_count": 205,
   "metadata": {},
   "outputs": [],
   "source": [
    "import numpy as np\n",
    "import pandas as pd\n",
    "import statsmodels.api as sm\n",
    "import matplotlib.pyplot as plt\n",
    "from sklearn.linear_model import LinearRegression\n",
    "import seaborn as sns\n",
    "sns.set()"
   ]
  },
  {
   "attachments": {},
   "cell_type": "markdown",
   "metadata": {},
   "source": [
    "## Loading the raw data"
   ]
  },
  {
   "cell_type": "code",
   "execution_count": 206,
   "metadata": {},
   "outputs": [
    {
     "data": {
      "text/html": [
       "<div>\n",
       "<style scoped>\n",
       "    .dataframe tbody tr th:only-of-type {\n",
       "        vertical-align: middle;\n",
       "    }\n",
       "\n",
       "    .dataframe tbody tr th {\n",
       "        vertical-align: top;\n",
       "    }\n",
       "\n",
       "    .dataframe thead th {\n",
       "        text-align: right;\n",
       "    }\n",
       "</style>\n",
       "<table border=\"1\" class=\"dataframe\">\n",
       "  <thead>\n",
       "    <tr style=\"text-align: right;\">\n",
       "      <th></th>\n",
       "      <th>Brand</th>\n",
       "      <th>Price</th>\n",
       "      <th>Body</th>\n",
       "      <th>Mileage</th>\n",
       "      <th>EngineV</th>\n",
       "      <th>Engine Type</th>\n",
       "      <th>Registration</th>\n",
       "      <th>Year</th>\n",
       "      <th>Model</th>\n",
       "    </tr>\n",
       "  </thead>\n",
       "  <tbody>\n",
       "    <tr>\n",
       "      <th>0</th>\n",
       "      <td>BMW</td>\n",
       "      <td>4200.00</td>\n",
       "      <td>sedan</td>\n",
       "      <td>277</td>\n",
       "      <td>2.00</td>\n",
       "      <td>Petrol</td>\n",
       "      <td>yes</td>\n",
       "      <td>1991</td>\n",
       "      <td>320</td>\n",
       "    </tr>\n",
       "    <tr>\n",
       "      <th>1</th>\n",
       "      <td>Mercedes-Benz</td>\n",
       "      <td>7900.00</td>\n",
       "      <td>van</td>\n",
       "      <td>427</td>\n",
       "      <td>2.90</td>\n",
       "      <td>Diesel</td>\n",
       "      <td>yes</td>\n",
       "      <td>1999</td>\n",
       "      <td>Sprinter 212</td>\n",
       "    </tr>\n",
       "    <tr>\n",
       "      <th>2</th>\n",
       "      <td>Mercedes-Benz</td>\n",
       "      <td>13300.00</td>\n",
       "      <td>sedan</td>\n",
       "      <td>358</td>\n",
       "      <td>5.00</td>\n",
       "      <td>Gas</td>\n",
       "      <td>yes</td>\n",
       "      <td>2003</td>\n",
       "      <td>S 500</td>\n",
       "    </tr>\n",
       "    <tr>\n",
       "      <th>3</th>\n",
       "      <td>Audi</td>\n",
       "      <td>23000.00</td>\n",
       "      <td>crossover</td>\n",
       "      <td>240</td>\n",
       "      <td>4.20</td>\n",
       "      <td>Petrol</td>\n",
       "      <td>yes</td>\n",
       "      <td>2007</td>\n",
       "      <td>Q7</td>\n",
       "    </tr>\n",
       "    <tr>\n",
       "      <th>4</th>\n",
       "      <td>Toyota</td>\n",
       "      <td>18300.00</td>\n",
       "      <td>crossover</td>\n",
       "      <td>120</td>\n",
       "      <td>2.00</td>\n",
       "      <td>Petrol</td>\n",
       "      <td>yes</td>\n",
       "      <td>2011</td>\n",
       "      <td>Rav 4</td>\n",
       "    </tr>\n",
       "  </tbody>\n",
       "</table>\n",
       "</div>"
      ],
      "text/plain": [
       "           Brand    Price       Body  Mileage  EngineV Engine Type  \\\n",
       "0            BMW  4200.00      sedan      277     2.00      Petrol   \n",
       "1  Mercedes-Benz  7900.00        van      427     2.90      Diesel   \n",
       "2  Mercedes-Benz 13300.00      sedan      358     5.00         Gas   \n",
       "3           Audi 23000.00  crossover      240     4.20      Petrol   \n",
       "4         Toyota 18300.00  crossover      120     2.00      Petrol   \n",
       "\n",
       "  Registration  Year         Model  \n",
       "0          yes  1991           320  \n",
       "1          yes  1999  Sprinter 212  \n",
       "2          yes  2003         S 500  \n",
       "3          yes  2007            Q7  \n",
       "4          yes  2011         Rav 4  "
      ]
     },
     "execution_count": 206,
     "metadata": {},
     "output_type": "execute_result"
    }
   ],
   "source": [
    "raw_data = pd.read_csv('1.04. Real-life example.csv')\n",
    "raw_data.head()"
   ]
  },
  {
   "attachments": {},
   "cell_type": "markdown",
   "metadata": {},
   "source": [
    "## Preprocessing"
   ]
  },
  {
   "attachments": {},
   "cell_type": "markdown",
   "metadata": {},
   "source": [
    "### Exploring the descriptive statistics of the variables"
   ]
  },
  {
   "cell_type": "code",
   "execution_count": 207,
   "metadata": {},
   "outputs": [
    {
     "data": {
      "text/html": [
       "<div>\n",
       "<style scoped>\n",
       "    .dataframe tbody tr th:only-of-type {\n",
       "        vertical-align: middle;\n",
       "    }\n",
       "\n",
       "    .dataframe tbody tr th {\n",
       "        vertical-align: top;\n",
       "    }\n",
       "\n",
       "    .dataframe thead th {\n",
       "        text-align: right;\n",
       "    }\n",
       "</style>\n",
       "<table border=\"1\" class=\"dataframe\">\n",
       "  <thead>\n",
       "    <tr style=\"text-align: right;\">\n",
       "      <th></th>\n",
       "      <th>Brand</th>\n",
       "      <th>Price</th>\n",
       "      <th>Body</th>\n",
       "      <th>Mileage</th>\n",
       "      <th>EngineV</th>\n",
       "      <th>Engine Type</th>\n",
       "      <th>Registration</th>\n",
       "      <th>Year</th>\n",
       "      <th>Model</th>\n",
       "    </tr>\n",
       "  </thead>\n",
       "  <tbody>\n",
       "    <tr>\n",
       "      <th>count</th>\n",
       "      <td>4345</td>\n",
       "      <td>4173.00</td>\n",
       "      <td>4345</td>\n",
       "      <td>4345.00</td>\n",
       "      <td>4195.00</td>\n",
       "      <td>4345</td>\n",
       "      <td>4345</td>\n",
       "      <td>4345.00</td>\n",
       "      <td>4345</td>\n",
       "    </tr>\n",
       "    <tr>\n",
       "      <th>unique</th>\n",
       "      <td>7</td>\n",
       "      <td>NaN</td>\n",
       "      <td>6</td>\n",
       "      <td>NaN</td>\n",
       "      <td>NaN</td>\n",
       "      <td>4</td>\n",
       "      <td>2</td>\n",
       "      <td>NaN</td>\n",
       "      <td>312</td>\n",
       "    </tr>\n",
       "    <tr>\n",
       "      <th>top</th>\n",
       "      <td>Volkswagen</td>\n",
       "      <td>NaN</td>\n",
       "      <td>sedan</td>\n",
       "      <td>NaN</td>\n",
       "      <td>NaN</td>\n",
       "      <td>Diesel</td>\n",
       "      <td>yes</td>\n",
       "      <td>NaN</td>\n",
       "      <td>E-Class</td>\n",
       "    </tr>\n",
       "    <tr>\n",
       "      <th>freq</th>\n",
       "      <td>936</td>\n",
       "      <td>NaN</td>\n",
       "      <td>1649</td>\n",
       "      <td>NaN</td>\n",
       "      <td>NaN</td>\n",
       "      <td>2019</td>\n",
       "      <td>3947</td>\n",
       "      <td>NaN</td>\n",
       "      <td>199</td>\n",
       "    </tr>\n",
       "    <tr>\n",
       "      <th>mean</th>\n",
       "      <td>NaN</td>\n",
       "      <td>19418.75</td>\n",
       "      <td>NaN</td>\n",
       "      <td>161.24</td>\n",
       "      <td>2.79</td>\n",
       "      <td>NaN</td>\n",
       "      <td>NaN</td>\n",
       "      <td>2006.55</td>\n",
       "      <td>NaN</td>\n",
       "    </tr>\n",
       "    <tr>\n",
       "      <th>std</th>\n",
       "      <td>NaN</td>\n",
       "      <td>25584.24</td>\n",
       "      <td>NaN</td>\n",
       "      <td>105.71</td>\n",
       "      <td>5.07</td>\n",
       "      <td>NaN</td>\n",
       "      <td>NaN</td>\n",
       "      <td>6.72</td>\n",
       "      <td>NaN</td>\n",
       "    </tr>\n",
       "    <tr>\n",
       "      <th>min</th>\n",
       "      <td>NaN</td>\n",
       "      <td>600.00</td>\n",
       "      <td>NaN</td>\n",
       "      <td>0.00</td>\n",
       "      <td>0.60</td>\n",
       "      <td>NaN</td>\n",
       "      <td>NaN</td>\n",
       "      <td>1969.00</td>\n",
       "      <td>NaN</td>\n",
       "    </tr>\n",
       "    <tr>\n",
       "      <th>25%</th>\n",
       "      <td>NaN</td>\n",
       "      <td>6999.00</td>\n",
       "      <td>NaN</td>\n",
       "      <td>86.00</td>\n",
       "      <td>1.80</td>\n",
       "      <td>NaN</td>\n",
       "      <td>NaN</td>\n",
       "      <td>2003.00</td>\n",
       "      <td>NaN</td>\n",
       "    </tr>\n",
       "    <tr>\n",
       "      <th>50%</th>\n",
       "      <td>NaN</td>\n",
       "      <td>11500.00</td>\n",
       "      <td>NaN</td>\n",
       "      <td>155.00</td>\n",
       "      <td>2.20</td>\n",
       "      <td>NaN</td>\n",
       "      <td>NaN</td>\n",
       "      <td>2008.00</td>\n",
       "      <td>NaN</td>\n",
       "    </tr>\n",
       "    <tr>\n",
       "      <th>75%</th>\n",
       "      <td>NaN</td>\n",
       "      <td>21700.00</td>\n",
       "      <td>NaN</td>\n",
       "      <td>230.00</td>\n",
       "      <td>3.00</td>\n",
       "      <td>NaN</td>\n",
       "      <td>NaN</td>\n",
       "      <td>2012.00</td>\n",
       "      <td>NaN</td>\n",
       "    </tr>\n",
       "    <tr>\n",
       "      <th>max</th>\n",
       "      <td>NaN</td>\n",
       "      <td>300000.00</td>\n",
       "      <td>NaN</td>\n",
       "      <td>980.00</td>\n",
       "      <td>99.99</td>\n",
       "      <td>NaN</td>\n",
       "      <td>NaN</td>\n",
       "      <td>2016.00</td>\n",
       "      <td>NaN</td>\n",
       "    </tr>\n",
       "  </tbody>\n",
       "</table>\n",
       "</div>"
      ],
      "text/plain": [
       "             Brand     Price   Body  Mileage  EngineV Engine Type  \\\n",
       "count         4345   4173.00   4345  4345.00  4195.00        4345   \n",
       "unique           7       NaN      6      NaN      NaN           4   \n",
       "top     Volkswagen       NaN  sedan      NaN      NaN      Diesel   \n",
       "freq           936       NaN   1649      NaN      NaN        2019   \n",
       "mean           NaN  19418.75    NaN   161.24     2.79         NaN   \n",
       "std            NaN  25584.24    NaN   105.71     5.07         NaN   \n",
       "min            NaN    600.00    NaN     0.00     0.60         NaN   \n",
       "25%            NaN   6999.00    NaN    86.00     1.80         NaN   \n",
       "50%            NaN  11500.00    NaN   155.00     2.20         NaN   \n",
       "75%            NaN  21700.00    NaN   230.00     3.00         NaN   \n",
       "max            NaN 300000.00    NaN   980.00    99.99         NaN   \n",
       "\n",
       "       Registration    Year    Model  \n",
       "count          4345 4345.00     4345  \n",
       "unique            2     NaN      312  \n",
       "top             yes     NaN  E-Class  \n",
       "freq           3947     NaN      199  \n",
       "mean            NaN 2006.55      NaN  \n",
       "std             NaN    6.72      NaN  \n",
       "min             NaN 1969.00      NaN  \n",
       "25%             NaN 2003.00      NaN  \n",
       "50%             NaN 2008.00      NaN  \n",
       "75%             NaN 2012.00      NaN  \n",
       "max             NaN 2016.00      NaN  "
      ]
     },
     "execution_count": 207,
     "metadata": {},
     "output_type": "execute_result"
    }
   ],
   "source": [
    "raw_data.describe(include='all')"
   ]
  },
  {
   "attachments": {},
   "cell_type": "markdown",
   "metadata": {},
   "source": [
    "### Determining the variables of interest"
   ]
  },
  {
   "cell_type": "code",
   "execution_count": 208,
   "metadata": {},
   "outputs": [
    {
     "data": {
      "text/html": [
       "<div>\n",
       "<style scoped>\n",
       "    .dataframe tbody tr th:only-of-type {\n",
       "        vertical-align: middle;\n",
       "    }\n",
       "\n",
       "    .dataframe tbody tr th {\n",
       "        vertical-align: top;\n",
       "    }\n",
       "\n",
       "    .dataframe thead th {\n",
       "        text-align: right;\n",
       "    }\n",
       "</style>\n",
       "<table border=\"1\" class=\"dataframe\">\n",
       "  <thead>\n",
       "    <tr style=\"text-align: right;\">\n",
       "      <th></th>\n",
       "      <th>Brand</th>\n",
       "      <th>Price</th>\n",
       "      <th>Body</th>\n",
       "      <th>Mileage</th>\n",
       "      <th>EngineV</th>\n",
       "      <th>Engine Type</th>\n",
       "      <th>Registration</th>\n",
       "      <th>Year</th>\n",
       "      <th>Model</th>\n",
       "    </tr>\n",
       "  </thead>\n",
       "  <tbody>\n",
       "    <tr>\n",
       "      <th>count</th>\n",
       "      <td>4345</td>\n",
       "      <td>4173.00</td>\n",
       "      <td>4345</td>\n",
       "      <td>4345.00</td>\n",
       "      <td>4195.00</td>\n",
       "      <td>4345</td>\n",
       "      <td>4345</td>\n",
       "      <td>4345.00</td>\n",
       "      <td>4345</td>\n",
       "    </tr>\n",
       "    <tr>\n",
       "      <th>unique</th>\n",
       "      <td>7</td>\n",
       "      <td>NaN</td>\n",
       "      <td>6</td>\n",
       "      <td>NaN</td>\n",
       "      <td>NaN</td>\n",
       "      <td>4</td>\n",
       "      <td>2</td>\n",
       "      <td>NaN</td>\n",
       "      <td>312</td>\n",
       "    </tr>\n",
       "    <tr>\n",
       "      <th>top</th>\n",
       "      <td>Volkswagen</td>\n",
       "      <td>NaN</td>\n",
       "      <td>sedan</td>\n",
       "      <td>NaN</td>\n",
       "      <td>NaN</td>\n",
       "      <td>Diesel</td>\n",
       "      <td>yes</td>\n",
       "      <td>NaN</td>\n",
       "      <td>E-Class</td>\n",
       "    </tr>\n",
       "    <tr>\n",
       "      <th>freq</th>\n",
       "      <td>936</td>\n",
       "      <td>NaN</td>\n",
       "      <td>1649</td>\n",
       "      <td>NaN</td>\n",
       "      <td>NaN</td>\n",
       "      <td>2019</td>\n",
       "      <td>3947</td>\n",
       "      <td>NaN</td>\n",
       "      <td>199</td>\n",
       "    </tr>\n",
       "    <tr>\n",
       "      <th>mean</th>\n",
       "      <td>NaN</td>\n",
       "      <td>19418.75</td>\n",
       "      <td>NaN</td>\n",
       "      <td>161.24</td>\n",
       "      <td>2.79</td>\n",
       "      <td>NaN</td>\n",
       "      <td>NaN</td>\n",
       "      <td>2006.55</td>\n",
       "      <td>NaN</td>\n",
       "    </tr>\n",
       "    <tr>\n",
       "      <th>std</th>\n",
       "      <td>NaN</td>\n",
       "      <td>25584.24</td>\n",
       "      <td>NaN</td>\n",
       "      <td>105.71</td>\n",
       "      <td>5.07</td>\n",
       "      <td>NaN</td>\n",
       "      <td>NaN</td>\n",
       "      <td>6.72</td>\n",
       "      <td>NaN</td>\n",
       "    </tr>\n",
       "    <tr>\n",
       "      <th>min</th>\n",
       "      <td>NaN</td>\n",
       "      <td>600.00</td>\n",
       "      <td>NaN</td>\n",
       "      <td>0.00</td>\n",
       "      <td>0.60</td>\n",
       "      <td>NaN</td>\n",
       "      <td>NaN</td>\n",
       "      <td>1969.00</td>\n",
       "      <td>NaN</td>\n",
       "    </tr>\n",
       "    <tr>\n",
       "      <th>25%</th>\n",
       "      <td>NaN</td>\n",
       "      <td>6999.00</td>\n",
       "      <td>NaN</td>\n",
       "      <td>86.00</td>\n",
       "      <td>1.80</td>\n",
       "      <td>NaN</td>\n",
       "      <td>NaN</td>\n",
       "      <td>2003.00</td>\n",
       "      <td>NaN</td>\n",
       "    </tr>\n",
       "    <tr>\n",
       "      <th>50%</th>\n",
       "      <td>NaN</td>\n",
       "      <td>11500.00</td>\n",
       "      <td>NaN</td>\n",
       "      <td>155.00</td>\n",
       "      <td>2.20</td>\n",
       "      <td>NaN</td>\n",
       "      <td>NaN</td>\n",
       "      <td>2008.00</td>\n",
       "      <td>NaN</td>\n",
       "    </tr>\n",
       "    <tr>\n",
       "      <th>75%</th>\n",
       "      <td>NaN</td>\n",
       "      <td>21700.00</td>\n",
       "      <td>NaN</td>\n",
       "      <td>230.00</td>\n",
       "      <td>3.00</td>\n",
       "      <td>NaN</td>\n",
       "      <td>NaN</td>\n",
       "      <td>2012.00</td>\n",
       "      <td>NaN</td>\n",
       "    </tr>\n",
       "    <tr>\n",
       "      <th>max</th>\n",
       "      <td>NaN</td>\n",
       "      <td>300000.00</td>\n",
       "      <td>NaN</td>\n",
       "      <td>980.00</td>\n",
       "      <td>99.99</td>\n",
       "      <td>NaN</td>\n",
       "      <td>NaN</td>\n",
       "      <td>2016.00</td>\n",
       "      <td>NaN</td>\n",
       "    </tr>\n",
       "  </tbody>\n",
       "</table>\n",
       "</div>"
      ],
      "text/plain": [
       "             Brand     Price   Body  Mileage  EngineV Engine Type  \\\n",
       "count         4345   4173.00   4345  4345.00  4195.00        4345   \n",
       "unique           7       NaN      6      NaN      NaN           4   \n",
       "top     Volkswagen       NaN  sedan      NaN      NaN      Diesel   \n",
       "freq           936       NaN   1649      NaN      NaN        2019   \n",
       "mean           NaN  19418.75    NaN   161.24     2.79         NaN   \n",
       "std            NaN  25584.24    NaN   105.71     5.07         NaN   \n",
       "min            NaN    600.00    NaN     0.00     0.60         NaN   \n",
       "25%            NaN   6999.00    NaN    86.00     1.80         NaN   \n",
       "50%            NaN  11500.00    NaN   155.00     2.20         NaN   \n",
       "75%            NaN  21700.00    NaN   230.00     3.00         NaN   \n",
       "max            NaN 300000.00    NaN   980.00    99.99         NaN   \n",
       "\n",
       "       Registration    Year    Model  \n",
       "count          4345 4345.00     4345  \n",
       "unique            2     NaN      312  \n",
       "top             yes     NaN  E-Class  \n",
       "freq           3947     NaN      199  \n",
       "mean            NaN 2006.55      NaN  \n",
       "std             NaN    6.72      NaN  \n",
       "min             NaN 1969.00      NaN  \n",
       "25%             NaN 2003.00      NaN  \n",
       "50%             NaN 2008.00      NaN  \n",
       "75%             NaN 2012.00      NaN  \n",
       "max             NaN 2016.00      NaN  "
      ]
     },
     "execution_count": 208,
     "metadata": {},
     "output_type": "execute_result"
    }
   ],
   "source": [
    "# data = raw_data.drop(['Model'],axis=1)\n",
    "data = raw_data.copy()\n",
    "data.describe(include='all')"
   ]
  },
  {
   "attachments": {},
   "cell_type": "markdown",
   "metadata": {},
   "source": [
    "### Dealing with missing values"
   ]
  },
  {
   "cell_type": "code",
   "execution_count": 209,
   "metadata": {
    "scrolled": true
   },
   "outputs": [
    {
     "data": {
      "text/plain": [
       "Brand             0\n",
       "Price           172\n",
       "Body              0\n",
       "Mileage           0\n",
       "EngineV         150\n",
       "Engine Type       0\n",
       "Registration      0\n",
       "Year              0\n",
       "Model             0\n",
       "dtype: int64"
      ]
     },
     "execution_count": 209,
     "metadata": {},
     "output_type": "execute_result"
    }
   ],
   "source": [
    "data.isnull().sum()"
   ]
  },
  {
   "cell_type": "code",
   "execution_count": 210,
   "metadata": {},
   "outputs": [],
   "source": [
    "data_no_mv = data.dropna(axis=0)"
   ]
  },
  {
   "cell_type": "code",
   "execution_count": 211,
   "metadata": {},
   "outputs": [
    {
     "data": {
      "text/html": [
       "<div>\n",
       "<style scoped>\n",
       "    .dataframe tbody tr th:only-of-type {\n",
       "        vertical-align: middle;\n",
       "    }\n",
       "\n",
       "    .dataframe tbody tr th {\n",
       "        vertical-align: top;\n",
       "    }\n",
       "\n",
       "    .dataframe thead th {\n",
       "        text-align: right;\n",
       "    }\n",
       "</style>\n",
       "<table border=\"1\" class=\"dataframe\">\n",
       "  <thead>\n",
       "    <tr style=\"text-align: right;\">\n",
       "      <th></th>\n",
       "      <th>Brand</th>\n",
       "      <th>Price</th>\n",
       "      <th>Body</th>\n",
       "      <th>Mileage</th>\n",
       "      <th>EngineV</th>\n",
       "      <th>Engine Type</th>\n",
       "      <th>Registration</th>\n",
       "      <th>Year</th>\n",
       "      <th>Model</th>\n",
       "    </tr>\n",
       "  </thead>\n",
       "  <tbody>\n",
       "    <tr>\n",
       "      <th>count</th>\n",
       "      <td>4025</td>\n",
       "      <td>4025.00</td>\n",
       "      <td>4025</td>\n",
       "      <td>4025.00</td>\n",
       "      <td>4025.00</td>\n",
       "      <td>4025</td>\n",
       "      <td>4025</td>\n",
       "      <td>4025.00</td>\n",
       "      <td>4025</td>\n",
       "    </tr>\n",
       "    <tr>\n",
       "      <th>unique</th>\n",
       "      <td>7</td>\n",
       "      <td>NaN</td>\n",
       "      <td>6</td>\n",
       "      <td>NaN</td>\n",
       "      <td>NaN</td>\n",
       "      <td>4</td>\n",
       "      <td>2</td>\n",
       "      <td>NaN</td>\n",
       "      <td>306</td>\n",
       "    </tr>\n",
       "    <tr>\n",
       "      <th>top</th>\n",
       "      <td>Volkswagen</td>\n",
       "      <td>NaN</td>\n",
       "      <td>sedan</td>\n",
       "      <td>NaN</td>\n",
       "      <td>NaN</td>\n",
       "      <td>Diesel</td>\n",
       "      <td>yes</td>\n",
       "      <td>NaN</td>\n",
       "      <td>E-Class</td>\n",
       "    </tr>\n",
       "    <tr>\n",
       "      <th>freq</th>\n",
       "      <td>880</td>\n",
       "      <td>NaN</td>\n",
       "      <td>1534</td>\n",
       "      <td>NaN</td>\n",
       "      <td>NaN</td>\n",
       "      <td>1861</td>\n",
       "      <td>3654</td>\n",
       "      <td>NaN</td>\n",
       "      <td>188</td>\n",
       "    </tr>\n",
       "    <tr>\n",
       "      <th>mean</th>\n",
       "      <td>NaN</td>\n",
       "      <td>19552.31</td>\n",
       "      <td>NaN</td>\n",
       "      <td>163.57</td>\n",
       "      <td>2.76</td>\n",
       "      <td>NaN</td>\n",
       "      <td>NaN</td>\n",
       "      <td>2006.38</td>\n",
       "      <td>NaN</td>\n",
       "    </tr>\n",
       "    <tr>\n",
       "      <th>std</th>\n",
       "      <td>NaN</td>\n",
       "      <td>25815.73</td>\n",
       "      <td>NaN</td>\n",
       "      <td>103.39</td>\n",
       "      <td>4.94</td>\n",
       "      <td>NaN</td>\n",
       "      <td>NaN</td>\n",
       "      <td>6.70</td>\n",
       "      <td>NaN</td>\n",
       "    </tr>\n",
       "    <tr>\n",
       "      <th>min</th>\n",
       "      <td>NaN</td>\n",
       "      <td>600.00</td>\n",
       "      <td>NaN</td>\n",
       "      <td>0.00</td>\n",
       "      <td>0.60</td>\n",
       "      <td>NaN</td>\n",
       "      <td>NaN</td>\n",
       "      <td>1969.00</td>\n",
       "      <td>NaN</td>\n",
       "    </tr>\n",
       "    <tr>\n",
       "      <th>25%</th>\n",
       "      <td>NaN</td>\n",
       "      <td>6999.00</td>\n",
       "      <td>NaN</td>\n",
       "      <td>90.00</td>\n",
       "      <td>1.80</td>\n",
       "      <td>NaN</td>\n",
       "      <td>NaN</td>\n",
       "      <td>2003.00</td>\n",
       "      <td>NaN</td>\n",
       "    </tr>\n",
       "    <tr>\n",
       "      <th>50%</th>\n",
       "      <td>NaN</td>\n",
       "      <td>11500.00</td>\n",
       "      <td>NaN</td>\n",
       "      <td>158.00</td>\n",
       "      <td>2.20</td>\n",
       "      <td>NaN</td>\n",
       "      <td>NaN</td>\n",
       "      <td>2007.00</td>\n",
       "      <td>NaN</td>\n",
       "    </tr>\n",
       "    <tr>\n",
       "      <th>75%</th>\n",
       "      <td>NaN</td>\n",
       "      <td>21900.00</td>\n",
       "      <td>NaN</td>\n",
       "      <td>230.00</td>\n",
       "      <td>3.00</td>\n",
       "      <td>NaN</td>\n",
       "      <td>NaN</td>\n",
       "      <td>2012.00</td>\n",
       "      <td>NaN</td>\n",
       "    </tr>\n",
       "    <tr>\n",
       "      <th>max</th>\n",
       "      <td>NaN</td>\n",
       "      <td>300000.00</td>\n",
       "      <td>NaN</td>\n",
       "      <td>980.00</td>\n",
       "      <td>99.99</td>\n",
       "      <td>NaN</td>\n",
       "      <td>NaN</td>\n",
       "      <td>2016.00</td>\n",
       "      <td>NaN</td>\n",
       "    </tr>\n",
       "  </tbody>\n",
       "</table>\n",
       "</div>"
      ],
      "text/plain": [
       "             Brand     Price   Body  Mileage  EngineV Engine Type  \\\n",
       "count         4025   4025.00   4025  4025.00  4025.00        4025   \n",
       "unique           7       NaN      6      NaN      NaN           4   \n",
       "top     Volkswagen       NaN  sedan      NaN      NaN      Diesel   \n",
       "freq           880       NaN   1534      NaN      NaN        1861   \n",
       "mean           NaN  19552.31    NaN   163.57     2.76         NaN   \n",
       "std            NaN  25815.73    NaN   103.39     4.94         NaN   \n",
       "min            NaN    600.00    NaN     0.00     0.60         NaN   \n",
       "25%            NaN   6999.00    NaN    90.00     1.80         NaN   \n",
       "50%            NaN  11500.00    NaN   158.00     2.20         NaN   \n",
       "75%            NaN  21900.00    NaN   230.00     3.00         NaN   \n",
       "max            NaN 300000.00    NaN   980.00    99.99         NaN   \n",
       "\n",
       "       Registration    Year    Model  \n",
       "count          4025 4025.00     4025  \n",
       "unique            2     NaN      306  \n",
       "top             yes     NaN  E-Class  \n",
       "freq           3654     NaN      188  \n",
       "mean            NaN 2006.38      NaN  \n",
       "std             NaN    6.70      NaN  \n",
       "min             NaN 1969.00      NaN  \n",
       "25%             NaN 2003.00      NaN  \n",
       "50%             NaN 2007.00      NaN  \n",
       "75%             NaN 2012.00      NaN  \n",
       "max             NaN 2016.00      NaN  "
      ]
     },
     "execution_count": 211,
     "metadata": {},
     "output_type": "execute_result"
    }
   ],
   "source": [
    "data_no_mv.describe(include='all')"
   ]
  },
  {
   "attachments": {},
   "cell_type": "markdown",
   "metadata": {},
   "source": [
    "### Exploring the PDFs"
   ]
  },
  {
   "cell_type": "code",
   "execution_count": 212,
   "metadata": {},
   "outputs": [
    {
     "name": "stderr",
     "output_type": "stream",
     "text": [
      "/tmp/ipykernel_13462/216991009.py:1: UserWarning: \n",
      "\n",
      "`distplot` is a deprecated function and will be removed in seaborn v0.14.0.\n",
      "\n",
      "Please adapt your code to use either `displot` (a figure-level function with\n",
      "similar flexibility) or `histplot` (an axes-level function for histograms).\n",
      "\n",
      "For a guide to updating your code to use the new functions, please see\n",
      "https://gist.github.com/mwaskom/de44147ed2974457ad6372750bbe5751\n",
      "\n",
      "  sns.distplot(data_no_mv['Price'])\n"
     ]
    },
    {
     "data": {
      "text/plain": [
       "<AxesSubplot: xlabel='Price', ylabel='Density'>"
      ]
     },
     "execution_count": 212,
     "metadata": {},
     "output_type": "execute_result"
    },
    {
     "data": {
      "image/png": "[encoded data removed]",
      "text/plain": [
       "<Figure size 640x480 with 1 Axes>"
      ]
     },
     "metadata": {},
     "output_type": "display_data"
    }
   ],
   "source": [
    "sns.distplot(data_no_mv['Price'])"
   ]
  },
  {
   "attachments": {},
   "cell_type": "markdown",
   "metadata": {},
   "source": [
    "### Dealing with outliers"
   ]
  },
  {
   "cell_type": "code",
   "execution_count": 213,
   "metadata": {},
   "outputs": [],
   "source": [
    "import statsmodels.api as sm\n",
    "import statsmodels.formula.api as smf\n",
    "regression = smf.ols('Price ~ Mileage+EngineV', data=data_no_mv).fit()"
   ]
  },
  {
   "cell_type": "code",
   "execution_count": 214,
   "metadata": {},
   "outputs": [
    {
     "data": {
      "text/html": [
       "<div>\n",
       "<style scoped>\n",
       "    .dataframe tbody tr th:only-of-type {\n",
       "        vertical-align: middle;\n",
       "    }\n",
       "\n",
       "    .dataframe tbody tr th {\n",
       "        vertical-align: top;\n",
       "    }\n",
       "\n",
       "    .dataframe thead th {\n",
       "        text-align: right;\n",
       "    }\n",
       "</style>\n",
       "<table border=\"1\" class=\"dataframe\">\n",
       "  <thead>\n",
       "    <tr style=\"text-align: right;\">\n",
       "      <th></th>\n",
       "      <th>student_resid</th>\n",
       "      <th>unadj_p</th>\n",
       "      <th>bonf(p)</th>\n",
       "    </tr>\n",
       "  </thead>\n",
       "  <tbody>\n",
       "    <tr>\n",
       "      <th>0</th>\n",
       "      <td>-0.07</td>\n",
       "      <td>0.94</td>\n",
       "      <td>1.00</td>\n",
       "    </tr>\n",
       "    <tr>\n",
       "      <th>1</th>\n",
       "      <td>0.86</td>\n",
       "      <td>0.39</td>\n",
       "      <td>1.00</td>\n",
       "    </tr>\n",
       "    <tr>\n",
       "      <th>2</th>\n",
       "      <td>0.71</td>\n",
       "      <td>0.48</td>\n",
       "      <td>1.00</td>\n",
       "    </tr>\n",
       "    <tr>\n",
       "      <th>3</th>\n",
       "      <td>0.53</td>\n",
       "      <td>0.60</td>\n",
       "      <td>1.00</td>\n",
       "    </tr>\n",
       "    <tr>\n",
       "      <th>4</th>\n",
       "      <td>-0.27</td>\n",
       "      <td>0.79</td>\n",
       "      <td>1.00</td>\n",
       "    </tr>\n",
       "    <tr>\n",
       "      <th>...</th>\n",
       "      <td>...</td>\n",
       "      <td>...</td>\n",
       "      <td>...</td>\n",
       "    </tr>\n",
       "    <tr>\n",
       "      <th>4339</th>\n",
       "      <td>-0.73</td>\n",
       "      <td>0.47</td>\n",
       "      <td>1.00</td>\n",
       "    </tr>\n",
       "    <tr>\n",
       "      <th>4340</th>\n",
       "      <td>3.85</td>\n",
       "      <td>0.00</td>\n",
       "      <td>0.49</td>\n",
       "    </tr>\n",
       "    <tr>\n",
       "      <th>4341</th>\n",
       "      <td>-1.44</td>\n",
       "      <td>0.15</td>\n",
       "      <td>1.00</td>\n",
       "    </tr>\n",
       "    <tr>\n",
       "      <th>4342</th>\n",
       "      <td>-0.34</td>\n",
       "      <td>0.74</td>\n",
       "      <td>1.00</td>\n",
       "    </tr>\n",
       "    <tr>\n",
       "      <th>4344</th>\n",
       "      <td>-0.46</td>\n",
       "      <td>0.64</td>\n",
       "      <td>1.00</td>\n",
       "    </tr>\n",
       "  </tbody>\n",
       "</table>\n",
       "<p>4025 rows × 3 columns</p>\n",
       "</div>"
      ],
      "text/plain": [
       "      student_resid  unadj_p  bonf(p)\n",
       "0             -0.07     0.94     1.00\n",
       "1              0.86     0.39     1.00\n",
       "2              0.71     0.48     1.00\n",
       "3              0.53     0.60     1.00\n",
       "4             -0.27     0.79     1.00\n",
       "...             ...      ...      ...\n",
       "4339          -0.73     0.47     1.00\n",
       "4340           3.85     0.00     0.49\n",
       "4341          -1.44     0.15     1.00\n",
       "4342          -0.34     0.74     1.00\n",
       "4344          -0.46     0.64     1.00\n",
       "\n",
       "[4025 rows x 3 columns]"
      ]
     },
     "execution_count": 214,
     "metadata": {},
     "output_type": "execute_result"
    }
   ],
   "source": [
    "# x = regression.outlier_test()\n",
    "# x"
   ]
  },
  {
   "cell_type": "code",
   "execution_count": 215,
   "metadata": {},
   "outputs": [
    {
     "name": "stdout",
     "output_type": "stream",
     "text": [
      "Bad data points (bonf(p) < 0.05):\n"
     ]
    },
    {
     "data": {
      "text/plain": [
       "array([   5,  131,  173,  348,  438,  594,  602,  993, 1304, 1644, 1658,\n",
       "       1728, 1752, 1885, 1914, 2011, 2130, 2188, 2212, 2226, 2243, 2521,\n",
       "       2550, 2607, 2657, 2744, 3164, 3167, 3244, 3330, 3625, 3636, 3645,\n",
       "       3928, 4044, 4101, 4318])"
      ]
     },
     "execution_count": 215,
     "metadata": {},
     "output_type": "execute_result"
    }
   ],
   "source": [
    "# print('Bad data points (bonf(p) < 0.05):')\n",
    "\n",
    "# outliers = x[x['bonf(p)'] < 0.05].index.values\n",
    "# outliers"
   ]
  },
  {
   "cell_type": "code",
   "execution_count": 216,
   "metadata": {},
   "outputs": [
    {
     "data": {
      "text/plain": [
       "5      199999.00\n",
       "131    195000.00\n",
       "173    169000.00\n",
       "348    199999.00\n",
       "438    195000.00\n",
       "594    164500.00\n",
       "602    199999.00\n",
       "993    173333.00\n",
       "1304   154999.00\n",
       "1644   177000.00\n",
       "1658   144900.00\n",
       "1728   300000.00\n",
       "1752   169000.00\n",
       "1885   139000.00\n",
       "1914   137000.00\n",
       "2011   222000.00\n",
       "2130   177777.00\n",
       "2188   249999.00\n",
       "2212   138000.00\n",
       "2226   140000.00\n",
       "2243   250000.00\n",
       "2521   195000.00\n",
       "2550   185555.00\n",
       "2607    68700.00\n",
       "2657   189999.00\n",
       "2744   160000.00\n",
       "3164   295000.00\n",
       "3167   135555.00\n",
       "3244   199999.00\n",
       "3330   159999.00\n",
       "3625    47700.00\n",
       "3636   187555.00\n",
       "3645   219900.00\n",
       "3928   200000.00\n",
       "4044   219900.00\n",
       "4101   295000.00\n",
       "4318   300000.00\n",
       "Name: Price, dtype: float64"
      ]
     },
     "execution_count": 216,
     "metadata": {},
     "output_type": "execute_result"
    }
   ],
   "source": [
    "# data_no_mv['Price'][outliers]"
   ]
  },
  {
   "cell_type": "code",
   "execution_count": 218,
   "metadata": {},
   "outputs": [
    {
     "name": "stdout",
     "output_type": "stream",
     "text": [
      "             Brand     Price   Body  Mileage  EngineV Engine Type  \\\n",
      "count         4025   4025.00   4025  4025.00  4025.00        4025   \n",
      "unique           7       NaN      6      NaN      NaN           4   \n",
      "top     Volkswagen       NaN  sedan      NaN      NaN      Diesel   \n",
      "freq           880       NaN   1534      NaN      NaN        1861   \n",
      "mean           NaN  19552.31    NaN   163.57     2.76         NaN   \n",
      "std            NaN  25815.73    NaN   103.39     4.94         NaN   \n",
      "min            NaN    600.00    NaN     0.00     0.60         NaN   \n",
      "25%            NaN   6999.00    NaN    90.00     1.80         NaN   \n",
      "50%            NaN  11500.00    NaN   158.00     2.20         NaN   \n",
      "75%            NaN  21900.00    NaN   230.00     3.00         NaN   \n",
      "max            NaN 300000.00    NaN   980.00    99.99         NaN   \n",
      "\n",
      "       Registration    Year    Model  \n",
      "count          4025 4025.00     4025  \n",
      "unique            2     NaN      306  \n",
      "top             yes     NaN  E-Class  \n",
      "freq           3654     NaN      188  \n",
      "mean            NaN 2006.38      NaN  \n",
      "std             NaN    6.70      NaN  \n",
      "min             NaN 1969.00      NaN  \n",
      "25%             NaN 2003.00      NaN  \n",
      "50%             NaN 2007.00      NaN  \n",
      "75%             NaN 2012.00      NaN  \n",
      "max             NaN 2016.00      NaN  \n"
     ]
    },
    {
     "data": {
      "text/html": [
       "<div>\n",
       "<style scoped>\n",
       "    .dataframe tbody tr th:only-of-type {\n",
       "        vertical-align: middle;\n",
       "    }\n",
       "\n",
       "    .dataframe tbody tr th {\n",
       "        vertical-align: top;\n",
       "    }\n",
       "\n",
       "    .dataframe thead th {\n",
       "        text-align: right;\n",
       "    }\n",
       "</style>\n",
       "<table border=\"1\" class=\"dataframe\">\n",
       "  <thead>\n",
       "    <tr style=\"text-align: right;\">\n",
       "      <th></th>\n",
       "      <th>Brand</th>\n",
       "      <th>Price</th>\n",
       "      <th>Body</th>\n",
       "      <th>Mileage</th>\n",
       "      <th>EngineV</th>\n",
       "      <th>Engine Type</th>\n",
       "      <th>Registration</th>\n",
       "      <th>Year</th>\n",
       "      <th>Model</th>\n",
       "    </tr>\n",
       "  </thead>\n",
       "  <tbody>\n",
       "    <tr>\n",
       "      <th>count</th>\n",
       "      <td>3988</td>\n",
       "      <td>3988.00</td>\n",
       "      <td>3988</td>\n",
       "      <td>3988.00</td>\n",
       "      <td>3988.00</td>\n",
       "      <td>3988</td>\n",
       "      <td>3988</td>\n",
       "      <td>3988.00</td>\n",
       "      <td>3988</td>\n",
       "    </tr>\n",
       "    <tr>\n",
       "      <th>unique</th>\n",
       "      <td>7</td>\n",
       "      <td>NaN</td>\n",
       "      <td>6</td>\n",
       "      <td>NaN</td>\n",
       "      <td>NaN</td>\n",
       "      <td>4</td>\n",
       "      <td>2</td>\n",
       "      <td>NaN</td>\n",
       "      <td>303</td>\n",
       "    </tr>\n",
       "    <tr>\n",
       "      <th>top</th>\n",
       "      <td>Volkswagen</td>\n",
       "      <td>NaN</td>\n",
       "      <td>sedan</td>\n",
       "      <td>NaN</td>\n",
       "      <td>NaN</td>\n",
       "      <td>Diesel</td>\n",
       "      <td>yes</td>\n",
       "      <td>NaN</td>\n",
       "      <td>E-Class</td>\n",
       "    </tr>\n",
       "    <tr>\n",
       "      <th>freq</th>\n",
       "      <td>880</td>\n",
       "      <td>NaN</td>\n",
       "      <td>1529</td>\n",
       "      <td>NaN</td>\n",
       "      <td>NaN</td>\n",
       "      <td>1854</td>\n",
       "      <td>3617</td>\n",
       "      <td>NaN</td>\n",
       "      <td>188</td>\n",
       "    </tr>\n",
       "    <tr>\n",
       "      <th>mean</th>\n",
       "      <td>NaN</td>\n",
       "      <td>17989.39</td>\n",
       "      <td>NaN</td>\n",
       "      <td>164.51</td>\n",
       "      <td>2.75</td>\n",
       "      <td>NaN</td>\n",
       "      <td>NaN</td>\n",
       "      <td>2006.30</td>\n",
       "      <td>NaN</td>\n",
       "    </tr>\n",
       "    <tr>\n",
       "      <th>std</th>\n",
       "      <td>NaN</td>\n",
       "      <td>19458.64</td>\n",
       "      <td>NaN</td>\n",
       "      <td>101.57</td>\n",
       "      <td>4.95</td>\n",
       "      <td>NaN</td>\n",
       "      <td>NaN</td>\n",
       "      <td>6.68</td>\n",
       "      <td>NaN</td>\n",
       "    </tr>\n",
       "    <tr>\n",
       "      <th>min</th>\n",
       "      <td>NaN</td>\n",
       "      <td>600.00</td>\n",
       "      <td>NaN</td>\n",
       "      <td>0.00</td>\n",
       "      <td>0.60</td>\n",
       "      <td>NaN</td>\n",
       "      <td>NaN</td>\n",
       "      <td>1969.00</td>\n",
       "      <td>NaN</td>\n",
       "    </tr>\n",
       "    <tr>\n",
       "      <th>25%</th>\n",
       "      <td>NaN</td>\n",
       "      <td>6996.75</td>\n",
       "      <td>NaN</td>\n",
       "      <td>92.75</td>\n",
       "      <td>1.80</td>\n",
       "      <td>NaN</td>\n",
       "      <td>NaN</td>\n",
       "      <td>2003.00</td>\n",
       "      <td>NaN</td>\n",
       "    </tr>\n",
       "    <tr>\n",
       "      <th>50%</th>\n",
       "      <td>NaN</td>\n",
       "      <td>11426.99</td>\n",
       "      <td>NaN</td>\n",
       "      <td>160.00</td>\n",
       "      <td>2.20</td>\n",
       "      <td>NaN</td>\n",
       "      <td>NaN</td>\n",
       "      <td>2007.00</td>\n",
       "      <td>NaN</td>\n",
       "    </tr>\n",
       "    <tr>\n",
       "      <th>75%</th>\n",
       "      <td>NaN</td>\n",
       "      <td>21200.00</td>\n",
       "      <td>NaN</td>\n",
       "      <td>230.00</td>\n",
       "      <td>3.00</td>\n",
       "      <td>NaN</td>\n",
       "      <td>NaN</td>\n",
       "      <td>2011.00</td>\n",
       "      <td>NaN</td>\n",
       "    </tr>\n",
       "    <tr>\n",
       "      <th>max</th>\n",
       "      <td>NaN</td>\n",
       "      <td>137000.00</td>\n",
       "      <td>NaN</td>\n",
       "      <td>800.00</td>\n",
       "      <td>99.99</td>\n",
       "      <td>NaN</td>\n",
       "      <td>NaN</td>\n",
       "      <td>2016.00</td>\n",
       "      <td>NaN</td>\n",
       "    </tr>\n",
       "  </tbody>\n",
       "</table>\n",
       "</div>"
      ],
      "text/plain": [
       "             Brand     Price   Body  Mileage  EngineV Engine Type  \\\n",
       "count         3988   3988.00   3988  3988.00  3988.00        3988   \n",
       "unique           7       NaN      6      NaN      NaN           4   \n",
       "top     Volkswagen       NaN  sedan      NaN      NaN      Diesel   \n",
       "freq           880       NaN   1529      NaN      NaN        1854   \n",
       "mean           NaN  17989.39    NaN   164.51     2.75         NaN   \n",
       "std            NaN  19458.64    NaN   101.57     4.95         NaN   \n",
       "min            NaN    600.00    NaN     0.00     0.60         NaN   \n",
       "25%            NaN   6996.75    NaN    92.75     1.80         NaN   \n",
       "50%            NaN  11426.99    NaN   160.00     2.20         NaN   \n",
       "75%            NaN  21200.00    NaN   230.00     3.00         NaN   \n",
       "max            NaN 137000.00    NaN   800.00    99.99         NaN   \n",
       "\n",
       "       Registration    Year    Model  \n",
       "count          3988 3988.00     3988  \n",
       "unique            2     NaN      303  \n",
       "top             yes     NaN  E-Class  \n",
       "freq           3617     NaN      188  \n",
       "mean            NaN 2006.30      NaN  \n",
       "std             NaN    6.68      NaN  \n",
       "min             NaN 1969.00      NaN  \n",
       "25%             NaN 2003.00      NaN  \n",
       "50%             NaN 2007.00      NaN  \n",
       "75%             NaN 2011.00      NaN  \n",
       "max             NaN 2016.00      NaN  "
      ]
     },
     "execution_count": 218,
     "metadata": {},
     "output_type": "execute_result"
    }
   ],
   "source": [
    "q = data_no_mv['Price'].quantile(0.99)\n",
    "data_1 = data_no_mv[data_no_mv['Price']<q]\n",
    "# print(data_no_mv.describe(include='all'))\n",
    "# data_1 = data_no_mv.drop(index = outliers)\n",
    "data_1.describe(include='all')"
   ]
  },
  {
   "cell_type": "code",
   "execution_count": 219,
   "metadata": {},
   "outputs": [
    {
     "name": "stderr",
     "output_type": "stream",
     "text": [
      "/tmp/ipykernel_13462/2589761964.py:1: UserWarning: \n",
      "\n",
      "`distplot` is a deprecated function and will be removed in seaborn v0.14.0.\n",
      "\n",
      "Please adapt your code to use either `displot` (a figure-level function with\n",
      "similar flexibility) or `histplot` (an axes-level function for histograms).\n",
      "\n",
      "For a guide to updating your code to use the new functions, please see\n",
      "https://gist.github.com/mwaskom/de44147ed2974457ad6372750bbe5751\n",
      "\n",
      "  sns.distplot(data_1['Price'])\n"
     ]
    },
    {
     "data": {
      "text/plain": [
       "<AxesSubplot: xlabel='Price', ylabel='Density'>"
      ]
     },
     "execution_count": 219,
     "metadata": {},
     "output_type": "execute_result"
    },
    {
     "data": {
      "image/png": "[encoded data removed]",
      "text/plain": [
       "<Figure size 640x480 with 1 Axes>"
      ]
     },
     "metadata": {},
     "output_type": "display_data"
    }
   ],
   "source": [
    "sns.distplot(data_1['Price'])"
   ]
  },
  {
   "cell_type": "code",
   "execution_count": 220,
   "metadata": {},
   "outputs": [
    {
     "name": "stderr",
     "output_type": "stream",
     "text": [
      "/tmp/ipykernel_13462/534165355.py:1: UserWarning: \n",
      "\n",
      "`distplot` is a deprecated function and will be removed in seaborn v0.14.0.\n",
      "\n",
      "Please adapt your code to use either `displot` (a figure-level function with\n",
      "similar flexibility) or `histplot` (an axes-level function for histograms).\n",
      "\n",
      "For a guide to updating your code to use the new functions, please see\n",
      "https://gist.github.com/mwaskom/de44147ed2974457ad6372750bbe5751\n",
      "\n",
      "  sns.distplot(data_no_mv['Mileage'])\n"
     ]
    },
    {
     "data": {
      "text/plain": [
       "<AxesSubplot: xlabel='Mileage', ylabel='Density'>"
      ]
     },
     "execution_count": 220,
     "metadata": {},
     "output_type": "execute_result"
    },
    {
     "data": {
      "image/png": "[encoded data removed]",
      "text/plain": [
       "<Figure size 640x480 with 1 Axes>"
      ]
     },
     "metadata": {},
     "output_type": "display_data"
    }
   ],
   "source": [
    "sns.distplot(data_no_mv['Mileage'])"
   ]
  },
  {
   "cell_type": "code",
   "execution_count": 221,
   "metadata": {},
   "outputs": [],
   "source": [
    "q = data_1['Mileage'].quantile(0.99)\n",
    "data_2 = data_1[data_1['Mileage']<q]"
   ]
  },
  {
   "cell_type": "code",
   "execution_count": 222,
   "metadata": {},
   "outputs": [
    {
     "name": "stderr",
     "output_type": "stream",
     "text": [
      "/tmp/ipykernel_13462/1950307955.py:1: UserWarning: \n",
      "\n",
      "`distplot` is a deprecated function and will be removed in seaborn v0.14.0.\n",
      "\n",
      "Please adapt your code to use either `displot` (a figure-level function with\n",
      "similar flexibility) or `histplot` (an axes-level function for histograms).\n",
      "\n",
      "For a guide to updating your code to use the new functions, please see\n",
      "https://gist.github.com/mwaskom/de44147ed2974457ad6372750bbe5751\n",
      "\n",
      "  sns.distplot(data_2['Mileage'])\n"
     ]
    },
    {
     "data": {
      "text/plain": [
       "<AxesSubplot: xlabel='Mileage', ylabel='Density'>"
      ]
     },
     "execution_count": 222,
     "metadata": {},
     "output_type": "execute_result"
    },
    {
     "data": {
      "image/png": "[encoded data removed]",
      "text/plain": [
       "<Figure size 640x480 with 1 Axes>"
      ]
     },
     "metadata": {},
     "output_type": "display_data"
    }
   ],
   "source": [
    "sns.distplot(data_2['Mileage'])"
   ]
  },
  {
   "cell_type": "code",
   "execution_count": 223,
   "metadata": {},
   "outputs": [
    {
     "name": "stderr",
     "output_type": "stream",
     "text": [
      "/tmp/ipykernel_13462/823394628.py:1: UserWarning: \n",
      "\n",
      "`distplot` is a deprecated function and will be removed in seaborn v0.14.0.\n",
      "\n",
      "Please adapt your code to use either `displot` (a figure-level function with\n",
      "similar flexibility) or `histplot` (an axes-level function for histograms).\n",
      "\n",
      "For a guide to updating your code to use the new functions, please see\n",
      "https://gist.github.com/mwaskom/de44147ed2974457ad6372750bbe5751\n",
      "\n",
      "  sns.distplot(data_no_mv['EngineV'])\n"
     ]
    },
    {
     "data": {
      "text/plain": [
       "<AxesSubplot: xlabel='EngineV', ylabel='Density'>"
      ]
     },
     "execution_count": 223,
     "metadata": {},
     "output_type": "execute_result"
    },
    {
     "data": {
      "image/png": "[encoded data removed]",
      "text/plain": [
       "<Figure size 640x480 with 1 Axes>"
      ]
     },
     "metadata": {},
     "output_type": "display_data"
    }
   ],
   "source": [
    "sns.distplot(data_no_mv['EngineV'])"
   ]
  },
  {
   "cell_type": "code",
   "execution_count": 224,
   "metadata": {},
   "outputs": [],
   "source": [
    "data_3 = data_2[data_2['EngineV']<6.5]"
   ]
  },
  {
   "cell_type": "code",
   "execution_count": 225,
   "metadata": {},
   "outputs": [
    {
     "name": "stderr",
     "output_type": "stream",
     "text": [
      "/tmp/ipykernel_13462/1902427236.py:1: UserWarning: \n",
      "\n",
      "`distplot` is a deprecated function and will be removed in seaborn v0.14.0.\n",
      "\n",
      "Please adapt your code to use either `displot` (a figure-level function with\n",
      "similar flexibility) or `histplot` (an axes-level function for histograms).\n",
      "\n",
      "For a guide to updating your code to use the new functions, please see\n",
      "https://gist.github.com/mwaskom/de44147ed2974457ad6372750bbe5751\n",
      "\n",
      "  sns.distplot(data_3['EngineV'])\n"
     ]
    },
    {
     "data": {
      "text/plain": [
       "<AxesSubplot: xlabel='EngineV', ylabel='Density'>"
      ]
     },
     "execution_count": 225,
     "metadata": {},
     "output_type": "execute_result"
    },
    {
     "data": {
      "image/png": "[encoded data removed]",
      "text/plain": [
       "<Figure size 640x480 with 1 Axes>"
      ]
     },
     "metadata": {},
     "output_type": "display_data"
    }
   ],
   "source": [
    "sns.distplot(data_3['EngineV'])"
   ]
  },
  {
   "cell_type": "code",
   "execution_count": 226,
   "metadata": {},
   "outputs": [
    {
     "name": "stderr",
     "output_type": "stream",
     "text": [
      "/tmp/ipykernel_13462/534082538.py:1: UserWarning: \n",
      "\n",
      "`distplot` is a deprecated function and will be removed in seaborn v0.14.0.\n",
      "\n",
      "Please adapt your code to use either `displot` (a figure-level function with\n",
      "similar flexibility) or `histplot` (an axes-level function for histograms).\n",
      "\n",
      "For a guide to updating your code to use the new functions, please see\n",
      "https://gist.github.com/mwaskom/de44147ed2974457ad6372750bbe5751\n",
      "\n",
      "  sns.distplot(data_no_mv['Year'])\n"
     ]
    },
    {
     "data": {
      "text/plain": [
       "<AxesSubplot: xlabel='Year', ylabel='Density'>"
      ]
     },
     "execution_count": 226,
     "metadata": {},
     "output_type": "execute_result"
    },
    {
     "data": {
      "image/png": "[encoded data removed]",
      "text/plain": [
       "<Figure size 640x480 with 1 Axes>"
      ]
     },
     "metadata": {},
     "output_type": "display_data"
    }
   ],
   "source": [
    "sns.distplot(data_no_mv['Year'])"
   ]
  },
  {
   "cell_type": "code",
   "execution_count": 227,
   "metadata": {},
   "outputs": [],
   "source": [
    "q = data_3['Year'].quantile(0.01)\n",
    "data_4 = data_3[data_3['Year']>q]"
   ]
  },
  {
   "cell_type": "code",
   "execution_count": 228,
   "metadata": {},
   "outputs": [
    {
     "name": "stderr",
     "output_type": "stream",
     "text": [
      "/tmp/ipykernel_13462/2748958191.py:1: UserWarning: \n",
      "\n",
      "`distplot` is a deprecated function and will be removed in seaborn v0.14.0.\n",
      "\n",
      "Please adapt your code to use either `displot` (a figure-level function with\n",
      "similar flexibility) or `histplot` (an axes-level function for histograms).\n",
      "\n",
      "For a guide to updating your code to use the new functions, please see\n",
      "https://gist.github.com/mwaskom/de44147ed2974457ad6372750bbe5751\n",
      "\n",
      "  sns.distplot(data_4['Year'])\n"
     ]
    },
    {
     "data": {
      "text/plain": [
       "<AxesSubplot: xlabel='Year', ylabel='Density'>"
      ]
     },
     "execution_count": 228,
     "metadata": {},
     "output_type": "execute_result"
    },
    {
     "data": {
      "image/png": "[encoded data removed]",
      "text/plain": [
       "<Figure size 640x480 with 1 Axes>"
      ]
     },
     "metadata": {},
     "output_type": "display_data"
    }
   ],
   "source": [
    "sns.distplot(data_4['Year'])"
   ]
  },
  {
   "cell_type": "code",
   "execution_count": 229,
   "metadata": {},
   "outputs": [],
   "source": [
    "data_cleaned = data_4.reset_index(drop=True)"
   ]
  },
  {
   "cell_type": "code",
   "execution_count": 230,
   "metadata": {},
   "outputs": [
    {
     "data": {
      "text/html": [
       "<div>\n",
       "<style scoped>\n",
       "    .dataframe tbody tr th:only-of-type {\n",
       "        vertical-align: middle;\n",
       "    }\n",
       "\n",
       "    .dataframe tbody tr th {\n",
       "        vertical-align: top;\n",
       "    }\n",
       "\n",
       "    .dataframe thead th {\n",
       "        text-align: right;\n",
       "    }\n",
       "</style>\n",
       "<table border=\"1\" class=\"dataframe\">\n",
       "  <thead>\n",
       "    <tr style=\"text-align: right;\">\n",
       "      <th></th>\n",
       "      <th>Brand</th>\n",
       "      <th>Price</th>\n",
       "      <th>Body</th>\n",
       "      <th>Mileage</th>\n",
       "      <th>EngineV</th>\n",
       "      <th>Engine Type</th>\n",
       "      <th>Registration</th>\n",
       "      <th>Year</th>\n",
       "      <th>Model</th>\n",
       "    </tr>\n",
       "  </thead>\n",
       "  <tbody>\n",
       "    <tr>\n",
       "      <th>count</th>\n",
       "      <td>3871</td>\n",
       "      <td>3871.00</td>\n",
       "      <td>3871</td>\n",
       "      <td>3871.00</td>\n",
       "      <td>3871.00</td>\n",
       "      <td>3871</td>\n",
       "      <td>3871</td>\n",
       "      <td>3871.00</td>\n",
       "      <td>3871</td>\n",
       "    </tr>\n",
       "    <tr>\n",
       "      <th>unique</th>\n",
       "      <td>7</td>\n",
       "      <td>NaN</td>\n",
       "      <td>6</td>\n",
       "      <td>NaN</td>\n",
       "      <td>NaN</td>\n",
       "      <td>4</td>\n",
       "      <td>2</td>\n",
       "      <td>NaN</td>\n",
       "      <td>292</td>\n",
       "    </tr>\n",
       "    <tr>\n",
       "      <th>top</th>\n",
       "      <td>Volkswagen</td>\n",
       "      <td>NaN</td>\n",
       "      <td>sedan</td>\n",
       "      <td>NaN</td>\n",
       "      <td>NaN</td>\n",
       "      <td>Diesel</td>\n",
       "      <td>yes</td>\n",
       "      <td>NaN</td>\n",
       "      <td>E-Class</td>\n",
       "    </tr>\n",
       "    <tr>\n",
       "      <th>freq</th>\n",
       "      <td>847</td>\n",
       "      <td>NaN</td>\n",
       "      <td>1467</td>\n",
       "      <td>NaN</td>\n",
       "      <td>NaN</td>\n",
       "      <td>1808</td>\n",
       "      <td>3510</td>\n",
       "      <td>NaN</td>\n",
       "      <td>181</td>\n",
       "    </tr>\n",
       "    <tr>\n",
       "      <th>mean</th>\n",
       "      <td>NaN</td>\n",
       "      <td>18378.60</td>\n",
       "      <td>NaN</td>\n",
       "      <td>160.16</td>\n",
       "      <td>2.45</td>\n",
       "      <td>NaN</td>\n",
       "      <td>NaN</td>\n",
       "      <td>2006.73</td>\n",
       "      <td>NaN</td>\n",
       "    </tr>\n",
       "    <tr>\n",
       "      <th>std</th>\n",
       "      <td>NaN</td>\n",
       "      <td>19596.74</td>\n",
       "      <td>NaN</td>\n",
       "      <td>95.57</td>\n",
       "      <td>0.95</td>\n",
       "      <td>NaN</td>\n",
       "      <td>NaN</td>\n",
       "      <td>6.10</td>\n",
       "      <td>NaN</td>\n",
       "    </tr>\n",
       "    <tr>\n",
       "      <th>min</th>\n",
       "      <td>NaN</td>\n",
       "      <td>800.00</td>\n",
       "      <td>NaN</td>\n",
       "      <td>0.00</td>\n",
       "      <td>0.60</td>\n",
       "      <td>NaN</td>\n",
       "      <td>NaN</td>\n",
       "      <td>1988.00</td>\n",
       "      <td>NaN</td>\n",
       "    </tr>\n",
       "    <tr>\n",
       "      <th>25%</th>\n",
       "      <td>NaN</td>\n",
       "      <td>7200.00</td>\n",
       "      <td>NaN</td>\n",
       "      <td>90.00</td>\n",
       "      <td>1.80</td>\n",
       "      <td>NaN</td>\n",
       "      <td>NaN</td>\n",
       "      <td>2003.00</td>\n",
       "      <td>NaN</td>\n",
       "    </tr>\n",
       "    <tr>\n",
       "      <th>50%</th>\n",
       "      <td>NaN</td>\n",
       "      <td>11700.00</td>\n",
       "      <td>NaN</td>\n",
       "      <td>157.00</td>\n",
       "      <td>2.20</td>\n",
       "      <td>NaN</td>\n",
       "      <td>NaN</td>\n",
       "      <td>2008.00</td>\n",
       "      <td>NaN</td>\n",
       "    </tr>\n",
       "    <tr>\n",
       "      <th>75%</th>\n",
       "      <td>NaN</td>\n",
       "      <td>21800.00</td>\n",
       "      <td>NaN</td>\n",
       "      <td>225.00</td>\n",
       "      <td>3.00</td>\n",
       "      <td>NaN</td>\n",
       "      <td>NaN</td>\n",
       "      <td>2012.00</td>\n",
       "      <td>NaN</td>\n",
       "    </tr>\n",
       "    <tr>\n",
       "      <th>max</th>\n",
       "      <td>NaN</td>\n",
       "      <td>137000.00</td>\n",
       "      <td>NaN</td>\n",
       "      <td>432.00</td>\n",
       "      <td>6.30</td>\n",
       "      <td>NaN</td>\n",
       "      <td>NaN</td>\n",
       "      <td>2016.00</td>\n",
       "      <td>NaN</td>\n",
       "    </tr>\n",
       "  </tbody>\n",
       "</table>\n",
       "</div>"
      ],
      "text/plain": [
       "             Brand     Price   Body  Mileage  EngineV Engine Type  \\\n",
       "count         3871   3871.00   3871  3871.00  3871.00        3871   \n",
       "unique           7       NaN      6      NaN      NaN           4   \n",
       "top     Volkswagen       NaN  sedan      NaN      NaN      Diesel   \n",
       "freq           847       NaN   1467      NaN      NaN        1808   \n",
       "mean           NaN  18378.60    NaN   160.16     2.45         NaN   \n",
       "std            NaN  19596.74    NaN    95.57     0.95         NaN   \n",
       "min            NaN    800.00    NaN     0.00     0.60         NaN   \n",
       "25%            NaN   7200.00    NaN    90.00     1.80         NaN   \n",
       "50%            NaN  11700.00    NaN   157.00     2.20         NaN   \n",
       "75%            NaN  21800.00    NaN   225.00     3.00         NaN   \n",
       "max            NaN 137000.00    NaN   432.00     6.30         NaN   \n",
       "\n",
       "       Registration    Year    Model  \n",
       "count          3871 3871.00     3871  \n",
       "unique            2     NaN      292  \n",
       "top             yes     NaN  E-Class  \n",
       "freq           3510     NaN      181  \n",
       "mean            NaN 2006.73      NaN  \n",
       "std             NaN    6.10      NaN  \n",
       "min             NaN 1988.00      NaN  \n",
       "25%             NaN 2003.00      NaN  \n",
       "50%             NaN 2008.00      NaN  \n",
       "75%             NaN 2012.00      NaN  \n",
       "max             NaN 2016.00      NaN  "
      ]
     },
     "execution_count": 230,
     "metadata": {},
     "output_type": "execute_result"
    }
   ],
   "source": [
    "data_cleaned.describe(include='all')"
   ]
  },
  {
   "attachments": {},
   "cell_type": "markdown",
   "metadata": {},
   "source": [
    "## Checking the OLS assumptions"
   ]
  },
  {
   "cell_type": "code",
   "execution_count": 231,
   "metadata": {},
   "outputs": [
    {
     "data": {
      "image/png": "[encoded data removed]",
      "text/plain": [
       "<Figure size 1500x300 with 3 Axes>"
      ]
     },
     "metadata": {},
     "output_type": "display_data"
    }
   ],
   "source": [
    "f, (ax1, ax2, ax3) = plt.subplots(1, 3, sharey=True, figsize =(15,3))\n",
    "ax1.scatter(data_cleaned['Year'],data_cleaned['Price'])\n",
    "ax1.set_title('Price and Year')\n",
    "ax2.scatter(data_cleaned['EngineV'],data_cleaned['Price'])\n",
    "ax2.set_title('Price and EngineV')\n",
    "ax3.scatter(data_cleaned['Mileage'],data_cleaned['Price'])\n",
    "ax3.set_title('Price and Mileage')\n",
    "\n",
    "\n",
    "plt.show()"
   ]
  },
  {
   "cell_type": "code",
   "execution_count": 232,
   "metadata": {},
   "outputs": [
    {
     "name": "stderr",
     "output_type": "stream",
     "text": [
      "/tmp/ipykernel_13462/462586877.py:1: UserWarning: \n",
      "\n",
      "`distplot` is a deprecated function and will be removed in seaborn v0.14.0.\n",
      "\n",
      "Please adapt your code to use either `displot` (a figure-level function with\n",
      "similar flexibility) or `histplot` (an axes-level function for histograms).\n",
      "\n",
      "For a guide to updating your code to use the new functions, please see\n",
      "https://gist.github.com/mwaskom/de44147ed2974457ad6372750bbe5751\n",
      "\n",
      "  sns.distplot(data_cleaned['Price'])\n"
     ]
    },
    {
     "data": {
      "text/plain": [
       "<AxesSubplot: xlabel='Price', ylabel='Density'>"
      ]
     },
     "execution_count": 232,
     "metadata": {},
     "output_type": "execute_result"
    },
    {
     "data": {
      "image/png": "[encoded data removed]",
      "text/plain": [
       "<Figure size 640x480 with 1 Axes>"
      ]
     },
     "metadata": {},
     "output_type": "display_data"
    }
   ],
   "source": [
    "sns.distplot(data_cleaned['Price'])"
   ]
  },
  {
   "attachments": {},
   "cell_type": "markdown",
   "metadata": {},
   "source": [
    "### Relaxing the assumptions"
   ]
  },
  {
   "cell_type": "code",
   "execution_count": 233,
   "metadata": {
    "scrolled": true
   },
   "outputs": [
    {
     "data": {
      "text/html": [
       "<div>\n",
       "<style scoped>\n",
       "    .dataframe tbody tr th:only-of-type {\n",
       "        vertical-align: middle;\n",
       "    }\n",
       "\n",
       "    .dataframe tbody tr th {\n",
       "        vertical-align: top;\n",
       "    }\n",
       "\n",
       "    .dataframe thead th {\n",
       "        text-align: right;\n",
       "    }\n",
       "</style>\n",
       "<table border=\"1\" class=\"dataframe\">\n",
       "  <thead>\n",
       "    <tr style=\"text-align: right;\">\n",
       "      <th></th>\n",
       "      <th>Brand</th>\n",
       "      <th>Price</th>\n",
       "      <th>Body</th>\n",
       "      <th>Mileage</th>\n",
       "      <th>EngineV</th>\n",
       "      <th>Engine Type</th>\n",
       "      <th>Registration</th>\n",
       "      <th>Year</th>\n",
       "      <th>Model</th>\n",
       "      <th>log_price</th>\n",
       "    </tr>\n",
       "  </thead>\n",
       "  <tbody>\n",
       "    <tr>\n",
       "      <th>0</th>\n",
       "      <td>BMW</td>\n",
       "      <td>4200.00</td>\n",
       "      <td>sedan</td>\n",
       "      <td>277</td>\n",
       "      <td>2.00</td>\n",
       "      <td>Petrol</td>\n",
       "      <td>yes</td>\n",
       "      <td>1991</td>\n",
       "      <td>320</td>\n",
       "      <td>8.34</td>\n",
       "    </tr>\n",
       "    <tr>\n",
       "      <th>1</th>\n",
       "      <td>Mercedes-Benz</td>\n",
       "      <td>7900.00</td>\n",
       "      <td>van</td>\n",
       "      <td>427</td>\n",
       "      <td>2.90</td>\n",
       "      <td>Diesel</td>\n",
       "      <td>yes</td>\n",
       "      <td>1999</td>\n",
       "      <td>Sprinter 212</td>\n",
       "      <td>8.97</td>\n",
       "    </tr>\n",
       "    <tr>\n",
       "      <th>2</th>\n",
       "      <td>Mercedes-Benz</td>\n",
       "      <td>13300.00</td>\n",
       "      <td>sedan</td>\n",
       "      <td>358</td>\n",
       "      <td>5.00</td>\n",
       "      <td>Gas</td>\n",
       "      <td>yes</td>\n",
       "      <td>2003</td>\n",
       "      <td>S 500</td>\n",
       "      <td>9.50</td>\n",
       "    </tr>\n",
       "    <tr>\n",
       "      <th>3</th>\n",
       "      <td>Audi</td>\n",
       "      <td>23000.00</td>\n",
       "      <td>crossover</td>\n",
       "      <td>240</td>\n",
       "      <td>4.20</td>\n",
       "      <td>Petrol</td>\n",
       "      <td>yes</td>\n",
       "      <td>2007</td>\n",
       "      <td>Q7</td>\n",
       "      <td>10.04</td>\n",
       "    </tr>\n",
       "    <tr>\n",
       "      <th>4</th>\n",
       "      <td>Toyota</td>\n",
       "      <td>18300.00</td>\n",
       "      <td>crossover</td>\n",
       "      <td>120</td>\n",
       "      <td>2.00</td>\n",
       "      <td>Petrol</td>\n",
       "      <td>yes</td>\n",
       "      <td>2011</td>\n",
       "      <td>Rav 4</td>\n",
       "      <td>9.81</td>\n",
       "    </tr>\n",
       "    <tr>\n",
       "      <th>...</th>\n",
       "      <td>...</td>\n",
       "      <td>...</td>\n",
       "      <td>...</td>\n",
       "      <td>...</td>\n",
       "      <td>...</td>\n",
       "      <td>...</td>\n",
       "      <td>...</td>\n",
       "      <td>...</td>\n",
       "      <td>...</td>\n",
       "      <td>...</td>\n",
       "    </tr>\n",
       "    <tr>\n",
       "      <th>3866</th>\n",
       "      <td>Volkswagen</td>\n",
       "      <td>11500.00</td>\n",
       "      <td>van</td>\n",
       "      <td>163</td>\n",
       "      <td>2.50</td>\n",
       "      <td>Diesel</td>\n",
       "      <td>yes</td>\n",
       "      <td>2008</td>\n",
       "      <td>T5 (Transporter)</td>\n",
       "      <td>9.35</td>\n",
       "    </tr>\n",
       "    <tr>\n",
       "      <th>3867</th>\n",
       "      <td>Toyota</td>\n",
       "      <td>17900.00</td>\n",
       "      <td>sedan</td>\n",
       "      <td>35</td>\n",
       "      <td>1.60</td>\n",
       "      <td>Petrol</td>\n",
       "      <td>yes</td>\n",
       "      <td>2014</td>\n",
       "      <td>Corolla</td>\n",
       "      <td>9.79</td>\n",
       "    </tr>\n",
       "    <tr>\n",
       "      <th>3868</th>\n",
       "      <td>Mercedes-Benz</td>\n",
       "      <td>125000.00</td>\n",
       "      <td>sedan</td>\n",
       "      <td>9</td>\n",
       "      <td>3.00</td>\n",
       "      <td>Diesel</td>\n",
       "      <td>yes</td>\n",
       "      <td>2014</td>\n",
       "      <td>S 350</td>\n",
       "      <td>11.74</td>\n",
       "    </tr>\n",
       "    <tr>\n",
       "      <th>3869</th>\n",
       "      <td>BMW</td>\n",
       "      <td>6500.00</td>\n",
       "      <td>sedan</td>\n",
       "      <td>1</td>\n",
       "      <td>3.50</td>\n",
       "      <td>Petrol</td>\n",
       "      <td>yes</td>\n",
       "      <td>1999</td>\n",
       "      <td>535</td>\n",
       "      <td>8.78</td>\n",
       "    </tr>\n",
       "    <tr>\n",
       "      <th>3870</th>\n",
       "      <td>Volkswagen</td>\n",
       "      <td>13500.00</td>\n",
       "      <td>van</td>\n",
       "      <td>124</td>\n",
       "      <td>2.00</td>\n",
       "      <td>Diesel</td>\n",
       "      <td>yes</td>\n",
       "      <td>2013</td>\n",
       "      <td>T5 (Transporter)</td>\n",
       "      <td>9.51</td>\n",
       "    </tr>\n",
       "  </tbody>\n",
       "</table>\n",
       "<p>3871 rows × 10 columns</p>\n",
       "</div>"
      ],
      "text/plain": [
       "              Brand     Price       Body  Mileage  EngineV Engine Type  \\\n",
       "0               BMW   4200.00      sedan      277     2.00      Petrol   \n",
       "1     Mercedes-Benz   7900.00        van      427     2.90      Diesel   \n",
       "2     Mercedes-Benz  13300.00      sedan      358     5.00         Gas   \n",
       "3              Audi  23000.00  crossover      240     4.20      Petrol   \n",
       "4            Toyota  18300.00  crossover      120     2.00      Petrol   \n",
       "...             ...       ...        ...      ...      ...         ...   \n",
       "3866     Volkswagen  11500.00        van      163     2.50      Diesel   \n",
       "3867         Toyota  17900.00      sedan       35     1.60      Petrol   \n",
       "3868  Mercedes-Benz 125000.00      sedan        9     3.00      Diesel   \n",
       "3869            BMW   6500.00      sedan        1     3.50      Petrol   \n",
       "3870     Volkswagen  13500.00        van      124     2.00      Diesel   \n",
       "\n",
       "     Registration  Year              Model  log_price  \n",
       "0             yes  1991                320       8.34  \n",
       "1             yes  1999       Sprinter 212       8.97  \n",
       "2             yes  2003              S 500       9.50  \n",
       "3             yes  2007                 Q7      10.04  \n",
       "4             yes  2011              Rav 4       9.81  \n",
       "...           ...   ...                ...        ...  \n",
       "3866          yes  2008   T5 (Transporter)       9.35  \n",
       "3867          yes  2014            Corolla       9.79  \n",
       "3868          yes  2014              S 350      11.74  \n",
       "3869          yes  1999                535       8.78  \n",
       "3870          yes  2013  T5 (Transporter)        9.51  \n",
       "\n",
       "[3871 rows x 10 columns]"
      ]
     },
     "execution_count": 233,
     "metadata": {},
     "output_type": "execute_result"
    }
   ],
   "source": [
    "log_price = np.log(data_cleaned['Price'])\n",
    "data_cleaned['log_price'] = log_price\n",
    "data_cleaned"
   ]
  },
  {
   "cell_type": "code",
   "execution_count": 234,
   "metadata": {},
   "outputs": [
    {
     "data": {
      "image/png": "[encoded data removed]",
      "text/plain": [
       "<Figure size 1500x300 with 3 Axes>"
      ]
     },
     "metadata": {},
     "output_type": "display_data"
    }
   ],
   "source": [
    "f, (ax1, ax2, ax3) = plt.subplots(1, 3, sharey=True, figsize =(15,3))\n",
    "ax1.scatter(data_cleaned['Year'],data_cleaned['log_price'])\n",
    "ax1.set_title('Log Price and Year')\n",
    "ax2.scatter(data_cleaned['EngineV'],data_cleaned['log_price'])\n",
    "ax2.set_title('Log Price and EngineV')\n",
    "ax3.scatter(data_cleaned['Mileage'],data_cleaned['log_price'])\n",
    "ax3.set_title('Log Price and Mileage')\n",
    "\n",
    "\n",
    "plt.show()"
   ]
  },
  {
   "cell_type": "code",
   "execution_count": 235,
   "metadata": {},
   "outputs": [],
   "source": [
    "data_cleaned = data_cleaned.drop(['Price'],axis=1)"
   ]
  },
  {
   "attachments": {},
   "cell_type": "markdown",
   "metadata": {},
   "source": [
    "### Multicollinearity"
   ]
  },
  {
   "cell_type": "code",
   "execution_count": 236,
   "metadata": {},
   "outputs": [
    {
     "data": {
      "text/plain": [
       "array(['Brand', 'Body', 'Mileage', 'EngineV', 'Engine Type',\n",
       "       'Registration', 'Year', 'Model', 'log_price'], dtype=object)"
      ]
     },
     "execution_count": 236,
     "metadata": {},
     "output_type": "execute_result"
    }
   ],
   "source": [
    "data_cleaned.columns.values"
   ]
  },
  {
   "cell_type": "code",
   "execution_count": 237,
   "metadata": {},
   "outputs": [],
   "source": [
    "from statsmodels.stats.outliers_influence import variance_inflation_factor\n",
    "variables = data_cleaned[['Mileage','Year','EngineV']]\n",
    "vif = pd.DataFrame()\n",
    "vif[\"VIF\"] = [variance_inflation_factor(variables.values, i) for i in range(variables.shape[1])]\n",
    "vif[\"features\"] = variables.columns"
   ]
  },
  {
   "cell_type": "code",
   "execution_count": 238,
   "metadata": {},
   "outputs": [
    {
     "data": {
      "text/html": [
       "<div>\n",
       "<style scoped>\n",
       "    .dataframe tbody tr th:only-of-type {\n",
       "        vertical-align: middle;\n",
       "    }\n",
       "\n",
       "    .dataframe tbody tr th {\n",
       "        vertical-align: top;\n",
       "    }\n",
       "\n",
       "    .dataframe thead th {\n",
       "        text-align: right;\n",
       "    }\n",
       "</style>\n",
       "<table border=\"1\" class=\"dataframe\">\n",
       "  <thead>\n",
       "    <tr style=\"text-align: right;\">\n",
       "      <th></th>\n",
       "      <th>VIF</th>\n",
       "      <th>features</th>\n",
       "    </tr>\n",
       "  </thead>\n",
       "  <tbody>\n",
       "    <tr>\n",
       "      <th>0</th>\n",
       "      <td>3.78</td>\n",
       "      <td>Mileage</td>\n",
       "    </tr>\n",
       "    <tr>\n",
       "      <th>1</th>\n",
       "      <td>10.37</td>\n",
       "      <td>Year</td>\n",
       "    </tr>\n",
       "    <tr>\n",
       "      <th>2</th>\n",
       "      <td>7.64</td>\n",
       "      <td>EngineV</td>\n",
       "    </tr>\n",
       "  </tbody>\n",
       "</table>\n",
       "</div>"
      ],
      "text/plain": [
       "    VIF features\n",
       "0  3.78  Mileage\n",
       "1 10.37     Year\n",
       "2  7.64  EngineV"
      ]
     },
     "execution_count": 238,
     "metadata": {},
     "output_type": "execute_result"
    }
   ],
   "source": [
    "vif"
   ]
  },
  {
   "cell_type": "code",
   "execution_count": 239,
   "metadata": {},
   "outputs": [],
   "source": [
    "data_no_multicollinearity = data_cleaned.drop(['Year'],axis=1)"
   ]
  },
  {
   "attachments": {},
   "cell_type": "markdown",
   "metadata": {},
   "source": [
    "## Create dummy variables"
   ]
  },
  {
   "cell_type": "code",
   "execution_count": 240,
   "metadata": {},
   "outputs": [],
   "source": [
    "data_with_dummies = pd.get_dummies(data_no_multicollinearity, drop_first=True)"
   ]
  },
  {
   "cell_type": "code",
   "execution_count": 241,
   "metadata": {},
   "outputs": [
    {
     "data": {
      "text/html": [
       "<div>\n",
       "<style scoped>\n",
       "    .dataframe tbody tr th:only-of-type {\n",
       "        vertical-align: middle;\n",
       "    }\n",
       "\n",
       "    .dataframe tbody tr th {\n",
       "        vertical-align: top;\n",
       "    }\n",
       "\n",
       "    .dataframe thead th {\n",
       "        text-align: right;\n",
       "    }\n",
       "</style>\n",
       "<table border=\"1\" class=\"dataframe\">\n",
       "  <thead>\n",
       "    <tr style=\"text-align: right;\">\n",
       "      <th></th>\n",
       "      <th>Mileage</th>\n",
       "      <th>EngineV</th>\n",
       "      <th>log_price</th>\n",
       "      <th>Brand_BMW</th>\n",
       "      <th>Brand_Mercedes-Benz</th>\n",
       "      <th>Brand_Mitsubishi</th>\n",
       "      <th>Brand_Renault</th>\n",
       "      <th>Brand_Toyota</th>\n",
       "      <th>Brand_Volkswagen</th>\n",
       "      <th>Body_hatch</th>\n",
       "      <th>...</th>\n",
       "      <th>Model_Vito</th>\n",
       "      <th>Model_X1</th>\n",
       "      <th>Model_X3</th>\n",
       "      <th>Model_X5</th>\n",
       "      <th>Model_X5 M</th>\n",
       "      <th>Model_X6</th>\n",
       "      <th>Model_X6 M</th>\n",
       "      <th>Model_Yaris</th>\n",
       "      <th>Model_Z3</th>\n",
       "      <th>Model_Z4</th>\n",
       "    </tr>\n",
       "  </thead>\n",
       "  <tbody>\n",
       "    <tr>\n",
       "      <th>0</th>\n",
       "      <td>277</td>\n",
       "      <td>2.00</td>\n",
       "      <td>8.34</td>\n",
       "      <td>1</td>\n",
       "      <td>0</td>\n",
       "      <td>0</td>\n",
       "      <td>0</td>\n",
       "      <td>0</td>\n",
       "      <td>0</td>\n",
       "      <td>0</td>\n",
       "      <td>...</td>\n",
       "      <td>0</td>\n",
       "      <td>0</td>\n",
       "      <td>0</td>\n",
       "      <td>0</td>\n",
       "      <td>0</td>\n",
       "      <td>0</td>\n",
       "      <td>0</td>\n",
       "      <td>0</td>\n",
       "      <td>0</td>\n",
       "      <td>0</td>\n",
       "    </tr>\n",
       "    <tr>\n",
       "      <th>1</th>\n",
       "      <td>427</td>\n",
       "      <td>2.90</td>\n",
       "      <td>8.97</td>\n",
       "      <td>0</td>\n",
       "      <td>1</td>\n",
       "      <td>0</td>\n",
       "      <td>0</td>\n",
       "      <td>0</td>\n",
       "      <td>0</td>\n",
       "      <td>0</td>\n",
       "      <td>...</td>\n",
       "      <td>0</td>\n",
       "      <td>0</td>\n",
       "      <td>0</td>\n",
       "      <td>0</td>\n",
       "      <td>0</td>\n",
       "      <td>0</td>\n",
       "      <td>0</td>\n",
       "      <td>0</td>\n",
       "      <td>0</td>\n",
       "      <td>0</td>\n",
       "    </tr>\n",
       "    <tr>\n",
       "      <th>2</th>\n",
       "      <td>358</td>\n",
       "      <td>5.00</td>\n",
       "      <td>9.50</td>\n",
       "      <td>0</td>\n",
       "      <td>1</td>\n",
       "      <td>0</td>\n",
       "      <td>0</td>\n",
       "      <td>0</td>\n",
       "      <td>0</td>\n",
       "      <td>0</td>\n",
       "      <td>...</td>\n",
       "      <td>0</td>\n",
       "      <td>0</td>\n",
       "      <td>0</td>\n",
       "      <td>0</td>\n",
       "      <td>0</td>\n",
       "      <td>0</td>\n",
       "      <td>0</td>\n",
       "      <td>0</td>\n",
       "      <td>0</td>\n",
       "      <td>0</td>\n",
       "    </tr>\n",
       "    <tr>\n",
       "      <th>3</th>\n",
       "      <td>240</td>\n",
       "      <td>4.20</td>\n",
       "      <td>10.04</td>\n",
       "      <td>0</td>\n",
       "      <td>0</td>\n",
       "      <td>0</td>\n",
       "      <td>0</td>\n",
       "      <td>0</td>\n",
       "      <td>0</td>\n",
       "      <td>0</td>\n",
       "      <td>...</td>\n",
       "      <td>0</td>\n",
       "      <td>0</td>\n",
       "      <td>0</td>\n",
       "      <td>0</td>\n",
       "      <td>0</td>\n",
       "      <td>0</td>\n",
       "      <td>0</td>\n",
       "      <td>0</td>\n",
       "      <td>0</td>\n",
       "      <td>0</td>\n",
       "    </tr>\n",
       "    <tr>\n",
       "      <th>4</th>\n",
       "      <td>120</td>\n",
       "      <td>2.00</td>\n",
       "      <td>9.81</td>\n",
       "      <td>0</td>\n",
       "      <td>0</td>\n",
       "      <td>0</td>\n",
       "      <td>0</td>\n",
       "      <td>1</td>\n",
       "      <td>0</td>\n",
       "      <td>0</td>\n",
       "      <td>...</td>\n",
       "      <td>0</td>\n",
       "      <td>0</td>\n",
       "      <td>0</td>\n",
       "      <td>0</td>\n",
       "      <td>0</td>\n",
       "      <td>0</td>\n",
       "      <td>0</td>\n",
       "      <td>0</td>\n",
       "      <td>0</td>\n",
       "      <td>0</td>\n",
       "    </tr>\n",
       "  </tbody>\n",
       "</table>\n",
       "<p>5 rows × 309 columns</p>\n",
       "</div>"
      ],
      "text/plain": [
       "   Mileage  EngineV  log_price  Brand_BMW  Brand_Mercedes-Benz  \\\n",
       "0      277     2.00       8.34          1                    0   \n",
       "1      427     2.90       8.97          0                    1   \n",
       "2      358     5.00       9.50          0                    1   \n",
       "3      240     4.20      10.04          0                    0   \n",
       "4      120     2.00       9.81          0                    0   \n",
       "\n",
       "   Brand_Mitsubishi  Brand_Renault  Brand_Toyota  Brand_Volkswagen  \\\n",
       "0                 0              0             0                 0   \n",
       "1                 0              0             0                 0   \n",
       "2                 0              0             0                 0   \n",
       "3                 0              0             0                 0   \n",
       "4                 0              0             1                 0   \n",
       "\n",
       "   Body_hatch  ...  Model_Vito  Model_X1  Model_X3  Model_X5  Model_X5 M  \\\n",
       "0           0  ...           0         0         0         0           0   \n",
       "1           0  ...           0         0         0         0           0   \n",
       "2           0  ...           0         0         0         0           0   \n",
       "3           0  ...           0         0         0         0           0   \n",
       "4           0  ...           0         0         0         0           0   \n",
       "\n",
       "   Model_X6  Model_X6 M  Model_Yaris  Model_Z3  Model_Z4  \n",
       "0         0           0            0         0         0  \n",
       "1         0           0            0         0         0  \n",
       "2         0           0            0         0         0  \n",
       "3         0           0            0         0         0  \n",
       "4         0           0            0         0         0  \n",
       "\n",
       "[5 rows x 309 columns]"
      ]
     },
     "execution_count": 241,
     "metadata": {},
     "output_type": "execute_result"
    }
   ],
   "source": [
    "data_with_dummies.head()"
   ]
  },
  {
   "attachments": {},
   "cell_type": "markdown",
   "metadata": {},
   "source": [
    "### Rearrange a bit"
   ]
  },
  {
   "cell_type": "code",
   "execution_count": 242,
   "metadata": {},
   "outputs": [
    {
     "data": {
      "text/plain": [
       "array(['Mileage', 'EngineV', 'log_price', 'Brand_BMW',\n",
       "       'Brand_Mercedes-Benz', 'Brand_Mitsubishi', 'Brand_Renault',\n",
       "       'Brand_Toyota', 'Brand_Volkswagen', 'Body_hatch', 'Body_other',\n",
       "       'Body_sedan', 'Body_vagon', 'Body_van', 'Engine Type_Gas',\n",
       "       'Engine Type_Other', 'Engine Type_Petrol', 'Registration_yes',\n",
       "       'Model_100', 'Model_11', 'Model_116', 'Model_118', 'Model_120',\n",
       "       'Model_19', 'Model_190', 'Model_200', 'Model_210', 'Model_220',\n",
       "       'Model_230', 'Model_25', 'Model_250', 'Model_300', 'Model_316',\n",
       "       'Model_318', 'Model_320', 'Model_323', 'Model_325', 'Model_328',\n",
       "       'Model_330', 'Model_335', 'Model_4 Series Gran Coupe', 'Model_428',\n",
       "       'Model_4Runner', 'Model_5 Series', 'Model_5 Series GT',\n",
       "       'Model_520', 'Model_523', 'Model_524', 'Model_525', 'Model_528',\n",
       "       'Model_530', 'Model_535', 'Model_540', 'Model_545', 'Model_550',\n",
       "       'Model_6 Series Gran Coupe', 'Model_630', 'Model_640', 'Model_645',\n",
       "       'Model_650', 'Model_730', 'Model_735', 'Model_740', 'Model_745',\n",
       "       'Model_750', 'Model_760', 'Model_80', 'Model_9', 'Model_90',\n",
       "       'Model_A 140', 'Model_A 150', 'Model_A 170', 'Model_A 180',\n",
       "       'Model_A1', 'Model_A3', 'Model_A4', 'Model_A4 Allroad', 'Model_A5',\n",
       "       'Model_A6', 'Model_A6 Allroad', 'Model_A7', 'Model_A8',\n",
       "       'Model_ASX', 'Model_Amarok', 'Model_Auris', 'Model_Avalon',\n",
       "       'Model_Avensis', 'Model_Aygo', 'Model_B 170', 'Model_B 180',\n",
       "       'Model_B 200', 'Model_Beetle', 'Model_Bora', 'Model_C-Class',\n",
       "       'Model_CL 180', 'Model_CL 500', 'Model_CL 55 AMG', 'Model_CL 550',\n",
       "       'Model_CL 63 AMG', 'Model_CLA 200', 'Model_CLA 220',\n",
       "       'Model_CLA-Class', 'Model_CLC 180', 'Model_CLC 200',\n",
       "       'Model_CLK 200', 'Model_CLK 220', 'Model_CLK 230', 'Model_CLK 240',\n",
       "       'Model_CLK 280', 'Model_CLK 320', 'Model_CLK 430', 'Model_CLS 350',\n",
       "       'Model_CLS 400', 'Model_CLS 500', 'Model_CLS 63 AMG',\n",
       "       'Model_Caddy', 'Model_Camry', 'Model_Captur', 'Model_Caravelle',\n",
       "       'Model_Carina', 'Model_Carisma', 'Model_Celica', 'Model_Clio',\n",
       "       'Model_Colt', 'Model_Corolla', 'Model_Corolla Verso',\n",
       "       'Model_Cross Touran', 'Model_Dokker', 'Model_Duster',\n",
       "       'Model_E-Class', 'Model_Eclipse', 'Model_Eos', 'Model_Espace',\n",
       "       'Model_FJ Cruiser', 'Model_Fluence', 'Model_Fortuner',\n",
       "       'Model_G 320', 'Model_G 350', 'Model_G 500', 'Model_G 55 AMG',\n",
       "       'Model_G 63 AMG', 'Model_GL 320', 'Model_GL 350', 'Model_GL 420',\n",
       "       'Model_GL 450', 'Model_GL 500', 'Model_GL 550', 'Model_GLC-Class',\n",
       "       'Model_GLE-Class', 'Model_GLK 220', 'Model_GLK 300',\n",
       "       'Model_GLS 350', 'Model_GLS 400', 'Model_GLS 500', 'Model_Galant',\n",
       "       'Model_Golf GTI', 'Model_Golf II', 'Model_Golf III',\n",
       "       'Model_Golf IV', 'Model_Golf Plus', 'Model_Golf V',\n",
       "       'Model_Golf VI', 'Model_Golf VII', 'Model_Golf Variant',\n",
       "       'Model_Grand Scenic', 'Model_Grandis', 'Model_Hiace',\n",
       "       'Model_Highlander', 'Model_Hilux', 'Model_I3', 'Model_IQ',\n",
       "       'Model_Jetta', 'Model_Kangoo', 'Model_Koleos', 'Model_L 200',\n",
       "       'Model_LT', 'Model_Laguna', 'Model_Lancer',\n",
       "       'Model_Lancer Evolution', 'Model_Lancer X',\n",
       "       'Model_Lancer X Sportback', 'Model_Land Cruiser 100',\n",
       "       'Model_Land Cruiser 105', 'Model_Land Cruiser 200',\n",
       "       'Model_Land Cruiser 76', 'Model_Land Cruiser 80',\n",
       "       'Model_Land Cruiser Prado', 'Model_Latitude', 'Model_Logan',\n",
       "       'Model_Lupo', 'Model_M5', 'Model_M6', 'Model_MB', 'Model_ML 250',\n",
       "       'Model_ML 270', 'Model_ML 280', 'Model_ML 320', 'Model_ML 350',\n",
       "       'Model_ML 400', 'Model_ML 430', 'Model_ML 500', 'Model_ML 550',\n",
       "       'Model_ML 63 AMG', 'Model_Master', 'Model_Matrix', 'Model_Megane',\n",
       "       'Model_Modus', 'Model_Multivan', 'Model_New Beetle',\n",
       "       'Model_Outlander', 'Model_Outlander XL', 'Model_Pajero',\n",
       "       'Model_Pajero Pinin', 'Model_Pajero Sport', 'Model_Pajero Wagon',\n",
       "       'Model_Passat B3', 'Model_Passat B4', 'Model_Passat B5',\n",
       "       'Model_Passat B6', 'Model_Passat B7', 'Model_Passat B8',\n",
       "       'Model_Passat CC', 'Model_Phaeton', 'Model_Pointer', 'Model_Polo',\n",
       "       'Model_Previa', 'Model_Prius', 'Model_Q3', 'Model_Q5', 'Model_Q7',\n",
       "       'Model_R 320', 'Model_R8', 'Model_Rav 4', 'Model_S 140',\n",
       "       'Model_S 250', 'Model_S 300', 'Model_S 320', 'Model_S 350',\n",
       "       'Model_S 400', 'Model_S 430', 'Model_S 500', 'Model_S 550',\n",
       "       'Model_S 600', 'Model_S 63 AMG', 'Model_S 65 AMG', 'Model_S4',\n",
       "       'Model_S5', 'Model_S8', 'Model_SL 500 (550)', 'Model_SL 55 AMG',\n",
       "       'Model_SLK 200', 'Model_SLK 350', 'Model_Sandero',\n",
       "       'Model_Sandero StepWay', 'Model_Scenic', 'Model_Scion',\n",
       "       'Model_Scirocco', 'Model_Sequoia', 'Model_Sharan', 'Model_Sienna',\n",
       "       'Model_Smart', 'Model_Space Star', 'Model_Space Wagon',\n",
       "       'Model_Sprinter 208', 'Model_Sprinter 210', 'Model_Sprinter 211',\n",
       "       'Model_Sprinter 212', 'Model_Sprinter 213', 'Model_Sprinter 311',\n",
       "       'Model_Sprinter 312', 'Model_Sprinter 313', 'Model_Sprinter 315',\n",
       "       'Model_Sprinter 316', 'Model_Sprinter 318', 'Model_Sprinter 319',\n",
       "       'Model_Symbol', 'Model_Syncro', 'Model_T3 (Transporter)',\n",
       "       'Model_T4 (Transporter)', 'Model_T4 (Transporter) ',\n",
       "       'Model_T5 (Transporter)', 'Model_T5 (Transporter) ',\n",
       "       'Model_T6 (Transporter)', 'Model_T6 (Transporter) ', 'Model_TT',\n",
       "       'Model_Tacoma', 'Model_Tiguan', 'Model_Touareg', 'Model_Touran',\n",
       "       'Model_Trafic', 'Model_Tundra', 'Model_Up', 'Model_V 250',\n",
       "       'Model_Vaneo', 'Model_Vento', 'Model_Venza', 'Model_Viano',\n",
       "       'Model_Virage', 'Model_Vista', 'Model_Vito', 'Model_X1',\n",
       "       'Model_X3', 'Model_X5', 'Model_X5 M', 'Model_X6', 'Model_X6 M',\n",
       "       'Model_Yaris', 'Model_Z3', 'Model_Z4'], dtype=object)"
      ]
     },
     "execution_count": 242,
     "metadata": {},
     "output_type": "execute_result"
    }
   ],
   "source": [
    "data_with_dummies.columns.values"
   ]
  },
  {
   "cell_type": "code",
   "execution_count": 243,
   "metadata": {},
   "outputs": [],
   "source": [
    "cols = ['log_price', 'Mileage', 'EngineV', 'Brand_BMW',\n",
    "       'Brand_Mercedes-Benz', 'Brand_Mitsubishi', 'Brand_Renault',\n",
    "       'Brand_Toyota', 'Brand_Volkswagen', 'Body_hatch', 'Body_other',\n",
    "       'Body_sedan', 'Body_vagon', 'Body_van', 'Engine Type_Gas',\n",
    "       'Engine Type_Other', 'Engine Type_Petrol', 'Registration_yes',\n",
    "       'Model_100', 'Model_11', 'Model_116', 'Model_118', 'Model_120',\n",
    "       'Model_19', 'Model_190', 'Model_200', 'Model_210', 'Model_220',\n",
    "       'Model_230', 'Model_25', 'Model_250', 'Model_300', 'Model_316',\n",
    "       'Model_318', 'Model_320', 'Model_323', 'Model_325', 'Model_328',\n",
    "       'Model_330', 'Model_335', 'Model_4 Series Gran Coupe', 'Model_428',\n",
    "       'Model_4Runner', 'Model_5 Series', 'Model_5 Series GT',\n",
    "       'Model_520', 'Model_523', 'Model_524', 'Model_525', 'Model_528',\n",
    "       'Model_530', 'Model_535', 'Model_540', 'Model_545', 'Model_550',\n",
    "       'Model_6 Series Gran Coupe', 'Model_630', 'Model_640', 'Model_645',\n",
    "       'Model_650', 'Model_730', 'Model_735', 'Model_740', 'Model_745',\n",
    "       'Model_750', 'Model_760', 'Model_80', 'Model_9', 'Model_90',\n",
    "       'Model_A 140', 'Model_A 150', 'Model_A 170', 'Model_A 180',\n",
    "       'Model_A1', 'Model_A3', 'Model_A4', 'Model_A4 Allroad', 'Model_A5',\n",
    "       'Model_A6', 'Model_A6 Allroad', 'Model_A7', 'Model_A8',\n",
    "       'Model_ASX', 'Model_Amarok', 'Model_Auris', 'Model_Avalon',\n",
    "       'Model_Avensis', 'Model_Aygo', 'Model_B 170', 'Model_B 180',\n",
    "       'Model_B 200', 'Model_Beetle', 'Model_Bora', 'Model_C-Class',\n",
    "       'Model_CL 180', 'Model_CL 500', 'Model_CL 55 AMG', 'Model_CL 550',\n",
    "       'Model_CL 63 AMG', 'Model_CLA 200', 'Model_CLA 220',\n",
    "       'Model_CLA-Class', 'Model_CLC 180', 'Model_CLC 200',\n",
    "       'Model_CLK 200', 'Model_CLK 220', 'Model_CLK 230', 'Model_CLK 240',\n",
    "       'Model_CLK 280', 'Model_CLK 320', 'Model_CLK 430', 'Model_CLS 350',\n",
    "       'Model_CLS 400', 'Model_CLS 500', 'Model_CLS 63 AMG',\n",
    "       'Model_Caddy', 'Model_Camry', 'Model_Captur', 'Model_Caravelle',\n",
    "       'Model_Carina', 'Model_Carisma', 'Model_Celica', 'Model_Clio',\n",
    "       'Model_Colt', 'Model_Corolla', 'Model_Corolla Verso',\n",
    "       'Model_Cross Touran', 'Model_Dokker', 'Model_Duster',\n",
    "       'Model_E-Class', 'Model_Eclipse', 'Model_Eos', 'Model_Espace',\n",
    "       'Model_FJ Cruiser', 'Model_Fluence', 'Model_Fortuner',\n",
    "       'Model_G 320', 'Model_G 350', 'Model_G 500', 'Model_G 55 AMG',\n",
    "       'Model_G 63 AMG', 'Model_GL 320', 'Model_GL 350', 'Model_GL 420',\n",
    "       'Model_GL 450', 'Model_GL 500', 'Model_GL 550', 'Model_GLC-Class',\n",
    "       'Model_GLE-Class', 'Model_GLK 220', 'Model_GLK 300',\n",
    "       'Model_GLS 350', 'Model_GLS 400', 'Model_Galant', 'Model_Golf GTI',\n",
    "       'Model_Golf II', 'Model_Golf III', 'Model_Golf IV',\n",
    "       'Model_Golf Plus', 'Model_Golf V', 'Model_Golf VI',\n",
    "       'Model_Golf VII', 'Model_Golf Variant', 'Model_Grand Scenic',\n",
    "       'Model_Grandis', 'Model_Hiace', 'Model_Highlander', 'Model_Hilux',\n",
    "       'Model_I3', 'Model_IQ', 'Model_Jetta', 'Model_Kangoo',\n",
    "       'Model_Koleos', 'Model_L 200', 'Model_LT', 'Model_Laguna',\n",
    "       'Model_Lancer', 'Model_Lancer Evolution', 'Model_Lancer X',\n",
    "       'Model_Lancer X Sportback', 'Model_Land Cruiser 100',\n",
    "       'Model_Land Cruiser 105', 'Model_Land Cruiser 200',\n",
    "       'Model_Land Cruiser 76', 'Model_Land Cruiser 80',\n",
    "       'Model_Land Cruiser Prado', 'Model_Latitude', 'Model_Logan',\n",
    "       'Model_Lupo', 'Model_M5', 'Model_M6', 'Model_MB', 'Model_ML 250',\n",
    "       'Model_ML 270', 'Model_ML 280', 'Model_ML 320', 'Model_ML 350',\n",
    "       'Model_ML 400', 'Model_ML 430', 'Model_ML 500', 'Model_ML 550',\n",
    "       'Model_ML 63 AMG', 'Model_Master', 'Model_Matrix', 'Model_Megane',\n",
    "       'Model_Modus', 'Model_Multivan', 'Model_New Beetle',\n",
    "       'Model_Outlander', 'Model_Outlander XL', 'Model_Pajero',\n",
    "       'Model_Pajero Pinin', 'Model_Pajero Sport', 'Model_Pajero Wagon',\n",
    "       'Model_Passat B3', 'Model_Passat B4', 'Model_Passat B5',\n",
    "       'Model_Passat B6', 'Model_Passat B7', 'Model_Passat B8',\n",
    "       'Model_Passat CC', 'Model_Phaeton', 'Model_Pointer', 'Model_Polo',\n",
    "       'Model_Previa', 'Model_Prius', 'Model_Q3', 'Model_Q5', 'Model_Q7',\n",
    "       'Model_R 320', 'Model_R8', 'Model_Rav 4', 'Model_S 140',\n",
    "       'Model_S 250', 'Model_S 300', 'Model_S 320', 'Model_S 350',\n",
    "       'Model_S 400', 'Model_S 430', 'Model_S 500', 'Model_S 550',\n",
    "       'Model_S 600', 'Model_S 63 AMG', 'Model_S 65 AMG', 'Model_S4',\n",
    "       'Model_S5', 'Model_S8', 'Model_SL 500 (550)', 'Model_SL 55 AMG',\n",
    "       'Model_SLK 200', 'Model_SLK 350', 'Model_Sandero',\n",
    "       'Model_Sandero StepWay', 'Model_Scenic', 'Model_Scion',\n",
    "       'Model_Scirocco', 'Model_Sequoia', 'Model_Sharan', 'Model_Sienna',\n",
    "       'Model_Smart', 'Model_Space Star', 'Model_Space Wagon',\n",
    "       'Model_Sprinter 208', 'Model_Sprinter 210', 'Model_Sprinter 211',\n",
    "       'Model_Sprinter 212', 'Model_Sprinter 213', 'Model_Sprinter 311',\n",
    "       'Model_Sprinter 312', 'Model_Sprinter 313', 'Model_Sprinter 315',\n",
    "       'Model_Sprinter 316', 'Model_Sprinter 318', 'Model_Sprinter 319',\n",
    "       'Model_Symbol', 'Model_Syncro', 'Model_T3 (Transporter)',\n",
    "       'Model_T4 (Transporter)', 'Model_T4 (Transporter) ',\n",
    "       'Model_T5 (Transporter)', 'Model_T5 (Transporter) ',\n",
    "       'Model_T6 (Transporter)', 'Model_T6 (Transporter) ', 'Model_TT',\n",
    "       'Model_Tacoma', 'Model_Tiguan', 'Model_Touareg', 'Model_Touran',\n",
    "       'Model_Trafic', 'Model_Tundra', 'Model_Up', 'Model_V 250',\n",
    "       'Model_Vaneo', 'Model_Vento', 'Model_Venza', 'Model_Viano',\n",
    "       'Model_Virage', 'Model_Vista', 'Model_Vito', 'Model_X1',\n",
    "       'Model_X3', 'Model_X5', 'Model_X5 M', 'Model_X6', 'Model_X6 M',\n",
    "       'Model_Yaris', 'Model_Z3', 'Model_Z4']"
   ]
  },
  {
   "cell_type": "code",
   "execution_count": 244,
   "metadata": {},
   "outputs": [
    {
     "data": {
      "text/html": [
       "<div>\n",
       "<style scoped>\n",
       "    .dataframe tbody tr th:only-of-type {\n",
       "        vertical-align: middle;\n",
       "    }\n",
       "\n",
       "    .dataframe tbody tr th {\n",
       "        vertical-align: top;\n",
       "    }\n",
       "\n",
       "    .dataframe thead th {\n",
       "        text-align: right;\n",
       "    }\n",
       "</style>\n",
       "<table border=\"1\" class=\"dataframe\">\n",
       "  <thead>\n",
       "    <tr style=\"text-align: right;\">\n",
       "      <th></th>\n",
       "      <th>log_price</th>\n",
       "      <th>Mileage</th>\n",
       "      <th>EngineV</th>\n",
       "      <th>Brand_BMW</th>\n",
       "      <th>Brand_Mercedes-Benz</th>\n",
       "      <th>Brand_Mitsubishi</th>\n",
       "      <th>Brand_Renault</th>\n",
       "      <th>Brand_Toyota</th>\n",
       "      <th>Brand_Volkswagen</th>\n",
       "      <th>Body_hatch</th>\n",
       "      <th>...</th>\n",
       "      <th>Model_Vito</th>\n",
       "      <th>Model_X1</th>\n",
       "      <th>Model_X3</th>\n",
       "      <th>Model_X5</th>\n",
       "      <th>Model_X5 M</th>\n",
       "      <th>Model_X6</th>\n",
       "      <th>Model_X6 M</th>\n",
       "      <th>Model_Yaris</th>\n",
       "      <th>Model_Z3</th>\n",
       "      <th>Model_Z4</th>\n",
       "    </tr>\n",
       "  </thead>\n",
       "  <tbody>\n",
       "    <tr>\n",
       "      <th>0</th>\n",
       "      <td>8.34</td>\n",
       "      <td>277</td>\n",
       "      <td>2.00</td>\n",
       "      <td>1</td>\n",
       "      <td>0</td>\n",
       "      <td>0</td>\n",
       "      <td>0</td>\n",
       "      <td>0</td>\n",
       "      <td>0</td>\n",
       "      <td>0</td>\n",
       "      <td>...</td>\n",
       "      <td>0</td>\n",
       "      <td>0</td>\n",
       "      <td>0</td>\n",
       "      <td>0</td>\n",
       "      <td>0</td>\n",
       "      <td>0</td>\n",
       "      <td>0</td>\n",
       "      <td>0</td>\n",
       "      <td>0</td>\n",
       "      <td>0</td>\n",
       "    </tr>\n",
       "    <tr>\n",
       "      <th>1</th>\n",
       "      <td>8.97</td>\n",
       "      <td>427</td>\n",
       "      <td>2.90</td>\n",
       "      <td>0</td>\n",
       "      <td>1</td>\n",
       "      <td>0</td>\n",
       "      <td>0</td>\n",
       "      <td>0</td>\n",
       "      <td>0</td>\n",
       "      <td>0</td>\n",
       "      <td>...</td>\n",
       "      <td>0</td>\n",
       "      <td>0</td>\n",
       "      <td>0</td>\n",
       "      <td>0</td>\n",
       "      <td>0</td>\n",
       "      <td>0</td>\n",
       "      <td>0</td>\n",
       "      <td>0</td>\n",
       "      <td>0</td>\n",
       "      <td>0</td>\n",
       "    </tr>\n",
       "    <tr>\n",
       "      <th>2</th>\n",
       "      <td>9.50</td>\n",
       "      <td>358</td>\n",
       "      <td>5.00</td>\n",
       "      <td>0</td>\n",
       "      <td>1</td>\n",
       "      <td>0</td>\n",
       "      <td>0</td>\n",
       "      <td>0</td>\n",
       "      <td>0</td>\n",
       "      <td>0</td>\n",
       "      <td>...</td>\n",
       "      <td>0</td>\n",
       "      <td>0</td>\n",
       "      <td>0</td>\n",
       "      <td>0</td>\n",
       "      <td>0</td>\n",
       "      <td>0</td>\n",
       "      <td>0</td>\n",
       "      <td>0</td>\n",
       "      <td>0</td>\n",
       "      <td>0</td>\n",
       "    </tr>\n",
       "    <tr>\n",
       "      <th>3</th>\n",
       "      <td>10.04</td>\n",
       "      <td>240</td>\n",
       "      <td>4.20</td>\n",
       "      <td>0</td>\n",
       "      <td>0</td>\n",
       "      <td>0</td>\n",
       "      <td>0</td>\n",
       "      <td>0</td>\n",
       "      <td>0</td>\n",
       "      <td>0</td>\n",
       "      <td>...</td>\n",
       "      <td>0</td>\n",
       "      <td>0</td>\n",
       "      <td>0</td>\n",
       "      <td>0</td>\n",
       "      <td>0</td>\n",
       "      <td>0</td>\n",
       "      <td>0</td>\n",
       "      <td>0</td>\n",
       "      <td>0</td>\n",
       "      <td>0</td>\n",
       "    </tr>\n",
       "    <tr>\n",
       "      <th>4</th>\n",
       "      <td>9.81</td>\n",
       "      <td>120</td>\n",
       "      <td>2.00</td>\n",
       "      <td>0</td>\n",
       "      <td>0</td>\n",
       "      <td>0</td>\n",
       "      <td>0</td>\n",
       "      <td>1</td>\n",
       "      <td>0</td>\n",
       "      <td>0</td>\n",
       "      <td>...</td>\n",
       "      <td>0</td>\n",
       "      <td>0</td>\n",
       "      <td>0</td>\n",
       "      <td>0</td>\n",
       "      <td>0</td>\n",
       "      <td>0</td>\n",
       "      <td>0</td>\n",
       "      <td>0</td>\n",
       "      <td>0</td>\n",
       "      <td>0</td>\n",
       "    </tr>\n",
       "  </tbody>\n",
       "</table>\n",
       "<p>5 rows × 308 columns</p>\n",
       "</div>"
      ],
      "text/plain": [
       "   log_price  Mileage  EngineV  Brand_BMW  Brand_Mercedes-Benz  \\\n",
       "0       8.34      277     2.00          1                    0   \n",
       "1       8.97      427     2.90          0                    1   \n",
       "2       9.50      358     5.00          0                    1   \n",
       "3      10.04      240     4.20          0                    0   \n",
       "4       9.81      120     2.00          0                    0   \n",
       "\n",
       "   Brand_Mitsubishi  Brand_Renault  Brand_Toyota  Brand_Volkswagen  \\\n",
       "0                 0              0             0                 0   \n",
       "1                 0              0             0                 0   \n",
       "2                 0              0             0                 0   \n",
       "3                 0              0             0                 0   \n",
       "4                 0              0             1                 0   \n",
       "\n",
       "   Body_hatch  ...  Model_Vito  Model_X1  Model_X3  Model_X5  Model_X5 M  \\\n",
       "0           0  ...           0         0         0         0           0   \n",
       "1           0  ...           0         0         0         0           0   \n",
       "2           0  ...           0         0         0         0           0   \n",
       "3           0  ...           0         0         0         0           0   \n",
       "4           0  ...           0         0         0         0           0   \n",
       "\n",
       "   Model_X6  Model_X6 M  Model_Yaris  Model_Z3  Model_Z4  \n",
       "0         0           0            0         0         0  \n",
       "1         0           0            0         0         0  \n",
       "2         0           0            0         0         0  \n",
       "3         0           0            0         0         0  \n",
       "4         0           0            0         0         0  \n",
       "\n",
       "[5 rows x 308 columns]"
      ]
     },
     "execution_count": 244,
     "metadata": {},
     "output_type": "execute_result"
    }
   ],
   "source": [
    "data_preprocessed = data_with_dummies[cols]\n",
    "data_preprocessed.head()"
   ]
  },
  {
   "attachments": {},
   "cell_type": "markdown",
   "metadata": {},
   "source": [
    "## Linear regression model"
   ]
  },
  {
   "attachments": {},
   "cell_type": "markdown",
   "metadata": {},
   "source": [
    "### Declare the inputs and the targets"
   ]
  },
  {
   "cell_type": "code",
   "execution_count": 245,
   "metadata": {},
   "outputs": [],
   "source": [
    "targets = data_preprocessed['log_price']\n",
    "inputs = data_preprocessed.drop('log_price', axis=1)"
   ]
  },
  {
   "cell_type": "code",
   "execution_count": 246,
   "metadata": {},
   "outputs": [],
   "source": [
    "from sklearn.feature_selection import f_regression\n",
    "pvals = f_regression(inputs, targets)[1].round(3)\n",
    "pvals[pvals>0.05,]\n",
    "not_sig_col = np.where(pvals> 0.05)\n",
    "inputs.drop(inputs.columns[not_sig_col], axis=1, inplace=True)"
   ]
  },
  {
   "attachments": {},
   "cell_type": "markdown",
   "metadata": {},
   "source": [
    "### Scale the data"
   ]
  },
  {
   "cell_type": "code",
   "execution_count": 247,
   "metadata": {},
   "outputs": [
    {
     "data": {
      "text/html": [
       "<style>#sk-container-id-6 {color: black;background-color: white;}#sk-container-id-6 pre{padding: 0;}#sk-container-id-6 div.sk-toggleable {background-color: white;}#sk-container-id-6 label.sk-toggleable__label {cursor: pointer;display: block;width: 100%;margin-bottom: 0;padding: 0.3em;box-sizing: border-box;text-align: center;}#sk-container-id-6 label.sk-toggleable__label-arrow:before {content: \"▸\";float: left;margin-right: 0.25em;color: #696969;}#sk-container-id-6 label.sk-toggleable__label-arrow:hover:before {color: black;}#sk-container-id-6 div.sk-estimator:hover label.sk-toggleable__label-arrow:before {color: black;}#sk-container-id-6 div.sk-toggleable__content {max-height: 0;max-width: 0;overflow: hidden;text-align: left;background-color: #f0f8ff;}#sk-container-id-6 div.sk-toggleable__content pre {margin: 0.2em;color: black;border-radius: 0.25em;background-color: #f0f8ff;}#sk-container-id-6 input.sk-toggleable__control:checked~div.sk-toggleable__content {max-height: 200px;max-width: 100%;overflow: auto;}#sk-container-id-6 input.sk-toggleable__control:checked~label.sk-toggleable__label-arrow:before {content: \"▾\";}#sk-container-id-6 div.sk-estimator input.sk-toggleable__control:checked~label.sk-toggleable__label {background-color: #d4ebff;}#sk-container-id-6 div.sk-label input.sk-toggleable__control:checked~label.sk-toggleable__label {background-color: #d4ebff;}#sk-container-id-6 input.sk-hidden--visually {border: 0;clip: rect(1px 1px 1px 1px);clip: rect(1px, 1px, 1px, 1px);height: 1px;margin: -1px;overflow: hidden;padding: 0;position: absolute;width: 1px;}#sk-container-id-6 div.sk-estimator {font-family: monospace;background-color: #f0f8ff;border: 1px dotted black;border-radius: 0.25em;box-sizing: border-box;margin-bottom: 0.5em;}#sk-container-id-6 div.sk-estimator:hover {background-color: #d4ebff;}#sk-container-id-6 div.sk-parallel-item::after {content: \"\";width: 100%;border-bottom: 1px solid gray;flex-grow: 1;}#sk-container-id-6 div.sk-label:hover label.sk-toggleable__label {background-color: #d4ebff;}#sk-container-id-6 div.sk-serial::before {content: \"\";position: absolute;border-left: 1px solid gray;box-sizing: border-box;top: 0;bottom: 0;left: 50%;z-index: 0;}#sk-container-id-6 div.sk-serial {display: flex;flex-direction: column;align-items: center;background-color: white;padding-right: 0.2em;padding-left: 0.2em;position: relative;}#sk-container-id-6 div.sk-item {position: relative;z-index: 1;}#sk-container-id-6 div.sk-parallel {display: flex;align-items: stretch;justify-content: center;background-color: white;position: relative;}#sk-container-id-6 div.sk-item::before, #sk-container-id-6 div.sk-parallel-item::before {content: \"\";position: absolute;border-left: 1px solid gray;box-sizing: border-box;top: 0;bottom: 0;left: 50%;z-index: -1;}#sk-container-id-6 div.sk-parallel-item {display: flex;flex-direction: column;z-index: 1;position: relative;background-color: white;}#sk-container-id-6 div.sk-parallel-item:first-child::after {align-self: flex-end;width: 50%;}#sk-container-id-6 div.sk-parallel-item:last-child::after {align-self: flex-start;width: 50%;}#sk-container-id-6 div.sk-parallel-item:only-child::after {width: 0;}#sk-container-id-6 div.sk-dashed-wrapped {border: 1px dashed gray;margin: 0 0.4em 0.5em 0.4em;box-sizing: border-box;padding-bottom: 0.4em;background-color: white;}#sk-container-id-6 div.sk-label label {font-family: monospace;font-weight: bold;display: inline-block;line-height: 1.2em;}#sk-container-id-6 div.sk-label-container {text-align: center;}#sk-container-id-6 div.sk-container {/* jupyter's `normalize.less` sets `[hidden] { display: none; }` but bootstrap.min.css set `[hidden] { display: none !important; }` so we also need the `!important` here to be able to override the default hidden behavior on the sphinx rendered scikit-learn.org. See: https://github.com/scikit-learn/scikit-learn/issues/21755 */display: inline-block !important;position: relative;}#sk-container-id-6 div.sk-text-repr-fallback {display: none;}</style><div id=\"sk-container-id-6\" class=\"sk-top-container\"><div class=\"sk-text-repr-fallback\"><pre>StandardScaler()</pre><b>In a Jupyter environment, please rerun this cell to show the HTML representation or trust the notebook. <br />On GitHub, the HTML representation is unable to render, please try loading this page with nbviewer.org.</b></div><div class=\"sk-container\" hidden><div class=\"sk-item\"><div class=\"sk-estimator sk-toggleable\"><input class=\"sk-toggleable__control sk-hidden--visually\" id=\"sk-estimator-id-6\" type=\"checkbox\" checked><label for=\"sk-estimator-id-6\" class=\"sk-toggleable__label sk-toggleable__label-arrow\">StandardScaler</label><div class=\"sk-toggleable__content\"><pre>StandardScaler()</pre></div></div></div></div></div>"
      ],
      "text/plain": [
       "StandardScaler()"
      ]
     },
     "execution_count": 247,
     "metadata": {},
     "output_type": "execute_result"
    }
   ],
   "source": [
    "from sklearn.preprocessing import StandardScaler\n",
    "\n",
    "scaler = StandardScaler()\n",
    "# inputs.columns.values\n",
    "# inputs[['Mileage', 'EngineV']]\n",
    "scaler.fit(inputs[['Mileage', 'EngineV']])"
   ]
  },
  {
   "cell_type": "code",
   "execution_count": 248,
   "metadata": {},
   "outputs": [],
   "source": [
    "# not recommended to scale dummy vars.\n",
    "# in ML we usually don't care as scaling has no effect on the predictive power of dummies\n",
    "# once scalsed, though, they lose all their dummy meaning\n",
    "input_scaled = scaler.transform(inputs[['Mileage', 'EngineV']])\n",
    "\n",
    "input_scaled\n",
    "inp_ndarray = inputs.drop(['Mileage', 'EngineV'], axis=1).to_numpy()\n",
    "input_scaled = np.concatenate((input_scaled, inp_ndarray), axis=1)"
   ]
  },
  {
   "attachments": {},
   "cell_type": "markdown",
   "metadata": {},
   "source": [
    "### Train Test Split"
   ]
  },
  {
   "cell_type": "code",
   "execution_count": 249,
   "metadata": {},
   "outputs": [
    {
     "data": {
      "text/plain": [
       "numpy.ndarray"
      ]
     },
     "execution_count": 249,
     "metadata": {},
     "output_type": "execute_result"
    }
   ],
   "source": [
    "type(input_scaled)"
   ]
  },
  {
   "cell_type": "code",
   "execution_count": 250,
   "metadata": {},
   "outputs": [],
   "source": [
    "from sklearn.model_selection import train_test_split\n",
    "x_train, x_test, y_train, y_test = train_test_split(input_scaled, targets, test_size=0.2, random_state=365)"
   ]
  },
  {
   "cell_type": "code",
   "execution_count": 251,
   "metadata": {},
   "outputs": [
    {
     "name": "stdout",
     "output_type": "stream",
     "text": [
      "[[ 1.30637138  2.04577428  1.         ...  0.          0.\n",
      "   0.        ]\n",
      " [-0.68193474  1.10007237  0.         ...  0.          0.\n",
      "   0.        ]\n",
      " [-0.13776675 -0.89640945  0.         ...  0.          0.\n",
      "   0.        ]\n",
      " ...\n",
      " [ 0.20757063 -1.10656543  0.         ...  0.          0.\n",
      "   0.        ]\n",
      " [ 0.73080908  0.04929246  0.         ...  0.          0.\n",
      "   0.        ]\n",
      " [-0.55635751 -0.26594151  0.         ...  0.          0.\n",
      "   0.        ]]\n",
      "[[-0.70286428  0.57468241  0.         ...  0.          0.\n",
      "   0.        ]\n",
      " [ 1.04475215  0.57468241  0.         ...  0.          0.\n",
      "   0.        ]\n",
      " [ 0.88778062  0.57468241  1.         ...  0.          0.\n",
      "   0.        ]\n",
      " ...\n",
      " [ 1.45287815  0.04929246  0.         ...  0.          0.\n",
      "   0.        ]\n",
      " [ 0.41686601 -0.47609749  0.         ...  0.          0.\n",
      "   0.        ]\n",
      " [-1.6760878   0.57468241  0.         ...  0.          0.\n",
      "   0.        ]]\n",
      "266     8.91\n",
      "922    10.24\n",
      "1942    9.02\n",
      "1257    8.76\n",
      "1927    8.72\n",
      "Name: log_price, dtype: float64\n",
      "2110   9.54\n",
      "2340   9.01\n",
      "3260   9.62\n",
      "3654   8.64\n",
      "1015   9.08\n",
      "Name: log_price, dtype: float64\n"
     ]
    }
   ],
   "source": [
    "# x type is ndarray\n",
    "# y type is dataframe\n",
    "# when we determined the target and inputs, both where dataframes\n",
    "    # targets was a dataframe series\n",
    "    # inputs is a dataframe\n",
    "# during the scaling, inputs dataframe transformed into ndarray\n",
    "# that means targets (ytrain and ytest) have there indices maintained\n",
    "print(x_train)\n",
    "print(x_test)\n",
    "print(y_train.head())\n",
    "print(y_test.head())"
   ]
  },
  {
   "attachments": {},
   "cell_type": "markdown",
   "metadata": {},
   "source": [
    "### Create the regression"
   ]
  },
  {
   "cell_type": "code",
   "execution_count": 252,
   "metadata": {},
   "outputs": [
    {
     "data": {
      "text/html": [
       "<style>#sk-container-id-7 {color: black;background-color: white;}#sk-container-id-7 pre{padding: 0;}#sk-container-id-7 div.sk-toggleable {background-color: white;}#sk-container-id-7 label.sk-toggleable__label {cursor: pointer;display: block;width: 100%;margin-bottom: 0;padding: 0.3em;box-sizing: border-box;text-align: center;}#sk-container-id-7 label.sk-toggleable__label-arrow:before {content: \"▸\";float: left;margin-right: 0.25em;color: #696969;}#sk-container-id-7 label.sk-toggleable__label-arrow:hover:before {color: black;}#sk-container-id-7 div.sk-estimator:hover label.sk-toggleable__label-arrow:before {color: black;}#sk-container-id-7 div.sk-toggleable__content {max-height: 0;max-width: 0;overflow: hidden;text-align: left;background-color: #f0f8ff;}#sk-container-id-7 div.sk-toggleable__content pre {margin: 0.2em;color: black;border-radius: 0.25em;background-color: #f0f8ff;}#sk-container-id-7 input.sk-toggleable__control:checked~div.sk-toggleable__content {max-height: 200px;max-width: 100%;overflow: auto;}#sk-container-id-7 input.sk-toggleable__control:checked~label.sk-toggleable__label-arrow:before {content: \"▾\";}#sk-container-id-7 div.sk-estimator input.sk-toggleable__control:checked~label.sk-toggleable__label {background-color: #d4ebff;}#sk-container-id-7 div.sk-label input.sk-toggleable__control:checked~label.sk-toggleable__label {background-color: #d4ebff;}#sk-container-id-7 input.sk-hidden--visually {border: 0;clip: rect(1px 1px 1px 1px);clip: rect(1px, 1px, 1px, 1px);height: 1px;margin: -1px;overflow: hidden;padding: 0;position: absolute;width: 1px;}#sk-container-id-7 div.sk-estimator {font-family: monospace;background-color: #f0f8ff;border: 1px dotted black;border-radius: 0.25em;box-sizing: border-box;margin-bottom: 0.5em;}#sk-container-id-7 div.sk-estimator:hover {background-color: #d4ebff;}#sk-container-id-7 div.sk-parallel-item::after {content: \"\";width: 100%;border-bottom: 1px solid gray;flex-grow: 1;}#sk-container-id-7 div.sk-label:hover label.sk-toggleable__label {background-color: #d4ebff;}#sk-container-id-7 div.sk-serial::before {content: \"\";position: absolute;border-left: 1px solid gray;box-sizing: border-box;top: 0;bottom: 0;left: 50%;z-index: 0;}#sk-container-id-7 div.sk-serial {display: flex;flex-direction: column;align-items: center;background-color: white;padding-right: 0.2em;padding-left: 0.2em;position: relative;}#sk-container-id-7 div.sk-item {position: relative;z-index: 1;}#sk-container-id-7 div.sk-parallel {display: flex;align-items: stretch;justify-content: center;background-color: white;position: relative;}#sk-container-id-7 div.sk-item::before, #sk-container-id-7 div.sk-parallel-item::before {content: \"\";position: absolute;border-left: 1px solid gray;box-sizing: border-box;top: 0;bottom: 0;left: 50%;z-index: -1;}#sk-container-id-7 div.sk-parallel-item {display: flex;flex-direction: column;z-index: 1;position: relative;background-color: white;}#sk-container-id-7 div.sk-parallel-item:first-child::after {align-self: flex-end;width: 50%;}#sk-container-id-7 div.sk-parallel-item:last-child::after {align-self: flex-start;width: 50%;}#sk-container-id-7 div.sk-parallel-item:only-child::after {width: 0;}#sk-container-id-7 div.sk-dashed-wrapped {border: 1px dashed gray;margin: 0 0.4em 0.5em 0.4em;box-sizing: border-box;padding-bottom: 0.4em;background-color: white;}#sk-container-id-7 div.sk-label label {font-family: monospace;font-weight: bold;display: inline-block;line-height: 1.2em;}#sk-container-id-7 div.sk-label-container {text-align: center;}#sk-container-id-7 div.sk-container {/* jupyter's `normalize.less` sets `[hidden] { display: none; }` but bootstrap.min.css set `[hidden] { display: none !important; }` so we also need the `!important` here to be able to override the default hidden behavior on the sphinx rendered scikit-learn.org. See: https://github.com/scikit-learn/scikit-learn/issues/21755 */display: inline-block !important;position: relative;}#sk-container-id-7 div.sk-text-repr-fallback {display: none;}</style><div id=\"sk-container-id-7\" class=\"sk-top-container\"><div class=\"sk-text-repr-fallback\"><pre>LinearRegression()</pre><b>In a Jupyter environment, please rerun this cell to show the HTML representation or trust the notebook. <br />On GitHub, the HTML representation is unable to render, please try loading this page with nbviewer.org.</b></div><div class=\"sk-container\" hidden><div class=\"sk-item\"><div class=\"sk-estimator sk-toggleable\"><input class=\"sk-toggleable__control sk-hidden--visually\" id=\"sk-estimator-id-7\" type=\"checkbox\" checked><label for=\"sk-estimator-id-7\" class=\"sk-toggleable__label sk-toggleable__label-arrow\">LinearRegression</label><div class=\"sk-toggleable__content\"><pre>LinearRegression()</pre></div></div></div></div></div>"
      ],
      "text/plain": [
       "LinearRegression()"
      ]
     },
     "execution_count": 252,
     "metadata": {},
     "output_type": "execute_result"
    }
   ],
   "source": [
    "lm = LinearRegression()\n",
    "lm.fit(x_train, y_train)"
   ]
  },
  {
   "attachments": {},
   "cell_type": "markdown",
   "metadata": {},
   "source": [
    "### check the regression model\n",
    "* one way is by scatter plot the target and predicted data\n",
    "* another way is by plotting the distribution of residuals (difference between target and prediction)"
   ]
  },
  {
   "cell_type": "code",
   "execution_count": 253,
   "metadata": {},
   "outputs": [],
   "source": [
    "y_hat = lm.predict(x_train)"
   ]
  },
  {
   "cell_type": "code",
   "execution_count": 254,
   "metadata": {},
   "outputs": [
    {
     "data": {
      "image/png": "[encoded data removed]",
      "text/plain": [
       "<Figure size 640x480 with 1 Axes>"
      ]
     },
     "metadata": {},
     "output_type": "display_data"
    }
   ],
   "source": [
    "plt.scatter(y_train, y_hat)\n",
    "plt.xlabel('Targets (y_train)')\n",
    "plt.ylabel('Predicttions (y_hat)')\n",
    "plt.show()"
   ]
  },
  {
   "cell_type": "code",
   "execution_count": 255,
   "metadata": {},
   "outputs": [
    {
     "data": {
      "text/plain": [
       "0.8130593199871823"
      ]
     },
     "execution_count": 255,
     "metadata": {},
     "output_type": "execute_result"
    }
   ],
   "source": [
    "r2 = lm.score(x_train, y_train)\n",
    "n = x_train.shape[0]\n",
    "p = x_train.shape[1]\n",
    "adjusted_r2 = 1-(1-r2)*(n-1)/(n-p-1)\n",
    "adjusted_r2"
   ]
  },
  {
   "cell_type": "code",
   "execution_count": 256,
   "metadata": {},
   "outputs": [
    {
     "data": {
      "text/plain": [
       "Text(0.5, 1.0, 'Residuals PDF')"
      ]
     },
     "execution_count": 256,
     "metadata": {},
     "output_type": "execute_result"
    },
    {
     "data": {
      "image/png": "[encoded data removed]",
      "text/plain": [
       "<Figure size 500x500 with 1 Axes>"
      ]
     },
     "metadata": {},
     "output_type": "display_data"
    }
   ],
   "source": [
    "# the distribution should be normally distributed with mean of zero\n",
    "# from the plot we can see it is a bit right-skewd. there is a longer tail on the negative side\n",
    "# that means, the model is over-estimating the prices for certain observations\n",
    "# as we don't see similar tail on the right-side, we can conclude that predictions rarely under-estimate the target\n",
    "sns.displot(y_train-y_hat, kde=True, kde_kws=dict(cut=10), stat = 'density')\n",
    "plt.title('Residuals PDF')"
   ]
  },
  {
   "attachments": {},
   "cell_type": "markdown",
   "metadata": {},
   "source": [
    "### Finding the weights and bias"
   ]
  },
  {
   "cell_type": "code",
   "execution_count": 257,
   "metadata": {},
   "outputs": [
    {
     "data": {
      "text/html": [
       "<div>\n",
       "<style scoped>\n",
       "    .dataframe tbody tr th:only-of-type {\n",
       "        vertical-align: middle;\n",
       "    }\n",
       "\n",
       "    .dataframe tbody tr th {\n",
       "        vertical-align: top;\n",
       "    }\n",
       "\n",
       "    .dataframe thead th {\n",
       "        text-align: right;\n",
       "    }\n",
       "</style>\n",
       "<table border=\"1\" class=\"dataframe\">\n",
       "  <thead>\n",
       "    <tr style=\"text-align: right;\">\n",
       "      <th></th>\n",
       "      <th>Features</th>\n",
       "      <th>Wights</th>\n",
       "    </tr>\n",
       "  </thead>\n",
       "  <tbody>\n",
       "    <tr>\n",
       "      <th>0</th>\n",
       "      <td>Mileage</td>\n",
       "      <td>-0.37</td>\n",
       "    </tr>\n",
       "    <tr>\n",
       "      <th>1</th>\n",
       "      <td>EngineV</td>\n",
       "      <td>0.09</td>\n",
       "    </tr>\n",
       "    <tr>\n",
       "      <th>2</th>\n",
       "      <td>Brand_BMW</td>\n",
       "      <td>-0.07</td>\n",
       "    </tr>\n",
       "    <tr>\n",
       "      <th>3</th>\n",
       "      <td>Brand_Mercedes-Benz</td>\n",
       "      <td>-0.12</td>\n",
       "    </tr>\n",
       "    <tr>\n",
       "      <th>4</th>\n",
       "      <td>Brand_Mitsubishi</td>\n",
       "      <td>-0.55</td>\n",
       "    </tr>\n",
       "    <tr>\n",
       "      <th>...</th>\n",
       "      <td>...</td>\n",
       "      <td>...</td>\n",
       "    </tr>\n",
       "    <tr>\n",
       "      <th>126</th>\n",
       "      <td>Model_X5</td>\n",
       "      <td>0.30</td>\n",
       "    </tr>\n",
       "    <tr>\n",
       "      <th>127</th>\n",
       "      <td>Model_X5 M</td>\n",
       "      <td>0.80</td>\n",
       "    </tr>\n",
       "    <tr>\n",
       "      <th>128</th>\n",
       "      <td>Model_X6</td>\n",
       "      <td>0.50</td>\n",
       "    </tr>\n",
       "    <tr>\n",
       "      <th>129</th>\n",
       "      <td>Model_X6 M</td>\n",
       "      <td>0.75</td>\n",
       "    </tr>\n",
       "    <tr>\n",
       "      <th>130</th>\n",
       "      <td>Model_Yaris</td>\n",
       "      <td>-0.40</td>\n",
       "    </tr>\n",
       "  </tbody>\n",
       "</table>\n",
       "<p>131 rows × 2 columns</p>\n",
       "</div>"
      ],
      "text/plain": [
       "                Features  Wights\n",
       "0                Mileage   -0.37\n",
       "1                EngineV    0.09\n",
       "2              Brand_BMW   -0.07\n",
       "3    Brand_Mercedes-Benz   -0.12\n",
       "4       Brand_Mitsubishi   -0.55\n",
       "..                   ...     ...\n",
       "126             Model_X5    0.30\n",
       "127           Model_X5 M    0.80\n",
       "128             Model_X6    0.50\n",
       "129           Model_X6 M    0.75\n",
       "130          Model_Yaris   -0.40\n",
       "\n",
       "[131 rows x 2 columns]"
      ]
     },
     "execution_count": 257,
     "metadata": {},
     "output_type": "execute_result"
    }
   ],
   "source": [
    "lm_summary = pd.DataFrame(data=inputs.columns.values, columns=['Features'])\n",
    "lm_summary['Wights'] = lm.coef_\n",
    "lm_summary"
   ]
  },
  {
   "cell_type": "code",
   "execution_count": 258,
   "metadata": {},
   "outputs": [
    {
     "data": {
      "text/plain": [
       "array(['BMW', 'Mercedes-Benz', 'Audi', 'Toyota', 'Renault', 'Volkswagen',\n",
       "       'Mitsubishi'], dtype=object)"
      ]
     },
     "execution_count": 258,
     "metadata": {},
     "output_type": "execute_result"
    }
   ],
   "source": [
    "data_cleaned['Brand'].unique()"
   ]
  },
  {
   "cell_type": "code",
   "execution_count": 259,
   "metadata": {},
   "outputs": [
    {
     "data": {
      "text/plain": [
       "array(['Petrol', 'Diesel', 'Gas', 'Other'], dtype=object)"
      ]
     },
     "execution_count": 259,
     "metadata": {},
     "output_type": "execute_result"
    }
   ],
   "source": [
    "data_cleaned['Engine Type'].unique()"
   ]
  },
  {
   "attachments": {},
   "cell_type": "markdown",
   "metadata": {},
   "source": [
    "### Testing"
   ]
  },
  {
   "cell_type": "code",
   "execution_count": 260,
   "metadata": {},
   "outputs": [],
   "source": [
    "y_hat_test = lm.predict(x_test)"
   ]
  },
  {
   "cell_type": "code",
   "execution_count": 261,
   "metadata": {},
   "outputs": [
    {
     "data": {
      "image/png": "[encoded data removed]",
      "text/plain": [
       "<Figure size 640x480 with 1 Axes>"
      ]
     },
     "metadata": {},
     "output_type": "display_data"
    }
   ],
   "source": [
    "plt.scatter(y_test, y_hat_test, alpha=0.2)\n",
    "plt.xlabel('Targets (y_test)')\n",
    "plt.ylabel('Predictions (y_hat_test)')\n",
    "plt.xlim(6,13)\n",
    "plt.ylim(6,13)\n",
    "plt.show()\n"
   ]
  },
  {
   "cell_type": "code",
   "execution_count": 262,
   "metadata": {},
   "outputs": [
    {
     "data": {
      "text/plain": [
       "(775,)"
      ]
     },
     "execution_count": 262,
     "metadata": {},
     "output_type": "execute_result"
    }
   ],
   "source": [
    "y_hat_test.shape\n",
    "# sns.displot(y_test-y_hat_test, kde=True, kde_kws=dict(cut=10), stat = 'density')\n",
    "# plt.title('Residuals PDF'"
   ]
  },
  {
   "attachments": {},
   "cell_type": "markdown",
   "metadata": {},
   "source": [
    "### Confirm the model performance"
   ]
  },
  {
   "cell_type": "code",
   "execution_count": 263,
   "metadata": {
    "tags": []
   },
   "outputs": [
    {
     "name": "stderr",
     "output_type": "stream",
     "text": [
      "/tmp/ipykernel_13462/4197373849.py:1: RuntimeWarning: overflow encountered in exp\n",
      "  df_pf = pd.DataFrame(data=np.exp(y_hat_test), columns=['Prediction'])\n"
     ]
    },
    {
     "data": {
      "text/html": [
       "<div>\n",
       "<style scoped>\n",
       "    .dataframe tbody tr th:only-of-type {\n",
       "        vertical-align: middle;\n",
       "    }\n",
       "\n",
       "    .dataframe tbody tr th {\n",
       "        vertical-align: top;\n",
       "    }\n",
       "\n",
       "    .dataframe thead th {\n",
       "        text-align: right;\n",
       "    }\n",
       "</style>\n",
       "<table border=\"1\" class=\"dataframe\">\n",
       "  <thead>\n",
       "    <tr style=\"text-align: right;\">\n",
       "      <th></th>\n",
       "      <th>Prediction</th>\n",
       "    </tr>\n",
       "  </thead>\n",
       "  <tbody>\n",
       "    <tr>\n",
       "      <th>0</th>\n",
       "      <td>10974.40</td>\n",
       "    </tr>\n",
       "    <tr>\n",
       "      <th>1</th>\n",
       "      <td>12301.63</td>\n",
       "    </tr>\n",
       "    <tr>\n",
       "      <th>2</th>\n",
       "      <td>9356.95</td>\n",
       "    </tr>\n",
       "    <tr>\n",
       "      <th>3</th>\n",
       "      <td>8274.44</td>\n",
       "    </tr>\n",
       "    <tr>\n",
       "      <th>4</th>\n",
       "      <td>7209.76</td>\n",
       "    </tr>\n",
       "  </tbody>\n",
       "</table>\n",
       "</div>"
      ],
      "text/plain": [
       "   Prediction\n",
       "0    10974.40\n",
       "1    12301.63\n",
       "2     9356.95\n",
       "3     8274.44\n",
       "4     7209.76"
      ]
     },
     "execution_count": 263,
     "metadata": {},
     "output_type": "execute_result"
    }
   ],
   "source": [
    "df_pf = pd.DataFrame(data=np.exp(y_hat_test), columns=['Prediction'])\n",
    "df_pf.head()\n"
   ]
  },
  {
   "cell_type": "code",
   "execution_count": 264,
   "metadata": {},
   "outputs": [],
   "source": [
    "# the index is preserved during split\n",
    "# panda tries to match the indices between the two dataframes\n",
    "# but I don't understand why it is correct to reset the index\n",
    "# I mean why index zero in y_hat can be matched with resetted index zero of y_test.\n",
    "# ANS: because y_hat is created with the same order as the original y_test regardless of its indexing.\n",
    "# then we create a new dataframe with index 0 with the new y_hat data\n",
    "# so, we have to reset the y_test to make them match!\n",
    "y_test = y_test.reset_index(drop=True)"
   ]
  },
  {
   "cell_type": "code",
   "execution_count": 265,
   "metadata": {},
   "outputs": [
    {
     "data": {
      "text/html": [
       "<div>\n",
       "<style scoped>\n",
       "    .dataframe tbody tr th:only-of-type {\n",
       "        vertical-align: middle;\n",
       "    }\n",
       "\n",
       "    .dataframe tbody tr th {\n",
       "        vertical-align: top;\n",
       "    }\n",
       "\n",
       "    .dataframe thead th {\n",
       "        text-align: right;\n",
       "    }\n",
       "</style>\n",
       "<table border=\"1\" class=\"dataframe\">\n",
       "  <thead>\n",
       "    <tr style=\"text-align: right;\">\n",
       "      <th></th>\n",
       "      <th>Prediction</th>\n",
       "      <th>Target</th>\n",
       "    </tr>\n",
       "  </thead>\n",
       "  <tbody>\n",
       "    <tr>\n",
       "      <th>0</th>\n",
       "      <td>10974.40</td>\n",
       "      <td>13900.00</td>\n",
       "    </tr>\n",
       "    <tr>\n",
       "      <th>1</th>\n",
       "      <td>12301.63</td>\n",
       "      <td>8200.00</td>\n",
       "    </tr>\n",
       "    <tr>\n",
       "      <th>2</th>\n",
       "      <td>9356.95</td>\n",
       "      <td>15000.00</td>\n",
       "    </tr>\n",
       "    <tr>\n",
       "      <th>3</th>\n",
       "      <td>8274.44</td>\n",
       "      <td>5650.00</td>\n",
       "    </tr>\n",
       "    <tr>\n",
       "      <th>4</th>\n",
       "      <td>7209.76</td>\n",
       "      <td>8800.00</td>\n",
       "    </tr>\n",
       "    <tr>\n",
       "      <th>...</th>\n",
       "      <td>...</td>\n",
       "      <td>...</td>\n",
       "    </tr>\n",
       "    <tr>\n",
       "      <th>770</th>\n",
       "      <td>6165.64</td>\n",
       "      <td>5900.00</td>\n",
       "    </tr>\n",
       "    <tr>\n",
       "      <th>771</th>\n",
       "      <td>53460.33</td>\n",
       "      <td>51500.00</td>\n",
       "    </tr>\n",
       "    <tr>\n",
       "      <th>772</th>\n",
       "      <td>7249.53</td>\n",
       "      <td>9800.00</td>\n",
       "    </tr>\n",
       "    <tr>\n",
       "      <th>773</th>\n",
       "      <td>8285.70</td>\n",
       "      <td>6000.00</td>\n",
       "    </tr>\n",
       "    <tr>\n",
       "      <th>774</th>\n",
       "      <td>44283.50</td>\n",
       "      <td>71138.00</td>\n",
       "    </tr>\n",
       "  </tbody>\n",
       "</table>\n",
       "<p>775 rows × 2 columns</p>\n",
       "</div>"
      ],
      "text/plain": [
       "     Prediction   Target\n",
       "0      10974.40 13900.00\n",
       "1      12301.63  8200.00\n",
       "2       9356.95 15000.00\n",
       "3       8274.44  5650.00\n",
       "4       7209.76  8800.00\n",
       "..          ...      ...\n",
       "770     6165.64  5900.00\n",
       "771    53460.33 51500.00\n",
       "772     7249.53  9800.00\n",
       "773     8285.70  6000.00\n",
       "774    44283.50 71138.00\n",
       "\n",
       "[775 rows x 2 columns]"
      ]
     },
     "execution_count": 265,
     "metadata": {},
     "output_type": "execute_result"
    }
   ],
   "source": [
    "df_pf['Target'] = np.exp(y_test)\n",
    "df_pf"
   ]
  },
  {
   "cell_type": "code",
   "execution_count": 266,
   "metadata": {},
   "outputs": [],
   "source": [
    "df_pf['Residuals'] = df_pf['Target'] - df_pf['Prediction']\n",
    "df_pf['Difference%'] = np.abs(df_pf['Residuals']/df_pf['Target']*100)"
   ]
  },
  {
   "attachments": {},
   "cell_type": "markdown",
   "metadata": {},
   "source": [
    "* The minimum difference in percentages is 0.06%. So the output was spot on. \n",
    "* The maximum difference in percentages, however, is pretty off mark.\n",
    "* for upto 75% of the observations, the percentage difference is relatively small (about 39%) comapred to the max\n",
    "    * that means there are a small number of observations that create such problem in the model\n",
    "    * it might be due to missing variable (input)\n",
    "    * it also could be that they are outliers\n",
    "    * or the transformation is not good enough thus we need to use a different kind of transformation"
   ]
  },
  {
   "cell_type": "code",
   "execution_count": 267,
   "metadata": {},
   "outputs": [
    {
     "data": {
      "text/html": [
       "<div>\n",
       "<style scoped>\n",
       "    .dataframe tbody tr th:only-of-type {\n",
       "        vertical-align: middle;\n",
       "    }\n",
       "\n",
       "    .dataframe tbody tr th {\n",
       "        vertical-align: top;\n",
       "    }\n",
       "\n",
       "    .dataframe thead th {\n",
       "        text-align: right;\n",
       "    }\n",
       "</style>\n",
       "<table border=\"1\" class=\"dataframe\">\n",
       "  <thead>\n",
       "    <tr style=\"text-align: right;\">\n",
       "      <th></th>\n",
       "      <th>Prediction</th>\n",
       "      <th>Target</th>\n",
       "      <th>Residuals</th>\n",
       "      <th>Difference%</th>\n",
       "    </tr>\n",
       "  </thead>\n",
       "  <tbody>\n",
       "    <tr>\n",
       "      <th>count</th>\n",
       "      <td>775.00</td>\n",
       "      <td>775.00</td>\n",
       "      <td>775.00</td>\n",
       "      <td>775.00</td>\n",
       "    </tr>\n",
       "    <tr>\n",
       "      <th>mean</th>\n",
       "      <td>inf</td>\n",
       "      <td>18157.72</td>\n",
       "      <td>-inf</td>\n",
       "      <td>inf</td>\n",
       "    </tr>\n",
       "    <tr>\n",
       "      <th>std</th>\n",
       "      <td>NaN</td>\n",
       "      <td>20454.22</td>\n",
       "      <td>NaN</td>\n",
       "      <td>NaN</td>\n",
       "    </tr>\n",
       "    <tr>\n",
       "      <th>min</th>\n",
       "      <td>876.51</td>\n",
       "      <td>800.00</td>\n",
       "      <td>-inf</td>\n",
       "      <td>0.05</td>\n",
       "    </tr>\n",
       "    <tr>\n",
       "      <th>25%</th>\n",
       "      <td>7167.21</td>\n",
       "      <td>6700.00</td>\n",
       "      <td>-1672.90</td>\n",
       "      <td>9.06</td>\n",
       "    </tr>\n",
       "    <tr>\n",
       "      <th>50%</th>\n",
       "      <td>11404.49</td>\n",
       "      <td>11400.00</td>\n",
       "      <td>149.02</td>\n",
       "      <td>19.08</td>\n",
       "    </tr>\n",
       "    <tr>\n",
       "      <th>75%</th>\n",
       "      <td>19842.91</td>\n",
       "      <td>21850.00</td>\n",
       "      <td>2514.89</td>\n",
       "      <td>36.17</td>\n",
       "    </tr>\n",
       "    <tr>\n",
       "      <th>max</th>\n",
       "      <td>inf</td>\n",
       "      <td>129999.00</td>\n",
       "      <td>90934.60</td>\n",
       "      <td>inf</td>\n",
       "    </tr>\n",
       "  </tbody>\n",
       "</table>\n",
       "</div>"
      ],
      "text/plain": [
       "       Prediction    Target  Residuals  Difference%\n",
       "count      775.00    775.00     775.00       775.00\n",
       "mean          inf  18157.72       -inf          inf\n",
       "std           NaN  20454.22        NaN          NaN\n",
       "min        876.51    800.00       -inf         0.05\n",
       "25%       7167.21   6700.00   -1672.90         9.06\n",
       "50%      11404.49  11400.00     149.02        19.08\n",
       "75%      19842.91  21850.00    2514.89        36.17\n",
       "max           inf 129999.00   90934.60          inf"
      ]
     },
     "execution_count": 267,
     "metadata": {},
     "output_type": "execute_result"
    }
   ],
   "source": [
    "df_pf.describe()"
   ]
  },
  {
   "cell_type": "code",
   "execution_count": 268,
   "metadata": {
    "tags": []
   },
   "outputs": [
    {
     "name": "stdout",
     "output_type": "stream",
     "text": [
      "     Prediction    Target  Residuals  Difference%\n",
      "215     7787.05   4999.00   -2788.05        55.77\n",
      "247    27911.44  17900.00  -10011.44        55.93\n",
      "85      7496.70   4800.00   -2696.70        56.18\n",
      "582    14411.50   9200.00   -5211.50        56.65\n",
      "724     8323.73   5300.00   -3023.73        57.05\n",
      "186    37716.21  90999.00   53282.79        58.55\n",
      "697     4125.91   2600.00   -1525.91        58.69\n",
      "455    19251.91  47777.00   28525.09        59.70\n",
      "703    12458.67   7800.00   -4658.67        59.73\n",
      "200     5119.97   3200.00   -1919.97        60.00\n",
      "269     2402.57   1500.00    -902.57        60.17\n",
      "170    12998.64   8100.00   -4898.64        60.48\n",
      "407    10943.99   6799.00   -4144.99        60.96\n",
      "106    11777.38  30500.00   18722.62        61.39\n",
      "141     5972.52  15500.00    9527.48        61.47\n",
      "680     4425.82  11600.00    7174.18        61.85\n",
      "387     4541.49   2800.00   -1741.49        62.20\n",
      "705    10251.24   6300.00   -3951.24        62.72\n",
      "235    30967.67  18900.00  -12067.67        63.85\n",
      "385    29529.65  18000.00  -11529.65        64.05\n",
      "132     3144.00   8900.00    5756.00        64.67\n",
      "285    34754.36  99000.00   64245.64        64.89\n",
      "673     8272.87   4999.00   -3273.87        65.49\n",
      "90      2316.93   1400.00    -916.93        65.49\n",
      "22     40554.51  24500.00  -16054.51        65.53\n",
      "432     3826.11   2300.00   -1526.11        66.35\n",
      "762    13816.21   8300.00   -5516.21        66.46\n",
      "310    14645.99   8700.00   -5945.99        68.34\n",
      "436    39064.40 129999.00   90934.60        69.95\n",
      "219    33388.22 112000.00   78611.78        70.19\n",
      "616     9986.95   5850.00   -4136.95        70.72\n",
      "104     6488.51   3799.00   -2689.51        70.80\n",
      "752    11789.01   6900.00   -4889.01        70.86\n",
      "203    13671.85   8000.00   -5671.85        70.90\n",
      "585    14938.52   8700.00   -6238.52        71.71\n",
      "39      4175.97  15500.00   11324.03        73.06\n",
      "220     4732.51  18000.00   13267.49        73.71\n",
      "250     4428.89   2500.00   -1928.89        77.16\n",
      "647    23033.18  12999.00  -10034.18        77.19\n",
      "459    42633.41  23900.00  -18733.41        78.38\n",
      "735     8274.28   4600.00   -3674.28        79.88\n",
      "623    13704.08   7500.00   -6204.08        82.72\n",
      "410     4577.72   2500.00   -2077.72        83.11\n",
      "460     6879.82   3700.00   -3179.82        85.94\n",
      "665    23522.15  12500.00  -11022.15        88.18\n",
      "731     5687.54   3000.00   -2687.54        89.58\n",
      "76     11867.19   6200.00   -5667.19        91.41\n",
      "593    21704.17  11299.00  -10405.17        92.09\n",
      "98      3291.65   1700.00   -1591.65        93.63\n",
      "403    70849.73  36100.00  -34749.73        96.26\n",
      "191    17433.76   8350.00   -9083.76       108.79\n",
      "262     8598.17   4100.00   -4498.17       109.71\n",
      "174    11145.67   5300.00   -5845.67       110.30\n",
      "67      8574.82   4000.00   -4574.82       114.37\n",
      "107     7619.83   3500.00   -4119.83       117.71\n",
      "270     5736.03   2600.00   -3136.03       120.62\n",
      "570    12208.06   5500.00   -6708.06       121.96\n",
      "165    10911.89   4900.00   -6011.89       122.69\n",
      "19     39684.21  17200.00  -22484.21       130.72\n",
      "256     4178.54   1800.00   -2378.54       132.14\n",
      "398     8338.76   3500.00   -4838.76       138.25\n",
      "322    18911.94   7800.00  -11111.94       142.46\n",
      "339     5560.58   2250.00   -3310.58       147.14\n",
      "579     6624.06   2600.00   -4024.06       154.77\n",
      "758     9397.26   3600.00   -5797.26       161.04\n",
      "533     6206.96   2350.00   -3856.96       164.13\n",
      "276    10179.89   3650.00   -6529.89       178.90\n",
      "175     5642.80   2000.00   -3642.80       182.14\n",
      "619     5403.19   1900.00   -3503.19       184.38\n",
      "586    13280.32   4400.00   -8880.32       201.83\n",
      "486    15164.95   4800.00  -10364.95       215.94\n",
      "525    33965.59  10600.00  -23365.59       220.43\n",
      "691    12513.83   3800.00   -8713.83       229.31\n",
      "300     9815.55   2900.00   -6915.55       238.47\n",
      "36      2880.60    800.00   -2080.60       260.08\n",
      "326    10022.98   2300.00   -7722.98       335.78\n",
      "336    32539.22   4800.00  -27739.22       577.90\n",
      "521    17282.27   1450.00  -15832.27      1091.88\n",
      "605    32112.51   2400.00  -29712.51      1238.02\n",
      "231         inf    999.00       -inf          inf\n"
     ]
    }
   ],
   "source": [
    "pd.options.display.max_rows = 100\n",
    "# pd.set_option('display.max_rows', None)\n",
    "pd.set_option('display.float_format', lambda x: '%.2f' % x)\n",
    "# print(df_pf.sort_values(by=['Difference%']).head(5))\n",
    "print(df_pf.sort_values(by=['Difference%']).tail(80))"
   ]
  }
 ],
 "metadata": {
  "kernelspec": {
   "display_name": "Python 3 - CPU (ipykernel)",
   "language": "python",
   "name": "python3"
  },
  "language_info": {
   "codemirror_mode": {
    "name": "ipython",
    "version": 3
   },
   "file_extension": ".py",
   "mimetype": "text/x-python",
   "name": "python",
   "nbconvert_exporter": "python",
   "pygments_lexer": "ipython3",
   "version": "3.8.15"
  }
 },
 "nbformat": 4,
 "nbformat_minor": 4
}
