{
 "cells": [
  {
   "cell_type": "code",
   "execution_count": 1,
   "id": "5070c729-3700-4494-8a40-ec64ac71ba7b",
   "metadata": {
    "tags": []
   },
   "outputs": [],
   "source": [
    "import random\n",
    "import numpy as np\n",
    "import heapq\n",
    "\n",
    "def initialize_population(size, chromosome_length):\n",
    "    return [np.random.randint(0, 2, chromosome_length) for i in range(size)]\n",
    "\n",
    "def fitness(chromosome):\n",
    "    score = np.mean(chromosome)\n",
    "    return score\n",
    "\n",
    "def select_parents(population, scores, k=None):\n",
    "    if k is None:\n",
    "        k = len(population)\n",
    "    return random.choices(population, weights=scores, k=k)\n",
    "\n",
    "def crossover(parent1, parent2):\n",
    "    pt = random.randint(1, len(parent1)-2)\n",
    "    child1 = np.concatenate((parent1[:pt], parent2[pt:]))\n",
    "    child2 = np.concatenate((parent2[:pt], parent1[pt:]))\n",
    "    return child1, child2\n",
    "\n",
    "def mutation(chromosome):\n",
    "    mutated_chromosome = chromosome.copy()\n",
    "    index = random.randint(0, len(chromosome)-1)\n",
    "    mutated_chromosome[index] = 1-mutated_chromosome[index]\n",
    "    return mutated_chromosome\n",
    "\n",
    "def best_of_gen(population, population_scores, k):\n",
    "    if k == 0:\n",
    "        return []\n",
    "    top_k_ix = heapq.nlargest(k, enumerate(population_scores), key=lambda x: x[1])\n",
    "    top_k = [population[ix] for ix, _ in top_k_ix]\n",
    "    return top_k\n",
    "\n",
    "def ga_algorithm(n_gen, population_size, chromosome_length=10, crossover_rate=0.9, mutation_rate=0.01, top_k=0):\n",
    "    population = initialize_population(population_size, chromosome_length)\n",
    "    population_scores = [fitness(c) for c in population]\n",
    "    for generation in range(n_gen):\n",
    "        parents = select_parents(population, population_scores)\n",
    "        offspring = []\n",
    "        for i in range(0, population_size, 2):\n",
    "            parent1, parent2 = parents[i], parents[i+1]\n",
    "            # crossover\n",
    "            if random.random() < crossover_rate:\n",
    "                child1, child2 = crossover(parent1, parent2)\n",
    "            else:\n",
    "                child1, child2 = parent1.copy(), parent2.copy()    \n",
    "            # mutation\n",
    "            if random.random() < mutation_rate:\n",
    "                child1 = mutation(child1)\n",
    "            if random.random() < mutation_rate:\n",
    "                child2 = mutation(child2)\n",
    "            \n",
    "            offspring.extend([child1, child2])\n",
    "        # guarantee to pass down the best two samples of this generation to the next generation\n",
    "        if top_k != 0:\n",
    "            best_indiv = best_of_gen(population, population_scores, top_k)\n",
    "            offspring[:-top_k].extend(best_indiv)\n",
    "        \n",
    "        population = offspring\n",
    "        population_scores = [fitness(c) for c in population]\n",
    "            \n",
    "    return population, population_scores\n",
    "        "
   ]
  },
  {
   "cell_type": "code",
   "execution_count": 2,
   "id": "e74dc2d6-18bc-4914-a391-c15496f8ddd8",
   "metadata": {
    "tags": []
   },
   "outputs": [],
   "source": [
    "population, fit_score = ga_algorithm(n_gen=10, population_size=100, chromosome_length=10, crossover_rate=0.99, mutation_rate=0.05, top_k=10)"
   ]
  },
  {
   "cell_type": "code",
   "execution_count": 3,
   "id": "8e3fbfb6-259e-456a-b2d5-c18ba5250f73",
   "metadata": {
    "tags": []
   },
   "outputs": [
    {
     "name": "stdout",
     "output_type": "stream",
     "text": [
      "3\n"
     ]
    }
   ],
   "source": [
    "counter = 0\n",
    "for i in range(len(population)):\n",
    "    if(fit_score[i]>0.98):\n",
    "        counter += 1\n",
    "        # print(counter, population[i], fit_score[i])\n",
    "print(counter)"
   ]
  },
  {
   "cell_type": "code",
   "execution_count": null,
   "id": "5692d4bd-f514-4c73-b5f1-ca77453de0d2",
   "metadata": {},
   "outputs": [],
   "source": []
  }
 ],
 "metadata": {
  "kernelspec": {
   "display_name": "Python 3 - CPU (ipykernel)",
   "language": "python",
   "name": "python3"
  },
  "language_info": {
   "codemirror_mode": {
    "name": "ipython",
    "version": 3
   },
   "file_extension": ".py",
   "mimetype": "text/x-python",
   "name": "python",
   "nbconvert_exporter": "python",
   "pygments_lexer": "ipython3",
   "version": "3.8.16"
  }
 },
 "nbformat": 4,
 "nbformat_minor": 5
}
