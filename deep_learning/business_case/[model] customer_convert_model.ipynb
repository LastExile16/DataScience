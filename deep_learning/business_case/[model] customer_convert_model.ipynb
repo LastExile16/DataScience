{
 "cells": [
  {
   "attachments": {},
   "cell_type": "markdown",
   "metadata": {},
   "source": [
    "### Create the machine learning algorithm"
   ]
  },
  {
   "attachments": {},
   "cell_type": "markdown",
   "metadata": {},
   "source": [
    "#### import the libraries"
   ]
  },
  {
   "cell_type": "code",
   "execution_count": 264,
   "metadata": {},
   "outputs": [],
   "source": [
    "import numpy as np\n",
    "import tensorflow as tf"
   ]
  },
  {
   "cell_type": "code",
   "execution_count": 265,
   "metadata": {},
   "outputs": [
    {
     "data": {
      "text/plain": [
       "'2.12.0'"
      ]
     },
     "execution_count": 265,
     "metadata": {},
     "output_type": "execute_result"
    }
   ],
   "source": [
    "tf.__version__"
   ]
  },
  {
   "attachments": {},
   "cell_type": "markdown",
   "metadata": {},
   "source": [
    "#### load the Data"
   ]
  },
  {
   "cell_type": "code",
   "execution_count": 266,
   "metadata": {},
   "outputs": [],
   "source": [
    "npz = np.load('Audiobooks_data_train.npz')\n",
    "\n",
    "train_inputs = npz['inputs'].astype(float)\n",
    "train_targets = npz['targets'].astype(int)\n",
    "\n",
    "npz = np.load('Audiobooks_data_validation.npz')\n",
    "\n",
    "validation_inputs, validation_targets = npz['inputs'].astype(float), npz['targets'].astype(int)\n",
    "\n",
    "npz = np.load('Audiobooks_data_test.npz')\n",
    "\n",
    "test_inputs, test_targets = npz['inputs'].astype(float), npz['targets'].astype(int)"
   ]
  },
  {
   "attachments": {},
   "cell_type": "markdown",
   "metadata": {},
   "source": [
    "### Model"
   ]
  },
  {
   "attachments": {},
   "cell_type": "markdown",
   "metadata": {},
   "source": [
    "#### Hyper-parameters"
   ]
  },
  {
   "cell_type": "code",
   "execution_count": 267,
   "metadata": {},
   "outputs": [],
   "source": [
    "tf.random.set_seed(42)\n",
    "HIDDEN_LAYER_SIZE = 256\n",
    "INPUT_SIZE = 10\n",
    "OUTPUT_SIZE = 2\n",
    "\n",
    "BATCH_SIZE = 50\n",
    "MAX_EPOCHS = 100"
   ]
  },
  {
   "attachments": {},
   "cell_type": "markdown",
   "metadata": {},
   "source": [
    "#### Model layers"
   ]
  },
  {
   "cell_type": "code",
   "execution_count": 268,
   "metadata": {},
   "outputs": [],
   "source": [
    "initi=tf.keras.initializers.variance_scaling()\n",
    "# whether to use initializer within each layer or not? A/ Yes\n",
    "# is input layer already included or must be created? A/ No\n",
    "# dropout layer is like a mask that filters the input neurons to the next layer\n",
    "# https://machinelearningmastery.com/dropout-regularization-deep-learning-models-keras/\n",
    "# For weights preceding a ReLU function you could use the default settings of:\n",
    "# tf.contrib.layers.variance_scaling_initializer\n",
    "# for tanh/sigmoid activated layers \"xavier\" might be more appropriate:\n",
    "# tf.contrib.layers.xavier_initializer\n",
    "model = tf.keras.Sequential([\n",
    "                            tf.keras.layers.Dropout(0.2, input_shape=(10,)),\n",
    "                            tf.keras.layers.Dense(HIDDEN_LAYER_SIZE/2, activation='relu', kernel_initializer=initi),\n",
    "                            tf.keras.layers.Dropout(0.5),\n",
    "                            tf.keras.layers.Dense(HIDDEN_LAYER_SIZE/4, activation='relu', kernel_initializer='variance_scaling'),\n",
    "                            tf.keras.layers.Dropout(0.5),\n",
    "                            tf.keras.layers.Dense(HIDDEN_LAYER_SIZE/8, activation='relu', kernel_initializer='variance_scaling'),\n",
    "                            tf.keras.layers.Dropout(0.5),\n",
    "                            tf.keras.layers.Dense(HIDDEN_LAYER_SIZE/16, activation='relu', kernel_initializer='variance_scaling'),\n",
    "                            tf.keras.layers.Dense(HIDDEN_LAYER_SIZE/32, activation='relu', kernel_initializer='variance_scaling'),\n",
    "                            tf.keras.layers.Dense(OUTPUT_SIZE, activation='sigmoid')\n",
    "                            # tf.keras.layers.Dense(OUTPUT_SIZE, activation='softmax')\n",
    "                            ])\n"
   ]
  },
  {
   "attachments": {},
   "cell_type": "markdown",
   "metadata": {},
   "source": [
    "#### Optimizer and Loss functions"
   ]
  },
  {
   "cell_type": "code",
   "execution_count": 269,
   "metadata": {},
   "outputs": [],
   "source": [
    "custom_optimizer = tf.keras.optimizers.legacy.Adam(learning_rate=0.001)\n",
    "# custom_loss_fn = tf.keras.losses.SparseCategoricalCrossentropy(from_logits=True)\n",
    "custom_loss_fn = tf.keras.losses.SparseCategoricalCrossentropy()\n",
    "\n",
    "model.compile(optimizer=custom_optimizer, loss=custom_loss_fn, metrics=['accuracy'])"
   ]
  },
  {
   "attachments": {},
   "cell_type": "markdown",
   "metadata": {},
   "source": [
    "#### Fit the model"
   ]
  },
  {
   "cell_type": "code",
   "execution_count": 270,
   "metadata": {},
   "outputs": [
    {
     "name": "stdout",
     "output_type": "stream",
     "text": [
      "Epoch 1/100\n",
      "226/226 - 1s - loss: 0.4819 - accuracy: 0.8276 - val_loss: 0.3952 - val_accuracy: 0.8402 - 1s/epoch - 6ms/step\n",
      "Epoch 2/100\n",
      "226/226 - 1s - loss: 0.3978 - accuracy: 0.8418 - val_loss: 0.3526 - val_accuracy: 0.8402 - 846ms/epoch - 4ms/step\n",
      "Epoch 3/100\n",
      "226/226 - 1s - loss: 0.3822 - accuracy: 0.8457 - val_loss: 0.3381 - val_accuracy: 0.8452 - 845ms/epoch - 4ms/step\n",
      "Epoch 4/100\n",
      "226/226 - 1s - loss: 0.3666 - accuracy: 0.8585 - val_loss: 0.3210 - val_accuracy: 0.8949 - 848ms/epoch - 4ms/step\n",
      "Epoch 5/100\n",
      "226/226 - 1s - loss: 0.3539 - accuracy: 0.8685 - val_loss: 0.3069 - val_accuracy: 0.8942 - 1s/epoch - 4ms/step\n",
      "Epoch 6/100\n",
      "226/226 - 1s - loss: 0.3462 - accuracy: 0.8719 - val_loss: 0.3151 - val_accuracy: 0.8885 - 882ms/epoch - 4ms/step\n"
     ]
    },
    {
     "data": {
      "text/plain": [
       "<keras.callbacks.History at 0x7fe0fc42acd0>"
      ]
     },
     "execution_count": 270,
     "metadata": {},
     "output_type": "execute_result"
    }
   ],
   "source": [
    "#'loss','accuracy','val_loss','val_accuracy'.\n",
    "early_stopping = tf.keras.callbacks.EarlyStopping(monitor='val_accuracy', patience=2, restore_best_weights=True)\n",
    "model.fit(train_inputs, train_targets, \n",
    "        batch_size=BATCH_SIZE, epochs=MAX_EPOCHS,\n",
    "        validation_data=(validation_inputs, validation_targets),\n",
    "        callbacks=[early_stopping],\n",
    "        verbose=2\n",
    "        )"
   ]
  },
  {
   "cell_type": "code",
   "execution_count": 271,
   "metadata": {},
   "outputs": [
    {
     "name": "stdout",
     "output_type": "stream",
     "text": [
      "45/45 [==============================] - 0s 2ms/step - loss: 0.3197 - accuracy: 0.8935\n"
     ]
    },
    {
     "data": {
      "text/plain": [
       "[0.3196975886821747, 0.8935415148735046]"
      ]
     },
     "execution_count": 271,
     "metadata": {},
     "output_type": "execute_result"
    }
   ],
   "source": [
    "model.evaluate(test_inputs, test_targets)"
   ]
  },
  {
   "attachments": {},
   "cell_type": "markdown",
   "metadata": {},
   "source": [
    "## Let's do Logistic Regression instead of Deep Learning"
   ]
  },
  {
   "cell_type": "code",
   "execution_count": 272,
   "metadata": {},
   "outputs": [],
   "source": [
    "import pandas as pd\n",
    "import statsmodels.formula.api as smf\n",
    "import statsmodels.api as sm\n",
    "import matplotlib.pyplot as plt\n",
    "import seaborn as sns\n",
    "sns.set()"
   ]
  },
  {
   "cell_type": "code",
   "execution_count": 273,
   "metadata": {},
   "outputs": [
    {
     "data": {
      "text/html": [
       "<div>\n",
       "<style scoped>\n",
       "    .dataframe tbody tr th:only-of-type {\n",
       "        vertical-align: middle;\n",
       "    }\n",
       "\n",
       "    .dataframe tbody tr th {\n",
       "        vertical-align: top;\n",
       "    }\n",
       "\n",
       "    .dataframe thead th {\n",
       "        text-align: right;\n",
       "    }\n",
       "</style>\n",
       "<table border=\"1\" class=\"dataframe\">\n",
       "  <thead>\n",
       "    <tr style=\"text-align: right;\">\n",
       "      <th></th>\n",
       "      <th>0</th>\n",
       "      <th>1</th>\n",
       "      <th>2</th>\n",
       "      <th>3</th>\n",
       "      <th>4</th>\n",
       "      <th>5</th>\n",
       "      <th>6</th>\n",
       "      <th>7</th>\n",
       "      <th>8</th>\n",
       "      <th>9</th>\n",
       "    </tr>\n",
       "  </thead>\n",
       "  <tbody>\n",
       "    <tr>\n",
       "      <th>count</th>\n",
       "      <td>11267.000000</td>\n",
       "      <td>11267.000000</td>\n",
       "      <td>11267.000000</td>\n",
       "      <td>11267.000000</td>\n",
       "      <td>11267.000000</td>\n",
       "      <td>11267.000000</td>\n",
       "      <td>11267.000000</td>\n",
       "      <td>11267.000000</td>\n",
       "      <td>11267.000000</td>\n",
       "      <td>11267.000000</td>\n",
       "    </tr>\n",
       "    <tr>\n",
       "      <th>mean</th>\n",
       "      <td>0.001422</td>\n",
       "      <td>-0.000356</td>\n",
       "      <td>0.000392</td>\n",
       "      <td>-0.000142</td>\n",
       "      <td>-0.003424</td>\n",
       "      <td>0.003405</td>\n",
       "      <td>-0.001354</td>\n",
       "      <td>-0.002758</td>\n",
       "      <td>0.000529</td>\n",
       "      <td>-0.000452</td>\n",
       "    </tr>\n",
       "    <tr>\n",
       "      <th>std</th>\n",
       "      <td>1.000741</td>\n",
       "      <td>0.995045</td>\n",
       "      <td>1.011347</td>\n",
       "      <td>1.009977</td>\n",
       "      <td>0.996871</td>\n",
       "      <td>0.979418</td>\n",
       "      <td>1.001274</td>\n",
       "      <td>0.992925</td>\n",
       "      <td>1.029174</td>\n",
       "      <td>1.000796</td>\n",
       "    </tr>\n",
       "    <tr>\n",
       "      <th>min</th>\n",
       "      <td>-2.726987</td>\n",
       "      <td>-2.233620</td>\n",
       "      <td>-0.657770</td>\n",
       "      <td>-0.662563</td>\n",
       "      <td>-0.437653</td>\n",
       "      <td>-12.294069</td>\n",
       "      <td>-0.520980</td>\n",
       "      <td>-0.441298</td>\n",
       "      <td>-0.148730</td>\n",
       "      <td>-0.702175</td>\n",
       "    </tr>\n",
       "    <tr>\n",
       "      <th>25%</th>\n",
       "      <td>-0.799650</td>\n",
       "      <td>-0.749232</td>\n",
       "      <td>-0.359686</td>\n",
       "      <td>-0.398171</td>\n",
       "      <td>-0.437653</td>\n",
       "      <td>0.000319</td>\n",
       "      <td>-0.520980</td>\n",
       "      <td>-0.441298</td>\n",
       "      <td>-0.148730</td>\n",
       "      <td>-0.702175</td>\n",
       "    </tr>\n",
       "    <tr>\n",
       "      <th>50%</th>\n",
       "      <td>0.056944</td>\n",
       "      <td>-0.089504</td>\n",
       "      <td>-0.233964</td>\n",
       "      <td>-0.275868</td>\n",
       "      <td>-0.437653</td>\n",
       "      <td>0.000319</td>\n",
       "      <td>-0.520980</td>\n",
       "      <td>-0.441298</td>\n",
       "      <td>-0.148730</td>\n",
       "      <td>-0.577465</td>\n",
       "    </tr>\n",
       "    <tr>\n",
       "      <th>75%</th>\n",
       "      <td>1.127687</td>\n",
       "      <td>0.735156</td>\n",
       "      <td>0.181732</td>\n",
       "      <td>0.082050</td>\n",
       "      <td>-0.437653</td>\n",
       "      <td>0.000319</td>\n",
       "      <td>0.017998</td>\n",
       "      <td>-0.200157</td>\n",
       "      <td>-0.148730</td>\n",
       "      <td>0.476903</td>\n",
       "    </tr>\n",
       "    <tr>\n",
       "      <th>max</th>\n",
       "      <td>1.127687</td>\n",
       "      <td>7.662300</td>\n",
       "      <td>25.111276</td>\n",
       "      <td>22.193832</td>\n",
       "      <td>2.284918</td>\n",
       "      <td>1.694489</td>\n",
       "      <td>3.625008</td>\n",
       "      <td>7.435976</td>\n",
       "      <td>63.391751</td>\n",
       "      <td>3.696693</td>\n",
       "    </tr>\n",
       "  </tbody>\n",
       "</table>\n",
       "</div>"
      ],
      "text/plain": [
       "                  0             1             2             3             4  \\\n",
       "count  11267.000000  11267.000000  11267.000000  11267.000000  11267.000000   \n",
       "mean       0.001422     -0.000356      0.000392     -0.000142     -0.003424   \n",
       "std        1.000741      0.995045      1.011347      1.009977      0.996871   \n",
       "min       -2.726987     -2.233620     -0.657770     -0.662563     -0.437653   \n",
       "25%       -0.799650     -0.749232     -0.359686     -0.398171     -0.437653   \n",
       "50%        0.056944     -0.089504     -0.233964     -0.275868     -0.437653   \n",
       "75%        1.127687      0.735156      0.181732      0.082050     -0.437653   \n",
       "max        1.127687      7.662300     25.111276     22.193832      2.284918   \n",
       "\n",
       "                  5             6             7             8             9  \n",
       "count  11267.000000  11267.000000  11267.000000  11267.000000  11267.000000  \n",
       "mean       0.003405     -0.001354     -0.002758      0.000529     -0.000452  \n",
       "std        0.979418      1.001274      0.992925      1.029174      1.000796  \n",
       "min      -12.294069     -0.520980     -0.441298     -0.148730     -0.702175  \n",
       "25%        0.000319     -0.520980     -0.441298     -0.148730     -0.702175  \n",
       "50%        0.000319     -0.520980     -0.441298     -0.148730     -0.577465  \n",
       "75%        0.000319      0.017998     -0.200157     -0.148730      0.476903  \n",
       "max        1.694489      3.625008      7.435976     63.391751      3.696693  "
      ]
     },
     "execution_count": 273,
     "metadata": {},
     "output_type": "execute_result"
    }
   ],
   "source": [
    "data = pd.DataFrame(data=train_inputs)\n",
    "data.describe()"
   ]
  },
  {
   "cell_type": "code",
   "execution_count": 274,
   "metadata": {},
   "outputs": [
    {
     "data": {
      "text/plain": [
       "<matplotlib.collections.PathCollection at 0x7fe0fc048f70>"
      ]
     },
     "execution_count": 274,
     "metadata": {},
     "output_type": "execute_result"
    },
    {
     "data": {
      "image/png": "[encoded data removed]",
      "text/plain": [
       "<Figure size 1500x500 with 10 Axes>"
      ]
     },
     "metadata": {},
     "output_type": "display_data"
    }
   ],
   "source": [
    "f, ax = plt.subplots(2, 5, sharey=True, figsize =(15,5))\n",
    "ax[0,0].scatter(train_inputs[:,0],train_targets, alpha=0.1)\n",
    "ax[0,1].scatter(train_inputs[:,1],train_targets, alpha=0.1)\n",
    "ax[0,2].scatter(train_inputs[:,2],train_targets, alpha=0.1)\n",
    "ax[0,3].scatter(train_inputs[:,3],train_targets, alpha=0.1)\n",
    "ax[0,4].scatter(train_inputs[:,4],train_targets, alpha=0.1)\n",
    "\n",
    "ax[1,0].scatter(train_inputs[:,5],train_targets, alpha=0.1)\n",
    "ax[1,1].scatter(train_inputs[:,6],train_targets, alpha=0.1)\n",
    "ax[1,2].scatter(train_inputs[:,7],train_targets, alpha=0.1)\n",
    "ax[1,3].scatter(train_inputs[:,8],train_targets, alpha=0.1)\n",
    "ax[1,4].scatter(train_inputs[:,9],train_targets, alpha=0.1)\n"
   ]
  },
  {
   "cell_type": "code",
   "execution_count": 275,
   "metadata": {},
   "outputs": [],
   "source": [
    "# sklearn does not have a built-in way to check for multicollinearity\n",
    "# one of the main reasons is that this is an issue well covered in statistical frameworks and not in ML ones\n",
    "# surely it is an issue nonetheless, thus we will try to deal with it\n",
    "\n",
    "# Here's the relevant module\n",
    "# full documentation: http://www.statsmodels.org/dev/_modules/statsmodels/stats/outliers_influence.html#variance_inflation_factor\n",
    "from statsmodels.stats.outliers_influence import variance_inflation_factor\n",
    "\n",
    "# To make this as easy as possible to use, we declare a variable where we put\n",
    "# all features where we want to check for multicollinearity\n",
    "# since our categorical data is not yet preprocessed, we will only take the numerical ones\n",
    "variables = train_inputs\n",
    "\n",
    "# we create a new data frame which will include all the VIFs\n",
    "# note that each variable has its own variance inflation factor as this measure is variable specific (not model specific)\n",
    "vif = pd.DataFrame()\n",
    "\n",
    "# here we make use of the variance_inflation_factor, which will basically output the respective VIFs \n",
    "vif[\"VIF\"] = [variance_inflation_factor(variables, i) for i in range(variables.shape[1])]\n",
    "# Finally, I like to include names so it is easier to explore the result\n",
    "vif[\"Features\"] = variables.shape[0]"
   ]
  },
  {
   "cell_type": "code",
   "execution_count": 276,
   "metadata": {},
   "outputs": [
    {
     "data": {
      "text/html": [
       "<div>\n",
       "<style scoped>\n",
       "    .dataframe tbody tr th:only-of-type {\n",
       "        vertical-align: middle;\n",
       "    }\n",
       "\n",
       "    .dataframe tbody tr th {\n",
       "        vertical-align: top;\n",
       "    }\n",
       "\n",
       "    .dataframe thead th {\n",
       "        text-align: right;\n",
       "    }\n",
       "</style>\n",
       "<table border=\"1\" class=\"dataframe\">\n",
       "  <thead>\n",
       "    <tr style=\"text-align: right;\">\n",
       "      <th></th>\n",
       "      <th>VIF</th>\n",
       "      <th>Features</th>\n",
       "    </tr>\n",
       "  </thead>\n",
       "  <tbody>\n",
       "    <tr>\n",
       "      <th>0</th>\n",
       "      <td>8.953812</td>\n",
       "      <td>11267</td>\n",
       "    </tr>\n",
       "    <tr>\n",
       "      <th>1</th>\n",
       "      <td>12.892705</td>\n",
       "      <td>11267</td>\n",
       "    </tr>\n",
       "    <tr>\n",
       "      <th>2</th>\n",
       "      <td>28.521396</td>\n",
       "      <td>11267</td>\n",
       "    </tr>\n",
       "    <tr>\n",
       "      <th>3</th>\n",
       "      <td>33.330468</td>\n",
       "      <td>11267</td>\n",
       "    </tr>\n",
       "    <tr>\n",
       "      <th>4</th>\n",
       "      <td>1.312431</td>\n",
       "      <td>11267</td>\n",
       "    </tr>\n",
       "    <tr>\n",
       "      <th>5</th>\n",
       "      <td>1.006803</td>\n",
       "      <td>11267</td>\n",
       "    </tr>\n",
       "    <tr>\n",
       "      <th>6</th>\n",
       "      <td>1.417693</td>\n",
       "      <td>11267</td>\n",
       "    </tr>\n",
       "    <tr>\n",
       "      <th>7</th>\n",
       "      <td>1.001745</td>\n",
       "      <td>11267</td>\n",
       "    </tr>\n",
       "    <tr>\n",
       "      <th>8</th>\n",
       "      <td>1.117602</td>\n",
       "      <td>11267</td>\n",
       "    </tr>\n",
       "    <tr>\n",
       "      <th>9</th>\n",
       "      <td>1.092278</td>\n",
       "      <td>11267</td>\n",
       "    </tr>\n",
       "  </tbody>\n",
       "</table>\n",
       "</div>"
      ],
      "text/plain": [
       "         VIF  Features\n",
       "0   8.953812     11267\n",
       "1  12.892705     11267\n",
       "2  28.521396     11267\n",
       "3  33.330468     11267\n",
       "4   1.312431     11267\n",
       "5   1.006803     11267\n",
       "6   1.417693     11267\n",
       "7   1.001745     11267\n",
       "8   1.117602     11267\n",
       "9   1.092278     11267"
      ]
     },
     "execution_count": 276,
     "metadata": {},
     "output_type": "execute_result"
    }
   ],
   "source": [
    "vif"
   ]
  },
  {
   "cell_type": "code",
   "execution_count": 277,
   "metadata": {},
   "outputs": [
    {
     "data": {
      "text/plain": [
       "(11267, 7)"
      ]
     },
     "execution_count": 277,
     "metadata": {},
     "output_type": "execute_result"
    }
   ],
   "source": [
    "delete = [1,2,3]\n",
    "filtered_inputs = np.delete(train_inputs, delete, axis=1)\n",
    "filtered_inputs.shape"
   ]
  },
  {
   "cell_type": "code",
   "execution_count": 278,
   "metadata": {},
   "outputs": [
    {
     "name": "stderr",
     "output_type": "stream",
     "text": [
      "/usr/local/lib/python3.8/site-packages/statsmodels/discrete/discrete_model.py:1819: RuntimeWarning: overflow encountered in exp\n",
      "  return 1/(1+np.exp(-X))\n",
      "/usr/local/lib/python3.8/site-packages/statsmodels/base/model.py:604: ConvergenceWarning: Maximum Likelihood optimization failed to converge. Check mle_retvals\n",
      "  warnings.warn(\"Maximum Likelihood optimization failed to \"\n"
     ]
    },
    {
     "name": "stdout",
     "output_type": "stream",
     "text": [
      "Warning: Maximum number of iterations has been exceeded.\n",
      "         Current function value: 0.292436\n",
      "         Iterations: 35\n"
     ]
    },
    {
     "name": "stderr",
     "output_type": "stream",
     "text": [
      "/usr/local/lib/python3.8/site-packages/statsmodels/discrete/discrete_model.py:1819: RuntimeWarning: overflow encountered in exp\n",
      "  return 1/(1+np.exp(-X))\n"
     ]
    },
    {
     "data": {
      "text/html": [
       "<table class=\"simpletable\">\n",
       "<caption>Logit Regression Results</caption>\n",
       "<tr>\n",
       "  <th>Dep. Variable:</th>           <td>y</td>        <th>  No. Observations:  </th>  <td> 11267</td> \n",
       "</tr>\n",
       "<tr>\n",
       "  <th>Model:</th>                 <td>Logit</td>      <th>  Df Residuals:      </th>  <td> 11259</td> \n",
       "</tr>\n",
       "<tr>\n",
       "  <th>Method:</th>                 <td>MLE</td>       <th>  Df Model:          </th>  <td>     7</td> \n",
       "</tr>\n",
       "<tr>\n",
       "  <th>Date:</th>            <td>Wed, 31 May 2023</td> <th>  Pseudo R-squ.:     </th>  <td>0.3316</td> \n",
       "</tr>\n",
       "<tr>\n",
       "  <th>Time:</th>                <td>16:15:40</td>     <th>  Log-Likelihood:    </th> <td> -3294.9</td>\n",
       "</tr>\n",
       "<tr>\n",
       "  <th>converged:</th>             <td>False</td>      <th>  LL-Null:           </th> <td> -4929.3</td>\n",
       "</tr>\n",
       "<tr>\n",
       "  <th>Covariance Type:</th>     <td>nonrobust</td>    <th>  LLR p-value:       </th>  <td> 0.000</td> \n",
       "</tr>\n",
       "</table>\n",
       "<table class=\"simpletable\">\n",
       "<tr>\n",
       "    <td></td>       <th>coef</th>     <th>std err</th>      <th>z</th>      <th>P>|z|</th>  <th>[0.025</th>    <th>0.975]</th>  \n",
       "</tr>\n",
       "<tr>\n",
       "  <th>const</th> <td> -178.3793</td> <td> 1492.223</td> <td>   -0.120</td> <td> 0.905</td> <td>-3103.083</td> <td> 2746.325</td>\n",
       "</tr>\n",
       "<tr>\n",
       "  <th>x1</th>    <td>   -0.1656</td> <td>    0.030</td> <td>   -5.577</td> <td> 0.000</td> <td>   -0.224</td> <td>   -0.107</td>\n",
       "</tr>\n",
       "<tr>\n",
       "  <th>x2</th>    <td>    0.7740</td> <td>    0.053</td> <td>   14.501</td> <td> 0.000</td> <td>    0.669</td> <td>    0.879</td>\n",
       "</tr>\n",
       "<tr>\n",
       "  <th>x3</th>    <td>    0.0577</td> <td>    0.042</td> <td>    1.373</td> <td> 0.170</td> <td>   -0.025</td> <td>    0.140</td>\n",
       "</tr>\n",
       "<tr>\n",
       "  <th>x4</th>    <td> -343.2836</td> <td> 2879.897</td> <td>   -0.119</td> <td> 0.905</td> <td>-5987.778</td> <td> 5301.211</td>\n",
       "</tr>\n",
       "<tr>\n",
       "  <th>x5</th>    <td>   -0.0606</td> <td>    0.032</td> <td>   -1.894</td> <td> 0.058</td> <td>   -0.123</td> <td>    0.002</td>\n",
       "</tr>\n",
       "<tr>\n",
       "  <th>x6</th>    <td>    8.1184</td> <td>  223.982</td> <td>    0.036</td> <td> 0.971</td> <td> -430.878</td> <td>  447.115</td>\n",
       "</tr>\n",
       "<tr>\n",
       "  <th>x7</th>    <td>    0.6782</td> <td>    0.032</td> <td>   21.008</td> <td> 0.000</td> <td>    0.615</td> <td>    0.741</td>\n",
       "</tr>\n",
       "</table><br/><br/>Possibly complete quasi-separation: A fraction 0.42 of observations can be<br/>perfectly predicted. This might indicate that there is complete<br/>quasi-separation. In this case some parameters will not be identified."
      ],
      "text/plain": [
       "<class 'statsmodels.iolib.summary.Summary'>\n",
       "\"\"\"\n",
       "                           Logit Regression Results                           \n",
       "==============================================================================\n",
       "Dep. Variable:                      y   No. Observations:                11267\n",
       "Model:                          Logit   Df Residuals:                    11259\n",
       "Method:                           MLE   Df Model:                            7\n",
       "Date:                Wed, 31 May 2023   Pseudo R-squ.:                  0.3316\n",
       "Time:                        16:15:40   Log-Likelihood:                -3294.9\n",
       "converged:                      False   LL-Null:                       -4929.3\n",
       "Covariance Type:            nonrobust   LLR p-value:                     0.000\n",
       "==============================================================================\n",
       "                 coef    std err          z      P>|z|      [0.025      0.975]\n",
       "------------------------------------------------------------------------------\n",
       "const       -178.3793   1492.223     -0.120      0.905   -3103.083    2746.325\n",
       "x1            -0.1656      0.030     -5.577      0.000      -0.224      -0.107\n",
       "x2             0.7740      0.053     14.501      0.000       0.669       0.879\n",
       "x3             0.0577      0.042      1.373      0.170      -0.025       0.140\n",
       "x4          -343.2836   2879.897     -0.119      0.905   -5987.778    5301.211\n",
       "x5            -0.0606      0.032     -1.894      0.058      -0.123       0.002\n",
       "x6             8.1184    223.982      0.036      0.971    -430.878     447.115\n",
       "x7             0.6782      0.032     21.008      0.000       0.615       0.741\n",
       "==============================================================================\n",
       "\n",
       "Possibly complete quasi-separation: A fraction 0.42 of observations can be\n",
       "perfectly predicted. This might indicate that there is complete\n",
       "quasi-separation. In this case some parameters will not be identified.\n",
       "\"\"\""
      ]
     },
     "execution_count": 278,
     "metadata": {},
     "output_type": "execute_result"
    }
   ],
   "source": [
    "x = sm.add_constant(filtered_inputs)\n",
    "logit = sm.Logit(train_targets, x)\n",
    "result_reg = logit.fit()\n",
    "result_reg.summary()"
   ]
  },
  {
   "cell_type": "code",
   "execution_count": 279,
   "metadata": {},
   "outputs": [
    {
     "name": "stdout",
     "output_type": "stream",
     "text": [
      "Warning: Maximum number of iterations has been exceeded.\n",
      "         Current function value: 0.236942\n",
      "         Iterations: 35\n"
     ]
    },
    {
     "name": "stderr",
     "output_type": "stream",
     "text": [
      "/usr/local/lib/python3.8/site-packages/statsmodels/base/model.py:604: ConvergenceWarning: Maximum Likelihood optimization failed to converge. Check mle_retvals\n",
      "  warnings.warn(\"Maximum Likelihood optimization failed to \"\n",
      "/usr/local/lib/python3.8/site-packages/statsmodels/discrete/discrete_model.py:1819: RuntimeWarning: overflow encountered in exp\n",
      "  return 1/(1+np.exp(-X))\n"
     ]
    },
    {
     "data": {
      "text/html": [
       "<table class=\"simpletable\">\n",
       "<caption>Logit Regression Results</caption>\n",
       "<tr>\n",
       "  <th>Dep. Variable:</th>           <td>y</td>        <th>  No. Observations:  </th>  <td> 11267</td> \n",
       "</tr>\n",
       "<tr>\n",
       "  <th>Model:</th>                 <td>Logit</td>      <th>  Df Residuals:      </th>  <td> 11256</td> \n",
       "</tr>\n",
       "<tr>\n",
       "  <th>Method:</th>                 <td>MLE</td>       <th>  Df Model:          </th>  <td>    10</td> \n",
       "</tr>\n",
       "<tr>\n",
       "  <th>Date:</th>            <td>Wed, 31 May 2023</td> <th>  Pseudo R-squ.:     </th>  <td>0.4584</td> \n",
       "</tr>\n",
       "<tr>\n",
       "  <th>Time:</th>                <td>16:15:40</td>     <th>  Log-Likelihood:    </th> <td> -2669.6</td>\n",
       "</tr>\n",
       "<tr>\n",
       "  <th>converged:</th>             <td>False</td>      <th>  LL-Null:           </th> <td> -4929.3</td>\n",
       "</tr>\n",
       "<tr>\n",
       "  <th>Covariance Type:</th>     <td>nonrobust</td>    <th>  LLR p-value:       </th>  <td> 0.000</td> \n",
       "</tr>\n",
       "</table>\n",
       "<table class=\"simpletable\">\n",
       "<tr>\n",
       "    <td></td>       <th>coef</th>     <th>std err</th>      <th>z</th>      <th>P>|z|</th>  <th>[0.025</th>    <th>0.975]</th>  \n",
       "</tr>\n",
       "<tr>\n",
       "  <th>const</th> <td> -243.2740</td> <td>      nan</td> <td>      nan</td> <td>   nan</td> <td>      nan</td> <td>      nan</td>\n",
       "</tr>\n",
       "<tr>\n",
       "  <th>x1</th>    <td>  -10.0110</td> <td>      nan</td> <td>      nan</td> <td>   nan</td> <td>      nan</td> <td>      nan</td>\n",
       "</tr>\n",
       "<tr>\n",
       "  <th>x2</th>    <td>   12.8909</td> <td>      nan</td> <td>      nan</td> <td>   nan</td> <td>      nan</td> <td>      nan</td>\n",
       "</tr>\n",
       "<tr>\n",
       "  <th>x3</th>    <td>  -23.3373</td> <td> 7.48e+05</td> <td>-3.12e-05</td> <td> 1.000</td> <td>-1.47e+06</td> <td> 1.47e+06</td>\n",
       "</tr>\n",
       "<tr>\n",
       "  <th>x4</th>    <td>   26.3991</td> <td> 8.43e+05</td> <td> 3.13e-05</td> <td> 1.000</td> <td>-1.65e+06</td> <td> 1.65e+06</td>\n",
       "</tr>\n",
       "<tr>\n",
       "  <th>x5</th>    <td>    0.8091</td> <td>    0.056</td> <td>   14.469</td> <td> 0.000</td> <td>    0.699</td> <td>    0.919</td>\n",
       "</tr>\n",
       "<tr>\n",
       "  <th>x6</th>    <td>    0.0426</td> <td>    0.047</td> <td>    0.901</td> <td> 0.367</td> <td>   -0.050</td> <td>    0.135</td>\n",
       "</tr>\n",
       "<tr>\n",
       "  <th>x7</th>    <td> -475.2964</td> <td> 5.23e+04</td> <td>   -0.009</td> <td> 0.993</td> <td>-1.03e+05</td> <td> 1.02e+05</td>\n",
       "</tr>\n",
       "<tr>\n",
       "  <th>x8</th>    <td>   -0.0611</td> <td>    0.036</td> <td>   -1.679</td> <td> 0.093</td> <td>   -0.132</td> <td>    0.010</td>\n",
       "</tr>\n",
       "<tr>\n",
       "  <th>x9</th>    <td>   10.7754</td> <td> 3654.090</td> <td>    0.003</td> <td> 0.998</td> <td>-7151.109</td> <td> 7172.660</td>\n",
       "</tr>\n",
       "<tr>\n",
       "  <th>x10</th>   <td>    0.6539</td> <td>    0.035</td> <td>   18.503</td> <td> 0.000</td> <td>    0.585</td> <td>    0.723</td>\n",
       "</tr>\n",
       "</table><br/><br/>Possibly complete quasi-separation: A fraction 0.46 of observations can be<br/>perfectly predicted. This might indicate that there is complete<br/>quasi-separation. In this case some parameters will not be identified."
      ],
      "text/plain": [
       "<class 'statsmodels.iolib.summary.Summary'>\n",
       "\"\"\"\n",
       "                           Logit Regression Results                           \n",
       "==============================================================================\n",
       "Dep. Variable:                      y   No. Observations:                11267\n",
       "Model:                          Logit   Df Residuals:                    11256\n",
       "Method:                           MLE   Df Model:                           10\n",
       "Date:                Wed, 31 May 2023   Pseudo R-squ.:                  0.4584\n",
       "Time:                        16:15:40   Log-Likelihood:                -2669.6\n",
       "converged:                      False   LL-Null:                       -4929.3\n",
       "Covariance Type:            nonrobust   LLR p-value:                     0.000\n",
       "==============================================================================\n",
       "                 coef    std err          z      P>|z|      [0.025      0.975]\n",
       "------------------------------------------------------------------------------\n",
       "const       -243.2740        nan        nan        nan         nan         nan\n",
       "x1           -10.0110        nan        nan        nan         nan         nan\n",
       "x2            12.8909        nan        nan        nan         nan         nan\n",
       "x3           -23.3373   7.48e+05  -3.12e-05      1.000   -1.47e+06    1.47e+06\n",
       "x4            26.3991   8.43e+05   3.13e-05      1.000   -1.65e+06    1.65e+06\n",
       "x5             0.8091      0.056     14.469      0.000       0.699       0.919\n",
       "x6             0.0426      0.047      0.901      0.367      -0.050       0.135\n",
       "x7          -475.2964   5.23e+04     -0.009      0.993   -1.03e+05    1.02e+05\n",
       "x8            -0.0611      0.036     -1.679      0.093      -0.132       0.010\n",
       "x9            10.7754   3654.090      0.003      0.998   -7151.109    7172.660\n",
       "x10            0.6539      0.035     18.503      0.000       0.585       0.723\n",
       "==============================================================================\n",
       "\n",
       "Possibly complete quasi-separation: A fraction 0.46 of observations can be\n",
       "perfectly predicted. This might indicate that there is complete\n",
       "quasi-separation. In this case some parameters will not be identified.\n",
       "\"\"\""
      ]
     },
     "execution_count": 279,
     "metadata": {},
     "output_type": "execute_result"
    }
   ],
   "source": [
    "x = sm.add_constant(train_inputs)\n",
    "logit = sm.Logit(train_targets, x)\n",
    "result_reg = logit.fit()\n",
    "result_reg.summary()"
   ]
  },
  {
   "cell_type": "code",
   "execution_count": 280,
   "metadata": {},
   "outputs": [],
   "source": [
    "def confusion_matrix(data,actual_values,model):\n",
    "        \n",
    "        # Confusion matrix \n",
    "        \n",
    "        # Parameters\n",
    "        # ----------\n",
    "        # data: data frame or array\n",
    "            # data is a data frame formatted in the same way as your input data (without the actual values)\n",
    "            # e.g. const, var1, var2, etc. Order is very important!\n",
    "        # actual_values: data frame or array\n",
    "            # These are the actual values from the test_data\n",
    "            # In the case of a logistic regression, it should be a single column with 0s and 1s\n",
    "            \n",
    "        # model: a LogitResults object\n",
    "            # this is the variable where you have the fitted model \n",
    "            # e.g. results_log in this course\n",
    "        # ----------\n",
    "        \n",
    "        #Predict the values using the Logit model\n",
    "        pred_values = model.predict(data)\n",
    "        # Specify the bins \n",
    "        bins=np.array([0,0.5,1])\n",
    "        # Create a histogram, where if values are between 0 and 0.5 tell will be considered 0\n",
    "        # if they are between 0.5 and 1, they will be considered 1\n",
    "        cm = np.histogram2d(actual_values, pred_values, bins=bins)[0]\n",
    "        # Calculate the accuracy\n",
    "        accuracy = (cm[0,0]+cm[1,1])/cm.sum()\n",
    "        # Return the confusion matrix and \n",
    "        return cm, accuracy"
   ]
  },
  {
   "cell_type": "code",
   "execution_count": 281,
   "metadata": {},
   "outputs": [
    {
     "data": {
      "text/plain": [
       "(array([[9315.,  164.],\n",
       "        [ 960.,  828.]]),\n",
       " 0.9002396378805361)"
      ]
     },
     "execution_count": 281,
     "metadata": {},
     "output_type": "execute_result"
    }
   ],
   "source": [
    "confusion_matrix(x, train_targets, result_reg)"
   ]
  },
  {
   "cell_type": "code",
   "execution_count": 282,
   "metadata": {},
   "outputs": [
    {
     "data": {
      "text/plain": [
       "(array([[1168.,   15.],\n",
       "        [ 119.,  106.]]),\n",
       " 0.9048295454545454)"
      ]
     },
     "execution_count": 282,
     "metadata": {},
     "output_type": "execute_result"
    }
   ],
   "source": [
    "xv = sm.add_constant(validation_inputs)\n",
    "confusion_matrix(xv, validation_targets, result_reg)"
   ]
  },
  {
   "cell_type": "code",
   "execution_count": 283,
   "metadata": {},
   "outputs": [
    {
     "data": {
      "text/plain": [
       "(array([[1165.,   20.],\n",
       "        [ 124.,  100.]]),\n",
       " 0.8977998580553584)"
      ]
     },
     "execution_count": 283,
     "metadata": {},
     "output_type": "execute_result"
    }
   ],
   "source": [
    "xs = sm.add_constant(test_inputs)\n",
    "confusion_matrix(xs, test_targets, result_reg)"
   ]
  }
 ],
 "metadata": {
  "kernelspec": {
   "display_name": "Python 3",
   "language": "python",
   "name": "python3"
  },
  "language_info": {
   "codemirror_mode": {
    "name": "ipython",
    "version": 3
   },
   "file_extension": ".py",
   "mimetype": "text/x-python",
   "name": "python",
   "nbconvert_exporter": "python",
   "pygments_lexer": "ipython3",
   "version": "3.8.15"
  },
  "orig_nbformat": 4
 },
 "nbformat": 4,
 "nbformat_minor": 2
}
